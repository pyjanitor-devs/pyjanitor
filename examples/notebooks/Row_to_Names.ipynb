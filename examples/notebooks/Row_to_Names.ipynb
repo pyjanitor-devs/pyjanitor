{
 "cells": [
  {
   "cell_type": "markdown",
   "metadata": {},
   "source": [
    "# row_to_names : Elevates a row to be the column names of a DataFrame."
   ]
  },
  {
   "cell_type": "markdown",
   "metadata": {},
   "source": [
    "## Background"
   ]
  },
  {
   "cell_type": "markdown",
   "metadata": {},
   "source": [
    "This notebook serves to show a brief and simple example of how to swap column names using one of the rows in the dataframe."
   ]
  },
  {
   "cell_type": "code",
   "execution_count": null,
   "metadata": {},
   "outputs": [],
   "source": [
    "import pandas as pd\n",
    "import janitor\n",
    "from io import StringIO"
   ]
  },
  {
   "cell_type": "code",
   "execution_count": null,
   "metadata": {},
   "outputs": [],
   "source": [
    "data = '''shoe, 220, 100\n",
    "          shoe, 450, 40\n",
    "          item, retail_price, cost\n",
    "          shoe, 200, 38\n",
    "          bag, 305, 25\n",
    "       '''"
   ]
  },
  {
   "cell_type": "code",
   "execution_count": null,
   "metadata": {},
   "outputs": [],
   "source": [
    "temp = pd.read_csv(StringIO(data), header=None)\n",
    "temp"
   ]
  },
  {
   "cell_type": "markdown",
   "metadata": {},
   "source": [
    "Looking at the dataframe above, we would love to use row 2 as our column names. One way to achieve this involves a couple of steps\n",
    "\n",
    "1. Use loc/iloc to assign row 2 to columns.\n",
    "2. Strip off any whitespace.\n",
    "2. Drop row 2 from the dataframe using the drop method.\n",
    "3. Set axis name to none."
   ]
  },
  {
   "cell_type": "code",
   "execution_count": null,
   "metadata": {},
   "outputs": [],
   "source": [
    "temp.columns = temp.iloc[2, :]\n",
    "temp.columns = temp.columns.str.strip()\n",
    "temp = temp.drop(2, axis=0)\n",
    "temp = temp.rename_axis(None, axis='columns')\n",
    "temp"
   ]
  },
  {
   "cell_type": "markdown",
   "metadata": {},
   "source": [
    "However, the first two steps prevent us from method chaining. This is easily resolved using the row_to_names function"
   ]
  },
  {
   "cell_type": "code",
   "execution_count": null,
   "metadata": {},
   "outputs": [],
   "source": [
    "df = (\n",
    "    pd.read_csv(StringIO(data), header=None)\n",
    "    .row_to_names(row_number=2, remove_row=True)\n",
    ")\n",
    "\n",
    "df"
   ]
  }
 ],
 "metadata": {
  "kernelspec": {
   "display_name": "Python 3",
   "language": "python",
   "name": "python3"
  },
  "language_info": {
   "codemirror_mode": {
    "name": "ipython",
    "version": 3
   },
   "file_extension": ".py",
   "mimetype": "text/x-python",
   "name": "python",
   "nbconvert_exporter": "python",
   "pygments_lexer": "ipython3",
   "version": "3.7.6"
  }
 },
 "nbformat": 4,
 "nbformat_minor": 4
}
