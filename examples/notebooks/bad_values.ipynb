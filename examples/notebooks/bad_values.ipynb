{
 "cells": [
  {
   "cell_type": "markdown",
   "metadata": {},
   "source": [
    "# Replacing Bad Values\n",
    "\n",
    "This is US wind turbine data. The numeric fields use -9999 as a null value for missing data. \n",
    "Using -9999 as a null value in numeric fields will cause big problems for any summary statistics like totals, means, etc,\n",
    "we should change that to something else, like np.NaN which Pandas sum and mean functions will automatically filter out.  \n",
    "You can see that the means for before and after replacing -9999 with np.NaN are very different. \n",
    "You can use Janitor's find_replace to easily replace them. "
   ]
  },
  {
   "cell_type": "code",
   "execution_count": null,
   "metadata": {},
   "outputs": [],
   "source": [
    "import pandas as pd\n",
    "import janitor\n",
    "import numpy as np"
   ]
  },
  {
   "cell_type": "markdown",
   "metadata": {},
   "source": [
    "## Load Wind Turbine Data"
   ]
  },
  {
   "cell_type": "code",
   "execution_count": null,
   "metadata": {},
   "outputs": [],
   "source": [
    "wind = pd.read_csv(\n",
    "    \"https://raw.githubusercontent.com/rfordatascience/tidytuesday/master/data/2018/2018-11-06/us_wind.csv\"\n",
    ")\n",
    "wind.head()"
   ]
  },
  {
   "cell_type": "markdown",
   "metadata": {},
   "source": [
    "## Check Mean"
   ]
  },
  {
   "cell_type": "code",
   "execution_count": null,
   "metadata": {},
   "outputs": [],
   "source": [
    "wind.t_hh.mean()"
   ]
  },
  {
   "cell_type": "markdown",
   "metadata": {},
   "source": [
    "The t_hh column appears to be affected by -9999 values. \n",
    "What are all the columns that are affected?"
   ]
  },
  {
   "cell_type": "code",
   "execution_count": null,
   "metadata": {},
   "outputs": [],
   "source": [
    "[col for col in wind.columns if -9999 in wind[col].values]"
   ]
  },
  {
   "cell_type": "markdown",
   "metadata": {},
   "source": [
    "Note:\n",
    "When replacing the -9999 values you can make a copy of the dataframe to prevent making modifications to the original dataframe."
   ]
  },
  {
   "cell_type": "markdown",
   "metadata": {},
   "source": [
    "At first glance, it looks like the mean is negative, but this is only because of the bad values (-9999.0) throughout the column. To get the right mean, we should replace them!## Replace Bad Values with NaNs"
   ]
  },
  {
   "cell_type": "code",
   "execution_count": null,
   "metadata": {},
   "outputs": [],
   "source": [
    "mapping = {-9999.0: np.nan}\n",
    "wind2 = (\n",
    "    wind\n",
    "    .find_replace(\n",
    "        usgs_pr_id=mapping,\n",
    "        p_tnum=mapping,\n",
    "        p_cap=mapping,\n",
    "        t_cap=mapping,\n",
    "        t_hh=mapping,\n",
    "        t_rd=mapping,\n",
    "        t_rsa=mapping,\n",
    "        t_ttlh=mapping,\n",
    "    )\n",
    ")\n",
    "wind2.head()"
   ]
  },
  {
   "cell_type": "markdown",
   "metadata": {},
   "source": [
    "## Check the Mean (again)"
   ]
  },
  {
   "cell_type": "code",
   "execution_count": null,
   "metadata": {},
   "outputs": [],
   "source": [
    "wind2.t_hh.mean()"
   ]
  },
  {
   "cell_type": "markdown",
   "metadata": {},
   "source": [
    "And, now that the bad values were replaced by NaNs (which the mean() method ignores), the calculated mean is correct!"
   ]
  },
  {
   "cell_type": "markdown",
   "metadata": {},
   "source": [
    "## Alternate method"
   ]
  },
  {
   "cell_type": "markdown",
   "metadata": {},
   "source": [
    "If we look at the description of the data (see [README](https://github.com/rfordatascience/tidytuesday/blob/master/data/2018/2018-11-06/readme.md)) we can find descriptions for our data values, for example:\n",
    "\n",
    "- `p_year`: Year project became operational\n",
    "- `t_hh`: Turbine hub height (meters)\n",
    "- `xlong`: Longitude\n",
    "\n",
    "Using our knowledge of the data, this would give us bounds we could use for these values. For example, the oldest electric wind turbine was built in 1887 and this document was written in 2018, so $1887 \\leq \\text{p_year} \\leq 2018$. Turbine hub height should be positive, and a value above 1 km would be silly, so $0 < \\text{t_hh} < 1000$. These are wind turbines in the United States, so $-161.76 < \\text{xlong} < -68.01$.\n",
    "\n",
    "(Note that the README actually gives us minima and maxima for the data, so we could get much tighter bounds from that.)\n",
    "\n",
    "To filter out potential bad values, we will use `update_where` to remove values outside these ranges."
   ]
  },
  {
   "cell_type": "code",
   "execution_count": null,
   "metadata": {},
   "outputs": [],
   "source": [
    "# Note that update_where mutates the original dataframe\n",
    "(\n",
    "    wind.update_where(\n",
    "        (wind['p_year'] < 1887) | (wind['p_year'] > 2018), 'p_year', np.nan\n",
    "    )\n",
    "    .update_where((wind['t_hh'] <= 0) | (wind['t_hh'] >= 1000), 't_hh', np.nan)\n",
    "    .update_where((wind['xlong'] < -161.76) | (wind['xlong'] > -68.01), 'xlong', np.nan)\n",
    ");"
   ]
  },
  {
   "cell_type": "markdown",
   "metadata": {},
   "source": [
    "## Confirming this produces the same result"
   ]
  },
  {
   "cell_type": "code",
   "execution_count": null,
   "metadata": {},
   "outputs": [],
   "source": [
    "wind.t_hh.mean()"
   ]
  }
 ],
 "metadata": {
  "kernelspec": {
   "display_name": "Python 3",
   "language": "python",
   "name": "python3"
  },
  "language_info": {
   "codemirror_mode": {
    "name": "ipython",
    "version": 3
   },
   "file_extension": ".py",
   "mimetype": "text/x-python",
   "name": "python",
   "nbconvert_exporter": "python",
   "pygments_lexer": "ipython3",
   "version": "3.7.6"
  }
 },
 "nbformat": 4,
 "nbformat_minor": 4
}
