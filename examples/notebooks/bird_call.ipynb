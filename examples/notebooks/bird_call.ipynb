{
 "cells": [
  {
   "cell_type": "markdown",
   "metadata": {},
   "source": [
    "# Processing Bird Call Data\n",
    "\n",
    "## Background\n",
    "\n",
    "The following example was obtained by translating the R code from [TidyTuesday 2019-04-30](https://github.com/rfordatascience/tidytuesday/tree/47567cb80846739c8543d158c1f3ff226c7e5a5f/data/2019/2019-04-30)\n",
    "to Python using Pandas and PyJanitor. It provides a simple example of using pyjanitor for:\n",
    "- column renaming\n",
    "- column name cleaning\n",
    "- dataframe merging\n",
    "\n",
    "The data originates from a study of the effects of articifial light on bird behaviour. It is a subset of the original study for the Chicago area."
   ]
  },
  {
   "cell_type": "markdown",
   "metadata": {},
   "source": [
    "## Citations\n",
    "\n",
    "This data set originates from the publication:\n",
    "\n",
    ">*Winger BM, Weeks BC, Farnsworth A, Jones AW, Hennen M, Willard DE (2019) Nocturnal flight-calling behaviour predicts vulnerability to artificial light in migratory birds. Proceedings of the Royal Society B 286(1900): 20190364.* https://doi.org/10.1098/rspb.2019.0364\n",
    "\n",
    "To reference only the data, please cite the Dryad data package:\n",
    "\n",
    "> *Winger BM, Weeks BC, Farnsworth A, Jones AW, Hennen M, Willard DE (2019) Data from: Nocturnal flight-calling behaviour predicts vulnerability to artificial light in migratory birds. Dryad Digital Repository.* https://doi.org/10.5061/dryad.8rr0498"
   ]
  },
  {
   "cell_type": "code",
   "execution_count": null,
   "metadata": {},
   "outputs": [],
   "source": [
    "import pandas as pd\n",
    "import janitor"
   ]
  },
  {
   "cell_type": "markdown",
   "metadata": {},
   "source": [
    "## Get Raw Data\n",
    "\n",
    "Using pandas to import csv data."
   ]
  },
  {
   "cell_type": "code",
   "execution_count": null,
   "metadata": {},
   "outputs": [],
   "source": [
    "raw_birds = pd.read_csv(\n",
    "    \"https://raw.githubusercontent.com/rfordatascience/tidytuesday/master/data/2019/2019-04-30/raw/Chicago_collision_data.csv\"\n",
    ")\n",
    "raw_call = pd.read_csv(\n",
    "    \"https://raw.githubusercontent.com/rfordatascience/tidytuesday/master/data/2019/2019-04-30/raw/bird_call.csv\", \n",
    "    sep=\" \"\n",
    ")\n",
    "raw_light = pd.read_csv(\n",
    "    \"https://raw.githubusercontent.com/rfordatascience/tidytuesday/master/data/2019/2019-04-30/raw/Light_levels_dryad.csv\"\n",
    ")"
   ]
  },
  {
   "cell_type": "markdown",
   "metadata": {},
   "source": [
    "## Original DataFrames\n",
    "\n",
    "Taking a quick look at the three imported (raw) pandas dataframes."
   ]
  },
  {
   "cell_type": "code",
   "execution_count": null,
   "metadata": {},
   "outputs": [],
   "source": [
    "raw_birds.head()"
   ]
  },
  {
   "cell_type": "code",
   "execution_count": null,
   "metadata": {},
   "outputs": [],
   "source": [
    "raw_call.head()"
   ]
  },
  {
   "cell_type": "code",
   "execution_count": null,
   "metadata": {},
   "outputs": [],
   "source": [
    "raw_light.head()"
   ]
  },
  {
   "cell_type": "markdown",
   "metadata": {},
   "source": [
    "## Cleaning Data Using Pyjanitor"
   ]
  },
  {
   "cell_type": "markdown",
   "metadata": {},
   "source": [
    "Pyjanitor provides additional method calls to standard pandas dataframe objects. The *clean_names()* method is one example which removes whitespace and lowercases all column names."
   ]
  },
  {
   "cell_type": "code",
   "execution_count": null,
   "metadata": {},
   "outputs": [],
   "source": [
    "clean_light = raw_light.clean_names()"
   ]
  },
  {
   "cell_type": "code",
   "execution_count": null,
   "metadata": {},
   "outputs": [],
   "source": [
    "clean_light.head()"
   ]
  },
  {
   "cell_type": "markdown",
   "metadata": {},
   "source": [
    "Pyjanitor champions the cleaning process using the **call chaining approach**. We use this here to provide multiple column renaming. As our dataframes have inconsistent column names we rename the columns in the raw_call dataframe. "
   ]
  },
  {
   "cell_type": "code",
   "execution_count": null,
   "metadata": {},
   "outputs": [],
   "source": [
    "clean_call = (\n",
    "    raw_call\n",
    "    .rename_column(\"Species\", \"Genus\")  # rename 'Species' column to 'Genus'\n",
    "    .rename_column(\"Family\", \"Species\")  # rename 'Family' columnto 'Species'\n",
    ")"
   ]
  },
  {
   "cell_type": "code",
   "execution_count": null,
   "metadata": {},
   "outputs": [],
   "source": [
    "clean_call.head()"
   ]
  },
  {
   "cell_type": "markdown",
   "metadata": {},
   "source": [
    "We can chain as many standard pandas commands as we like, along with any pyjanitor specific methods."
   ]
  },
  {
   "cell_type": "code",
   "execution_count": null,
   "metadata": {},
   "outputs": [],
   "source": [
    "clean_birds = (\n",
    "    raw_birds\n",
    "    .merge(clean_call, how='left')  # merge the raw_birds dataframe with clean_raw dataframe\n",
    "    .select_columns(\n",
    "        [\n",
    "            \"Genus\",\n",
    "            \"Species\",\n",
    "            \"Date\",\n",
    "            \"Locality\",\n",
    "            \"Collisions\",\n",
    "            \"Call\",\n",
    "            \"Habitat\",\n",
    "            \"Stratum\"\n",
    "        ]\n",
    "    )  # include list of cols\n",
    "    .clean_names()\n",
    "    .rename_column(\"collisions\", \"family\")  # rename 'collisions' column to 'family' in merged dataframe\n",
    "    .rename_column(\"call\", \"flight_call\")\n",
    "    .dropna()  # drop all rows which contain a NaN\n",
    ")"
   ]
  },
  {
   "cell_type": "code",
   "execution_count": null,
   "metadata": {},
   "outputs": [],
   "source": [
    "clean_birds.head()"
   ]
  }
 ],
 "metadata": {
  "kernelspec": {
   "display_name": "Python 3",
   "language": "python",
   "name": "python3"
  },
  "language_info": {
   "codemirror_mode": {
    "name": "ipython",
    "version": 3
   },
   "file_extension": ".py",
   "mimetype": "text/x-python",
   "name": "python",
   "nbconvert_exporter": "python",
   "pygments_lexer": "ipython3",
   "version": "3.7.6"
  }
 },
 "nbformat": 4,
 "nbformat_minor": 4
}
