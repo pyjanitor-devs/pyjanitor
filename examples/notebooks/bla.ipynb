{
 "cells": [
  {
   "cell_type": "code",
   "execution_count": 1,
   "metadata": {},
   "outputs": [],
   "source": [
    "import pandas as pd\n",
    "import numpy as np\n",
    "import janitor as jn"
   ]
  },
  {
   "cell_type": "code",
   "execution_count": 2,
   "metadata": {},
   "outputs": [
    {
     "ename": "SyntaxError",
     "evalue": "Missing parentheses in call to 'print'. Did you mean print('i')? (414025362.py, line 1)",
     "output_type": "error",
     "traceback": [
      "\u001b[0;36m  Cell \u001b[0;32mIn[2], line 1\u001b[0;36m\u001b[0m\n\u001b[0;31m    print 'i'\u001b[0m\n\u001b[0m          ^\u001b[0m\n\u001b[0;31mSyntaxError\u001b[0m\u001b[0;31m:\u001b[0m Missing parentheses in call to 'print'. Did you mean print('i')?\n"
     ]
    }
   ],
   "source": [
    "print 'i'"
   ]
  },
  {
   "cell_type": "code",
   "execution_count": null,
   "metadata": {},
   "outputs": [],
   "source": [
    "df = {\n",
    "    \"A\": [0, 0, 0, 0],\n",
    "    \"E\": pd.to_datetime(\n",
    "        [\n",
    "            \"1970-01-01 00:00:00.000000001\",\n",
    "            \"1970-01-01 00:00:00.000000000\",\n",
    "            \"1969-12-31 23:59:59.999999999\",\n",
    "            \"1970-01-01 00:00:00.000000000\",\n",
    "        ]\n",
    "    ),\n",
    "}\n",
    "\n",
    "\n",
    "right = {\n",
    "    \"Dates\": pd.to_datetime([\n",
    "        \"1970-01-01 00:00:00.000000000\",\n",
    "        \"1970-01-01 00:00:00.000000001\",\n",
    "        \"1970-01-01 00:00:00.000000000\",\n",
    "    ]),\n",
    "    \"Dates_Right\": pd.to_datetime(\n",
    "        [\n",
    "            \"1970-01-01 00:00:00.000000001\",\n",
    "            \"1969-12-31 23:59:59.999999999\",\n",
    "            \"1969-12-31 23:59:59.999999999\",\n",
    "        ]\n",
    "    ),\n",
    "}\n",
    "\n",
    "\n",
    "right = pd.DataFrame(right)\n",
    "\n",
    "df = pd.DataFrame(df)"
   ]
  },
  {
   "cell_type": "code",
   "execution_count": null,
   "metadata": {},
   "outputs": [
    {
     "data": {
      "text/html": [
       "<div>\n",
       "<style scoped>\n",
       "    .dataframe tbody tr th:only-of-type {\n",
       "        vertical-align: middle;\n",
       "    }\n",
       "\n",
       "    .dataframe tbody tr th {\n",
       "        vertical-align: top;\n",
       "    }\n",
       "\n",
       "    .dataframe thead th {\n",
       "        text-align: right;\n",
       "    }\n",
       "</style>\n",
       "<table border=\"1\" class=\"dataframe\">\n",
       "  <thead>\n",
       "    <tr style=\"text-align: right;\">\n",
       "      <th></th>\n",
       "      <th>A</th>\n",
       "      <th>E</th>\n",
       "    </tr>\n",
       "  </thead>\n",
       "  <tbody>\n",
       "    <tr>\n",
       "      <th>0</th>\n",
       "      <td>0</td>\n",
       "      <td>1970-01-01 00:00:00.000000001</td>\n",
       "    </tr>\n",
       "    <tr>\n",
       "      <th>1</th>\n",
       "      <td>0</td>\n",
       "      <td>1970-01-01 00:00:00.000000000</td>\n",
       "    </tr>\n",
       "    <tr>\n",
       "      <th>2</th>\n",
       "      <td>0</td>\n",
       "      <td>1969-12-31 23:59:59.999999999</td>\n",
       "    </tr>\n",
       "    <tr>\n",
       "      <th>3</th>\n",
       "      <td>0</td>\n",
       "      <td>1970-01-01 00:00:00.000000000</td>\n",
       "    </tr>\n",
       "  </tbody>\n",
       "</table>\n",
       "</div>"
      ],
      "text/plain": [
       "   A                             E\n",
       "0  0 1970-01-01 00:00:00.000000001\n",
       "1  0 1970-01-01 00:00:00.000000000\n",
       "2  0 1969-12-31 23:59:59.999999999\n",
       "3  0 1970-01-01 00:00:00.000000000"
      ]
     },
     "execution_count": 3,
     "metadata": {},
     "output_type": "execute_result"
    }
   ],
   "source": [
    "df"
   ]
  },
  {
   "cell_type": "code",
   "execution_count": null,
   "metadata": {},
   "outputs": [
    {
     "data": {
      "text/html": [
       "<div>\n",
       "<style scoped>\n",
       "    .dataframe tbody tr th:only-of-type {\n",
       "        vertical-align: middle;\n",
       "    }\n",
       "\n",
       "    .dataframe tbody tr th {\n",
       "        vertical-align: top;\n",
       "    }\n",
       "\n",
       "    .dataframe thead th {\n",
       "        text-align: right;\n",
       "    }\n",
       "</style>\n",
       "<table border=\"1\" class=\"dataframe\">\n",
       "  <thead>\n",
       "    <tr style=\"text-align: right;\">\n",
       "      <th></th>\n",
       "      <th>Dates</th>\n",
       "      <th>Dates_Right</th>\n",
       "    </tr>\n",
       "  </thead>\n",
       "  <tbody>\n",
       "    <tr>\n",
       "      <th>0</th>\n",
       "      <td>1970-01-01 00:00:00.000000000</td>\n",
       "      <td>1970-01-01 00:00:00.000000001</td>\n",
       "    </tr>\n",
       "    <tr>\n",
       "      <th>1</th>\n",
       "      <td>1970-01-01 00:00:00.000000001</td>\n",
       "      <td>1969-12-31 23:59:59.999999999</td>\n",
       "    </tr>\n",
       "    <tr>\n",
       "      <th>2</th>\n",
       "      <td>1970-01-01 00:00:00.000000000</td>\n",
       "      <td>1969-12-31 23:59:59.999999999</td>\n",
       "    </tr>\n",
       "  </tbody>\n",
       "</table>\n",
       "</div>"
      ],
      "text/plain": [
       "                          Dates                   Dates_Right\n",
       "0 1970-01-01 00:00:00.000000000 1970-01-01 00:00:00.000000001\n",
       "1 1970-01-01 00:00:00.000000001 1969-12-31 23:59:59.999999999\n",
       "2 1970-01-01 00:00:00.000000000 1969-12-31 23:59:59.999999999"
      ]
     },
     "execution_count": 4,
     "metadata": {},
     "output_type": "execute_result"
    }
   ],
   "source": [
    "right"
   ]
  },
  {
   "cell_type": "code",
   "execution_count": null,
   "metadata": {},
   "outputs": [
    {
     "data": {
      "text/plain": [
       "(array([0, 1, 3]), array([0, 0, 0]))"
      ]
     },
     "execution_count": 5,
     "metadata": {},
     "output_type": "execute_result"
    }
   ],
   "source": [
    "A =(\n",
    "    df[[\"E\"]].conditional_join(\n",
    "        right[[\"Dates\", \"Dates_Right\"]],\n",
    "        (\"E\", \"Dates\", \">=\"),\n",
    "        (\"E\", \"Dates_Right\", \"<=\"),\n",
    "        how=\"inner\",\n",
    "        use_numba=True,\n",
    "    )\n",
    ")\n",
    "\n",
    "A"
   ]
  },
  {
   "cell_type": "code",
   "execution_count": null,
   "metadata": {},
   "outputs": [
    {
     "data": {
      "text/plain": [
       "(array([0, 1, 3]), array([0, 0, 0]))"
      ]
     },
     "execution_count": 6,
     "metadata": {},
     "output_type": "execute_result"
    }
   ],
   "source": [
    "B = (\n",
    "    df[[\"E\"]].conditional_join(\n",
    "        right[[\"Dates\", \"Dates_Right\"]],\n",
    "        (\"E\", \"Dates\", \">=\"),\n",
    "        (\"E\", \"Dates_Right\", \"<=\"),\n",
    "        how=\"inner\",\n",
    "        use_numba=False,\n",
    "    )\n",
    ")\n",
    "\n",
    "B"
   ]
  },
  {
   "cell_type": "code",
   "execution_count": null,
   "metadata": {},
   "outputs": [
    {
     "ename": "AttributeError",
     "evalue": "'tuple' object has no attribute 'sort_values'",
     "output_type": "error",
     "traceback": [
      "\u001b[0;31m---------------------------------------------------------------------------\u001b[0m",
      "\u001b[0;31mAttributeError\u001b[0m                            Traceback (most recent call last)",
      "Cell \u001b[0;32mIn[7], line 1\u001b[0m\n\u001b[0;32m----> 1\u001b[0m \u001b[43mA\u001b[49m\u001b[38;5;241;43m.\u001b[39;49m\u001b[43msort_values\u001b[49m([\u001b[38;5;124m\"\u001b[39m\u001b[38;5;124mE\u001b[39m\u001b[38;5;124m\"\u001b[39m, \u001b[38;5;124m\"\u001b[39m\u001b[38;5;124mDates\u001b[39m\u001b[38;5;124m\"\u001b[39m, \u001b[38;5;124m\"\u001b[39m\u001b[38;5;124mDates_Right\u001b[39m\u001b[38;5;124m\"\u001b[39m], ignore_index\u001b[38;5;241m=\u001b[39m\u001b[38;5;28;01mTrue\u001b[39;00m)\n",
      "\u001b[0;31mAttributeError\u001b[0m: 'tuple' object has no attribute 'sort_values'"
     ]
    }
   ],
   "source": [
    "A.sort_values([\"E\", \"Dates\", \"Dates_Right\"], ignore_index=True)"
   ]
  },
  {
   "cell_type": "code",
   "execution_count": null,
   "metadata": {},
   "outputs": [
    {
     "ename": "NameError",
     "evalue": "name 'C' is not defined",
     "output_type": "error",
     "traceback": [
      "\u001b[0;31m---------------------------------------------------------------------------\u001b[0m",
      "\u001b[0;31mNameError\u001b[0m                                 Traceback (most recent call last)",
      "Cell \u001b[0;32mIn[8], line 1\u001b[0m\n\u001b[0;32m----> 1\u001b[0m \u001b[43mC\u001b[49m\u001b[38;5;241m.\u001b[39msort_values([\u001b[38;5;124m\"\u001b[39m\u001b[38;5;124mE\u001b[39m\u001b[38;5;124m\"\u001b[39m, \u001b[38;5;124m\"\u001b[39m\u001b[38;5;124mDates\u001b[39m\u001b[38;5;124m\"\u001b[39m, \u001b[38;5;124m\"\u001b[39m\u001b[38;5;124mDates_Right\u001b[39m\u001b[38;5;124m\"\u001b[39m], ignore_index\u001b[38;5;241m=\u001b[39m\u001b[38;5;28;01mTrue\u001b[39;00m)\n",
      "\u001b[0;31mNameError\u001b[0m: name 'C' is not defined"
     ]
    }
   ],
   "source": [
    "C.sort_values([\"E\", \"Dates\", \"Dates_Right\"], ignore_index=True)"
   ]
  },
  {
   "cell_type": "code",
   "execution_count": null,
   "metadata": {},
   "outputs": [
    {
     "data": {
      "text/html": [
       "<div>\n",
       "<style scoped>\n",
       "    .dataframe tbody tr th:only-of-type {\n",
       "        vertical-align: middle;\n",
       "    }\n",
       "\n",
       "    .dataframe tbody tr th {\n",
       "        vertical-align: top;\n",
       "    }\n",
       "\n",
       "    .dataframe thead th {\n",
       "        text-align: right;\n",
       "    }\n",
       "</style>\n",
       "<table border=\"1\" class=\"dataframe\">\n",
       "  <thead>\n",
       "    <tr style=\"text-align: right;\">\n",
       "      <th></th>\n",
       "      <th>E</th>\n",
       "      <th>Dates</th>\n",
       "      <th>Dates_Right</th>\n",
       "    </tr>\n",
       "  </thead>\n",
       "  <tbody>\n",
       "    <tr>\n",
       "      <th>0</th>\n",
       "      <td>1969-12-31 23:59:59.999999999</td>\n",
       "      <td>1969-12-31 23:59:59.999999999</td>\n",
       "      <td>1970-01-01 00:00:00.000000000</td>\n",
       "    </tr>\n",
       "    <tr>\n",
       "      <th>1</th>\n",
       "      <td>1969-12-31 23:59:59.999999999</td>\n",
       "      <td>1969-12-31 23:59:59.999999999</td>\n",
       "      <td>1970-01-01 00:00:00.000000001</td>\n",
       "    </tr>\n",
       "    <tr>\n",
       "      <th>2</th>\n",
       "      <td>1970-01-01 00:00:00.000000000</td>\n",
       "      <td>1969-12-31 23:59:59.999999999</td>\n",
       "      <td>1970-01-01 00:00:00.000000000</td>\n",
       "    </tr>\n",
       "    <tr>\n",
       "      <th>3</th>\n",
       "      <td>1970-01-01 00:00:00.000000000</td>\n",
       "      <td>1969-12-31 23:59:59.999999999</td>\n",
       "      <td>1970-01-01 00:00:00.000000001</td>\n",
       "    </tr>\n",
       "    <tr>\n",
       "      <th>4</th>\n",
       "      <td>1970-01-01 00:00:00.000000001</td>\n",
       "      <td>1969-12-31 23:59:59.999999999</td>\n",
       "      <td>1970-01-01 00:00:00.000000001</td>\n",
       "    </tr>\n",
       "    <tr>\n",
       "      <th>5</th>\n",
       "      <td>1970-01-01 00:00:00.000000001</td>\n",
       "      <td>1969-12-31 23:59:59.999999999</td>\n",
       "      <td>1970-01-01 00:00:00.000000001</td>\n",
       "    </tr>\n",
       "  </tbody>\n",
       "</table>\n",
       "</div>"
      ],
      "text/plain": [
       "                              E                         Dates  \\\n",
       "0 1969-12-31 23:59:59.999999999 1969-12-31 23:59:59.999999999   \n",
       "1 1969-12-31 23:59:59.999999999 1969-12-31 23:59:59.999999999   \n",
       "2 1970-01-01 00:00:00.000000000 1969-12-31 23:59:59.999999999   \n",
       "3 1970-01-01 00:00:00.000000000 1969-12-31 23:59:59.999999999   \n",
       "4 1970-01-01 00:00:00.000000001 1969-12-31 23:59:59.999999999   \n",
       "5 1970-01-01 00:00:00.000000001 1969-12-31 23:59:59.999999999   \n",
       "\n",
       "                    Dates_Right  \n",
       "0 1970-01-01 00:00:00.000000000  \n",
       "1 1970-01-01 00:00:00.000000001  \n",
       "2 1970-01-01 00:00:00.000000000  \n",
       "3 1970-01-01 00:00:00.000000001  \n",
       "4 1970-01-01 00:00:00.000000001  \n",
       "5 1970-01-01 00:00:00.000000001  "
      ]
     },
     "execution_count": 18,
     "metadata": {},
     "output_type": "execute_result"
    }
   ],
   "source": [
    "B.sort_values([\"E\", \"Dates\", \"Dates_Right\"], ignore_index=True)"
   ]
  },
  {
   "cell_type": "code",
   "execution_count": null,
   "metadata": {},
   "outputs": [
    {
     "data": {
      "text/html": [
       "<div>\n",
       "<style scoped>\n",
       "    .dataframe tbody tr th:only-of-type {\n",
       "        vertical-align: middle;\n",
       "    }\n",
       "\n",
       "    .dataframe tbody tr th {\n",
       "        vertical-align: top;\n",
       "    }\n",
       "\n",
       "    .dataframe thead th {\n",
       "        text-align: right;\n",
       "    }\n",
       "</style>\n",
       "<table border=\"1\" class=\"dataframe\">\n",
       "  <thead>\n",
       "    <tr style=\"text-align: right;\">\n",
       "      <th></th>\n",
       "      <th>E</th>\n",
       "      <th>Dates</th>\n",
       "      <th>Dates_Right</th>\n",
       "    </tr>\n",
       "  </thead>\n",
       "  <tbody>\n",
       "    <tr>\n",
       "      <th>1</th>\n",
       "      <td>1970-01-01 00:00:00.000000001</td>\n",
       "      <td>1969-12-31 23:59:59.999999999</td>\n",
       "      <td>1970-01-01 00:00:00.000000001</td>\n",
       "    </tr>\n",
       "    <tr>\n",
       "      <th>4</th>\n",
       "      <td>1970-01-01 00:00:00.000000000</td>\n",
       "      <td>1969-12-31 23:59:59.999999999</td>\n",
       "      <td>1970-01-01 00:00:00.000000001</td>\n",
       "    </tr>\n",
       "    <tr>\n",
       "      <th>5</th>\n",
       "      <td>1970-01-01 00:00:00.000000000</td>\n",
       "      <td>1969-12-31 23:59:59.999999999</td>\n",
       "      <td>1970-01-01 00:00:00.000000000</td>\n",
       "    </tr>\n",
       "    <tr>\n",
       "      <th>7</th>\n",
       "      <td>1969-12-31 23:59:59.999999999</td>\n",
       "      <td>1969-12-31 23:59:59.999999999</td>\n",
       "      <td>1970-01-01 00:00:00.000000001</td>\n",
       "    </tr>\n",
       "    <tr>\n",
       "      <th>8</th>\n",
       "      <td>1969-12-31 23:59:59.999999999</td>\n",
       "      <td>1969-12-31 23:59:59.999999999</td>\n",
       "      <td>1970-01-01 00:00:00.000000000</td>\n",
       "    </tr>\n",
       "    <tr>\n",
       "      <th>10</th>\n",
       "      <td>1970-01-01 00:00:00.000000000</td>\n",
       "      <td>1969-12-31 23:59:59.999999999</td>\n",
       "      <td>1970-01-01 00:00:00.000000001</td>\n",
       "    </tr>\n",
       "    <tr>\n",
       "      <th>11</th>\n",
       "      <td>1970-01-01 00:00:00.000000000</td>\n",
       "      <td>1969-12-31 23:59:59.999999999</td>\n",
       "      <td>1970-01-01 00:00:00.000000000</td>\n",
       "    </tr>\n",
       "  </tbody>\n",
       "</table>\n",
       "</div>"
      ],
      "text/plain": [
       "                               E                         Dates  \\\n",
       "1  1970-01-01 00:00:00.000000001 1969-12-31 23:59:59.999999999   \n",
       "4  1970-01-01 00:00:00.000000000 1969-12-31 23:59:59.999999999   \n",
       "5  1970-01-01 00:00:00.000000000 1969-12-31 23:59:59.999999999   \n",
       "7  1969-12-31 23:59:59.999999999 1969-12-31 23:59:59.999999999   \n",
       "8  1969-12-31 23:59:59.999999999 1969-12-31 23:59:59.999999999   \n",
       "10 1970-01-01 00:00:00.000000000 1969-12-31 23:59:59.999999999   \n",
       "11 1970-01-01 00:00:00.000000000 1969-12-31 23:59:59.999999999   \n",
       "\n",
       "                     Dates_Right  \n",
       "1  1970-01-01 00:00:00.000000001  \n",
       "4  1970-01-01 00:00:00.000000001  \n",
       "5  1970-01-01 00:00:00.000000000  \n",
       "7  1970-01-01 00:00:00.000000001  \n",
       "8  1970-01-01 00:00:00.000000000  \n",
       "10 1970-01-01 00:00:00.000000001  \n",
       "11 1970-01-01 00:00:00.000000000  "
      ]
     },
     "execution_count": 10,
     "metadata": {},
     "output_type": "execute_result"
    }
   ],
   "source": [
    "C = (\n",
    "    df[[\"E\"]]\n",
    "    .merge(right[[\"Dates\", \"Dates_Right\"]], how=\"cross\")\n",
    "    .loc[lambda df: df.E.between(df.Dates, df.Dates_Right, inclusive=\"both\")]\n",
    ")\n",
    "\n",
    "C"
   ]
  },
  {
   "cell_type": "code",
   "execution_count": null,
   "metadata": {},
   "outputs": [
    {
     "data": {
      "text/html": [
       "<div>\n",
       "<style scoped>\n",
       "    .dataframe tbody tr th:only-of-type {\n",
       "        vertical-align: middle;\n",
       "    }\n",
       "\n",
       "    .dataframe tbody tr th {\n",
       "        vertical-align: top;\n",
       "    }\n",
       "\n",
       "    .dataframe thead th {\n",
       "        text-align: right;\n",
       "    }\n",
       "</style>\n",
       "<table border=\"1\" class=\"dataframe\">\n",
       "  <thead>\n",
       "    <tr style=\"text-align: right;\">\n",
       "      <th></th>\n",
       "      <th>E</th>\n",
       "      <th>Dates</th>\n",
       "      <th>Dates_Right</th>\n",
       "    </tr>\n",
       "  </thead>\n",
       "  <tbody>\n",
       "    <tr>\n",
       "      <th>0</th>\n",
       "      <td>1969-12-31 23:59:59.999999999</td>\n",
       "      <td>1969-12-31 23:59:59.999999999</td>\n",
       "      <td>1970-01-01 00:00:00.000000000</td>\n",
       "    </tr>\n",
       "    <tr>\n",
       "      <th>1</th>\n",
       "      <td>1969-12-31 23:59:59.999999999</td>\n",
       "      <td>1969-12-31 23:59:59.999999999</td>\n",
       "      <td>1970-01-01 00:00:00.000000001</td>\n",
       "    </tr>\n",
       "    <tr>\n",
       "      <th>2</th>\n",
       "      <td>1970-01-01 00:00:00.000000000</td>\n",
       "      <td>1969-12-31 23:59:59.999999999</td>\n",
       "      <td>1970-01-01 00:00:00.000000000</td>\n",
       "    </tr>\n",
       "    <tr>\n",
       "      <th>3</th>\n",
       "      <td>1970-01-01 00:00:00.000000000</td>\n",
       "      <td>1969-12-31 23:59:59.999999999</td>\n",
       "      <td>1970-01-01 00:00:00.000000001</td>\n",
       "    </tr>\n",
       "    <tr>\n",
       "      <th>4</th>\n",
       "      <td>1970-01-01 00:00:00.000000001</td>\n",
       "      <td>1969-12-31 23:59:59.999999999</td>\n",
       "      <td>1970-01-01 00:00:00.000000001</td>\n",
       "    </tr>\n",
       "    <tr>\n",
       "      <th>5</th>\n",
       "      <td>1970-01-01 00:00:00.000000001</td>\n",
       "      <td>1969-12-31 23:59:59.999999999</td>\n",
       "      <td>1970-01-01 00:00:00.000000001</td>\n",
       "    </tr>\n",
       "  </tbody>\n",
       "</table>\n",
       "</div>"
      ],
      "text/plain": [
       "                              E                         Dates  \\\n",
       "0 1969-12-31 23:59:59.999999999 1969-12-31 23:59:59.999999999   \n",
       "1 1969-12-31 23:59:59.999999999 1969-12-31 23:59:59.999999999   \n",
       "2 1970-01-01 00:00:00.000000000 1969-12-31 23:59:59.999999999   \n",
       "3 1970-01-01 00:00:00.000000000 1969-12-31 23:59:59.999999999   \n",
       "4 1970-01-01 00:00:00.000000001 1969-12-31 23:59:59.999999999   \n",
       "5 1970-01-01 00:00:00.000000001 1969-12-31 23:59:59.999999999   \n",
       "\n",
       "                    Dates_Right  \n",
       "0 1970-01-01 00:00:00.000000000  \n",
       "1 1970-01-01 00:00:00.000000001  \n",
       "2 1970-01-01 00:00:00.000000000  \n",
       "3 1970-01-01 00:00:00.000000001  \n",
       "4 1970-01-01 00:00:00.000000001  \n",
       "5 1970-01-01 00:00:00.000000001  "
      ]
     },
     "execution_count": 15,
     "metadata": {},
     "output_type": "execute_result"
    }
   ],
   "source": [
    "C.sort_values([\"E\", \"Dates\", \"Dates_Right\"], ignore_index=True)"
   ]
  },
  {
   "cell_type": "code",
   "execution_count": null,
   "metadata": {},
   "outputs": [
    {
     "data": {
      "text/plain": [
       "(A             int64\n",
       " E    datetime64[ns]\n",
       " dtype: object,\n",
       " Integers             int64\n",
       " Dates       datetime64[ns]\n",
       " dtype: object)"
      ]
     },
     "execution_count": 16,
     "metadata": {},
     "output_type": "execute_result"
    }
   ],
   "source": [
    "df.dtypes, right.dtypes"
   ]
  },
  {
   "cell_type": "code",
   "execution_count": null,
   "metadata": {},
   "outputs": [
    {
     "ename": "KeyError",
     "evalue": "\"['Integers'] not in index\"",
     "output_type": "error",
     "traceback": [
      "\u001b[0;31m---------------------------------------------------------------------------\u001b[0m",
      "\u001b[0;31mKeyError\u001b[0m                                  Traceback (most recent call last)",
      "Cell \u001b[0;32mIn[8], line 3\u001b[0m\n\u001b[1;32m      1\u001b[0m (\n\u001b[1;32m      2\u001b[0m     df[[\u001b[38;5;124m\"\u001b[39m\u001b[38;5;124mA\u001b[39m\u001b[38;5;124m\"\u001b[39m, \u001b[38;5;124m\"\u001b[39m\u001b[38;5;124mE\u001b[39m\u001b[38;5;124m\"\u001b[39m]]\u001b[38;5;241m.\u001b[39mconditional_join(\n\u001b[0;32m----> 3\u001b[0m         \u001b[43mright\u001b[49m\u001b[43m[\u001b[49m\u001b[43m[\u001b[49m\u001b[38;5;124;43m\"\u001b[39;49m\u001b[38;5;124;43mIntegers\u001b[39;49m\u001b[38;5;124;43m\"\u001b[39;49m\u001b[43m,\u001b[49m\u001b[43m \u001b[49m\u001b[38;5;124;43m\"\u001b[39;49m\u001b[38;5;124;43mDates\u001b[39;49m\u001b[38;5;124;43m\"\u001b[39;49m\u001b[43m]\u001b[49m\u001b[43m]\u001b[49m,\n\u001b[1;32m      4\u001b[0m         (\u001b[38;5;124m\"\u001b[39m\u001b[38;5;124mE\u001b[39m\u001b[38;5;124m\"\u001b[39m, \u001b[38;5;124m\"\u001b[39m\u001b[38;5;124mDates\u001b[39m\u001b[38;5;124m\"\u001b[39m, \u001b[38;5;124m\"\u001b[39m\u001b[38;5;124m<\u001b[39m\u001b[38;5;124m\"\u001b[39m),\n\u001b[1;32m      5\u001b[0m         (\u001b[38;5;124m\"\u001b[39m\u001b[38;5;124mA\u001b[39m\u001b[38;5;124m\"\u001b[39m, \u001b[38;5;124m\"\u001b[39m\u001b[38;5;124mIntegers\u001b[39m\u001b[38;5;124m\"\u001b[39m, \u001b[38;5;124m\"\u001b[39m\u001b[38;5;124m>=\u001b[39m\u001b[38;5;124m\"\u001b[39m),\n\u001b[1;32m      6\u001b[0m         how\u001b[38;5;241m=\u001b[39m\u001b[38;5;124m\"\u001b[39m\u001b[38;5;124minner\u001b[39m\u001b[38;5;124m\"\u001b[39m,\n\u001b[1;32m      7\u001b[0m         use_numba\u001b[38;5;241m=\u001b[39m\u001b[38;5;28;01mTrue\u001b[39;00m,\n\u001b[1;32m      8\u001b[0m         sort_by_appearance\u001b[38;5;241m=\u001b[39m\u001b[38;5;28;01mFalse\u001b[39;00m,\n\u001b[1;32m      9\u001b[0m     )\n\u001b[1;32m     10\u001b[0m )\n",
      "File \u001b[0;32m~/mambaforge/envs/pyjanitor-dev/lib/python3.9/site-packages/pandas/core/frame.py:4096\u001b[0m, in \u001b[0;36mDataFrame.__getitem__\u001b[0;34m(self, key)\u001b[0m\n\u001b[1;32m   4094\u001b[0m     \u001b[38;5;28;01mif\u001b[39;00m is_iterator(key):\n\u001b[1;32m   4095\u001b[0m         key \u001b[38;5;241m=\u001b[39m \u001b[38;5;28mlist\u001b[39m(key)\n\u001b[0;32m-> 4096\u001b[0m     indexer \u001b[38;5;241m=\u001b[39m \u001b[38;5;28;43mself\u001b[39;49m\u001b[38;5;241;43m.\u001b[39;49m\u001b[43mcolumns\u001b[49m\u001b[38;5;241;43m.\u001b[39;49m\u001b[43m_get_indexer_strict\u001b[49m\u001b[43m(\u001b[49m\u001b[43mkey\u001b[49m\u001b[43m,\u001b[49m\u001b[43m \u001b[49m\u001b[38;5;124;43m\"\u001b[39;49m\u001b[38;5;124;43mcolumns\u001b[39;49m\u001b[38;5;124;43m\"\u001b[39;49m\u001b[43m)\u001b[49m[\u001b[38;5;241m1\u001b[39m]\n\u001b[1;32m   4098\u001b[0m \u001b[38;5;66;03m# take() does not accept boolean indexers\u001b[39;00m\n\u001b[1;32m   4099\u001b[0m \u001b[38;5;28;01mif\u001b[39;00m \u001b[38;5;28mgetattr\u001b[39m(indexer, \u001b[38;5;124m\"\u001b[39m\u001b[38;5;124mdtype\u001b[39m\u001b[38;5;124m\"\u001b[39m, \u001b[38;5;28;01mNone\u001b[39;00m) \u001b[38;5;241m==\u001b[39m \u001b[38;5;28mbool\u001b[39m:\n",
      "File \u001b[0;32m~/mambaforge/envs/pyjanitor-dev/lib/python3.9/site-packages/pandas/core/indexes/base.py:6199\u001b[0m, in \u001b[0;36mIndex._get_indexer_strict\u001b[0;34m(self, key, axis_name)\u001b[0m\n\u001b[1;32m   6196\u001b[0m \u001b[38;5;28;01melse\u001b[39;00m:\n\u001b[1;32m   6197\u001b[0m     keyarr, indexer, new_indexer \u001b[38;5;241m=\u001b[39m \u001b[38;5;28mself\u001b[39m\u001b[38;5;241m.\u001b[39m_reindex_non_unique(keyarr)\n\u001b[0;32m-> 6199\u001b[0m \u001b[38;5;28;43mself\u001b[39;49m\u001b[38;5;241;43m.\u001b[39;49m\u001b[43m_raise_if_missing\u001b[49m\u001b[43m(\u001b[49m\u001b[43mkeyarr\u001b[49m\u001b[43m,\u001b[49m\u001b[43m \u001b[49m\u001b[43mindexer\u001b[49m\u001b[43m,\u001b[49m\u001b[43m \u001b[49m\u001b[43maxis_name\u001b[49m\u001b[43m)\u001b[49m\n\u001b[1;32m   6201\u001b[0m keyarr \u001b[38;5;241m=\u001b[39m \u001b[38;5;28mself\u001b[39m\u001b[38;5;241m.\u001b[39mtake(indexer)\n\u001b[1;32m   6202\u001b[0m \u001b[38;5;28;01mif\u001b[39;00m \u001b[38;5;28misinstance\u001b[39m(key, Index):\n\u001b[1;32m   6203\u001b[0m     \u001b[38;5;66;03m# GH 42790 - Preserve name from an Index\u001b[39;00m\n",
      "File \u001b[0;32m~/mambaforge/envs/pyjanitor-dev/lib/python3.9/site-packages/pandas/core/indexes/base.py:6251\u001b[0m, in \u001b[0;36mIndex._raise_if_missing\u001b[0;34m(self, key, indexer, axis_name)\u001b[0m\n\u001b[1;32m   6248\u001b[0m     \u001b[38;5;28;01mraise\u001b[39;00m \u001b[38;5;167;01mKeyError\u001b[39;00m(\u001b[38;5;124mf\u001b[39m\u001b[38;5;124m\"\u001b[39m\u001b[38;5;124mNone of [\u001b[39m\u001b[38;5;132;01m{\u001b[39;00mkey\u001b[38;5;132;01m}\u001b[39;00m\u001b[38;5;124m] are in the [\u001b[39m\u001b[38;5;132;01m{\u001b[39;00maxis_name\u001b[38;5;132;01m}\u001b[39;00m\u001b[38;5;124m]\u001b[39m\u001b[38;5;124m\"\u001b[39m)\n\u001b[1;32m   6250\u001b[0m not_found \u001b[38;5;241m=\u001b[39m \u001b[38;5;28mlist\u001b[39m(ensure_index(key)[missing_mask\u001b[38;5;241m.\u001b[39mnonzero()[\u001b[38;5;241m0\u001b[39m]]\u001b[38;5;241m.\u001b[39munique())\n\u001b[0;32m-> 6251\u001b[0m \u001b[38;5;28;01mraise\u001b[39;00m \u001b[38;5;167;01mKeyError\u001b[39;00m(\u001b[38;5;124mf\u001b[39m\u001b[38;5;124m\"\u001b[39m\u001b[38;5;132;01m{\u001b[39;00mnot_found\u001b[38;5;132;01m}\u001b[39;00m\u001b[38;5;124m not in index\u001b[39m\u001b[38;5;124m\"\u001b[39m)\n",
      "\u001b[0;31mKeyError\u001b[0m: \"['Integers'] not in index\""
     ]
    }
   ],
   "source": [
    "(\n",
    "    df[[\"A\", \"E\"]].conditional_join(\n",
    "        right[[\"Integers\", \"Dates\"]],\n",
    "        (\"E\", \"Dates\", \"<\"),\n",
    "        (\"A\", \"Integers\", \">=\"),\n",
    "        how=\"inner\",\n",
    "        use_numba=True,\n",
    "        sort_by_appearance=False,\n",
    "    )\n",
    ")"
   ]
  },
  {
   "cell_type": "code",
   "execution_count": null,
   "metadata": {},
   "outputs": [
    {
     "data": {
      "text/html": [
       "<div>\n",
       "<style scoped>\n",
       "    .dataframe tbody tr th:only-of-type {\n",
       "        vertical-align: middle;\n",
       "    }\n",
       "\n",
       "    .dataframe tbody tr th {\n",
       "        vertical-align: top;\n",
       "    }\n",
       "\n",
       "    .dataframe thead th {\n",
       "        text-align: right;\n",
       "    }\n",
       "</style>\n",
       "<table border=\"1\" class=\"dataframe\">\n",
       "  <thead>\n",
       "    <tr style=\"text-align: right;\">\n",
       "      <th></th>\n",
       "      <th>A</th>\n",
       "      <th>E</th>\n",
       "      <th>Integers</th>\n",
       "      <th>Dates</th>\n",
       "    </tr>\n",
       "  </thead>\n",
       "  <tbody>\n",
       "    <tr>\n",
       "      <th>0</th>\n",
       "      <td>-256</td>\n",
       "      <td>1969-12-31 23:59:59.999998710</td>\n",
       "      <td>-50666597047599360</td>\n",
       "      <td>1969-12-31 23:59:59.999999996</td>\n",
       "    </tr>\n",
       "    <tr>\n",
       "      <th>1</th>\n",
       "      <td>-256</td>\n",
       "      <td>1969-12-31 23:59:59.999998710</td>\n",
       "      <td>-16843521</td>\n",
       "      <td>1969-12-31 23:59:59.999999996</td>\n",
       "    </tr>\n",
       "  </tbody>\n",
       "</table>\n",
       "</div>"
      ],
      "text/plain": [
       "     A                             E           Integers  \\\n",
       "0 -256 1969-12-31 23:59:59.999998710 -50666597047599360   \n",
       "1 -256 1969-12-31 23:59:59.999998710          -16843521   \n",
       "\n",
       "                          Dates  \n",
       "0 1969-12-31 23:59:59.999999996  \n",
       "1 1969-12-31 23:59:59.999999996  "
      ]
     },
     "execution_count": 19,
     "metadata": {},
     "output_type": "execute_result"
    }
   ],
   "source": [
    "columns = [\"A\", \"E\", \"Integers\", \"Dates\"]\n",
    "(\n",
    "    df.merge(\n",
    "        right,\n",
    "        how=\"cross\",\n",
    "    )\n",
    "    .loc[lambda df: df.A.ge(df.Integers) & df.E.lt(df.Dates), columns]\n",
    "    .sort_values(columns, ignore_index=True)\n",
    ")"
   ]
  },
  {
   "cell_type": "code",
   "execution_count": null,
   "metadata": {},
   "outputs": [
    {
     "data": {
      "text/html": [
       "<div>\n",
       "<style scoped>\n",
       "    .dataframe tbody tr th:only-of-type {\n",
       "        vertical-align: middle;\n",
       "    }\n",
       "\n",
       "    .dataframe tbody tr th {\n",
       "        vertical-align: top;\n",
       "    }\n",
       "\n",
       "    .dataframe thead th {\n",
       "        text-align: right;\n",
       "    }\n",
       "</style>\n",
       "<table border=\"1\" class=\"dataframe\">\n",
       "  <thead>\n",
       "    <tr style=\"text-align: right;\">\n",
       "      <th></th>\n",
       "      <th>A</th>\n",
       "      <th>E</th>\n",
       "      <th>Integers</th>\n",
       "      <th>Dates</th>\n",
       "    </tr>\n",
       "  </thead>\n",
       "  <tbody>\n",
       "    <tr>\n",
       "      <th>0</th>\n",
       "      <td>-256</td>\n",
       "      <td>1969-12-31 23:59:59.999998710</td>\n",
       "      <td>-50666597047599360</td>\n",
       "      <td>1969-12-31 23:59:59.999999996</td>\n",
       "    </tr>\n",
       "    <tr>\n",
       "      <th>1</th>\n",
       "      <td>-256</td>\n",
       "      <td>1969-12-31 23:59:59.999998710</td>\n",
       "      <td>-16843521</td>\n",
       "      <td>1969-12-31 23:59:59.999999996</td>\n",
       "    </tr>\n",
       "  </tbody>\n",
       "</table>\n",
       "</div>"
      ],
      "text/plain": [
       "     A                             E           Integers  \\\n",
       "0 -256 1969-12-31 23:59:59.999998710 -50666597047599360   \n",
       "1 -256 1969-12-31 23:59:59.999998710          -16843521   \n",
       "\n",
       "                          Dates  \n",
       "0 1969-12-31 23:59:59.999999996  \n",
       "1 1969-12-31 23:59:59.999999996  "
      ]
     },
     "execution_count": 18,
     "metadata": {},
     "output_type": "execute_result"
    }
   ],
   "source": [
    "(\n",
    "    df[[\"A\", \"E\"]].conditional_join(\n",
    "        right[[\"Integers\", \"Dates\"]],\n",
    "        (\"E\", \"Dates\", \"<\"),\n",
    "        (\"A\", \"Integers\", \">=\"),\n",
    "        how=\"inner\",\n",
    "        use_numba=False,\n",
    "        sort_by_appearance=False,\n",
    "    )\n",
    ")"
   ]
  },
  {
   "cell_type": "code",
   "execution_count": null,
   "metadata": {},
   "outputs": [
    {
     "ename": "SyntaxError",
     "evalue": "Missing parentheses in call to 'print'. Did you mean print('j')? (427054430.py, line 1)",
     "output_type": "error",
     "traceback": [
      "\u001b[0;36m  Cell \u001b[0;32mIn[2], line 1\u001b[0;36m\u001b[0m\n\u001b[0;31m    print 'j'\u001b[0m\n\u001b[0m          ^\u001b[0m\n\u001b[0;31mSyntaxError\u001b[0m\u001b[0;31m:\u001b[0m Missing parentheses in call to 'print'. Did you mean print('j')?\n"
     ]
    }
   ],
   "source": [
    "print 'j'"
   ]
  },
  {
   "cell_type": "code",
   "execution_count": null,
   "metadata": {},
   "outputs": [
    {
     "data": {
      "text/plain": [
       "'2.2.1'"
      ]
     },
     "execution_count": 2,
     "metadata": {},
     "output_type": "execute_result"
    }
   ],
   "source": [
    "pd.__version__"
   ]
  },
  {
   "cell_type": "code",
   "execution_count": null,
   "metadata": {},
   "outputs": [],
   "source": [
    "df1 = pd.DataFrame({\"id\": [1, 1, 1, 2, 2, 3], \"value_1\": [2, 5, 7, 1, 3, 4]})\n",
    "df2 = pd.DataFrame(\n",
    "    {\n",
    "        \"id\": [1, 1, 1, 1, 2, 2, 2, 3],\n",
    "        \"value_2A\": [0, 3, 7, 12, 0, 2, 3, 1],\n",
    "        \"value_2B\": [1, 5, 9, 15, 1, 4, 6, 3],\n",
    "    }\n",
    ")"
   ]
  },
  {
   "cell_type": "code",
   "execution_count": null,
   "metadata": {},
   "outputs": [
    {
     "data": {
      "text/plain": [
       "(array([2, 3, 2, ..., 0, 0, 0]),\n",
       " array([3, 3, 3, ..., 0, 0, 0]),\n",
       " array([2398, 2390, 2382, ...,   23,   15,    7]),\n",
       " array([600, 300, 600, ..., 300, 300, 300]),\n",
       " array([1200, 1200, 1200, ...,  300,  300,  300]),\n",
       " array([  0,   0,   0, ..., 900, 900, 900]),\n",
       " 30000000)"
      ]
     },
     "execution_count": 4,
     "metadata": {},
     "output_type": "execute_result"
    }
   ],
   "source": [
    "df1 = pd.concat([df1] * 20000)\n",
    "df2 = pd.concat([df2] * 300)\n",
    "\n",
    "df1.conditional_join(\n",
    "    df2,\n",
    "    (\"value_1\", \"value_2A\", \">\"),\n",
    "    (\"value_1\", \"value_2B\", \"<\"),\n",
    "    use_numba=True,\n",
    ")"
   ]
  },
  {
   "cell_type": "code",
   "execution_count": null,
   "metadata": {},
   "outputs": [],
   "source": [
    "df1.conditional_join(\n",
    "    df2,\n",
    "    (\"value_1\", \"value_2A\", \">\"),\n",
    "    (\"value_1\", \"value_2B\", \"<\"),\n",
    "    use_numba=False,\n",
    ")"
   ]
  },
  {
   "cell_type": "code",
   "execution_count": null,
   "metadata": {},
   "outputs": [
    {
     "name": "stdout",
     "output_type": "stream",
     "text": [
      "29.9 ms ± 163 µs per loop (mean ± std. dev. of 7 runs, 10 loops each)\n"
     ]
    }
   ],
   "source": [
    "%timeit df1.conditional_join(df2, ('value_1','value_2A','>'), ('value_1','value_2B','<'),use_numba=True)"
   ]
  },
  {
   "cell_type": "code",
   "execution_count": null,
   "metadata": {},
   "outputs": [],
   "source": [
    "# 32.6ms   30_000_000"
   ]
  },
  {
   "cell_type": "code",
   "execution_count": null,
   "metadata": {},
   "outputs": [
    {
     "data": {
      "text/html": [
       "<div>\n",
       "<style scoped>\n",
       "    .dataframe tbody tr th:only-of-type {\n",
       "        vertical-align: middle;\n",
       "    }\n",
       "\n",
       "    .dataframe tbody tr th {\n",
       "        vertical-align: top;\n",
       "    }\n",
       "\n",
       "    .dataframe thead th {\n",
       "        text-align: right;\n",
       "    }\n",
       "</style>\n",
       "<table border=\"1\" class=\"dataframe\">\n",
       "  <thead>\n",
       "    <tr style=\"text-align: right;\">\n",
       "      <th></th>\n",
       "      <th>id</th>\n",
       "      <th>value_1</th>\n",
       "    </tr>\n",
       "  </thead>\n",
       "  <tbody>\n",
       "    <tr>\n",
       "      <th>0</th>\n",
       "      <td>1</td>\n",
       "      <td>2</td>\n",
       "    </tr>\n",
       "    <tr>\n",
       "      <th>1</th>\n",
       "      <td>1</td>\n",
       "      <td>5</td>\n",
       "    </tr>\n",
       "    <tr>\n",
       "      <th>2</th>\n",
       "      <td>1</td>\n",
       "      <td>7</td>\n",
       "    </tr>\n",
       "    <tr>\n",
       "      <th>3</th>\n",
       "      <td>2</td>\n",
       "      <td>1</td>\n",
       "    </tr>\n",
       "    <tr>\n",
       "      <th>4</th>\n",
       "      <td>2</td>\n",
       "      <td>3</td>\n",
       "    </tr>\n",
       "    <tr>\n",
       "      <th>...</th>\n",
       "      <td>...</td>\n",
       "      <td>...</td>\n",
       "    </tr>\n",
       "    <tr>\n",
       "      <th>1</th>\n",
       "      <td>1</td>\n",
       "      <td>5</td>\n",
       "    </tr>\n",
       "    <tr>\n",
       "      <th>2</th>\n",
       "      <td>1</td>\n",
       "      <td>7</td>\n",
       "    </tr>\n",
       "    <tr>\n",
       "      <th>3</th>\n",
       "      <td>2</td>\n",
       "      <td>1</td>\n",
       "    </tr>\n",
       "    <tr>\n",
       "      <th>4</th>\n",
       "      <td>2</td>\n",
       "      <td>3</td>\n",
       "    </tr>\n",
       "    <tr>\n",
       "      <th>5</th>\n",
       "      <td>3</td>\n",
       "      <td>4</td>\n",
       "    </tr>\n",
       "  </tbody>\n",
       "</table>\n",
       "<p>120000 rows × 2 columns</p>\n",
       "</div>"
      ],
      "text/plain": [
       "    id  value_1\n",
       "0    1        2\n",
       "1    1        5\n",
       "2    1        7\n",
       "3    2        1\n",
       "4    2        3\n",
       "..  ..      ...\n",
       "1    1        5\n",
       "2    1        7\n",
       "3    2        1\n",
       "4    2        3\n",
       "5    3        4\n",
       "\n",
       "[120000 rows x 2 columns]"
      ]
     },
     "execution_count": 7,
     "metadata": {},
     "output_type": "execute_result"
    }
   ],
   "source": [
    "df1"
   ]
  },
  {
   "cell_type": "code",
   "execution_count": null,
   "metadata": {},
   "outputs": [
    {
     "data": {
      "text/html": [
       "<div>\n",
       "<style scoped>\n",
       "    .dataframe tbody tr th:only-of-type {\n",
       "        vertical-align: middle;\n",
       "    }\n",
       "\n",
       "    .dataframe tbody tr th {\n",
       "        vertical-align: top;\n",
       "    }\n",
       "\n",
       "    .dataframe thead th {\n",
       "        text-align: right;\n",
       "    }\n",
       "</style>\n",
       "<table border=\"1\" class=\"dataframe\">\n",
       "  <thead>\n",
       "    <tr style=\"text-align: right;\">\n",
       "      <th></th>\n",
       "      <th>id</th>\n",
       "      <th>name</th>\n",
       "      <th>audience</th>\n",
       "      <th>start</th>\n",
       "      <th>sponsor</th>\n",
       "      <th>end</th>\n",
       "    </tr>\n",
       "  </thead>\n",
       "  <tbody>\n",
       "    <tr>\n",
       "      <th>0</th>\n",
       "      <td>1</td>\n",
       "      <td>Event 1</td>\n",
       "      <td>1178</td>\n",
       "      <td>2022-11-19 10:00:00</td>\n",
       "      <td>Sponsor 2</td>\n",
       "      <td>2022-11-19 10:15:00</td>\n",
       "    </tr>\n",
       "    <tr>\n",
       "      <th>1</th>\n",
       "      <td>2</td>\n",
       "      <td>Event 2</td>\n",
       "      <td>1446</td>\n",
       "      <td>2015-09-27 15:00:00</td>\n",
       "      <td>Sponsor 11</td>\n",
       "      <td>2015-09-27 15:11:00</td>\n",
       "    </tr>\n",
       "    <tr>\n",
       "      <th>2</th>\n",
       "      <td>3</td>\n",
       "      <td>Event 3</td>\n",
       "      <td>2261</td>\n",
       "      <td>2019-11-12 18:00:00</td>\n",
       "      <td>Sponsor 10</td>\n",
       "      <td>2019-11-12 18:53:00</td>\n",
       "    </tr>\n",
       "    <tr>\n",
       "      <th>3</th>\n",
       "      <td>4</td>\n",
       "      <td>Event 4</td>\n",
       "      <td>1471</td>\n",
       "      <td>2019-12-24 22:00:00</td>\n",
       "      <td>Sponsor 6</td>\n",
       "      <td>2019-12-24 22:11:00</td>\n",
       "    </tr>\n",
       "    <tr>\n",
       "      <th>4</th>\n",
       "      <td>5</td>\n",
       "      <td>Event 5</td>\n",
       "      <td>2605</td>\n",
       "      <td>2028-06-20 12:00:00</td>\n",
       "      <td>Sponsor 8</td>\n",
       "      <td>2028-06-20 12:31:00</td>\n",
       "    </tr>\n",
       "  </tbody>\n",
       "</table>\n",
       "</div>"
      ],
      "text/plain": [
       "   id     name  audience               start     sponsor                 end\n",
       "0   1  Event 1      1178 2022-11-19 10:00:00   Sponsor 2 2022-11-19 10:15:00\n",
       "1   2  Event 2      1446 2015-09-27 15:00:00  Sponsor 11 2015-09-27 15:11:00\n",
       "2   3  Event 3      2261 2019-11-12 18:00:00  Sponsor 10 2019-11-12 18:53:00\n",
       "3   4  Event 4      1471 2019-12-24 22:00:00   Sponsor 6 2019-12-24 22:11:00\n",
       "4   5  Event 5      2605 2028-06-20 12:00:00   Sponsor 8 2028-06-20 12:31:00"
      ]
     },
     "execution_count": 11,
     "metadata": {},
     "output_type": "execute_result"
    }
   ],
   "source": [
    "events = pd.read_csv(\n",
    "    \"/home/sam/Downloads/results.csv\", parse_dates=[\"start\", \"end\"]\n",
    ").iloc[:, 1:]\n",
    "events.head()"
   ]
  },
  {
   "cell_type": "code",
   "execution_count": null,
   "metadata": {},
   "outputs": [],
   "source": [
    "# events = pd.read_csv('/Users/samuel.oranyeli/Downloads/results.csv', parse_dates=['start','end']).iloc[:, 1:]"
   ]
  },
  {
   "cell_type": "code",
   "execution_count": null,
   "metadata": {},
   "outputs": [
    {
     "data": {
      "text/plain": [
       "(array([25296, 10726, 24103, ...,  3544, 15884, 13367]),\n",
       " array([25296, 10726, 24103, ...,  3544, 15884, 13367]))"
      ]
     },
     "execution_count": 12,
     "metadata": {},
     "output_type": "execute_result"
    }
   ],
   "source": [
    "A = events.conditional_join(\n",
    "    events,\n",
    "    (\"start\", \"end\", \"<=\"),\n",
    "    (\"end\", \"start\", \">=\"),\n",
    "    # ('id', 'id', '!='),\n",
    "    # ('audience','audience','>'),\n",
    "    use_numba=True,\n",
    "    df_columns=[\"id\", \"start\", \"end\"],\n",
    "    right_columns=[\"id\", \"start\", \"end\"],\n",
    ")\n",
    "\n",
    "A"
   ]
  },
  {
   "cell_type": "code",
   "execution_count": null,
   "metadata": {},
   "outputs": [],
   "source": [
    "B = events.conditional_join(\n",
    "    events,\n",
    "    (\"start\", \"end\", \"<=\"),\n",
    "    (\"end\", \"start\", \">=\"),\n",
    "    # ('id', 'id', '!='),\n",
    "    # ('audience','audience','>'),\n",
    "    use_numba=False,\n",
    "    df_columns=[\"id\", \"start\", \"end\"],\n",
    "    right_columns=[\"id\", \"start\", \"end\"],\n",
    ")"
   ]
  },
  {
   "cell_type": "code",
   "execution_count": null,
   "metadata": {},
   "outputs": [
    {
     "data": {
      "text/plain": [
       "True"
      ]
     },
     "execution_count": 8,
     "metadata": {},
     "output_type": "execute_result"
    }
   ],
   "source": [
    "A.sort_values(A.columns.tolist(), ignore_index=True).equals(\n",
    "    B.sort_values(A.columns.tolist(), ignore_index=True)\n",
    ")"
   ]
  },
  {
   "cell_type": "code",
   "execution_count": null,
   "metadata": {},
   "outputs": [
    {
     "name": "stdout",
     "output_type": "stream",
     "text": [
      "28.5 ms ± 1.99 ms per loop (mean ± std. dev. of 7 runs, 10 loops each)\n"
     ]
    }
   ],
   "source": [
    "%%timeit\n",
    "(\n",
    "    events.conditional_join(\n",
    "        events,\n",
    "        (\"start\", \"end\", \"<=\"),\n",
    "        (\"end\", \"start\", \">=\"),\n",
    "        # ('id', 'id', '!='),\n",
    "        # ('audience','audience','>'),\n",
    "        use_numba=True,\n",
    "        df_columns=[\"id\", \"start\", \"end\"],\n",
    "        right_columns=[\"id\", \"start\", \"end\"],\n",
    "    )\n",
    ")"
   ]
  },
  {
   "cell_type": "code",
   "execution_count": null,
   "metadata": {},
   "outputs": [
    {
     "name": "stdout",
     "output_type": "stream",
     "text": [
      "34.3 ms ± 1.83 ms per loop (mean ± std. dev. of 7 runs, 10 loops each)\n"
     ]
    }
   ],
   "source": [
    "%%timeit\n",
    "(\n",
    "    events.conditional_join(\n",
    "        events,\n",
    "        (\"start\", \"end\", \"<=\"),\n",
    "        (\"end\", \"start\", \">=\"),\n",
    "        # ('id', 'id', '!='),\n",
    "        # ('audience','audience','>'),\n",
    "        use_numba=False,\n",
    "        df_columns=[\"id\", \"start\", \"end\"],\n",
    "        right_columns=[\"id\", \"start\", \"end\"],\n",
    "    )\n",
    ")"
   ]
  },
  {
   "cell_type": "code",
   "execution_count": 3,
   "metadata": {},
   "outputs": [],
   "source": [
    "C = dict(\n",
    "    key=[f\"c{num}\" for num in range(1, 8)],\n",
    "    vol=[35, 15, 5, 35, 18, 90, 17],\n",
    "    profit=[45, 35, 55, 12, 15, 55, 11],\n",
    "    unitsSold=[15, 10, 30, 10, 15, 80, 2],\n",
    "    keyy=range(1, 8),\n",
    ")\n",
    "C = pd.DataFrame(C)\n",
    "\n",
    "\n",
    "D = dict(\n",
    "    key=[f\"d{num}\" for num in range(1, 9)],\n",
    "    vol=[20, 50, 15, 16, 40, 20, 40, 2],\n",
    "    profit=[30, 10, 12, 52, 35, 20, 30, 57],\n",
    "    unitsSold=[20, 35, 10, 12, 40, 30, 5, 15],\n",
    "    keyy=range(8, 0, -1),\n",
    ")\n",
    "D = pd.DataFrame(D)"
   ]
  },
  {
   "cell_type": "code",
   "execution_count": 4,
   "metadata": {},
   "outputs": [
    {
     "data": {
      "text/plain": [
       "(array([[0, 0, 4],\n",
       "        [1, 1, 0],\n",
       "        [2, 2, 1],\n",
       "        [1, 2, 2],\n",
       "        [2, 1, 3]]),\n",
       " array([[0, 1, 3],\n",
       "        [0, 0, 2],\n",
       "        [1, 0, 4],\n",
       "        [1, 2, 1],\n",
       "        [1, 0, 1],\n",
       "        [2, 2, 4],\n",
       "        [2, 0, 4]]),\n",
       " array([[2, 2, 4],\n",
       "        [2, 2, 4],\n",
       "        [2, 2, 4],\n",
       "        [2, 2, 4],\n",
       "        [2, 2, 4],\n",
       "        [2, 2, 4],\n",
       "        [2, 0, 4]]),\n",
       " array([0, 1, 1, 5, 5]),\n",
       " array([[7, 7, 7],\n",
       "        [7, 6, 7],\n",
       "        [7, 6, 7],\n",
       "        [7, 6, 7],\n",
       "        [7, 6, 7]]))"
      ]
     },
     "execution_count": 4,
     "metadata": {},
     "output_type": "execute_result"
    }
   ],
   "source": [
    "out = C.conditional_join(\n",
    "    D,\n",
    "    (\"profit\", \"profit\", \">=\"),\n",
    "     ('keyy','keyy','<='),\n",
    "      ('unitsSold','unitsSold','>='),\n",
    "    # (\"vol\", \"vol\", \"<=\"),\n",
    "      ('vol','profit','>'),\n",
    "    use_numba=True,\n",
    ")\n",
    "\n",
    "out"
   ]
  },
  {
   "cell_type": "code",
   "execution_count": null,
   "metadata": {},
   "outputs": [
    {
     "data": {
      "text/plain": [
       "array([[2, 2, 4],\n",
       "       [2, 2, 4],\n",
       "       [2, 2, 4],\n",
       "       [2, 2, 4],\n",
       "       [2, 2, 4],\n",
       "       [2, 2, 4],\n",
       "       [2, 0, 4]])"
      ]
     },
     "execution_count": 18,
     "metadata": {},
     "output_type": "execute_result"
    }
   ],
   "source": [
    "out[0]"
   ]
  },
  {
   "cell_type": "code",
   "execution_count": null,
   "metadata": {},
   "outputs": [
    {
     "data": {
      "text/plain": [
       "array([[6, 6, 6],\n",
       "       [6, 5, 6],\n",
       "       [6, 5, 6],\n",
       "       [6, 5, 6],\n",
       "       [6, 5, 6]])"
      ]
     },
     "execution_count": 14,
     "metadata": {},
     "output_type": "execute_result"
    }
   ],
   "source": [
    "out[1]-1"
   ]
  },
  {
   "cell_type": "code",
   "execution_count": null,
   "metadata": {},
   "outputs": [
    {
     "data": {
      "text/plain": [
       "array([[0, 1, 2]])"
      ]
     },
     "execution_count": 23,
     "metadata": {},
     "output_type": "execute_result"
    }
   ],
   "source": [
    "np.arange(3)[None]"
   ]
  },
  {
   "cell_type": "code",
   "execution_count": null,
   "metadata": {},
   "outputs": [
    {
     "data": {
      "text/plain": [
       "array([[2, 0, 4],\n",
       "       [2, 2, 4],\n",
       "       [2, 2, 4],\n",
       "       [2, 2, 4],\n",
       "       [2, 2, 4]])"
      ]
     },
     "execution_count": 25,
     "metadata": {},
     "output_type": "execute_result"
    }
   ],
   "source": [
    "out[0][out[1]-1, range(3)]"
   ]
  },
  {
   "cell_type": "code",
   "execution_count": null,
   "metadata": {},
   "outputs": [
    {
     "ename": "IndexError",
     "evalue": "index 4 is out of bounds for axis 1 with size 3",
     "output_type": "error",
     "traceback": [
      "\u001b[0;31m---------------------------------------------------------------------------\u001b[0m",
      "\u001b[0;31mIndexError\u001b[0m                                Traceback (most recent call last)",
      "Cell \u001b[0;32mIn[16], line 1\u001b[0m\n\u001b[0;32m----> 1\u001b[0m \u001b[43mout\u001b[49m\u001b[43m[\u001b[49m\u001b[38;5;241;43m-\u001b[39;49m\u001b[38;5;241;43m2\u001b[39;49m\u001b[43m]\u001b[49m\u001b[43m[\u001b[49m\u001b[43m:\u001b[49m\u001b[43m,\u001b[49m\u001b[43mnp\u001b[49m\u001b[38;5;241;43m.\u001b[39;49m\u001b[43mcolumn_stack\u001b[49m\u001b[43m(\u001b[49m\u001b[43mout\u001b[49m\u001b[43m[\u001b[49m\u001b[38;5;241;43m-\u001b[39;49m\u001b[38;5;241;43m1\u001b[39;49m\u001b[43m]\u001b[49m\u001b[43m)\u001b[49m\u001b[43m]\u001b[49m\n",
      "\u001b[0;31mIndexError\u001b[0m: index 4 is out of bounds for axis 1 with size 3"
     ]
    }
   ],
   "source": [
    "out[-2][:,np.column_stack(out[-1])]"
   ]
  },
  {
   "cell_type": "code",
   "execution_count": null,
   "metadata": {},
   "outputs": [
    {
     "data": {
      "text/plain": [
       "(2, 3)"
      ]
     },
     "execution_count": 12,
     "metadata": {},
     "output_type": "execute_result"
    }
   ],
   "source": [
    "out[0].shape"
   ]
  },
  {
   "cell_type": "code",
   "execution_count": null,
   "metadata": {},
   "outputs": [
    {
     "data": {
      "text/plain": [
       "array([[[0., 0., 0., 0., 0.],\n",
       "        [0., 0., 0., 0., 0.]],\n",
       "\n",
       "       [[0., 0., 0., 0., 0.],\n",
       "        [0., 0., 0., 0., 0.]],\n",
       "\n",
       "       [[0., 0., 0., 0., 0.],\n",
       "        [0., 0., 0., 0., 0.]]])"
      ]
     },
     "execution_count": 21,
     "metadata": {},
     "output_type": "execute_result"
    }
   ],
   "source": [
    "np.zeros((3,2,5))"
   ]
  },
  {
   "cell_type": "code",
   "execution_count": null,
   "metadata": {},
   "outputs": [],
   "source": []
  },
  {
   "cell_type": "code",
   "execution_count": null,
   "metadata": {},
   "outputs": [],
   "source": []
  },
  {
   "cell_type": "code",
   "execution_count": null,
   "metadata": {},
   "outputs": [
    {
     "data": {
      "text/plain": [
       "(array([0, 0, 0, 1, 1, 1, 1, 1, 1, 2, 2, 2, 2, 2, 2, 2, 3, 4, 6]),\n",
       " array([1, 6, 4, 1, 2, 5, 0, 6, 4, 1, 2, 5, 0, 6, 4, 3, 1, 1, 1]))"
      ]
     },
     "execution_count": 11,
     "metadata": {},
     "output_type": "execute_result"
    }
   ],
   "source": [
    "(\n",
    "    C.conditional_join(\n",
    "        D,\n",
    "        (\"profit\", \"profit\", \">=\"),\n",
    "        # ('keyy','keyy','=='),\n",
    "          # ('unitsSold','unitsSold','>='),\n",
    "        (\"vol\", \"vol\", \"<=\"),\n",
    "        # ('vol','profit','>'),\n",
    "        use_numba=False,\n",
    "    )\n",
    ")"
   ]
  },
  {
   "cell_type": "code",
   "execution_count": null,
   "metadata": {},
   "outputs": [
    {
     "name": "stdout",
     "output_type": "stream",
     "text": [
      "3.38 ms ± 594 µs per loop (mean ± std. dev. of 7 runs, 100 loops each)\n"
     ]
    }
   ],
   "source": [
    "%%timeit\n",
    "(\n",
    "    C.conditional_join(\n",
    "        D,\n",
    "        (\"profit\", \"profit\", \">=\"),\n",
    "        # ('keyy','keyy','=='),\n",
    "        #  ('unitsSold','unitsSold','>='),\n",
    "        (\"vol\", \"vol\", \"<=\"),\n",
    "        # ('vol','profit','>'),\n",
    "        use_numba=True,\n",
    "    )\n",
    ")"
   ]
  },
  {
   "cell_type": "code",
   "execution_count": null,
   "metadata": {},
   "outputs": [
    {
     "name": "stdout",
     "output_type": "stream",
     "text": [
      "3.75 ms ± 320 µs per loop (mean ± std. dev. of 7 runs, 100 loops each)\n"
     ]
    }
   ],
   "source": [
    "%%timeit\n",
    "(\n",
    "    C.conditional_join(\n",
    "        D,\n",
    "        (\"profit\", \"profit\", \">=\"),\n",
    "        # ('keyy','keyy','=='),\n",
    "        #  ('unitsSold','unitsSold','>='),\n",
    "        (\"vol\", \"vol\", \"<=\"),\n",
    "        # ('vol','profit','>'),\n",
    "        use_numba=False,\n",
    "    )\n",
    ")"
   ]
  },
  {
   "cell_type": "code",
   "execution_count": null,
   "metadata": {},
   "outputs": [
    {
     "ename": "SyntaxError",
     "evalue": "Missing parentheses in call to 'print'. Did you mean print(...)? (414025362.py, line 1)",
     "output_type": "error",
     "traceback": [
      "\u001b[0;36m  Cell \u001b[0;32mIn[19], line 1\u001b[0;36m\u001b[0m\n\u001b[0;31m    print 'i'\u001b[0m\n\u001b[0m    ^\u001b[0m\n\u001b[0;31mSyntaxError\u001b[0m\u001b[0;31m:\u001b[0m Missing parentheses in call to 'print'. Did you mean print(...)?\n"
     ]
    }
   ],
   "source": [
    "print 'i'"
   ]
  },
  {
   "cell_type": "code",
   "execution_count": null,
   "metadata": {},
   "outputs": [],
   "source": [
    "C = pd.concat([C] * 400)\n",
    "D = pd.concat([D] * 400)"
   ]
  },
  {
   "cell_type": "code",
   "execution_count": null,
   "metadata": {},
   "outputs": [
    {
     "data": {
      "text/plain": [
       "(False, False)"
      ]
     },
     "execution_count": 6,
     "metadata": {},
     "output_type": "execute_result"
    }
   ],
   "source": [
    "(\n",
    "    C.conditional_join(\n",
    "        D,\n",
    "        (\"profit\", \"profit\", \">=\"),\n",
    "        # ('keyy','keyy','=='),\n",
    "        # ('unitsSold','unitsSold','>='),\n",
    "        (\"vol\", \"vol\", \"<=\"),\n",
    "        # ('vol','profit','>'),\n",
    "        use_numba=True,\n",
    "    )\n",
    ")"
   ]
  },
  {
   "cell_type": "code",
   "execution_count": null,
   "metadata": {},
   "outputs": [
    {
     "name": "stdout",
     "output_type": "stream",
     "text": [
      "142 ms ± 4.38 ms per loop (mean ± std. dev. of 7 runs, 10 loops each)\n"
     ]
    }
   ],
   "source": [
    "%%timeit\n",
    "(\n",
    "    C.conditional_join(\n",
    "        D,\n",
    "        (\"profit\", \"profit\", \">=\"),\n",
    "        # ('keyy','keyy','=='),\n",
    "        # ('unitsSold','unitsSold','>='),\n",
    "        (\"vol\", \"vol\", \"<=\"),\n",
    "        # ('vol','profit','>'),\n",
    "        use_numba=True,\n",
    "    )\n",
    ")"
   ]
  },
  {
   "cell_type": "code",
   "execution_count": null,
   "metadata": {},
   "outputs": [
    {
     "name": "stdout",
     "output_type": "stream",
     "text": [
      "175 ms ± 14.1 ms per loop (mean ± std. dev. of 7 runs, 1 loop each)\n"
     ]
    }
   ],
   "source": [
    "%%timeit\n",
    "(\n",
    "    C.conditional_join(\n",
    "        D,\n",
    "        (\"profit\", \"profit\", \">=\"),\n",
    "        # ('keyy','keyy','=='),\n",
    "        # ('unitsSold','unitsSold','>='),\n",
    "        (\"vol\", \"vol\", \"<=\"),\n",
    "        # ('vol','profit','>'),\n",
    "        use_numba=False,\n",
    "    )\n",
    ")"
   ]
  },
  {
   "cell_type": "code",
   "execution_count": null,
   "metadata": {},
   "outputs": [
    {
     "data": {
      "text/plain": [
       "30400"
      ]
     },
     "execution_count": 15,
     "metadata": {},
     "output_type": "execute_result"
    }
   ],
   "source": [
    "(\n",
    "    C.conditional_join(\n",
    "        D,\n",
    "        (\"profit\", \"profit\", \">=\"),\n",
    "        # ('keyy','keyy','=='),\n",
    "        # ('unitsSold','unitsSold','>='),\n",
    "        (\"vol\", \"vol\", \"<=\"),\n",
    "        # ('vol','profit','>'),\n",
    "        use_numba=True,\n",
    "    )\n",
    ")[0].size"
   ]
  },
  {
   "cell_type": "code",
   "execution_count": null,
   "metadata": {},
   "outputs": [
    {
     "data": {
      "text/plain": [
       "(array(1), array(1))"
      ]
     },
     "execution_count": 24,
     "metadata": {},
     "output_type": "execute_result"
    }
   ],
   "source": [
    "np.asarray(1), np.asanyarray(1)"
   ]
  },
  {
   "cell_type": "code",
   "execution_count": null,
   "metadata": {},
   "outputs": [
    {
     "data": {
      "text/plain": [
       "30400"
      ]
     },
     "execution_count": 16,
     "metadata": {},
     "output_type": "execute_result"
    }
   ],
   "source": [
    "(\n",
    "    C.conditional_join(\n",
    "        D,\n",
    "        (\"profit\", \"profit\", \">=\"),\n",
    "        # ('keyy','keyy','=='),\n",
    "        # ('unitsSold','unitsSold','>='),\n",
    "        (\"vol\", \"vol\", \"<=\"),\n",
    "        # ('vol','profit','>'),\n",
    "        use_numba=False,\n",
    "    )\n",
    ")[0].size"
   ]
  },
  {
   "cell_type": "code",
   "execution_count": null,
   "metadata": {},
   "outputs": [],
   "source": [
    "from string import ascii_lowercase\n",
    "\n",
    "np.random.seed(1)\n",
    "# n = 10000000; k = 20000\n",
    "n = 20_0_000\n",
    "k = 20_00\n",
    "mapp = {k: v for v, k in enumerate(ascii_lowercase)}\n",
    "idx1 = np.random.randint(0, high=2_00, size=n)\n",
    "idx2 = np.random.randint(0, high=3_00, size=n)\n",
    "\n",
    "d1 = dict(\n",
    "    x=np.random.choice(list(ascii_lowercase[:5]), size=n),\n",
    "    start=np.minimum(idx1, idx2),\n",
    "    end=np.maximum(idx1, idx2),\n",
    ")\n",
    "\n",
    "\n",
    "d2 = dict(\n",
    "    x=np.random.choice(list(ascii_lowercase[:15]), size=k),\n",
    "    pos1=np.random.randint(low=60, high=151, size=k),\n",
    ")\n",
    "\n",
    "d1 = pd.DataFrame(d1)\n",
    "d2 = pd.DataFrame(d2)\n",
    "d1 = d1.assign(xx=lambda df: df.x.map(mapp))\n",
    "d2 = d2.assign(xx=lambda df: df.x.map(mapp))"
   ]
  },
  {
   "cell_type": "code",
   "execution_count": null,
   "metadata": {},
   "outputs": [
    {
     "name": "stdout",
     "output_type": "stream",
     "text": [
      "1.08 s ± 218 ms per loop (mean ± std. dev. of 7 runs, 1 loop each)\n"
     ]
    }
   ],
   "source": [
    "%%timeit\n",
    "bla = d2.conditional_join(\n",
    "    d1,\n",
    "    (\"pos1\", \"start\", \">\"),\n",
    "    (\"pos1\", \"end\", \"<\"),\n",
    "    # ('xx', 'xx', '=='),\n",
    "    use_numba=True,\n",
    ")"
   ]
  },
  {
   "cell_type": "code",
   "execution_count": null,
   "metadata": {},
   "outputs": [
    {
     "name": "stdout",
     "output_type": "stream",
     "text": [
      "7.51 s ± 1.25 s per loop (mean ± std. dev. of 7 runs, 1 loop each)\n"
     ]
    }
   ],
   "source": [
    "%%timeit\n",
    "bla = d2.conditional_join(\n",
    "    d1,\n",
    "    (\"pos1\", \"start\", \">\"),\n",
    "    (\"pos1\", \"end\", \"<\"),\n",
    "    # ('xx', 'xx', '=='),\n",
    "    use_numba=False,\n",
    ")"
   ]
  },
  {
   "cell_type": "code",
   "execution_count": null,
   "metadata": {},
   "outputs": [
    {
     "name": "stdout",
     "output_type": "stream",
     "text": [
      "372 ms ± 2.41 ms per loop (mean ± std. dev. of 7 runs, 1 loop each)\n"
     ]
    }
   ],
   "source": [
    "%%timeit\n",
    "bla = d2.conditional_join(\n",
    "    d1,\n",
    "    (\"pos1\", \"start\", \">\"),\n",
    "    (\"pos1\", \"end\", \"<\"),\n",
    "    # ('xx', 'xx', '=='),\n",
    "    use_numba=False,\n",
    ")"
   ]
  },
  {
   "cell_type": "code",
   "execution_count": null,
   "metadata": {},
   "outputs": [],
   "source": [
    "print 'jarr'"
   ]
  },
  {
   "cell_type": "code",
   "execution_count": null,
   "metadata": {},
   "outputs": [],
   "source": [
    "employees = pd.read_csv(\"/Users/samuel.oranyeli/employees.csv\")"
   ]
  },
  {
   "cell_type": "code",
   "execution_count": null,
   "metadata": {},
   "outputs": [],
   "source": [
    "%%timeit\n",
    "(\n",
    "    employees.conditional_join(\n",
    "        employees, (\"salary\", \"salary\", \"<\"), (\"tax\", \"tax\", \">\"), use_numba=True\n",
    "    )\n",
    ")"
   ]
  },
  {
   "cell_type": "code",
   "execution_count": null,
   "metadata": {},
   "outputs": [
    {
     "name": "stdout",
     "output_type": "stream",
     "text": [
      "4.02 s ± 8.26 ms per loop (mean ± std. dev. of 7 runs, 1 loop each)\n"
     ]
    }
   ],
   "source": [
    "%%timeit\n",
    "(\n",
    "    employees.conditional_join(\n",
    "        employees, (\"salary\", \"salary\", \"<\"), (\"tax\", \"tax\", \">\"), use_numba=False\n",
    "    )\n",
    ")"
   ]
  }
 ],
 "metadata": {
  "kernelspec": {
   "display_name": "pyjanitor-dev",
   "language": "python",
   "name": "python3"
  },
  "language_info": {
   "codemirror_mode": {
    "name": "ipython",
    "version": 3
   },
   "file_extension": ".py",
   "mimetype": "text/x-python",
   "name": "python",
   "nbconvert_exporter": "python",
   "pygments_lexer": "ipython3",
   "version": "3.9.18"
  }
 },
 "nbformat": 4,
 "nbformat_minor": 2
}
