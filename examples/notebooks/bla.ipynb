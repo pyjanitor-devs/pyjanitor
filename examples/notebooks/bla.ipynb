{
 "cells": [
  {
   "cell_type": "code",
   "execution_count": 1,
   "metadata": {},
   "outputs": [],
   "source": [
    "import pandas as pd\n",
    "import numpy as np\n",
    "import janitor as jn"
   ]
  },
  {
   "cell_type": "code",
   "execution_count": 2,
   "metadata": {},
   "outputs": [
    {
     "ename": "SyntaxError",
     "evalue": "Missing parentheses in call to 'print'. Did you mean print('i')? (414025362.py, line 1)",
     "output_type": "error",
     "traceback": [
      "\u001b[0;36m  Cell \u001b[0;32mIn[2], line 1\u001b[0;36m\u001b[0m\n\u001b[0;31m    print 'i'\u001b[0m\n\u001b[0m          ^\u001b[0m\n\u001b[0;31mSyntaxError\u001b[0m\u001b[0;31m:\u001b[0m Missing parentheses in call to 'print'. Did you mean print('i')?\n"
     ]
    }
   ],
   "source": [
    "print 'i'"
   ]
  },
  {
   "cell_type": "code",
   "execution_count": null,
   "metadata": {},
   "outputs": [],
   "source": [
    "df = {\n",
    "    \"A\": [0, 0, 0, 0],\n",
    "    \"E\": pd.to_datetime(\n",
    "        [\n",
    "            \"1970-01-01 00:00:00.000000001\",\n",
    "            \"1970-01-01 00:00:00.000000000\",\n",
    "            \"1969-12-31 23:59:59.999999999\",\n",
    "            \"1970-01-01 00:00:00.000000000\",\n",
    "        ]\n",
    "    ),\n",
    "}\n",
    "\n",
    "\n",
    "right = {\n",
    "    \"Dates\": pd.to_datetime([\n",
    "        \"1970-01-01 00:00:00.000000000\",\n",
    "        \"1970-01-01 00:00:00.000000001\",\n",
    "        \"1970-01-01 00:00:00.000000000\",\n",
    "    ]),\n",
    "    \"Dates_Right\": pd.to_datetime(\n",
    "        [\n",
    "            \"1970-01-01 00:00:00.000000001\",\n",
    "            \"1969-12-31 23:59:59.999999999\",\n",
    "            \"1969-12-31 23:59:59.999999999\",\n",
    "        ]\n",
    "    ),\n",
    "}\n",
    "\n",
    "\n",
    "right = pd.DataFrame(right)\n",
    "\n",
    "df = pd.DataFrame(df)"
   ]
  },
  {
   "cell_type": "code",
   "execution_count": null,
   "metadata": {},
   "outputs": [],
   "source": [
    "df"
   ]
  },
  {
   "cell_type": "code",
   "execution_count": null,
   "metadata": {},
   "outputs": [],
   "source": [
    "right"
   ]
  },
  {
   "cell_type": "code",
   "execution_count": null,
   "metadata": {},
   "outputs": [],
   "source": [
    "A =(\n",
    "    df[[\"E\"]].conditional_join(\n",
    "        right[[\"Dates\", \"Dates_Right\"]],\n",
    "        (\"E\", \"Dates\", \">=\"),\n",
    "        (\"E\", \"Dates_Right\", \"<=\"),\n",
    "        how=\"inner\",\n",
    "        use_numba=True,\n",
    "    )\n",
    ")\n",
    "\n",
    "A"
   ]
  },
  {
   "cell_type": "code",
   "execution_count": null,
   "metadata": {},
   "outputs": [],
   "source": [
    "B = (\n",
    "    df[[\"E\"]].conditional_join(\n",
    "        right[[\"Dates\", \"Dates_Right\"]],\n",
    "        (\"E\", \"Dates\", \">=\"),\n",
    "        (\"E\", \"Dates_Right\", \"<=\"),\n",
    "        how=\"inner\",\n",
    "        use_numba=False,\n",
    "    )\n",
    ")\n",
    "\n",
    "B"
   ]
  },
  {
   "cell_type": "code",
   "execution_count": null,
   "metadata": {},
   "outputs": [],
   "source": [
    "A.sort_values([\"E\", \"Dates\", \"Dates_Right\"], ignore_index=True)"
   ]
  },
  {
   "cell_type": "code",
   "execution_count": null,
   "metadata": {},
   "outputs": [],
   "source": [
    "C.sort_values([\"E\", \"Dates\", \"Dates_Right\"], ignore_index=True)"
   ]
  },
  {
   "cell_type": "code",
   "execution_count": null,
   "metadata": {},
   "outputs": [],
   "source": [
    "B.sort_values([\"E\", \"Dates\", \"Dates_Right\"], ignore_index=True)"
   ]
  },
  {
   "cell_type": "code",
   "execution_count": null,
   "metadata": {},
   "outputs": [],
   "source": [
    "C = (\n",
    "    df[[\"E\"]]\n",
    "    .merge(right[[\"Dates\", \"Dates_Right\"]], how=\"cross\")\n",
    "    .loc[lambda df: df.E.between(df.Dates, df.Dates_Right, inclusive=\"both\")]\n",
    ")\n",
    "\n",
    "C"
   ]
  },
  {
   "cell_type": "code",
   "execution_count": null,
   "metadata": {},
   "outputs": [],
   "source": [
    "C.sort_values([\"E\", \"Dates\", \"Dates_Right\"], ignore_index=True)"
   ]
  },
  {
   "cell_type": "code",
   "execution_count": null,
   "metadata": {},
   "outputs": [],
   "source": [
    "df.dtypes, right.dtypes"
   ]
  },
  {
   "cell_type": "code",
   "execution_count": null,
   "metadata": {},
   "outputs": [],
   "source": [
    "(\n",
    "    df[[\"A\", \"E\"]].conditional_join(\n",
    "        right[[\"Integers\", \"Dates\"]],\n",
    "        (\"E\", \"Dates\", \"<\"),\n",
    "        (\"A\", \"Integers\", \">=\"),\n",
    "        how=\"inner\",\n",
    "        use_numba=True,\n",
    "        sort_by_appearance=False,\n",
    "    )\n",
    ")"
   ]
  },
  {
   "cell_type": "code",
   "execution_count": null,
   "metadata": {},
   "outputs": [],
   "source": [
    "columns = [\"A\", \"E\", \"Integers\", \"Dates\"]\n",
    "(\n",
    "    df.merge(\n",
    "        right,\n",
    "        how=\"cross\",\n",
    "    )\n",
    "    .loc[lambda df: df.A.ge(df.Integers) & df.E.lt(df.Dates), columns]\n",
    "    .sort_values(columns, ignore_index=True)\n",
    ")"
   ]
  },
  {
   "cell_type": "code",
   "execution_count": null,
   "metadata": {},
   "outputs": [],
   "source": [
    "(\n",
    "    df[[\"A\", \"E\"]].conditional_join(\n",
    "        right[[\"Integers\", \"Dates\"]],\n",
    "        (\"E\", \"Dates\", \"<\"),\n",
    "        (\"A\", \"Integers\", \">=\"),\n",
    "        how=\"inner\",\n",
    "        use_numba=False,\n",
    "        sort_by_appearance=False,\n",
    "    )\n",
    ")"
   ]
  },
  {
   "cell_type": "code",
   "execution_count": null,
   "metadata": {},
   "outputs": [],
   "source": [
    "print 'j'"
   ]
  },
  {
   "cell_type": "code",
   "execution_count": null,
   "metadata": {},
   "outputs": [],
   "source": [
    "pd.__version__"
   ]
  },
  {
   "cell_type": "code",
   "execution_count": null,
   "metadata": {},
   "outputs": [],
   "source": [
    "df1 = pd.DataFrame({\"id\": [1, 1, 1, 2, 2, 3], \"value_1\": [2, 5, 7, 1, 3, 4]})\n",
    "df2 = pd.DataFrame(\n",
    "    {\n",
    "        \"id\": [1, 1, 1, 1, 2, 2, 2, 3],\n",
    "        \"value_2A\": [0, 3, 7, 12, 0, 2, 3, 1],\n",
    "        \"value_2B\": [1, 5, 9, 15, 1, 4, 6, 3],\n",
    "    }\n",
    ")"
   ]
  },
  {
   "cell_type": "code",
   "execution_count": null,
   "metadata": {},
   "outputs": [],
   "source": [
    "df1 = pd.concat([df1] * 20000)\n",
    "df2 = pd.concat([df2] * 300)\n",
    "\n",
    "df1.conditional_join(\n",
    "    df2,\n",
    "    (\"value_1\", \"value_2A\", \">\"),\n",
    "    (\"value_1\", \"value_2B\", \"<\"),\n",
    "    use_numba=True,\n",
    ")"
   ]
  },
  {
   "cell_type": "code",
   "execution_count": null,
   "metadata": {},
   "outputs": [],
   "source": [
    "df1.conditional_join(\n",
    "    df2,\n",
    "    (\"value_1\", \"value_2A\", \">\"),\n",
    "    (\"value_1\", \"value_2B\", \"<\"),\n",
    "    use_numba=False,\n",
    ")"
   ]
  },
  {
   "cell_type": "code",
   "execution_count": null,
   "metadata": {},
   "outputs": [],
   "source": [
    "%timeit df1.conditional_join(df2, ('value_1','value_2A','>'), ('value_1','value_2B','<'),use_numba=True)"
   ]
  },
  {
   "cell_type": "code",
   "execution_count": null,
   "metadata": {},
   "outputs": [],
   "source": [
    "# 32.6ms   30_000_000"
   ]
  },
  {
   "cell_type": "code",
   "execution_count": null,
   "metadata": {},
   "outputs": [],
   "source": [
    "df1"
   ]
  },
  {
   "cell_type": "code",
   "execution_count": null,
   "metadata": {},
   "outputs": [],
   "source": [
    "events = pd.read_csv(\n",
    "    \"/home/sam/Downloads/results.csv\", parse_dates=[\"start\", \"end\"]\n",
    ").iloc[:, 1:]\n",
    "events.head()"
   ]
  },
  {
   "cell_type": "code",
   "execution_count": null,
   "metadata": {},
   "outputs": [],
   "source": [
    "# events = pd.read_csv('/Users/samuel.oranyeli/Downloads/results.csv', parse_dates=['start','end']).iloc[:, 1:]"
   ]
  },
  {
   "cell_type": "code",
   "execution_count": null,
   "metadata": {},
   "outputs": [],
   "source": [
    "A = events.conditional_join(\n",
    "    events,\n",
    "    (\"start\", \"end\", \"<=\"),\n",
    "    (\"end\", \"start\", \">=\"),\n",
    "    # ('id', 'id', '!='),\n",
    "    # ('audience','audience','>'),\n",
    "    use_numba=True,\n",
    "    df_columns=[\"id\", \"start\", \"end\"],\n",
    "    right_columns=[\"id\", \"start\", \"end\"],\n",
    ")\n",
    "\n",
    "A"
   ]
  },
  {
   "cell_type": "code",
   "execution_count": null,
   "metadata": {},
   "outputs": [],
   "source": [
    "B = events.conditional_join(\n",
    "    events,\n",
    "    (\"start\", \"end\", \"<=\"),\n",
    "    (\"end\", \"start\", \">=\"),\n",
    "    # ('id', 'id', '!='),\n",
    "    # ('audience','audience','>'),\n",
    "    use_numba=False,\n",
    "    df_columns=[\"id\", \"start\", \"end\"],\n",
    "    right_columns=[\"id\", \"start\", \"end\"],\n",
    ")"
   ]
  },
  {
   "cell_type": "code",
   "execution_count": null,
   "metadata": {},
   "outputs": [],
   "source": [
    "A.sort_values(A.columns.tolist(), ignore_index=True).equals(\n",
    "    B.sort_values(A.columns.tolist(), ignore_index=True)\n",
    ")"
   ]
  },
  {
   "cell_type": "code",
   "execution_count": null,
   "metadata": {},
   "outputs": [],
   "source": [
    "%%timeit\n",
    "(\n",
    "    events.conditional_join(\n",
    "        events,\n",
    "        (\"start\", \"end\", \"<=\"),\n",
    "        (\"end\", \"start\", \">=\"),\n",
    "        # ('id', 'id', '!='),\n",
    "        # ('audience','audience','>'),\n",
    "        use_numba=True,\n",
    "        df_columns=[\"id\", \"start\", \"end\"],\n",
    "        right_columns=[\"id\", \"start\", \"end\"],\n",
    "    )\n",
    ")"
   ]
  },
  {
   "cell_type": "code",
   "execution_count": null,
   "metadata": {},
   "outputs": [],
   "source": [
    "%%timeit\n",
    "(\n",
    "    events.conditional_join(\n",
    "        events,\n",
    "        (\"start\", \"end\", \"<=\"),\n",
    "        (\"end\", \"start\", \">=\"),\n",
    "        # ('id', 'id', '!='),\n",
    "        # ('audience','audience','>'),\n",
    "        use_numba=False,\n",
    "        df_columns=[\"id\", \"start\", \"end\"],\n",
    "        right_columns=[\"id\", \"start\", \"end\"],\n",
    "    )\n",
    ")"
   ]
  },
  {
   "cell_type": "code",
   "execution_count": 3,
   "metadata": {},
   "outputs": [],
   "source": [
    "C = dict(\n",
    "    key=[f\"c{num}\" for num in range(1, 8)],\n",
    "    vol=[35, 15, 5, 35, 18, 90, 17],\n",
    "    profit=[45, 35, 55, 12, 15, 55, 11],\n",
    "    unitsSold=[15, 10, 30, 10, 15, 80, 2],\n",
    "    keyy=range(1, 8),\n",
    ")\n",
    "C = pd.DataFrame(C)\n",
    "\n",
    "\n",
    "D = dict(\n",
    "    key=[f\"d{num}\" for num in range(1, 9)],\n",
    "    vol=[20, 50, 15, 16, 40, 20, 40, 2],\n",
    "    profit=[30, 10, 12, 52, 35, 20, 30, 57],\n",
    "    unitsSold=[20, 35, 10, 12, 40, 30, 5, 15],\n",
    "    keyy=range(8, 0, -1),\n",
    ")\n",
    "D = pd.DataFrame(D)"
   ]
  },
  {
   "cell_type": "code",
   "execution_count": 4,
   "metadata": {},
   "outputs": [
    {
     "name": "stdout",
     "output_type": "stream",
     "text": [
      "4 2 2 3 2 1\n",
      "4 2 2 3 2 0\n",
      "3 2 1 3 2 1\n",
      "3 2 1 3 2 0\n",
      "2 2 2 3 2 1\n",
      "2 2 2 3 2 0\n",
      "1 1 1 3 3 0\n",
      "1 1 1 3 3 1\n",
      "1 1 1 3 3 0\n",
      "1 2 1 3 2 1\n",
      "1 2 1 3 2 0\n",
      "0 0 0 3 2 0\n",
      "0 0 0 3 2 0\n",
      "0 1 0 3 3 1\n",
      "0 1 0 3 3 0\n",
      "0 1 0 3 3 0\n",
      "0 2 0 3 2 1\n",
      "0 2 0 3 2 1\n"
     ]
    },
    {
     "data": {
      "text/plain": [
       "(array([[0, 0, 4],\n",
       "        [1, 1, 0],\n",
       "        [2, 2, 1],\n",
       "        [1, 2, 2],\n",
       "        [2, 1, 3]]),\n",
       " array([[0, 1, 3],\n",
       "        [0, 0, 2],\n",
       "        [1, 0, 4],\n",
       "        [1, 2, 1],\n",
       "        [1, 0, 1],\n",
       "        [2, 2, 4],\n",
       "        [2, 0, 4]]),\n",
       " array([3, 2, 1, 1, 1]),\n",
       " array([0, 1, 1, 5, 5]),\n",
       " array([7, 7, 7, 7, 7]),\n",
       " array([2, 2, 2, 2, 2, 2, 2]),\n",
       " array([2, 3, 2]),\n",
       " array([[1, 0, 0, 0, 0, 0, 0],\n",
       "        [2, 3, 4, 0, 0, 0, 0],\n",
       "        [5, 6, 0, 0, 0, 0, 0]]))"
      ]
     },
     "execution_count": 4,
     "metadata": {},
     "output_type": "execute_result"
    }
   ],
   "source": [
    "out = C.conditional_join(\n",
    "    D,\n",
    "    (\"profit\", \"profit\", \">=\"),\n",
    "     ('keyy','keyy','<='),\n",
    "      ('unitsSold','unitsSold','>='),\n",
    "    # (\"vol\", \"vol\", \"<=\"),\n",
    "      ('vol','profit','>'),\n",
    "    use_numba=True,\n",
    ")\n",
    "\n",
    "out"
   ]
  },
  {
   "cell_type": "code",
   "execution_count": null,
   "metadata": {},
   "outputs": [],
   "source": [
    "out[0]"
   ]
  },
  {
   "cell_type": "code",
   "execution_count": null,
   "metadata": {},
   "outputs": [],
   "source": [
    "out[1]-1"
   ]
  },
  {
   "cell_type": "code",
   "execution_count": null,
   "metadata": {},
   "outputs": [],
   "source": [
    "np.arange(3)[None]"
   ]
  },
  {
   "cell_type": "code",
   "execution_count": null,
   "metadata": {},
   "outputs": [],
   "source": [
    "out[0][out[1]-1, range(3)]"
   ]
  },
  {
   "cell_type": "code",
   "execution_count": null,
   "metadata": {},
   "outputs": [],
   "source": [
    "out[-2][:,np.column_stack(out[-1])]"
   ]
  },
  {
   "cell_type": "code",
   "execution_count": null,
   "metadata": {},
   "outputs": [],
   "source": [
    "out[0].shape"
   ]
  },
  {
   "cell_type": "code",
   "execution_count": null,
   "metadata": {},
   "outputs": [],
   "source": [
    "np.zeros((3,2,5))"
   ]
  },
  {
   "cell_type": "code",
   "execution_count": null,
   "metadata": {},
   "outputs": [],
   "source": []
  },
  {
   "cell_type": "code",
   "execution_count": null,
   "metadata": {},
   "outputs": [],
   "source": []
  },
  {
   "cell_type": "code",
   "execution_count": null,
   "metadata": {},
   "outputs": [],
   "source": [
    "(\n",
    "    C.conditional_join(\n",
    "        D,\n",
    "        (\"profit\", \"profit\", \">=\"),\n",
    "        # ('keyy','keyy','=='),\n",
    "          # ('unitsSold','unitsSold','>='),\n",
    "        (\"vol\", \"vol\", \"<=\"),\n",
    "        # ('vol','profit','>'),\n",
    "        use_numba=False,\n",
    "    )\n",
    ")"
   ]
  },
  {
   "cell_type": "code",
   "execution_count": null,
   "metadata": {},
   "outputs": [],
   "source": [
    "%%timeit\n",
    "(\n",
    "    C.conditional_join(\n",
    "        D,\n",
    "        (\"profit\", \"profit\", \">=\"),\n",
    "        # ('keyy','keyy','=='),\n",
    "        #  ('unitsSold','unitsSold','>='),\n",
    "        (\"vol\", \"vol\", \"<=\"),\n",
    "        # ('vol','profit','>'),\n",
    "        use_numba=True,\n",
    "    )\n",
    ")"
   ]
  },
  {
   "cell_type": "code",
   "execution_count": null,
   "metadata": {},
   "outputs": [],
   "source": [
    "%%timeit\n",
    "(\n",
    "    C.conditional_join(\n",
    "        D,\n",
    "        (\"profit\", \"profit\", \">=\"),\n",
    "        # ('keyy','keyy','=='),\n",
    "        #  ('unitsSold','unitsSold','>='),\n",
    "        (\"vol\", \"vol\", \"<=\"),\n",
    "        # ('vol','profit','>'),\n",
    "        use_numba=False,\n",
    "    )\n",
    ")"
   ]
  },
  {
   "cell_type": "code",
   "execution_count": null,
   "metadata": {},
   "outputs": [],
   "source": [
    "print 'i'"
   ]
  },
  {
   "cell_type": "code",
   "execution_count": null,
   "metadata": {},
   "outputs": [],
   "source": [
    "C = pd.concat([C] * 400)\n",
    "D = pd.concat([D] * 400)"
   ]
  },
  {
   "cell_type": "code",
   "execution_count": null,
   "metadata": {},
   "outputs": [],
   "source": [
    "(\n",
    "    C.conditional_join(\n",
    "        D,\n",
    "        (\"profit\", \"profit\", \">=\"),\n",
    "        # ('keyy','keyy','=='),\n",
    "        # ('unitsSold','unitsSold','>='),\n",
    "        (\"vol\", \"vol\", \"<=\"),\n",
    "        # ('vol','profit','>'),\n",
    "        use_numba=True,\n",
    "    )\n",
    ")"
   ]
  },
  {
   "cell_type": "code",
   "execution_count": null,
   "metadata": {},
   "outputs": [],
   "source": [
    "%%timeit\n",
    "(\n",
    "    C.conditional_join(\n",
    "        D,\n",
    "        (\"profit\", \"profit\", \">=\"),\n",
    "        # ('keyy','keyy','=='),\n",
    "        # ('unitsSold','unitsSold','>='),\n",
    "        (\"vol\", \"vol\", \"<=\"),\n",
    "        # ('vol','profit','>'),\n",
    "        use_numba=True,\n",
    "    )\n",
    ")"
   ]
  },
  {
   "cell_type": "code",
   "execution_count": null,
   "metadata": {},
   "outputs": [],
   "source": [
    "%%timeit\n",
    "(\n",
    "    C.conditional_join(\n",
    "        D,\n",
    "        (\"profit\", \"profit\", \">=\"),\n",
    "        # ('keyy','keyy','=='),\n",
    "        # ('unitsSold','unitsSold','>='),\n",
    "        (\"vol\", \"vol\", \"<=\"),\n",
    "        # ('vol','profit','>'),\n",
    "        use_numba=False,\n",
    "    )\n",
    ")"
   ]
  },
  {
   "cell_type": "code",
   "execution_count": null,
   "metadata": {},
   "outputs": [],
   "source": [
    "(\n",
    "    C.conditional_join(\n",
    "        D,\n",
    "        (\"profit\", \"profit\", \">=\"),\n",
    "        # ('keyy','keyy','=='),\n",
    "        # ('unitsSold','unitsSold','>='),\n",
    "        (\"vol\", \"vol\", \"<=\"),\n",
    "        # ('vol','profit','>'),\n",
    "        use_numba=True,\n",
    "    )\n",
    ")[0].size"
   ]
  },
  {
   "cell_type": "code",
   "execution_count": null,
   "metadata": {},
   "outputs": [],
   "source": [
    "np.asarray(1), np.asanyarray(1)"
   ]
  },
  {
   "cell_type": "code",
   "execution_count": null,
   "metadata": {},
   "outputs": [],
   "source": [
    "(\n",
    "    C.conditional_join(\n",
    "        D,\n",
    "        (\"profit\", \"profit\", \">=\"),\n",
    "        # ('keyy','keyy','=='),\n",
    "        # ('unitsSold','unitsSold','>='),\n",
    "        (\"vol\", \"vol\", \"<=\"),\n",
    "        # ('vol','profit','>'),\n",
    "        use_numba=False,\n",
    "    )\n",
    ")[0].size"
   ]
  },
  {
   "cell_type": "code",
   "execution_count": null,
   "metadata": {},
   "outputs": [],
   "source": [
    "from string import ascii_lowercase\n",
    "\n",
    "np.random.seed(1)\n",
    "# n = 10000000; k = 20000\n",
    "n = 20_0_000\n",
    "k = 20_00\n",
    "mapp = {k: v for v, k in enumerate(ascii_lowercase)}\n",
    "idx1 = np.random.randint(0, high=2_00, size=n)\n",
    "idx2 = np.random.randint(0, high=3_00, size=n)\n",
    "\n",
    "d1 = dict(\n",
    "    x=np.random.choice(list(ascii_lowercase[:5]), size=n),\n",
    "    start=np.minimum(idx1, idx2),\n",
    "    end=np.maximum(idx1, idx2),\n",
    ")\n",
    "\n",
    "\n",
    "d2 = dict(\n",
    "    x=np.random.choice(list(ascii_lowercase[:15]), size=k),\n",
    "    pos1=np.random.randint(low=60, high=151, size=k),\n",
    ")\n",
    "\n",
    "d1 = pd.DataFrame(d1)\n",
    "d2 = pd.DataFrame(d2)\n",
    "d1 = d1.assign(xx=lambda df: df.x.map(mapp))\n",
    "d2 = d2.assign(xx=lambda df: df.x.map(mapp))"
   ]
  },
  {
   "cell_type": "code",
   "execution_count": null,
   "metadata": {},
   "outputs": [],
   "source": [
    "%%timeit\n",
    "bla = d2.conditional_join(\n",
    "    d1,\n",
    "    (\"pos1\", \"start\", \">\"),\n",
    "    (\"pos1\", \"end\", \"<\"),\n",
    "    # ('xx', 'xx', '=='),\n",
    "    use_numba=True,\n",
    ")"
   ]
  },
  {
   "cell_type": "code",
   "execution_count": null,
   "metadata": {},
   "outputs": [],
   "source": [
    "%%timeit\n",
    "bla = d2.conditional_join(\n",
    "    d1,\n",
    "    (\"pos1\", \"start\", \">\"),\n",
    "    (\"pos1\", \"end\", \"<\"),\n",
    "    # ('xx', 'xx', '=='),\n",
    "    use_numba=False,\n",
    ")"
   ]
  },
  {
   "cell_type": "code",
   "execution_count": null,
   "metadata": {},
   "outputs": [],
   "source": [
    "%%timeit\n",
    "bla = d2.conditional_join(\n",
    "    d1,\n",
    "    (\"pos1\", \"start\", \">\"),\n",
    "    (\"pos1\", \"end\", \"<\"),\n",
    "    # ('xx', 'xx', '=='),\n",
    "    use_numba=False,\n",
    ")"
   ]
  },
  {
   "cell_type": "code",
   "execution_count": null,
   "metadata": {},
   "outputs": [],
   "source": [
    "print 'jarr'"
   ]
  },
  {
   "cell_type": "code",
   "execution_count": null,
   "metadata": {},
   "outputs": [],
   "source": [
    "employees = pd.read_csv(\"/Users/samuel.oranyeli/employees.csv\")"
   ]
  },
  {
   "cell_type": "code",
   "execution_count": null,
   "metadata": {},
   "outputs": [],
   "source": [
    "%%timeit\n",
    "(\n",
    "    employees.conditional_join(\n",
    "        employees, (\"salary\", \"salary\", \"<\"), (\"tax\", \"tax\", \">\"), use_numba=True\n",
    "    )\n",
    ")"
   ]
  },
  {
   "cell_type": "code",
   "execution_count": null,
   "metadata": {},
   "outputs": [],
   "source": [
    "%%timeit\n",
    "(\n",
    "    employees.conditional_join(\n",
    "        employees, (\"salary\", \"salary\", \"<\"), (\"tax\", \"tax\", \">\"), use_numba=False\n",
    "    )\n",
    ")"
   ]
  }
 ],
 "metadata": {
  "kernelspec": {
   "display_name": "pyjanitor-dev",
   "language": "python",
   "name": "python3"
  },
  "language_info": {
   "codemirror_mode": {
    "name": "ipython",
    "version": 3
   },
   "file_extension": ".py",
   "mimetype": "text/x-python",
   "name": "python",
   "nbconvert_exporter": "python",
   "pygments_lexer": "ipython3",
   "version": "3.9.18"
  }
 },
 "nbformat": 4,
 "nbformat_minor": 2
}
