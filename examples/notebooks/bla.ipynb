{
 "cells": [
  {
   "cell_type": "code",
   "execution_count": 1,
   "metadata": {},
   "outputs": [],
   "source": [
    "import pandas as pd; import numpy as np; import janitor as jn\n"
   ]
  },
  {
   "cell_type": "code",
   "execution_count": 2,
   "metadata": {},
   "outputs": [
    {
     "data": {
      "text/plain": [
       "'2.2.1'"
      ]
     },
     "execution_count": 2,
     "metadata": {},
     "output_type": "execute_result"
    }
   ],
   "source": [
    "pd.__version__"
   ]
  },
  {
   "cell_type": "code",
   "execution_count": 3,
   "metadata": {},
   "outputs": [],
   "source": [
    "df1 = pd.DataFrame({'id': [1,1,1,2,2,3], 'value_1': [2,5,7,1,3,4]})\n",
    "df2 = pd.DataFrame({'id': [1,1,1,1,2,2,2,3], 'value_2A': [0,3,7,12,0,2,3,1], 'value_2B': [1,5,9,15,pd.NA,4,6,3]})\n",
    "df2 = df2.astype({'value_2B':'Int32'})\n"
   ]
  },
  {
   "cell_type": "code",
   "execution_count": 4,
   "metadata": {},
   "outputs": [
    {
     "data": {
      "text/html": [
       "<div>\n",
       "<style scoped>\n",
       "    .dataframe tbody tr th:only-of-type {\n",
       "        vertical-align: middle;\n",
       "    }\n",
       "\n",
       "    .dataframe tbody tr th {\n",
       "        vertical-align: top;\n",
       "    }\n",
       "\n",
       "    .dataframe thead th {\n",
       "        text-align: right;\n",
       "    }\n",
       "</style>\n",
       "<table border=\"1\" class=\"dataframe\">\n",
       "  <thead>\n",
       "    <tr style=\"text-align: right;\">\n",
       "      <th></th>\n",
       "      <th>id</th>\n",
       "      <th>value_1</th>\n",
       "    </tr>\n",
       "  </thead>\n",
       "  <tbody>\n",
       "    <tr>\n",
       "      <th>0</th>\n",
       "      <td>1</td>\n",
       "      <td>2</td>\n",
       "    </tr>\n",
       "    <tr>\n",
       "      <th>1</th>\n",
       "      <td>1</td>\n",
       "      <td>5</td>\n",
       "    </tr>\n",
       "    <tr>\n",
       "      <th>2</th>\n",
       "      <td>1</td>\n",
       "      <td>7</td>\n",
       "    </tr>\n",
       "    <tr>\n",
       "      <th>3</th>\n",
       "      <td>2</td>\n",
       "      <td>1</td>\n",
       "    </tr>\n",
       "    <tr>\n",
       "      <th>4</th>\n",
       "      <td>2</td>\n",
       "      <td>3</td>\n",
       "    </tr>\n",
       "    <tr>\n",
       "      <th>5</th>\n",
       "      <td>3</td>\n",
       "      <td>4</td>\n",
       "    </tr>\n",
       "  </tbody>\n",
       "</table>\n",
       "</div>"
      ],
      "text/plain": [
       "   id  value_1\n",
       "0   1        2\n",
       "1   1        5\n",
       "2   1        7\n",
       "3   2        1\n",
       "4   2        3\n",
       "5   3        4"
      ]
     },
     "execution_count": 4,
     "metadata": {},
     "output_type": "execute_result"
    }
   ],
   "source": [
    "df1"
   ]
  },
  {
   "cell_type": "code",
   "execution_count": 5,
   "metadata": {},
   "outputs": [],
   "source": [
    "events = pd.read_csv('/Users/samuel.oranyeli/Downloads/results.csv', parse_dates=['start','end']).iloc[:, 1:]"
   ]
  },
  {
   "cell_type": "code",
   "execution_count": 6,
   "metadata": {},
   "outputs": [
    {
     "name": "stderr",
     "output_type": "stream",
     "text": [
      "OMP: Info #276: omp_set_nested routine deprecated, please use omp_set_max_active_levels instead.\n"
     ]
    },
    {
     "name": "stdout",
     "output_type": "stream",
     "text": [
      "19.9 ms ± 331 µs per loop (mean ± std. dev. of 7 runs, 1 loop each)\n"
     ]
    }
   ],
   "source": [
    "%%timeit\n",
    "(events\n",
    ".conditional_join(\n",
    "    events,\n",
    "    ('start', 'end', '<='),\n",
    "    ('end', 'start', '>='),\n",
    "    # ('id', 'id', '!='),\n",
    "    # ('audience','audience','>'),\n",
    "    use_numba = True,\n",
    "    df_columns = ['id', 'start', 'end'],\n",
    "    right_columns = ['id', 'start', 'end'])\n",
    ")"
   ]
  },
  {
   "cell_type": "code",
   "execution_count": 7,
   "metadata": {},
   "outputs": [
    {
     "name": "stdout",
     "output_type": "stream",
     "text": [
      "19.1 ms ± 112 µs per loop (mean ± std. dev. of 7 runs, 10 loops each)\n"
     ]
    }
   ],
   "source": [
    "%%timeit\n",
    "(events\n",
    ".conditional_join(\n",
    "    events,\n",
    "    ('start', 'end', '<='),\n",
    "    ('end', 'start', '>='),\n",
    "    # ('id', 'id', '!='),\n",
    "    # ('audience','audience','>'),\n",
    "    use_numba = False,\n",
    "    df_columns = ['id', 'start', 'end'],\n",
    "    right_columns = ['id', 'start', 'end'])\n",
    ")"
   ]
  },
  {
   "cell_type": "code",
   "execution_count": 8,
   "metadata": {},
   "outputs": [],
   "source": [
    "C=dict(key=[f\"c{num}\" for num in range(1,8)],\n",
    "       vol=[35,15,5,35,18,90,17],\n",
    "       profit=[45,35,55,12,15,55,11],\n",
    "       unitsSold=[15,10,30,10,15,80,2],\n",
    "       keyy = range(1,8)\n",
    "       )\n",
    "C=pd.DataFrame(C)\n",
    "\n",
    "\n",
    "D=dict(key=[f'd{num}' for num in range(1,9)],\n",
    "       vol=[20,50,15,16,40,20,40,2],\n",
    "       profit=[30,10,12,52,35,20,30,57],\n",
    "       unitsSold=[20,35,10,12,40,30,5,15],\n",
    "       keyy=range(8,0,-1)\n",
    "       )\n",
    "D=pd.DataFrame(D)\n",
    "\n"
   ]
  },
  {
   "cell_type": "code",
   "execution_count": 9,
   "metadata": {},
   "outputs": [],
   "source": [
    "C = pd.concat([C]*40*40)\n",
    "D = pd.concat([D]*40*40)"
   ]
  },
  {
   "cell_type": "code",
   "execution_count": 10,
   "metadata": {},
   "outputs": [
    {
     "name": "stdout",
     "output_type": "stream",
     "text": [
      "1.53 s ± 14.6 ms per loop (mean ± std. dev. of 7 runs, 1 loop each)\n"
     ]
    }
   ],
   "source": [
    "%%timeit\n",
    "(C\n",
    ".conditional_join(\n",
    "    D, \n",
    "    \n",
    "    ('profit','profit','>='),\n",
    "    # ('keyy','keyy','=='),\n",
    "  # ('unitsSold','unitsSold','>='),\n",
    "  ('vol','vol','<='),\n",
    "  # ('vol','profit','>'),\n",
    "    use_numba=True)\n",
    ")"
   ]
  },
  {
   "cell_type": "code",
   "execution_count": 11,
   "metadata": {},
   "outputs": [
    {
     "name": "stdout",
     "output_type": "stream",
     "text": [
      "1.4 s ± 12.3 ms per loop (mean ± std. dev. of 7 runs, 1 loop each)\n"
     ]
    }
   ],
   "source": [
    "%%timeit\n",
    "(C\n",
    ".conditional_join(\n",
    "    D, \n",
    "    \n",
    "    ('profit','profit','>='),\n",
    "    # ('keyy','keyy','=='),\n",
    "  # ('unitsSold','unitsSold','>='),\n",
    "  ('vol','vol','<='),\n",
    "  # ('vol','profit','>'),\n",
    "    use_numba=False)\n",
    ")"
   ]
  },
  {
   "cell_type": "code",
   "execution_count": 12,
   "metadata": {},
   "outputs": [],
   "source": [
    "from string import ascii_lowercase\n",
    "np.random.seed(1)\n",
    "# n = 20; k = 20\n",
    "n = 20_0_000; k = 20_0\n",
    "mapp = {k:v for v,k in enumerate(ascii_lowercase)}\n",
    "idx1 = np.random.randint(0, high = 2_00, size = n)\n",
    "idx2 = np.random.randint(0, high = 3_00, size = n)\n",
    "\n",
    "d1 = dict(x = np.random.choice(list(ascii_lowercase[:5]), size=n),\n",
    "          start = np.minimum(idx1, idx2),\n",
    "          end = np.maximum(idx1, idx2),\n",
    "          )\n",
    "\n",
    "\n",
    "d2 = dict(x = np.random.choice(list(ascii_lowercase[:15]), size=k),\n",
    "          pos1 = np.random.randint(low=60, high = 151, size=k))\n",
    "\n",
    "d1 = pd.DataFrame(d1)\n",
    "d2 = pd.DataFrame(d2)\n",
    "d1 = d1.assign(xx=lambda df: df.x.map(mapp))\n",
    "d2 = d2.assign(xx=lambda df: df.x.map(mapp))"
   ]
  },
  {
   "cell_type": "code",
   "execution_count": 13,
   "metadata": {},
   "outputs": [
    {
     "name": "stdout",
     "output_type": "stream",
     "text": [
      "283 ms ± 2.39 ms per loop (mean ± std. dev. of 7 runs, 1 loop each)\n"
     ]
    }
   ],
   "source": [
    "%%timeit\n",
    "bla = (d2\n",
    ".conditional_join(\n",
    "    d1, \n",
    "    ('pos1', 'start', '>'), \n",
    "     ('pos1', 'end', '<'), \n",
    "   # ('xx', 'xx', '=='), \n",
    "    use_numba=True)\n",
    ")\n",
    "\n"
   ]
  },
  {
   "cell_type": "code",
   "execution_count": 14,
   "metadata": {},
   "outputs": [
    {
     "name": "stdout",
     "output_type": "stream",
     "text": [
      "601 ms ± 519 µs per loop (mean ± std. dev. of 7 runs, 1 loop each)\n"
     ]
    }
   ],
   "source": [
    "%%timeit\n",
    "bla = (d2\n",
    ".conditional_join(\n",
    "    d1, \n",
    "    ('pos1', 'start', '>'), \n",
    "     ('pos1', 'end', '<'), \n",
    "   # ('xx', 'xx', '=='), \n",
    "    use_numba=False)\n",
    ")"
   ]
  },
  {
   "cell_type": "code",
   "execution_count": 15,
   "metadata": {},
   "outputs": [],
   "source": [
    "employees = pd.read_csv('/Users/samuel.oranyeli/employees.csv')"
   ]
  },
  {
   "cell_type": "code",
   "execution_count": 16,
   "metadata": {},
   "outputs": [
    {
     "name": "stdout",
     "output_type": "stream",
     "text": [
      "6.57 s ± 10.3 ms per loop (mean ± std. dev. of 7 runs, 1 loop each)\n"
     ]
    }
   ],
   "source": [
    "%%timeit\n",
    "(employees\n",
    ".conditional_join(\n",
    "    employees,\n",
    "    ('salary', 'salary', '<'),\n",
    "    ('tax', 'tax', '>'),\n",
    "    use_numba = True)\n",
    ")"
   ]
  },
  {
   "cell_type": "code",
   "execution_count": 17,
   "metadata": {},
   "outputs": [
    {
     "name": "stdout",
     "output_type": "stream",
     "text": [
      "4.02 s ± 8.26 ms per loop (mean ± std. dev. of 7 runs, 1 loop each)\n"
     ]
    }
   ],
   "source": [
    "%%timeit\n",
    "(employees\n",
    ".conditional_join(\n",
    "    employees,\n",
    "    ('salary', 'salary', '<'),\n",
    "    ('tax', 'tax', '>'),\n",
    "    use_numba = False)\n",
    ")"
   ]
  }
 ],
 "metadata": {
  "kernelspec": {
   "display_name": "pyjanitor-dev",
   "language": "python",
   "name": "python3"
  },
  "language_info": {
   "codemirror_mode": {
    "name": "ipython",
    "version": 3
   },
   "file_extension": ".py",
   "mimetype": "text/x-python",
   "name": "python",
   "nbconvert_exporter": "python",
   "pygments_lexer": "ipython3",
   "version": "3.10.12"
  }
 },
 "nbformat": 4,
 "nbformat_minor": 2
}
