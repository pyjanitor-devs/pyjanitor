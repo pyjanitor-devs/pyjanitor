{
 "cells": [
  {
   "cell_type": "code",
   "execution_count": 1,
   "metadata": {},
   "outputs": [],
   "source": [
    "import pandas as pd\n",
    "import numpy as np\n",
    "import janitor as jn"
   ]
  },
  {
   "cell_type": "code",
   "execution_count": 2,
   "metadata": {},
   "outputs": [],
   "source": [
    "print 'i'"
   ]
  },
  {
   "cell_type": "code",
   "execution_count": 15,
   "metadata": {},
   "outputs": [
    {
     "data": {
      "text/html": [
       "<div>\n",
       "<style scoped>\n",
       "    .dataframe tbody tr th:only-of-type {\n",
       "        vertical-align: middle;\n",
       "    }\n",
       "\n",
       "    .dataframe tbody tr th {\n",
       "        vertical-align: top;\n",
       "    }\n",
       "\n",
       "    .dataframe thead th {\n",
       "        text-align: right;\n",
       "    }\n",
       "</style>\n",
       "<table border=\"1\" class=\"dataframe\">\n",
       "  <thead>\n",
       "    <tr style=\"text-align: right;\">\n",
       "      <th></th>\n",
       "      <th>takeoff</th>\n",
       "      <th>landing</th>\n",
       "      <th>orig</th>\n",
       "      <th>dest</th>\n",
       "      <th>start</th>\n",
       "      <th>end</th>\n",
       "    </tr>\n",
       "  </thead>\n",
       "  <tbody>\n",
       "    <tr>\n",
       "      <th>0</th>\n",
       "      <td>2021-11-27 07:15:00</td>\n",
       "      <td>2021-11-27 08:55:00</td>\n",
       "      <td>0</td>\n",
       "      <td>0</td>\n",
       "      <td>2021-11-27 09:40:00</td>\n",
       "      <td>2021-11-27 11:55:00</td>\n",
       "    </tr>\n",
       "    <tr>\n",
       "      <th>1</th>\n",
       "      <td>2021-11-27 20:05:00</td>\n",
       "      <td>2021-11-28 00:50:00</td>\n",
       "      <td>1</td>\n",
       "      <td>1</td>\n",
       "      <td>2021-11-28 01:35:00</td>\n",
       "      <td>2021-11-28 03:50:00</td>\n",
       "    </tr>\n",
       "    <tr>\n",
       "      <th>2</th>\n",
       "      <td>2021-11-27 21:00:00</td>\n",
       "      <td>2021-11-27 21:35:00</td>\n",
       "      <td>2</td>\n",
       "      <td>2</td>\n",
       "      <td>2021-11-27 22:20:00</td>\n",
       "      <td>2021-11-28 00:35:00</td>\n",
       "    </tr>\n",
       "    <tr>\n",
       "      <th>3</th>\n",
       "      <td>2021-11-27 21:15:00</td>\n",
       "      <td>2021-11-27 22:25:00</td>\n",
       "      <td>0</td>\n",
       "      <td>2</td>\n",
       "      <td>2021-11-27 23:10:00</td>\n",
       "      <td>2021-11-28 01:25:00</td>\n",
       "    </tr>\n",
       "    <tr>\n",
       "      <th>4</th>\n",
       "      <td>2021-11-26 11:40:00</td>\n",
       "      <td>2021-11-26 14:45:00</td>\n",
       "      <td>3</td>\n",
       "      <td>3</td>\n",
       "      <td>2021-11-26 15:30:00</td>\n",
       "      <td>2021-11-26 17:45:00</td>\n",
       "    </tr>\n",
       "  </tbody>\n",
       "</table>\n",
       "</div>"
      ],
      "text/plain": [
       "              takeoff             landing  orig  dest               start  \\\n",
       "0 2021-11-27 07:15:00 2021-11-27 08:55:00     0     0 2021-11-27 09:40:00   \n",
       "1 2021-11-27 20:05:00 2021-11-28 00:50:00     1     1 2021-11-28 01:35:00   \n",
       "2 2021-11-27 21:00:00 2021-11-27 21:35:00     2     2 2021-11-27 22:20:00   \n",
       "3 2021-11-27 21:15:00 2021-11-27 22:25:00     0     2 2021-11-27 23:10:00   \n",
       "4 2021-11-26 11:40:00 2021-11-26 14:45:00     3     3 2021-11-26 15:30:00   \n",
       "\n",
       "                  end  \n",
       "0 2021-11-27 11:55:00  \n",
       "1 2021-11-28 03:50:00  \n",
       "2 2021-11-28 00:35:00  \n",
       "3 2021-11-28 01:25:00  \n",
       "4 2021-11-26 17:45:00  "
      ]
     },
     "execution_count": 15,
     "metadata": {},
     "output_type": "execute_result"
    }
   ],
   "source": [
    "url = \"https://raw.githubusercontent.com/samukweku/data-wrangling-blog/master/notebooks/Data_files/flights.csv\"\n",
    "flights = pd.read_csv(url, sep = '\\t', names=['orig','dest','orig_time', 'dest_time'], parse_dates  = ['orig_time', 'dest_time'])\n",
    "flights = flights.factorize_columns(['orig','dest']).iloc[:, 2:]\n",
    "flights.columns = [ent.split(\"_\")[0] if ent.endswith('enc') else ent for ent in flights]\n",
    "flights.columns = ['takeoff','landing','orig','dest']\n",
    "flights = flights.assign(start=flights.landing+pd.Timedelta(minutes=45), end=flights.landing+pd.Timedelta(hours=3))\n",
    "flights.head()"
   ]
  },
  {
   "cell_type": "code",
   "execution_count": 23,
   "metadata": {},
   "outputs": [
    {
     "name": "stdout",
     "output_type": "stream",
     "text": [
      "5.74 ms ± 91.6 µs per loop (mean ± std. dev. of 7 runs, 100 loops each)\n"
     ]
    }
   ],
   "source": [
    "%timeit flights.loc[:,['orig','takeoff']].sort_values(['orig','takeoff'])"
   ]
  },
  {
   "cell_type": "code",
   "execution_count": 19,
   "metadata": {},
   "outputs": [
    {
     "name": "stdout",
     "output_type": "stream",
     "text": [
      "10.1 ms ± 53.4 µs per loop (mean ± std. dev. of 7 runs, 100 loops each)\n"
     ]
    }
   ],
   "source": [
    "%%timeit \n",
    "flights.takeoff.sort_values(), flights.orig.sort_values()"
   ]
  },
  {
   "cell_type": "code",
   "execution_count": 3,
   "metadata": {},
   "outputs": [],
   "source": [
    "df = {\n",
    "    \"A\": [0, 0],\n",
    "    \"B\": [-1.0, 0.0],\n",
    "    \"E\": pd.to_datetime([\"1970-01-01\", \"1970-01-01\"]),\n",
    "}\n",
    "\n",
    "\n",
    "right = {\n",
    "    \"Integers\": [0, 1, 1],\n",
    "    \"Numeric\": [0.0, 1.0, 0.0],\n",
    "    \"Dates\": pd.to_datetime(\n",
    "        [\n",
    "            \"1970-01-01 00:00:00.000000000\",\n",
    "            \"1969-12-31 23:59:59.999999999\",\n",
    "            \"1969-12-31 23:59:59.999999999\",\n",
    "        ]\n",
    "    ),\n",
    "    \"Dates_Right\": pd.to_datetime(\n",
    "        [\n",
    "            \"1970-01-01\",\n",
    "            \"1970-01-01\",\n",
    "            \"1970-01-01\",\n",
    "        ]\n",
    "    ),\n",
    "}\n",
    "\n",
    "\n",
    "right = pd.DataFrame(right)\n",
    "\n",
    "df = pd.DataFrame(df)"
   ]
  },
  {
   "cell_type": "code",
   "execution_count": 4,
   "metadata": {},
   "outputs": [
    {
     "data": {
      "text/html": [
       "<div>\n",
       "<style scoped>\n",
       "    .dataframe tbody tr th:only-of-type {\n",
       "        vertical-align: middle;\n",
       "    }\n",
       "\n",
       "    .dataframe tbody tr th {\n",
       "        vertical-align: top;\n",
       "    }\n",
       "\n",
       "    .dataframe thead th {\n",
       "        text-align: right;\n",
       "    }\n",
       "</style>\n",
       "<table border=\"1\" class=\"dataframe\">\n",
       "  <thead>\n",
       "    <tr style=\"text-align: right;\">\n",
       "      <th></th>\n",
       "      <th>A</th>\n",
       "      <th>B</th>\n",
       "      <th>E</th>\n",
       "    </tr>\n",
       "  </thead>\n",
       "  <tbody>\n",
       "    <tr>\n",
       "      <th>0</th>\n",
       "      <td>0</td>\n",
       "      <td>-1.0</td>\n",
       "      <td>1970-01-01</td>\n",
       "    </tr>\n",
       "    <tr>\n",
       "      <th>1</th>\n",
       "      <td>0</td>\n",
       "      <td>0.0</td>\n",
       "      <td>1970-01-01</td>\n",
       "    </tr>\n",
       "  </tbody>\n",
       "</table>\n",
       "</div>"
      ],
      "text/plain": [
       "   A    B          E\n",
       "0  0 -1.0 1970-01-01\n",
       "1  0  0.0 1970-01-01"
      ]
     },
     "execution_count": 4,
     "metadata": {},
     "output_type": "execute_result"
    }
   ],
   "source": [
    "df"
   ]
  },
  {
   "cell_type": "code",
   "execution_count": 5,
   "metadata": {},
   "outputs": [
    {
     "data": {
      "text/html": [
       "<div>\n",
       "<style scoped>\n",
       "    .dataframe tbody tr th:only-of-type {\n",
       "        vertical-align: middle;\n",
       "    }\n",
       "\n",
       "    .dataframe tbody tr th {\n",
       "        vertical-align: top;\n",
       "    }\n",
       "\n",
       "    .dataframe thead th {\n",
       "        text-align: right;\n",
       "    }\n",
       "</style>\n",
       "<table border=\"1\" class=\"dataframe\">\n",
       "  <thead>\n",
       "    <tr style=\"text-align: right;\">\n",
       "      <th></th>\n",
       "      <th>Integers</th>\n",
       "      <th>Numeric</th>\n",
       "      <th>Dates</th>\n",
       "      <th>Dates_Right</th>\n",
       "    </tr>\n",
       "  </thead>\n",
       "  <tbody>\n",
       "    <tr>\n",
       "      <th>0</th>\n",
       "      <td>0</td>\n",
       "      <td>0.0</td>\n",
       "      <td>1970-01-01 00:00:00.000000000</td>\n",
       "      <td>1970-01-01</td>\n",
       "    </tr>\n",
       "    <tr>\n",
       "      <th>1</th>\n",
       "      <td>1</td>\n",
       "      <td>1.0</td>\n",
       "      <td>1969-12-31 23:59:59.999999999</td>\n",
       "      <td>1970-01-01</td>\n",
       "    </tr>\n",
       "    <tr>\n",
       "      <th>2</th>\n",
       "      <td>1</td>\n",
       "      <td>0.0</td>\n",
       "      <td>1969-12-31 23:59:59.999999999</td>\n",
       "      <td>1970-01-01</td>\n",
       "    </tr>\n",
       "  </tbody>\n",
       "</table>\n",
       "</div>"
      ],
      "text/plain": [
       "   Integers  Numeric                         Dates Dates_Right\n",
       "0         0      0.0 1970-01-01 00:00:00.000000000  1970-01-01\n",
       "1         1      1.0 1969-12-31 23:59:59.999999999  1970-01-01\n",
       "2         1      0.0 1969-12-31 23:59:59.999999999  1970-01-01"
      ]
     },
     "execution_count": 5,
     "metadata": {},
     "output_type": "execute_result"
    }
   ],
   "source": [
    "right"
   ]
  },
  {
   "cell_type": "code",
   "execution_count": 6,
   "metadata": {},
   "outputs": [],
   "source": [
    "filters = [\"A\", \"B\", \"E\", \"Integers\", \"Numeric\", \"Dates\"]\n",
    "df = df.assign(A=df[\"A\"].astype(\"Int64\"))\n",
    "right = right.assign(Integers=right[\"Integers\"].astype(pd.Int64Dtype()))"
   ]
  },
  {
   "cell_type": "code",
   "execution_count": 7,
   "metadata": {},
   "outputs": [
    {
     "data": {
      "text/html": [
       "<div>\n",
       "<style scoped>\n",
       "    .dataframe tbody tr th:only-of-type {\n",
       "        vertical-align: middle;\n",
       "    }\n",
       "\n",
       "    .dataframe tbody tr th {\n",
       "        vertical-align: top;\n",
       "    }\n",
       "\n",
       "    .dataframe thead th {\n",
       "        text-align: right;\n",
       "    }\n",
       "</style>\n",
       "<table border=\"1\" class=\"dataframe\">\n",
       "  <thead>\n",
       "    <tr style=\"text-align: right;\">\n",
       "      <th></th>\n",
       "      <th>A</th>\n",
       "      <th>B</th>\n",
       "      <th>E</th>\n",
       "      <th>Integers</th>\n",
       "      <th>Numeric</th>\n",
       "      <th>Dates</th>\n",
       "    </tr>\n",
       "  </thead>\n",
       "  <tbody>\n",
       "    <tr>\n",
       "      <th>0</th>\n",
       "      <td>0</td>\n",
       "      <td>-1.0</td>\n",
       "      <td>1970-01-01</td>\n",
       "      <td>0</td>\n",
       "      <td>0.0</td>\n",
       "      <td>1970-01-01 00:00:00.000000000</td>\n",
       "    </tr>\n",
       "    <tr>\n",
       "      <th>1</th>\n",
       "      <td>0</td>\n",
       "      <td>-1.0</td>\n",
       "      <td>1970-01-01</td>\n",
       "      <td>1</td>\n",
       "      <td>1.0</td>\n",
       "      <td>1969-12-31 23:59:59.999999999</td>\n",
       "    </tr>\n",
       "    <tr>\n",
       "      <th>2</th>\n",
       "      <td>0</td>\n",
       "      <td>-1.0</td>\n",
       "      <td>1970-01-01</td>\n",
       "      <td>1</td>\n",
       "      <td>0.0</td>\n",
       "      <td>1969-12-31 23:59:59.999999999</td>\n",
       "    </tr>\n",
       "    <tr>\n",
       "      <th>3</th>\n",
       "      <td>0</td>\n",
       "      <td>0.0</td>\n",
       "      <td>1970-01-01</td>\n",
       "      <td>0</td>\n",
       "      <td>0.0</td>\n",
       "      <td>1970-01-01 00:00:00.000000000</td>\n",
       "    </tr>\n",
       "    <tr>\n",
       "      <th>4</th>\n",
       "      <td>0</td>\n",
       "      <td>0.0</td>\n",
       "      <td>1970-01-01</td>\n",
       "      <td>1</td>\n",
       "      <td>1.0</td>\n",
       "      <td>1969-12-31 23:59:59.999999999</td>\n",
       "    </tr>\n",
       "    <tr>\n",
       "      <th>5</th>\n",
       "      <td>0</td>\n",
       "      <td>0.0</td>\n",
       "      <td>1970-01-01</td>\n",
       "      <td>1</td>\n",
       "      <td>0.0</td>\n",
       "      <td>1969-12-31 23:59:59.999999999</td>\n",
       "    </tr>\n",
       "  </tbody>\n",
       "</table>\n",
       "</div>"
      ],
      "text/plain": [
       "   A    B          E  Integers  Numeric                         Dates\n",
       "0  0 -1.0 1970-01-01         0      0.0 1970-01-01 00:00:00.000000000\n",
       "1  0 -1.0 1970-01-01         1      1.0 1969-12-31 23:59:59.999999999\n",
       "2  0 -1.0 1970-01-01         1      0.0 1969-12-31 23:59:59.999999999\n",
       "3  0  0.0 1970-01-01         0      0.0 1970-01-01 00:00:00.000000000\n",
       "4  0  0.0 1970-01-01         1      1.0 1969-12-31 23:59:59.999999999\n",
       "5  0  0.0 1970-01-01         1      0.0 1969-12-31 23:59:59.999999999"
      ]
     },
     "execution_count": 7,
     "metadata": {},
     "output_type": "execute_result"
    }
   ],
   "source": [
    "expected = df[[\"A\", \"B\", \"E\"]].merge(\n",
    "            right[[\"Integers\", \"Numeric\", \"Dates\"]], how=\"cross\"\n",
    "        )\n",
    "\n",
    "expected"
   ]
  },
  {
   "cell_type": "code",
   "execution_count": 8,
   "metadata": {},
   "outputs": [
    {
     "data": {
      "text/html": [
       "<div>\n",
       "<style scoped>\n",
       "    .dataframe tbody tr th:only-of-type {\n",
       "        vertical-align: middle;\n",
       "    }\n",
       "\n",
       "    .dataframe tbody tr th {\n",
       "        vertical-align: top;\n",
       "    }\n",
       "\n",
       "    .dataframe thead th {\n",
       "        text-align: right;\n",
       "    }\n",
       "</style>\n",
       "<table border=\"1\" class=\"dataframe\">\n",
       "  <thead>\n",
       "    <tr style=\"text-align: right;\">\n",
       "      <th></th>\n",
       "      <th>A</th>\n",
       "      <th>B</th>\n",
       "      <th>E</th>\n",
       "      <th>Integers</th>\n",
       "      <th>Numeric</th>\n",
       "      <th>Dates</th>\n",
       "    </tr>\n",
       "  </thead>\n",
       "  <tbody>\n",
       "    <tr>\n",
       "      <th>0</th>\n",
       "      <td>0</td>\n",
       "      <td>-1.0</td>\n",
       "      <td>1970-01-01</td>\n",
       "      <td>0</td>\n",
       "      <td>0.0</td>\n",
       "      <td>1970-01-01 00:00:00.000000000</td>\n",
       "    </tr>\n",
       "    <tr>\n",
       "      <th>1</th>\n",
       "      <td>0</td>\n",
       "      <td>-1.0</td>\n",
       "      <td>1970-01-01</td>\n",
       "      <td>1</td>\n",
       "      <td>1.0</td>\n",
       "      <td>1969-12-31 23:59:59.999999999</td>\n",
       "    </tr>\n",
       "    <tr>\n",
       "      <th>2</th>\n",
       "      <td>0</td>\n",
       "      <td>-1.0</td>\n",
       "      <td>1970-01-01</td>\n",
       "      <td>1</td>\n",
       "      <td>0.0</td>\n",
       "      <td>1969-12-31 23:59:59.999999999</td>\n",
       "    </tr>\n",
       "    <tr>\n",
       "      <th>4</th>\n",
       "      <td>0</td>\n",
       "      <td>0.0</td>\n",
       "      <td>1970-01-01</td>\n",
       "      <td>1</td>\n",
       "      <td>1.0</td>\n",
       "      <td>1969-12-31 23:59:59.999999999</td>\n",
       "    </tr>\n",
       "  </tbody>\n",
       "</table>\n",
       "</div>"
      ],
      "text/plain": [
       "   A    B          E  Integers  Numeric                         Dates\n",
       "0  0 -1.0 1970-01-01         0      0.0 1970-01-01 00:00:00.000000000\n",
       "1  0 -1.0 1970-01-01         1      1.0 1969-12-31 23:59:59.999999999\n",
       "2  0 -1.0 1970-01-01         1      0.0 1969-12-31 23:59:59.999999999\n",
       "4  0  0.0 1970-01-01         1      1.0 1969-12-31 23:59:59.999999999"
      ]
     },
     "execution_count": 8,
     "metadata": {},
     "output_type": "execute_result"
    }
   ],
   "source": [
    "expected.loc[\n",
    "            # expected.A.ne(expected.Integers)\n",
    "             expected.B.lt(expected.Numeric)\n",
    "\n",
    "            \n",
    "            & expected.E.ge(expected.Dates),\n",
    "        ]"
   ]
  },
  {
   "cell_type": "code",
   "execution_count": 9,
   "metadata": {},
   "outputs": [
    {
     "data": {
      "text/plain": [
       "'2.2.1'"
      ]
     },
     "execution_count": 9,
     "metadata": {},
     "output_type": "execute_result"
    }
   ],
   "source": [
    "pd.__version__"
   ]
  },
  {
   "cell_type": "code",
   "execution_count": 10,
   "metadata": {},
   "outputs": [
    {
     "name": "stdout",
     "output_type": "stream",
     "text": [
      "lassss\n"
     ]
    },
    {
     "data": {
      "text/html": [
       "<div>\n",
       "<style scoped>\n",
       "    .dataframe tbody tr th:only-of-type {\n",
       "        vertical-align: middle;\n",
       "    }\n",
       "\n",
       "    .dataframe tbody tr th {\n",
       "        vertical-align: top;\n",
       "    }\n",
       "\n",
       "    .dataframe thead th {\n",
       "        text-align: right;\n",
       "    }\n",
       "</style>\n",
       "<table border=\"1\" class=\"dataframe\">\n",
       "  <thead>\n",
       "    <tr style=\"text-align: right;\">\n",
       "      <th></th>\n",
       "      <th>A</th>\n",
       "      <th>B</th>\n",
       "      <th>E</th>\n",
       "      <th>Integers</th>\n",
       "      <th>Numeric</th>\n",
       "      <th>Dates</th>\n",
       "    </tr>\n",
       "  </thead>\n",
       "  <tbody>\n",
       "    <tr>\n",
       "      <th>0</th>\n",
       "      <td>0</td>\n",
       "      <td>-1.0</td>\n",
       "      <td>1970-01-01</td>\n",
       "      <td>1</td>\n",
       "      <td>1.0</td>\n",
       "      <td>1969-12-31 23:59:59.999999999</td>\n",
       "    </tr>\n",
       "    <tr>\n",
       "      <th>1</th>\n",
       "      <td>0</td>\n",
       "      <td>-1.0</td>\n",
       "      <td>1970-01-01</td>\n",
       "      <td>1</td>\n",
       "      <td>0.0</td>\n",
       "      <td>1969-12-31 23:59:59.999999999</td>\n",
       "    </tr>\n",
       "    <tr>\n",
       "      <th>2</th>\n",
       "      <td>0</td>\n",
       "      <td>0.0</td>\n",
       "      <td>1970-01-01</td>\n",
       "      <td>1</td>\n",
       "      <td>1.0</td>\n",
       "      <td>1969-12-31 23:59:59.999999999</td>\n",
       "    </tr>\n",
       "  </tbody>\n",
       "</table>\n",
       "</div>"
      ],
      "text/plain": [
       "   A    B          E  Integers  Numeric                         Dates\n",
       "0  0 -1.0 1970-01-01         1      1.0 1969-12-31 23:59:59.999999999\n",
       "1  0 -1.0 1970-01-01         1      0.0 1969-12-31 23:59:59.999999999\n",
       "2  0  0.0 1970-01-01         1      1.0 1969-12-31 23:59:59.999999999"
      ]
     },
     "execution_count": 10,
     "metadata": {},
     "output_type": "execute_result"
    }
   ],
   "source": [
    "(df[[\"A\", \"B\", \"E\"]]\n",
    "            .conditional_join(\n",
    "                right[[\"Integers\", \"Numeric\", \"Dates\"]],\n",
    "                (\"E\", \"Dates\", \">=\"),\n",
    "                  (\"A\", \"Integers\", \"!=\"),\n",
    "                (\"B\", \"Numeric\", \"<\"),\n",
    "                how=\"inner\",\n",
    "                use_numba=True,\n",
    "            ))"
   ]
  },
  {
   "cell_type": "code",
   "execution_count": 11,
   "metadata": {},
   "outputs": [
    {
     "name": "stderr",
     "output_type": "stream",
     "text": [
      "OMP: Info #276: omp_set_nested routine deprecated, please use omp_set_max_active_levels instead.\n"
     ]
    },
    {
     "data": {
      "text/html": [
       "<div>\n",
       "<style scoped>\n",
       "    .dataframe tbody tr th:only-of-type {\n",
       "        vertical-align: middle;\n",
       "    }\n",
       "\n",
       "    .dataframe tbody tr th {\n",
       "        vertical-align: top;\n",
       "    }\n",
       "\n",
       "    .dataframe thead th {\n",
       "        text-align: right;\n",
       "    }\n",
       "</style>\n",
       "<table border=\"1\" class=\"dataframe\">\n",
       "  <thead>\n",
       "    <tr style=\"text-align: right;\">\n",
       "      <th></th>\n",
       "      <th>E</th>\n",
       "      <th>Dates</th>\n",
       "      <th>Dates_Right</th>\n",
       "    </tr>\n",
       "  </thead>\n",
       "  <tbody>\n",
       "    <tr>\n",
       "      <th>0</th>\n",
       "      <td>1970-01-01</td>\n",
       "      <td>1970-01-01 00:00:00.000000000</td>\n",
       "      <td>1970-01-01</td>\n",
       "    </tr>\n",
       "    <tr>\n",
       "      <th>1</th>\n",
       "      <td>1970-01-01</td>\n",
       "      <td>1969-12-31 23:59:59.999999999</td>\n",
       "      <td>1970-01-01</td>\n",
       "    </tr>\n",
       "    <tr>\n",
       "      <th>2</th>\n",
       "      <td>1970-01-01</td>\n",
       "      <td>1969-12-31 23:59:59.999999999</td>\n",
       "      <td>1970-01-01</td>\n",
       "    </tr>\n",
       "    <tr>\n",
       "      <th>3</th>\n",
       "      <td>1970-01-01</td>\n",
       "      <td>1970-01-01 00:00:00.000000000</td>\n",
       "      <td>1970-01-01</td>\n",
       "    </tr>\n",
       "    <tr>\n",
       "      <th>4</th>\n",
       "      <td>1970-01-01</td>\n",
       "      <td>1969-12-31 23:59:59.999999999</td>\n",
       "      <td>1970-01-01</td>\n",
       "    </tr>\n",
       "    <tr>\n",
       "      <th>5</th>\n",
       "      <td>1970-01-01</td>\n",
       "      <td>1969-12-31 23:59:59.999999999</td>\n",
       "      <td>1970-01-01</td>\n",
       "    </tr>\n",
       "  </tbody>\n",
       "</table>\n",
       "</div>"
      ],
      "text/plain": [
       "           E                         Dates Dates_Right\n",
       "0 1970-01-01 1970-01-01 00:00:00.000000000  1970-01-01\n",
       "1 1970-01-01 1969-12-31 23:59:59.999999999  1970-01-01\n",
       "2 1970-01-01 1969-12-31 23:59:59.999999999  1970-01-01\n",
       "3 1970-01-01 1970-01-01 00:00:00.000000000  1970-01-01\n",
       "4 1970-01-01 1969-12-31 23:59:59.999999999  1970-01-01\n",
       "5 1970-01-01 1969-12-31 23:59:59.999999999  1970-01-01"
      ]
     },
     "execution_count": 11,
     "metadata": {},
     "output_type": "execute_result"
    }
   ],
   "source": [
    "A =(\n",
    "    df[[\"E\"]].conditional_join(\n",
    "        right[[\"Dates\", \"Dates_Right\"]],\n",
    "        (\"E\", \"Dates\", \">=\"),\n",
    "        (\"E\", \"Dates_Right\", \"<=\"),\n",
    "        how=\"inner\",\n",
    "        use_numba=True,\n",
    "    )\n",
    ")\n",
    "\n",
    "A"
   ]
  },
  {
   "cell_type": "code",
   "execution_count": 12,
   "metadata": {},
   "outputs": [
    {
     "data": {
      "text/html": [
       "<div>\n",
       "<style scoped>\n",
       "    .dataframe tbody tr th:only-of-type {\n",
       "        vertical-align: middle;\n",
       "    }\n",
       "\n",
       "    .dataframe tbody tr th {\n",
       "        vertical-align: top;\n",
       "    }\n",
       "\n",
       "    .dataframe thead th {\n",
       "        text-align: right;\n",
       "    }\n",
       "</style>\n",
       "<table border=\"1\" class=\"dataframe\">\n",
       "  <thead>\n",
       "    <tr style=\"text-align: right;\">\n",
       "      <th></th>\n",
       "      <th>E</th>\n",
       "      <th>Dates</th>\n",
       "      <th>Dates_Right</th>\n",
       "    </tr>\n",
       "  </thead>\n",
       "  <tbody>\n",
       "    <tr>\n",
       "      <th>0</th>\n",
       "      <td>1970-01-01</td>\n",
       "      <td>1969-12-31 23:59:59.999999999</td>\n",
       "      <td>1970-01-01</td>\n",
       "    </tr>\n",
       "    <tr>\n",
       "      <th>1</th>\n",
       "      <td>1970-01-01</td>\n",
       "      <td>1969-12-31 23:59:59.999999999</td>\n",
       "      <td>1970-01-01</td>\n",
       "    </tr>\n",
       "    <tr>\n",
       "      <th>2</th>\n",
       "      <td>1970-01-01</td>\n",
       "      <td>1970-01-01 00:00:00.000000000</td>\n",
       "      <td>1970-01-01</td>\n",
       "    </tr>\n",
       "    <tr>\n",
       "      <th>3</th>\n",
       "      <td>1970-01-01</td>\n",
       "      <td>1969-12-31 23:59:59.999999999</td>\n",
       "      <td>1970-01-01</td>\n",
       "    </tr>\n",
       "    <tr>\n",
       "      <th>4</th>\n",
       "      <td>1970-01-01</td>\n",
       "      <td>1969-12-31 23:59:59.999999999</td>\n",
       "      <td>1970-01-01</td>\n",
       "    </tr>\n",
       "    <tr>\n",
       "      <th>5</th>\n",
       "      <td>1970-01-01</td>\n",
       "      <td>1970-01-01 00:00:00.000000000</td>\n",
       "      <td>1970-01-01</td>\n",
       "    </tr>\n",
       "  </tbody>\n",
       "</table>\n",
       "</div>"
      ],
      "text/plain": [
       "           E                         Dates Dates_Right\n",
       "0 1970-01-01 1969-12-31 23:59:59.999999999  1970-01-01\n",
       "1 1970-01-01 1969-12-31 23:59:59.999999999  1970-01-01\n",
       "2 1970-01-01 1970-01-01 00:00:00.000000000  1970-01-01\n",
       "3 1970-01-01 1969-12-31 23:59:59.999999999  1970-01-01\n",
       "4 1970-01-01 1969-12-31 23:59:59.999999999  1970-01-01\n",
       "5 1970-01-01 1970-01-01 00:00:00.000000000  1970-01-01"
      ]
     },
     "execution_count": 12,
     "metadata": {},
     "output_type": "execute_result"
    }
   ],
   "source": [
    "B = (\n",
    "    df[[\"E\"]].conditional_join(\n",
    "        right[[\"Dates\", \"Dates_Right\"]],\n",
    "        (\"E\", \"Dates\", \">=\"),\n",
    "        (\"E\", \"Dates_Right\", \"<=\"),\n",
    "        how=\"inner\",\n",
    "        use_numba=False,\n",
    "    )\n",
    ")\n",
    "\n",
    "B"
   ]
  },
  {
   "cell_type": "code",
   "execution_count": 13,
   "metadata": {},
   "outputs": [
    {
     "data": {
      "text/html": [
       "<div>\n",
       "<style scoped>\n",
       "    .dataframe tbody tr th:only-of-type {\n",
       "        vertical-align: middle;\n",
       "    }\n",
       "\n",
       "    .dataframe tbody tr th {\n",
       "        vertical-align: top;\n",
       "    }\n",
       "\n",
       "    .dataframe thead th {\n",
       "        text-align: right;\n",
       "    }\n",
       "</style>\n",
       "<table border=\"1\" class=\"dataframe\">\n",
       "  <thead>\n",
       "    <tr style=\"text-align: right;\">\n",
       "      <th></th>\n",
       "      <th>E</th>\n",
       "      <th>Dates</th>\n",
       "      <th>Dates_Right</th>\n",
       "    </tr>\n",
       "  </thead>\n",
       "  <tbody>\n",
       "    <tr>\n",
       "      <th>0</th>\n",
       "      <td>1970-01-01</td>\n",
       "      <td>1969-12-31 23:59:59.999999999</td>\n",
       "      <td>1970-01-01</td>\n",
       "    </tr>\n",
       "    <tr>\n",
       "      <th>1</th>\n",
       "      <td>1970-01-01</td>\n",
       "      <td>1969-12-31 23:59:59.999999999</td>\n",
       "      <td>1970-01-01</td>\n",
       "    </tr>\n",
       "    <tr>\n",
       "      <th>2</th>\n",
       "      <td>1970-01-01</td>\n",
       "      <td>1969-12-31 23:59:59.999999999</td>\n",
       "      <td>1970-01-01</td>\n",
       "    </tr>\n",
       "    <tr>\n",
       "      <th>3</th>\n",
       "      <td>1970-01-01</td>\n",
       "      <td>1969-12-31 23:59:59.999999999</td>\n",
       "      <td>1970-01-01</td>\n",
       "    </tr>\n",
       "    <tr>\n",
       "      <th>4</th>\n",
       "      <td>1970-01-01</td>\n",
       "      <td>1970-01-01 00:00:00.000000000</td>\n",
       "      <td>1970-01-01</td>\n",
       "    </tr>\n",
       "    <tr>\n",
       "      <th>5</th>\n",
       "      <td>1970-01-01</td>\n",
       "      <td>1970-01-01 00:00:00.000000000</td>\n",
       "      <td>1970-01-01</td>\n",
       "    </tr>\n",
       "  </tbody>\n",
       "</table>\n",
       "</div>"
      ],
      "text/plain": [
       "           E                         Dates Dates_Right\n",
       "0 1970-01-01 1969-12-31 23:59:59.999999999  1970-01-01\n",
       "1 1970-01-01 1969-12-31 23:59:59.999999999  1970-01-01\n",
       "2 1970-01-01 1969-12-31 23:59:59.999999999  1970-01-01\n",
       "3 1970-01-01 1969-12-31 23:59:59.999999999  1970-01-01\n",
       "4 1970-01-01 1970-01-01 00:00:00.000000000  1970-01-01\n",
       "5 1970-01-01 1970-01-01 00:00:00.000000000  1970-01-01"
      ]
     },
     "execution_count": 13,
     "metadata": {},
     "output_type": "execute_result"
    }
   ],
   "source": [
    "A.sort_values([\"E\", \"Dates\", \"Dates_Right\"], ignore_index=True)"
   ]
  },
  {
   "cell_type": "code",
   "execution_count": 14,
   "metadata": {},
   "outputs": [
    {
     "ename": "NameError",
     "evalue": "name 'C' is not defined",
     "output_type": "error",
     "traceback": [
      "\u001b[0;31m---------------------------------------------------------------------------\u001b[0m",
      "\u001b[0;31mNameError\u001b[0m                                 Traceback (most recent call last)",
      "Cell \u001b[0;32mIn[14], line 1\u001b[0m\n\u001b[0;32m----> 1\u001b[0m \u001b[43mC\u001b[49m\u001b[38;5;241m.\u001b[39msort_values([\u001b[38;5;124m\"\u001b[39m\u001b[38;5;124mE\u001b[39m\u001b[38;5;124m\"\u001b[39m, \u001b[38;5;124m\"\u001b[39m\u001b[38;5;124mDates\u001b[39m\u001b[38;5;124m\"\u001b[39m, \u001b[38;5;124m\"\u001b[39m\u001b[38;5;124mDates_Right\u001b[39m\u001b[38;5;124m\"\u001b[39m], ignore_index\u001b[38;5;241m=\u001b[39m\u001b[38;5;28;01mTrue\u001b[39;00m)\n",
      "\u001b[0;31mNameError\u001b[0m: name 'C' is not defined"
     ]
    }
   ],
   "source": [
    "C.sort_values([\"E\", \"Dates\", \"Dates_Right\"], ignore_index=True)"
   ]
  },
  {
   "cell_type": "code",
   "execution_count": null,
   "metadata": {},
   "outputs": [],
   "source": [
    "B.sort_values([\"E\", \"Dates\", \"Dates_Right\"], ignore_index=True)"
   ]
  },
  {
   "cell_type": "code",
   "execution_count": null,
   "metadata": {},
   "outputs": [],
   "source": [
    "C = (\n",
    "    df[[\"E\"]]\n",
    "    .merge(right[[\"Dates\", \"Dates_Right\"]], how=\"cross\")\n",
    "    .loc[lambda df: df.E.between(df.Dates, df.Dates_Right, inclusive=\"both\")]\n",
    ")\n",
    "\n",
    "C"
   ]
  },
  {
   "cell_type": "code",
   "execution_count": null,
   "metadata": {},
   "outputs": [],
   "source": [
    "C.sort_values([\"E\", \"Dates\", \"Dates_Right\"], ignore_index=True)"
   ]
  },
  {
   "cell_type": "code",
   "execution_count": null,
   "metadata": {},
   "outputs": [],
   "source": [
    "df.dtypes, right.dtypes"
   ]
  },
  {
   "cell_type": "code",
   "execution_count": null,
   "metadata": {},
   "outputs": [],
   "source": [
    "(\n",
    "    df[[\"A\", \"E\"]].conditional_join(\n",
    "        right[[\"Integers\", \"Dates\"]],\n",
    "        (\"E\", \"Dates\", \"<\"),\n",
    "        (\"A\", \"Integers\", \">=\"),\n",
    "        how=\"inner\",\n",
    "        use_numba=True,\n",
    "        sort_by_appearance=False,\n",
    "    )\n",
    ")"
   ]
  },
  {
   "cell_type": "code",
   "execution_count": null,
   "metadata": {},
   "outputs": [],
   "source": [
    "columns = [\"A\", \"E\", \"Integers\", \"Dates\"]\n",
    "(\n",
    "    df.merge(\n",
    "        right,\n",
    "        how=\"cross\",\n",
    "    )\n",
    "    .loc[lambda df: df.A.ge(df.Integers) & df.E.lt(df.Dates), columns]\n",
    "    .sort_values(columns, ignore_index=True)\n",
    ")"
   ]
  },
  {
   "cell_type": "code",
   "execution_count": null,
   "metadata": {},
   "outputs": [],
   "source": [
    "(\n",
    "    df[[\"A\", \"E\"]].conditional_join(\n",
    "        right[[\"Integers\", \"Dates\"]],\n",
    "        (\"E\", \"Dates\", \"<\"),\n",
    "        (\"A\", \"Integers\", \">=\"),\n",
    "        how=\"inner\",\n",
    "        use_numba=False,\n",
    "        sort_by_appearance=False,\n",
    "    )\n",
    ")"
   ]
  },
  {
   "cell_type": "code",
   "execution_count": null,
   "metadata": {},
   "outputs": [],
   "source": [
    "print 'j'"
   ]
  },
  {
   "cell_type": "code",
   "execution_count": null,
   "metadata": {},
   "outputs": [],
   "source": [
    "pd.__version__"
   ]
  },
  {
   "cell_type": "code",
   "execution_count": null,
   "metadata": {},
   "outputs": [],
   "source": [
    "df1 = pd.DataFrame({\"id\": [1, 1, 1, 2, 2, 3], \"value_1\": [2, 5, 7, 1, 3, 4]})\n",
    "df2 = pd.DataFrame(\n",
    "    {\n",
    "        \"id\": [1, 1, 1, 1, 2, 2, 2, 3],\n",
    "        \"value_2A\": [0, 3, 7, 12, 0, 2, 3, 1],\n",
    "        \"value_2B\": [1, 5, 9, 15, 1, 4, 6, 3],\n",
    "    }\n",
    ")"
   ]
  },
  {
   "cell_type": "code",
   "execution_count": null,
   "metadata": {},
   "outputs": [],
   "source": [
    "df1 = pd.concat([df1] * 20000)\n",
    "df2 = pd.concat([df2] * 300)\n",
    "\n",
    "df1.conditional_join(\n",
    "    df2,\n",
    "    (\"value_1\", \"value_2A\", \">\"),\n",
    "    (\"value_1\", \"value_2B\", \"<\"),\n",
    "    use_numba=True,\n",
    ")"
   ]
  },
  {
   "cell_type": "code",
   "execution_count": null,
   "metadata": {},
   "outputs": [],
   "source": [
    "df1.conditional_join(\n",
    "    df2,\n",
    "    (\"value_1\", \"value_2A\", \">\"),\n",
    "    (\"value_1\", \"value_2B\", \"<\"),\n",
    "    use_numba=False,\n",
    ")"
   ]
  },
  {
   "cell_type": "code",
   "execution_count": null,
   "metadata": {},
   "outputs": [],
   "source": [
    "%timeit df1.conditional_join(df2, ('value_1','value_2A','>'), ('value_1','value_2B','<'),use_numba=True)"
   ]
  },
  {
   "cell_type": "code",
   "execution_count": null,
   "metadata": {},
   "outputs": [],
   "source": [
    "# 32.6ms   30_000_000"
   ]
  },
  {
   "cell_type": "code",
   "execution_count": null,
   "metadata": {},
   "outputs": [],
   "source": [
    "df1"
   ]
  },
  {
   "cell_type": "code",
   "execution_count": null,
   "metadata": {},
   "outputs": [],
   "source": [
    "# events = pd.read_csv(\n",
    "#     \"/home/sam/Downloads/results.csv\", parse_dates=[\"start\", \"end\"]\n",
    "# ).iloc[:, 1:]\n",
    "# events.head()"
   ]
  },
  {
   "cell_type": "code",
   "execution_count": null,
   "metadata": {},
   "outputs": [],
   "source": [
    "events = pd.read_csv(\n",
    "    \"/Users/samuel.oranyeli/Downloads/results.csv\",\n",
    "    parse_dates=[\"start\", \"end\"],\n",
    ").iloc[:, 1:]"
   ]
  },
  {
   "cell_type": "code",
   "execution_count": null,
   "metadata": {},
   "outputs": [
    {
     "ename": "AttributeError",
     "evalue": "'int' object has no attribute 'max'",
     "output_type": "error",
     "traceback": [
      "\u001b[0;31m---------------------------------------------------------------------------\u001b[0m",
      "\u001b[0;31mAttributeError\u001b[0m                            Traceback (most recent call last)",
      "Cell \u001b[0;32mIn[17], line 2\u001b[0m\n\u001b[1;32m      1\u001b[0m a \u001b[38;5;241m=\u001b[39m \u001b[38;5;241m1\u001b[39m\n\u001b[0;32m----> 2\u001b[0m \u001b[43ma\u001b[49m\u001b[38;5;241;43m.\u001b[39;49m\u001b[43mmax\u001b[49m()\n",
      "\u001b[0;31mAttributeError\u001b[0m: 'int' object has no attribute 'max'"
     ]
    }
   ],
   "source": [
    "a = 1\n",
    "a.max()"
   ]
  },
  {
   "cell_type": "code",
   "execution_count": null,
   "metadata": {},
   "outputs": [
    {
     "name": "stdout",
     "output_type": "stream",
     "text": [
      "pristine start\n",
      "[[    0 28282]\n",
      " [    1 28281]\n",
      " [    2 28280]\n",
      " ...\n",
      " [28280     2]\n",
      " [28281     1]\n",
      " [28282     0]]\n",
      "[[    0 28282]\n",
      " [    1 28281]\n",
      " [    2 28280]\n",
      " ...\n",
      " [28280     2]\n",
      " [28281     1]\n",
      " [28282     0]]\n",
      "pristine end\n"
     ]
    },
    {
     "data": {
      "text/plain": [
       "(array([    0,     1,     2, ..., 29996, 29997, 29998]), 29999)"
      ]
     },
     "execution_count": 15,
     "metadata": {},
     "output_type": "execute_result"
    }
   ],
   "source": [
    "A = events.conditional_join(\n",
    "    events,\n",
    "    (\"start\", \"end\", \"<=\"),\n",
    "    (\"end\", \"start\", \">=\"),\n",
    "    # ('id', 'id', '!='),\n",
    "    # ('audience','audience','>'),\n",
    "    use_numba=True,\n",
    "    df_columns=[\"id\", \"start\", \"end\"],\n",
    "    right_columns=[\"id\", \"start\", \"end\"],\n",
    ")\n",
    "\n",
    "A"
   ]
  },
  {
   "cell_type": "code",
   "execution_count": null,
   "metadata": {},
   "outputs": [],
   "source": [
    "B = events.conditional_join(\n",
    "    events,\n",
    "    (\"start\", \"end\", \"<=\"),\n",
    "    (\"end\", \"start\", \">=\"),\n",
    "    # ('id', 'id', '!='),\n",
    "    # ('audience','audience','>'),\n",
    "    use_numba=False,\n",
    "    df_columns=[\"id\", \"start\", \"end\"],\n",
    "    right_columns=[\"id\", \"start\", \"end\"],\n",
    ")"
   ]
  },
  {
   "cell_type": "code",
   "execution_count": null,
   "metadata": {},
   "outputs": [],
   "source": [
    "A.sort_values(A.columns.tolist(), ignore_index=True).equals(\n",
    "    B.sort_values(A.columns.tolist(), ignore_index=True)\n",
    ")"
   ]
  },
  {
   "cell_type": "code",
   "execution_count": null,
   "metadata": {},
   "outputs": [],
   "source": [
    "%%timeit\n",
    "(\n",
    "    events.conditional_join(\n",
    "        events,\n",
    "        (\"start\", \"end\", \"<=\"),\n",
    "        (\"end\", \"start\", \">=\"),\n",
    "        # ('id', 'id', '!='),\n",
    "        # ('audience','audience','>'),\n",
    "        use_numba=True,\n",
    "        df_columns=[\"id\", \"start\", \"end\"],\n",
    "        right_columns=[\"id\", \"start\", \"end\"],\n",
    "    )\n",
    ")"
   ]
  },
  {
   "cell_type": "code",
   "execution_count": null,
   "metadata": {},
   "outputs": [],
   "source": [
    "%%timeit\n",
    "(\n",
    "    events.conditional_join(\n",
    "        events,\n",
    "        (\"start\", \"end\", \"<=\"),\n",
    "        (\"end\", \"start\", \">=\"),\n",
    "        # ('id', 'id', '!='),\n",
    "        # ('audience','audience','>'),\n",
    "        use_numba=False,\n",
    "        df_columns=[\"id\", \"start\", \"end\"],\n",
    "        right_columns=[\"id\", \"start\", \"end\"],\n",
    "    )\n",
    ")"
   ]
  },
  {
   "cell_type": "code",
   "execution_count": null,
   "metadata": {},
   "outputs": [],
   "source": [
    "C = dict(\n",
    "    key=[f\"c{num}\" for num in range(1, 8)],\n",
    "    vol=[35, 15, 5, 35, 18, 90, 17],\n",
    "    profit=[45, 35, 55, 12, 15, 55, 11],\n",
    "    unitsSold=[15, 10, 30, 10, 15, 80, 2],\n",
    "    keyy=range(1, 8),\n",
    ")\n",
    "C = pd.DataFrame(C)\n",
    "\n",
    "\n",
    "D = dict(\n",
    "    key=[f\"d{num}\" for num in range(1, 9)],\n",
    "    vol=[20, 50, 15, 16, 40, 20, 40, 2],\n",
    "    profit=[30, 10, 12, 52, 35, 20, 30, 57],\n",
    "    unitsSold=[20, 35, 10, 12, 40, 30, 5, 15],\n",
    "    keyy=range(8, 0, -1),\n",
    ")\n",
    "D = pd.DataFrame(D)"
   ]
  },
  {
   "cell_type": "code",
   "execution_count": null,
   "metadata": {},
   "outputs": [],
   "source": [
    "C = pd.concat([C] * 400)\n",
    "D = pd.concat([D] * 400)"
   ]
  },
  {
   "cell_type": "code",
   "execution_count": null,
   "metadata": {},
   "outputs": [
    {
     "data": {
      "text/html": [
       "<div>\n",
       "<style scoped>\n",
       "    .dataframe tbody tr th:only-of-type {\n",
       "        vertical-align: middle;\n",
       "    }\n",
       "\n",
       "    .dataframe tbody tr th {\n",
       "        vertical-align: top;\n",
       "    }\n",
       "\n",
       "    .dataframe thead tr th {\n",
       "        text-align: left;\n",
       "    }\n",
       "</style>\n",
       "<table border=\"1\" class=\"dataframe\">\n",
       "  <thead>\n",
       "    <tr>\n",
       "      <th></th>\n",
       "      <th colspan=\"5\" halign=\"left\">left</th>\n",
       "      <th colspan=\"5\" halign=\"left\">right</th>\n",
       "    </tr>\n",
       "    <tr>\n",
       "      <th></th>\n",
       "      <th>key</th>\n",
       "      <th>vol</th>\n",
       "      <th>profit</th>\n",
       "      <th>unitsSold</th>\n",
       "      <th>keyy</th>\n",
       "      <th>key</th>\n",
       "      <th>vol</th>\n",
       "      <th>profit</th>\n",
       "      <th>unitsSold</th>\n",
       "      <th>keyy</th>\n",
       "    </tr>\n",
       "  </thead>\n",
       "  <tbody>\n",
       "    <tr>\n",
       "      <th>0</th>\n",
       "      <td>c6</td>\n",
       "      <td>90</td>\n",
       "      <td>55</td>\n",
       "      <td>80</td>\n",
       "      <td>6</td>\n",
       "      <td>d1</td>\n",
       "      <td>20</td>\n",
       "      <td>30</td>\n",
       "      <td>20</td>\n",
       "      <td>8</td>\n",
       "    </tr>\n",
       "    <tr>\n",
       "      <th>1</th>\n",
       "      <td>c6</td>\n",
       "      <td>90</td>\n",
       "      <td>55</td>\n",
       "      <td>80</td>\n",
       "      <td>6</td>\n",
       "      <td>d3</td>\n",
       "      <td>15</td>\n",
       "      <td>12</td>\n",
       "      <td>10</td>\n",
       "      <td>6</td>\n",
       "    </tr>\n",
       "    <tr>\n",
       "      <th>2</th>\n",
       "      <td>c6</td>\n",
       "      <td>90</td>\n",
       "      <td>55</td>\n",
       "      <td>80</td>\n",
       "      <td>6</td>\n",
       "      <td>d2</td>\n",
       "      <td>50</td>\n",
       "      <td>10</td>\n",
       "      <td>35</td>\n",
       "      <td>7</td>\n",
       "    </tr>\n",
       "    <tr>\n",
       "      <th>3</th>\n",
       "      <td>c1</td>\n",
       "      <td>35</td>\n",
       "      <td>45</td>\n",
       "      <td>15</td>\n",
       "      <td>1</td>\n",
       "      <td>d7</td>\n",
       "      <td>40</td>\n",
       "      <td>30</td>\n",
       "      <td>5</td>\n",
       "      <td>2</td>\n",
       "    </tr>\n",
       "    <tr>\n",
       "      <th>4</th>\n",
       "      <td>c1</td>\n",
       "      <td>35</td>\n",
       "      <td>45</td>\n",
       "      <td>15</td>\n",
       "      <td>1</td>\n",
       "      <td>d3</td>\n",
       "      <td>15</td>\n",
       "      <td>12</td>\n",
       "      <td>10</td>\n",
       "      <td>6</td>\n",
       "    </tr>\n",
       "    <tr>\n",
       "      <th>5</th>\n",
       "      <td>c2</td>\n",
       "      <td>15</td>\n",
       "      <td>35</td>\n",
       "      <td>10</td>\n",
       "      <td>2</td>\n",
       "      <td>d3</td>\n",
       "      <td>15</td>\n",
       "      <td>12</td>\n",
       "      <td>10</td>\n",
       "      <td>6</td>\n",
       "    </tr>\n",
       "    <tr>\n",
       "      <th>6</th>\n",
       "      <td>c4</td>\n",
       "      <td>35</td>\n",
       "      <td>12</td>\n",
       "      <td>10</td>\n",
       "      <td>4</td>\n",
       "      <td>d3</td>\n",
       "      <td>15</td>\n",
       "      <td>12</td>\n",
       "      <td>10</td>\n",
       "      <td>6</td>\n",
       "    </tr>\n",
       "    <tr>\n",
       "      <th>7</th>\n",
       "      <td>c5</td>\n",
       "      <td>18</td>\n",
       "      <td>15</td>\n",
       "      <td>15</td>\n",
       "      <td>5</td>\n",
       "      <td>d3</td>\n",
       "      <td>15</td>\n",
       "      <td>12</td>\n",
       "      <td>10</td>\n",
       "      <td>6</td>\n",
       "    </tr>\n",
       "  </tbody>\n",
       "</table>\n",
       "</div>"
      ],
      "text/plain": [
       "  left                           right                          \n",
       "   key vol profit unitsSold keyy   key vol profit unitsSold keyy\n",
       "0   c6  90     55        80    6    d1  20     30        20    8\n",
       "1   c6  90     55        80    6    d3  15     12        10    6\n",
       "2   c6  90     55        80    6    d2  50     10        35    7\n",
       "3   c1  35     45        15    1    d7  40     30         5    2\n",
       "4   c1  35     45        15    1    d3  15     12        10    6\n",
       "5   c2  15     35        10    2    d3  15     12        10    6\n",
       "6   c4  35     12        10    4    d3  15     12        10    6\n",
       "7   c5  18     15        15    5    d3  15     12        10    6"
      ]
     },
     "execution_count": 4,
     "metadata": {},
     "output_type": "execute_result"
    }
   ],
   "source": [
    "C.conditional_join(\n",
    "    D,\n",
    "    (\"profit\", \"profit\", \">=\"),\n",
    "     ('keyy','keyy','<='),\n",
    "      ('unitsSold','unitsSold','>='),\n",
    "    # (\"vol\", \"vol\", \"<=\"),\n",
    "      ('vol','profit','>'),\n",
    "    use_numba=True,\n",
    ")"
   ]
  },
  {
   "cell_type": "code",
   "execution_count": null,
   "metadata": {},
   "outputs": [
    {
     "data": {
      "text/html": [
       "<div>\n",
       "<style scoped>\n",
       "    .dataframe tbody tr th:only-of-type {\n",
       "        vertical-align: middle;\n",
       "    }\n",
       "\n",
       "    .dataframe tbody tr th {\n",
       "        vertical-align: top;\n",
       "    }\n",
       "\n",
       "    .dataframe thead tr th {\n",
       "        text-align: left;\n",
       "    }\n",
       "</style>\n",
       "<table border=\"1\" class=\"dataframe\">\n",
       "  <thead>\n",
       "    <tr>\n",
       "      <th></th>\n",
       "      <th colspan=\"5\" halign=\"left\">left</th>\n",
       "      <th colspan=\"5\" halign=\"left\">right</th>\n",
       "    </tr>\n",
       "    <tr>\n",
       "      <th></th>\n",
       "      <th>key</th>\n",
       "      <th>vol</th>\n",
       "      <th>profit</th>\n",
       "      <th>unitsSold</th>\n",
       "      <th>keyy</th>\n",
       "      <th>key</th>\n",
       "      <th>vol</th>\n",
       "      <th>profit</th>\n",
       "      <th>unitsSold</th>\n",
       "      <th>keyy</th>\n",
       "    </tr>\n",
       "  </thead>\n",
       "  <tbody>\n",
       "    <tr>\n",
       "      <th>0</th>\n",
       "      <td>c1</td>\n",
       "      <td>35</td>\n",
       "      <td>45</td>\n",
       "      <td>15</td>\n",
       "      <td>1</td>\n",
       "      <td>d3</td>\n",
       "      <td>15</td>\n",
       "      <td>12</td>\n",
       "      <td>10</td>\n",
       "      <td>6</td>\n",
       "    </tr>\n",
       "    <tr>\n",
       "      <th>1</th>\n",
       "      <td>c1</td>\n",
       "      <td>35</td>\n",
       "      <td>45</td>\n",
       "      <td>15</td>\n",
       "      <td>1</td>\n",
       "      <td>d7</td>\n",
       "      <td>40</td>\n",
       "      <td>30</td>\n",
       "      <td>5</td>\n",
       "      <td>2</td>\n",
       "    </tr>\n",
       "    <tr>\n",
       "      <th>2</th>\n",
       "      <td>c2</td>\n",
       "      <td>15</td>\n",
       "      <td>35</td>\n",
       "      <td>10</td>\n",
       "      <td>2</td>\n",
       "      <td>d3</td>\n",
       "      <td>15</td>\n",
       "      <td>12</td>\n",
       "      <td>10</td>\n",
       "      <td>6</td>\n",
       "    </tr>\n",
       "    <tr>\n",
       "      <th>3</th>\n",
       "      <td>c4</td>\n",
       "      <td>35</td>\n",
       "      <td>12</td>\n",
       "      <td>10</td>\n",
       "      <td>4</td>\n",
       "      <td>d3</td>\n",
       "      <td>15</td>\n",
       "      <td>12</td>\n",
       "      <td>10</td>\n",
       "      <td>6</td>\n",
       "    </tr>\n",
       "    <tr>\n",
       "      <th>4</th>\n",
       "      <td>c5</td>\n",
       "      <td>18</td>\n",
       "      <td>15</td>\n",
       "      <td>15</td>\n",
       "      <td>5</td>\n",
       "      <td>d3</td>\n",
       "      <td>15</td>\n",
       "      <td>12</td>\n",
       "      <td>10</td>\n",
       "      <td>6</td>\n",
       "    </tr>\n",
       "    <tr>\n",
       "      <th>5</th>\n",
       "      <td>c6</td>\n",
       "      <td>90</td>\n",
       "      <td>55</td>\n",
       "      <td>80</td>\n",
       "      <td>6</td>\n",
       "      <td>d2</td>\n",
       "      <td>50</td>\n",
       "      <td>10</td>\n",
       "      <td>35</td>\n",
       "      <td>7</td>\n",
       "    </tr>\n",
       "    <tr>\n",
       "      <th>6</th>\n",
       "      <td>c6</td>\n",
       "      <td>90</td>\n",
       "      <td>55</td>\n",
       "      <td>80</td>\n",
       "      <td>6</td>\n",
       "      <td>d3</td>\n",
       "      <td>15</td>\n",
       "      <td>12</td>\n",
       "      <td>10</td>\n",
       "      <td>6</td>\n",
       "    </tr>\n",
       "    <tr>\n",
       "      <th>7</th>\n",
       "      <td>c6</td>\n",
       "      <td>90</td>\n",
       "      <td>55</td>\n",
       "      <td>80</td>\n",
       "      <td>6</td>\n",
       "      <td>d1</td>\n",
       "      <td>20</td>\n",
       "      <td>30</td>\n",
       "      <td>20</td>\n",
       "      <td>8</td>\n",
       "    </tr>\n",
       "  </tbody>\n",
       "</table>\n",
       "</div>"
      ],
      "text/plain": [
       "  left                           right                          \n",
       "   key vol profit unitsSold keyy   key vol profit unitsSold keyy\n",
       "0   c1  35     45        15    1    d3  15     12        10    6\n",
       "1   c1  35     45        15    1    d7  40     30         5    2\n",
       "2   c2  15     35        10    2    d3  15     12        10    6\n",
       "3   c4  35     12        10    4    d3  15     12        10    6\n",
       "4   c5  18     15        15    5    d3  15     12        10    6\n",
       "5   c6  90     55        80    6    d2  50     10        35    7\n",
       "6   c6  90     55        80    6    d3  15     12        10    6\n",
       "7   c6  90     55        80    6    d1  20     30        20    8"
      ]
     },
     "execution_count": 5,
     "metadata": {},
     "output_type": "execute_result"
    }
   ],
   "source": [
    "C.conditional_join(\n",
    "    D,\n",
    "    (\"profit\", \"profit\", \">=\"),\n",
    "     ('keyy','keyy','<='),\n",
    "      ('unitsSold','unitsSold','>='),\n",
    "    # (\"vol\", \"vol\", \"<=\"),\n",
    "      ('vol','profit','>'),\n",
    "    use_numba=False,\n",
    ")"
   ]
  },
  {
   "cell_type": "code",
   "execution_count": null,
   "metadata": {},
   "outputs": [
    {
     "name": "stdout",
     "output_type": "stream",
     "text": [
      "8.59 ms ± 50.8 µs per loop (mean ± std. dev. of 7 runs, 100 loops each)\n"
     ]
    }
   ],
   "source": [
    "%%timeit\n",
    "out = C.conditional_join(\n",
    "    D,\n",
    "    (\"profit\", \"profit\", \">=\"),\n",
    "     ('keyy','keyy','<='),\n",
    "      ('unitsSold','unitsSold','>='),\n",
    "    # (\"vol\", \"vol\", \"<=\"),\n",
    "      ('vol','profit','>'),\n",
    "    use_numba=True,\n",
    ")"
   ]
  },
  {
   "cell_type": "code",
   "execution_count": null,
   "metadata": {},
   "outputs": [
    {
     "name": "stdout",
     "output_type": "stream",
     "text": [
      "758 ms ± 5.47 ms per loop (mean ± std. dev. of 7 runs, 1 loop each)\n"
     ]
    }
   ],
   "source": [
    "%%timeit\n",
    "C.conditional_join(\n",
    "    D,\n",
    "    (\"profit\", \"profit\", \">=\"),\n",
    "     ('keyy','keyy','<='),\n",
    "      ('unitsSold','unitsSold','>='),\n",
    "    # (\"vol\", \"vol\", \"<=\"),\n",
    "      ('vol','profit','>'),\n",
    "    use_numba=True,\n",
    ")\n"
   ]
  },
  {
   "cell_type": "code",
   "execution_count": null,
   "metadata": {},
   "outputs": [
    {
     "name": "stdout",
     "output_type": "stream",
     "text": [
      "67.6 ms ± 546 µs per loop (mean ± std. dev. of 7 runs, 10 loops each)\n"
     ]
    }
   ],
   "source": [
    "%%timeit\n",
    "out = C.conditional_join(\n",
    "    D,\n",
    "    (\"profit\", \"profit\", \">=\"),\n",
    "     ('keyy','keyy','<='),\n",
    "      ('unitsSold','unitsSold','>='),\n",
    "    # (\"vol\", \"vol\", \"<=\"),\n",
    "      ('vol','profit','>'),\n",
    "    use_numba=False,\n",
    ")\n",
    "\n"
   ]
  },
  {
   "cell_type": "code",
   "execution_count": null,
   "metadata": {},
   "outputs": [],
   "source": [
    "C.conditional_join(\n",
    "    D,\n",
    "    (\"profit\", \"profit\", \">=\"),\n",
    "     ('keyy','keyy','<='),\n",
    "      ('unitsSold','unitsSold','>='),\n",
    "    # (\"vol\", \"vol\", \"<=\"),\n",
    "      ('vol','profit','>'),\n",
    "    use_numba=False,\n",
    ")[0].size\n"
   ]
  },
  {
   "cell_type": "code",
   "execution_count": null,
   "metadata": {},
   "outputs": [],
   "source": [
    "C.conditional_join(\n",
    "    D,\n",
    "    (\"profit\", \"profit\", \">=\"),\n",
    "     ('keyy','keyy','<='),\n",
    "      ('unitsSold','unitsSold','>='),\n",
    "    # (\"vol\", \"vol\", \"<=\"),\n",
    "      ('vol','profit','>'),\n",
    "    use_numba=False,\n",
    ")"
   ]
  },
  {
   "cell_type": "code",
   "execution_count": null,
   "metadata": {},
   "outputs": [],
   "source": [
    "(\n",
    "    C.conditional_join(\n",
    "        D,\n",
    "        (\"profit\", \"profit\", \">=\"),\n",
    "        # ('keyy','keyy','=='),\n",
    "          # ('unitsSold','unitsSold','>='),\n",
    "        (\"vol\", \"vol\", \"<=\"),\n",
    "        # ('vol','profit','>'),\n",
    "        use_numba=False,\n",
    "    )\n",
    ")"
   ]
  },
  {
   "cell_type": "code",
   "execution_count": null,
   "metadata": {},
   "outputs": [],
   "source": [
    "%%timeit\n",
    "(\n",
    "    C.conditional_join(\n",
    "        D,\n",
    "        (\"profit\", \"profit\", \">=\"),\n",
    "        # ('keyy','keyy','=='),\n",
    "        #  ('unitsSold','unitsSold','>='),\n",
    "        (\"vol\", \"vol\", \"<=\"),\n",
    "        # ('vol','profit','>'),\n",
    "        use_numba=True,\n",
    "    )\n",
    ")"
   ]
  },
  {
   "cell_type": "code",
   "execution_count": null,
   "metadata": {},
   "outputs": [],
   "source": [
    "%%timeit\n",
    "(\n",
    "    C.conditional_join(\n",
    "        D,\n",
    "        (\"profit\", \"profit\", \">=\"),\n",
    "        # ('keyy','keyy','=='),\n",
    "        #  ('unitsSold','unitsSold','>='),\n",
    "        (\"vol\", \"vol\", \"<=\"),\n",
    "        # ('vol','profit','>'),\n",
    "        use_numba=False,\n",
    "    )\n",
    ")"
   ]
  },
  {
   "cell_type": "code",
   "execution_count": null,
   "metadata": {},
   "outputs": [],
   "source": [
    "print 'i'"
   ]
  },
  {
   "cell_type": "code",
   "execution_count": null,
   "metadata": {},
   "outputs": [],
   "source": [
    "C = pd.concat([C] * 400)\n",
    "D = pd.concat([D] * 400)"
   ]
  },
  {
   "cell_type": "code",
   "execution_count": null,
   "metadata": {},
   "outputs": [],
   "source": [
    "(\n",
    "    C.conditional_join(\n",
    "        D,\n",
    "        (\"profit\", \"profit\", \">=\"),\n",
    "        # ('keyy','keyy','=='),\n",
    "        # ('unitsSold','unitsSold','>='),\n",
    "        (\"vol\", \"vol\", \"<=\"),\n",
    "        # ('vol','profit','>'),\n",
    "        use_numba=True,\n",
    "    )\n",
    ")"
   ]
  },
  {
   "cell_type": "code",
   "execution_count": null,
   "metadata": {},
   "outputs": [],
   "source": [
    "%%timeit\n",
    "(\n",
    "    C.conditional_join(\n",
    "        D,\n",
    "        (\"profit\", \"profit\", \">=\"),\n",
    "        # ('keyy','keyy','=='),\n",
    "        # ('unitsSold','unitsSold','>='),\n",
    "        (\"vol\", \"vol\", \"<=\"),\n",
    "        # ('vol','profit','>'),\n",
    "        use_numba=True,\n",
    "    )\n",
    ")"
   ]
  },
  {
   "cell_type": "code",
   "execution_count": null,
   "metadata": {},
   "outputs": [],
   "source": [
    "%%timeit\n",
    "(\n",
    "    C.conditional_join(\n",
    "        D,\n",
    "        (\"profit\", \"profit\", \">=\"),\n",
    "        # ('keyy','keyy','=='),\n",
    "        # ('unitsSold','unitsSold','>='),\n",
    "        (\"vol\", \"vol\", \"<=\"),\n",
    "        # ('vol','profit','>'),\n",
    "        use_numba=False,\n",
    "    )\n",
    ")"
   ]
  },
  {
   "cell_type": "code",
   "execution_count": null,
   "metadata": {},
   "outputs": [],
   "source": [
    "(\n",
    "    C.conditional_join(\n",
    "        D,\n",
    "        (\"profit\", \"profit\", \">=\"),\n",
    "        # ('keyy','keyy','=='),\n",
    "        # ('unitsSold','unitsSold','>='),\n",
    "        (\"vol\", \"vol\", \"<=\"),\n",
    "        # ('vol','profit','>'),\n",
    "        use_numba=True,\n",
    "    )\n",
    ")[0].size"
   ]
  },
  {
   "cell_type": "code",
   "execution_count": null,
   "metadata": {},
   "outputs": [],
   "source": [
    "np.asarray(1), np.asanyarray(1)"
   ]
  },
  {
   "cell_type": "code",
   "execution_count": null,
   "metadata": {},
   "outputs": [],
   "source": [
    "(\n",
    "    C.conditional_join(\n",
    "        D,\n",
    "        (\"profit\", \"profit\", \">=\"),\n",
    "        # ('keyy','keyy','=='),\n",
    "        # ('unitsSold','unitsSold','>='),\n",
    "        (\"vol\", \"vol\", \"<=\"),\n",
    "        # ('vol','profit','>'),\n",
    "        use_numba=False,\n",
    "    )\n",
    ")[0].size"
   ]
  },
  {
   "cell_type": "code",
   "execution_count": null,
   "metadata": {},
   "outputs": [],
   "source": [
    "from string import ascii_lowercase\n",
    "\n",
    "np.random.seed(1)\n",
    "# n = 10000000; k = 20000\n",
    "n = 20_0_000\n",
    "k = 20_00\n",
    "mapp = {k: v for v, k in enumerate(ascii_lowercase)}\n",
    "idx1 = np.random.randint(0, high=2_00, size=n)\n",
    "idx2 = np.random.randint(0, high=3_00, size=n)\n",
    "\n",
    "d1 = dict(\n",
    "    x=np.random.choice(list(ascii_lowercase[:5]), size=n),\n",
    "    start=np.minimum(idx1, idx2),\n",
    "    end=np.maximum(idx1, idx2),\n",
    ")\n",
    "\n",
    "\n",
    "d2 = dict(\n",
    "    x=np.random.choice(list(ascii_lowercase[:15]), size=k),\n",
    "    pos1=np.random.randint(low=60, high=151, size=k),\n",
    ")\n",
    "\n",
    "d1 = pd.DataFrame(d1)\n",
    "d2 = pd.DataFrame(d2)\n",
    "d1 = d1.assign(xx=lambda df: df.x.map(mapp))\n",
    "d2 = d2.assign(xx=lambda df: df.x.map(mapp))"
   ]
  },
  {
   "cell_type": "code",
   "execution_count": null,
   "metadata": {},
   "outputs": [],
   "source": [
    "%%timeit\n",
    "bla = d2.conditional_join(\n",
    "    d1,\n",
    "    (\"pos1\", \"start\", \">\"),\n",
    "    (\"pos1\", \"end\", \"<\"),\n",
    "    # ('xx', 'xx', '=='),\n",
    "    use_numba=True,\n",
    ")"
   ]
  },
  {
   "cell_type": "code",
   "execution_count": null,
   "metadata": {},
   "outputs": [],
   "source": [
    "%%timeit\n",
    "bla = d2.conditional_join(\n",
    "    d1,\n",
    "    (\"pos1\", \"start\", \">\"),\n",
    "    (\"pos1\", \"end\", \"<\"),\n",
    "    # ('xx', 'xx', '=='),\n",
    "    use_numba=False,\n",
    ")"
   ]
  },
  {
   "cell_type": "code",
   "execution_count": null,
   "metadata": {},
   "outputs": [],
   "source": [
    "%%timeit\n",
    "bla = d2.conditional_join(\n",
    "    d1,\n",
    "    (\"pos1\", \"start\", \">\"),\n",
    "    (\"pos1\", \"end\", \"<\"),\n",
    "    # ('xx', 'xx', '=='),\n",
    "    use_numba=False,\n",
    ")"
   ]
  },
  {
   "cell_type": "code",
   "execution_count": null,
   "metadata": {},
   "outputs": [],
   "source": [
    "print 'jarr'"
   ]
  },
  {
   "cell_type": "code",
   "execution_count": null,
   "metadata": {},
   "outputs": [],
   "source": [
    "employees = pd.read_csv(\"/Users/samuel.oranyeli/employees.csv\")"
   ]
  },
  {
   "cell_type": "code",
   "execution_count": null,
   "metadata": {},
   "outputs": [],
   "source": [
    "%%timeit\n",
    "(\n",
    "    employees.conditional_join(\n",
    "        employees, (\"salary\", \"salary\", \"<\"), (\"tax\", \"tax\", \">\"), use_numba=True\n",
    "    )\n",
    ")"
   ]
  },
  {
   "cell_type": "code",
   "execution_count": null,
   "metadata": {},
   "outputs": [],
   "source": [
    "%%timeit\n",
    "(\n",
    "    employees.conditional_join(\n",
    "        employees, (\"salary\", \"salary\", \"<\"), (\"tax\", \"tax\", \">\"), use_numba=False\n",
    "    )\n",
    ")"
   ]
  }
 ],
 "metadata": {
  "kernelspec": {
   "display_name": "pyjanitor-dev",
   "language": "python",
   "name": "python3"
  },
  "language_info": {
   "codemirror_mode": {
    "name": "ipython",
    "version": 3
   },
   "file_extension": ".py",
   "mimetype": "text/x-python",
   "name": "python",
   "nbconvert_exporter": "python",
   "pygments_lexer": "ipython3",
   "version": "3.10.12"
  }
 },
 "nbformat": 4,
 "nbformat_minor": 2
}
