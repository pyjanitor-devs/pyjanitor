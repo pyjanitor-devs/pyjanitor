{
 "cells": [
  {
   "cell_type": "code",
   "execution_count": 1,
   "metadata": {},
   "outputs": [],
   "source": [
    "import pandas as pd; import numpy as np; import janitor as jn\n"
   ]
  },
  {
   "cell_type": "code",
   "execution_count": 2,
   "metadata": {},
   "outputs": [
    {
     "ename": "SyntaxError",
     "evalue": "Missing parentheses in call to 'print'. Did you mean print(...)? (427054430.py, line 1)",
     "output_type": "error",
     "traceback": [
      "\u001b[0;36m  Cell \u001b[0;32mIn[2], line 1\u001b[0;36m\u001b[0m\n\u001b[0;31m    print 'j'\u001b[0m\n\u001b[0m    ^\u001b[0m\n\u001b[0;31mSyntaxError\u001b[0m\u001b[0;31m:\u001b[0m Missing parentheses in call to 'print'. Did you mean print(...)?\n"
     ]
    }
   ],
   "source": [
    "print 'j'"
   ]
  },
  {
   "cell_type": "code",
   "execution_count": null,
   "metadata": {},
   "outputs": [
    {
     "data": {
      "text/plain": [
       "'2.2.1'"
      ]
     },
     "execution_count": 2,
     "metadata": {},
     "output_type": "execute_result"
    }
   ],
   "source": [
    "pd.__version__"
   ]
  },
  {
   "cell_type": "code",
   "execution_count": null,
   "metadata": {},
   "outputs": [],
   "source": [
    "df1 = pd.DataFrame({'id': [1,1,1,2,2,3], 'value_1': [2,5,7,1,3,4]})\n",
    "df2 = pd.DataFrame({'id': [1,1,1,1,2,2,2,3], 'value_2A': [0,3,7,12,0,2,3,1], 'value_2B': [1,5,9,15,1,4,6,3]})\n"
   ]
  },
  {
   "cell_type": "code",
   "execution_count": null,
   "metadata": {},
   "outputs": [
    {
     "data": {
      "text/plain": [
       "(array([2, 3, 2, ..., 0, 0, 0]),\n",
       " array([3, 3, 3, ..., 0, 0, 0]),\n",
       " array([2398, 2390, 2382, ...,   23,   15,    7]),\n",
       " array([600, 300, 600, ..., 300, 300, 300]),\n",
       " array([1200, 1200, 1200, ...,  300,  300,  300]),\n",
       " array([  0,   0,   0, ..., 900, 900, 900]),\n",
       " 30000000)"
      ]
     },
     "execution_count": 4,
     "metadata": {},
     "output_type": "execute_result"
    }
   ],
   "source": [
    "df1 = pd.concat([df1]*20000)\n",
    "df2 = pd.concat([df2]*300)\n",
    "\n",
    "df1.conditional_join(df2, ('value_1','value_2A','>'), ('value_1','value_2B','<'),use_numba=True)"
   ]
  },
  {
   "cell_type": "code",
   "execution_count": null,
   "metadata": {},
   "outputs": [
    {
     "name": "stdout",
     "output_type": "stream",
     "text": [
      "29.9 ms ± 163 µs per loop (mean ± std. dev. of 7 runs, 10 loops each)\n"
     ]
    }
   ],
   "source": [
    "%timeit df1.conditional_join(df2, ('value_1','value_2A','>'), ('value_1','value_2B','<'),use_numba=True)"
   ]
  },
  {
   "cell_type": "code",
   "execution_count": null,
   "metadata": {},
   "outputs": [],
   "source": [
    "#32.6ms   30_000_000"
   ]
  },
  {
   "cell_type": "code",
   "execution_count": null,
   "metadata": {},
   "outputs": [
    {
     "data": {
      "text/html": [
       "<div>\n",
       "<style scoped>\n",
       "    .dataframe tbody tr th:only-of-type {\n",
       "        vertical-align: middle;\n",
       "    }\n",
       "\n",
       "    .dataframe tbody tr th {\n",
       "        vertical-align: top;\n",
       "    }\n",
       "\n",
       "    .dataframe thead th {\n",
       "        text-align: right;\n",
       "    }\n",
       "</style>\n",
       "<table border=\"1\" class=\"dataframe\">\n",
       "  <thead>\n",
       "    <tr style=\"text-align: right;\">\n",
       "      <th></th>\n",
       "      <th>id</th>\n",
       "      <th>value_1</th>\n",
       "    </tr>\n",
       "  </thead>\n",
       "  <tbody>\n",
       "    <tr>\n",
       "      <th>0</th>\n",
       "      <td>1</td>\n",
       "      <td>2</td>\n",
       "    </tr>\n",
       "    <tr>\n",
       "      <th>1</th>\n",
       "      <td>1</td>\n",
       "      <td>5</td>\n",
       "    </tr>\n",
       "    <tr>\n",
       "      <th>2</th>\n",
       "      <td>1</td>\n",
       "      <td>7</td>\n",
       "    </tr>\n",
       "    <tr>\n",
       "      <th>3</th>\n",
       "      <td>2</td>\n",
       "      <td>1</td>\n",
       "    </tr>\n",
       "    <tr>\n",
       "      <th>4</th>\n",
       "      <td>2</td>\n",
       "      <td>3</td>\n",
       "    </tr>\n",
       "    <tr>\n",
       "      <th>...</th>\n",
       "      <td>...</td>\n",
       "      <td>...</td>\n",
       "    </tr>\n",
       "    <tr>\n",
       "      <th>1</th>\n",
       "      <td>1</td>\n",
       "      <td>5</td>\n",
       "    </tr>\n",
       "    <tr>\n",
       "      <th>2</th>\n",
       "      <td>1</td>\n",
       "      <td>7</td>\n",
       "    </tr>\n",
       "    <tr>\n",
       "      <th>3</th>\n",
       "      <td>2</td>\n",
       "      <td>1</td>\n",
       "    </tr>\n",
       "    <tr>\n",
       "      <th>4</th>\n",
       "      <td>2</td>\n",
       "      <td>3</td>\n",
       "    </tr>\n",
       "    <tr>\n",
       "      <th>5</th>\n",
       "      <td>3</td>\n",
       "      <td>4</td>\n",
       "    </tr>\n",
       "  </tbody>\n",
       "</table>\n",
       "<p>120000 rows × 2 columns</p>\n",
       "</div>"
      ],
      "text/plain": [
       "    id  value_1\n",
       "0    1        2\n",
       "1    1        5\n",
       "2    1        7\n",
       "3    2        1\n",
       "4    2        3\n",
       "..  ..      ...\n",
       "1    1        5\n",
       "2    1        7\n",
       "3    2        1\n",
       "4    2        3\n",
       "5    3        4\n",
       "\n",
       "[120000 rows x 2 columns]"
      ]
     },
     "execution_count": 7,
     "metadata": {},
     "output_type": "execute_result"
    }
   ],
   "source": [
    "df1"
   ]
  },
  {
   "cell_type": "code",
   "execution_count": null,
   "metadata": {},
   "outputs": [],
   "source": [
    "events = pd.read_csv('/Users/samuel.oranyeli/Downloads/results.csv', parse_dates=['start','end']).iloc[:, 1:]"
   ]
  },
  {
   "cell_type": "code",
   "execution_count": null,
   "metadata": {},
   "outputs": [
    {
     "data": {
      "text/plain": [
       "(array([28282, 28281, 28280, ...,     2,     1,     0]),\n",
       " array([28282, 28281, 28280, ...,     2,     1,     0]),\n",
       " array([25296, 10726, 24103, ...,  3544, 15884, 13367]),\n",
       " array([1, 1, 1, ..., 1, 1, 1]),\n",
       " array([29999, 29998, 29997, ...,     3,     2,     1]),\n",
       " array([    0,     1,     2, ..., 29996, 29997, 29998]),\n",
       " 33701)"
      ]
     },
     "execution_count": 9,
     "metadata": {},
     "output_type": "execute_result"
    }
   ],
   "source": [
    "(events\n",
    ".conditional_join(\n",
    "    events,\n",
    "    ('start', 'end', '<='),\n",
    "    ('end', 'start', '>='),\n",
    "    # ('id', 'id', '!='),\n",
    "    # ('audience','audience','>'),\n",
    "    use_numba = True,\n",
    "    df_columns = ['id', 'start', 'end'],\n",
    "    right_columns = ['id', 'start', 'end'])\n",
    ")"
   ]
  },
  {
   "cell_type": "code",
   "execution_count": null,
   "metadata": {},
   "outputs": [
    {
     "ename": "ValueError",
     "evalue": "too many values to unpack (expected 4)",
     "output_type": "error",
     "traceback": [
      "\u001b[0;31m---------------------------------------------------------------------------\u001b[0m",
      "\u001b[0;31mValueError\u001b[0m                                Traceback (most recent call last)",
      "Cell \u001b[0;32mIn[10], line 1\u001b[0m\n\u001b[0;32m----> 1\u001b[0m a,b,c,d\u001b[38;5;241m=\u001b[39m(events\n\u001b[1;32m      2\u001b[0m \u001b[38;5;241m.\u001b[39mconditional_join(\n\u001b[1;32m      3\u001b[0m     events,\n\u001b[1;32m      4\u001b[0m     (\u001b[38;5;124m'\u001b[39m\u001b[38;5;124mstart\u001b[39m\u001b[38;5;124m'\u001b[39m, \u001b[38;5;124m'\u001b[39m\u001b[38;5;124mend\u001b[39m\u001b[38;5;124m'\u001b[39m, \u001b[38;5;124m'\u001b[39m\u001b[38;5;124m<=\u001b[39m\u001b[38;5;124m'\u001b[39m),\n\u001b[1;32m      5\u001b[0m     (\u001b[38;5;124m'\u001b[39m\u001b[38;5;124mend\u001b[39m\u001b[38;5;124m'\u001b[39m, \u001b[38;5;124m'\u001b[39m\u001b[38;5;124mstart\u001b[39m\u001b[38;5;124m'\u001b[39m, \u001b[38;5;124m'\u001b[39m\u001b[38;5;124m>=\u001b[39m\u001b[38;5;124m'\u001b[39m),\n\u001b[1;32m      6\u001b[0m     \u001b[38;5;66;03m# ('id', 'id', '!='),\u001b[39;00m\n\u001b[1;32m      7\u001b[0m     \u001b[38;5;66;03m# ('audience','audience','>'),\u001b[39;00m\n\u001b[1;32m      8\u001b[0m     use_numba \u001b[38;5;241m=\u001b[39m \u001b[38;5;28;01mTrue\u001b[39;00m,\n\u001b[1;32m      9\u001b[0m     df_columns \u001b[38;5;241m=\u001b[39m [\u001b[38;5;124m'\u001b[39m\u001b[38;5;124mid\u001b[39m\u001b[38;5;124m'\u001b[39m, \u001b[38;5;124m'\u001b[39m\u001b[38;5;124mstart\u001b[39m\u001b[38;5;124m'\u001b[39m, \u001b[38;5;124m'\u001b[39m\u001b[38;5;124mend\u001b[39m\u001b[38;5;124m'\u001b[39m],\n\u001b[1;32m     10\u001b[0m     right_columns \u001b[38;5;241m=\u001b[39m [\u001b[38;5;124m'\u001b[39m\u001b[38;5;124mid\u001b[39m\u001b[38;5;124m'\u001b[39m, \u001b[38;5;124m'\u001b[39m\u001b[38;5;124mstart\u001b[39m\u001b[38;5;124m'\u001b[39m, \u001b[38;5;124m'\u001b[39m\u001b[38;5;124mend\u001b[39m\u001b[38;5;124m'\u001b[39m])\n\u001b[1;32m     11\u001b[0m )\n\u001b[1;32m     13\u001b[0m a,b,c,d\n",
      "\u001b[0;31mValueError\u001b[0m: too many values to unpack (expected 4)"
     ]
    }
   ],
   "source": [
    "a,b,c,d=(events\n",
    ".conditional_join(\n",
    "    events,\n",
    "    ('start', 'end', '<='),\n",
    "    ('end', 'start', '>='),\n",
    "    # ('id', 'id', '!='),\n",
    "    # ('audience','audience','>'),\n",
    "    use_numba = True,\n",
    "    df_columns = ['id', 'start', 'end'],\n",
    "    right_columns = ['id', 'start', 'end'])\n",
    ")\n",
    "\n",
    "a,b,c,d"
   ]
  },
  {
   "cell_type": "code",
   "execution_count": null,
   "metadata": {},
   "outputs": [
    {
     "name": "stdout",
     "output_type": "stream",
     "text": [
      "54.1 µs ± 1.17 µs per loop (mean ± std. dev. of 7 runs, 10,000 loops each)\n"
     ]
    }
   ],
   "source": [
    "%timeit np.bincount(b)"
   ]
  },
  {
   "cell_type": "code",
   "execution_count": null,
   "metadata": {},
   "outputs": [
    {
     "data": {
      "text/plain": [
       "array([285, 285, 285])"
      ]
     },
     "execution_count": 11,
     "metadata": {},
     "output_type": "execute_result"
    }
   ],
   "source": [
    "b[29693:29696]"
   ]
  },
  {
   "cell_type": "code",
   "execution_count": null,
   "metadata": {},
   "outputs": [
    {
     "name": "stdout",
     "output_type": "stream",
     "text": [
      "15.5 ms ± 34.6 µs per loop (mean ± std. dev. of 7 runs, 100 loops each)\n"
     ]
    }
   ],
   "source": [
    "# %%timeit\n",
    "# (events\n",
    "# .conditional_join(\n",
    "#     events,\n",
    "#     ('start', 'end', '<='),\n",
    "#     ('end', 'start', '>='),\n",
    "#     # ('id', 'id', '!='),\n",
    "#     # ('audience','audience','>'),\n",
    "#     use_numba = True,\n",
    "#     df_columns = ['id', 'start', 'end'],\n",
    "#     right_columns = ['id', 'start', 'end'])\n",
    "# )"
   ]
  },
  {
   "cell_type": "code",
   "execution_count": null,
   "metadata": {},
   "outputs": [],
   "source": [
    "# %%timeit\n",
    "# (events\n",
    "# .conditional_join(\n",
    "#     events,\n",
    "#     ('start', 'end', '<='),\n",
    "#     ('end', 'start', '>='),\n",
    "#     # ('id', 'id', '!='),\n",
    "#     # ('audience','audience','>'),\n",
    "#     use_numba = False,\n",
    "#     df_columns = ['id', 'start', 'end'],\n",
    "#     right_columns = ['id', 'start', 'end'])\n",
    "# )"
   ]
  },
  {
   "cell_type": "code",
   "execution_count": 3,
   "metadata": {},
   "outputs": [],
   "source": [
    "C=dict(key=[f\"c{num}\" for num in range(1,8)],\n",
    "       vol=[35,15,5,35,18,90,17],\n",
    "       profit=[45,35,55,12,15,55,11],\n",
    "       unitsSold=[15,10,30,10,15,80,2],\n",
    "       keyy = range(1,8)\n",
    "       )\n",
    "C=pd.DataFrame(C)\n",
    "\n",
    "\n",
    "D=dict(key=[f'd{num}' for num in range(1,9)],\n",
    "       vol=[20,50,15,16,40,20,40,2],\n",
    "       profit=[30,10,12,52,35,20,30,57],\n",
    "       unitsSold=[20,35,10,12,40,30,5,15],\n",
    "       keyy=range(8,0,-1)\n",
    "       )\n",
    "D=pd.DataFrame(D)\n",
    "\n"
   ]
  },
  {
   "cell_type": "code",
   "execution_count": 4,
   "metadata": {},
   "outputs": [
    {
     "data": {
      "text/plain": [
       "(array([0, 2, 0, 2, 1, 1]),\n",
       " array([0, 2, 0, 2, 1, 1]),\n",
       " array([0, 2, 2, 1, 1, 0, 2]),\n",
       " array([3, 4, 6, 0, 5, 2, 1]))"
      ]
     },
     "execution_count": 4,
     "metadata": {},
     "output_type": "execute_result"
    }
   ],
   "source": [
    "out=(C\n",
    ".conditional_join(\n",
    "    D, \n",
    "    \n",
    "    ('profit','profit','>='),\n",
    "    # ('keyy','keyy','=='),\n",
    "    #  ('unitsSold','unitsSold','>='),\n",
    "  ('vol','vol','<='),\n",
    "  # ('vol','profit','>'),\n",
    "    use_numba=True)\n",
    ")\n",
    "\n",
    "out"
   ]
  },
  {
   "cell_type": "code",
   "execution_count": null,
   "metadata": {},
   "outputs": [
    {
     "data": {
      "text/plain": [
       "(array([0, 0, 0, 1, 1, 1, 1, 1, 1, 2, 2, 2, 2, 2, 2, 2, 3, 4, 6]),\n",
       " array([1, 6, 4, 1, 2, 5, 0, 6, 4, 1, 2, 5, 0, 6, 4, 3, 1, 1, 1]))"
      ]
     },
     "execution_count": 5,
     "metadata": {},
     "output_type": "execute_result"
    }
   ],
   "source": [
    "(C\n",
    ".conditional_join(\n",
    "    D, \n",
    "    \n",
    "    ('profit','profit','>='),\n",
    "    # ('keyy','keyy','=='),\n",
    "    #  ('unitsSold','unitsSold','>='),\n",
    "  ('vol','vol','<='),\n",
    "  # ('vol','profit','>'),\n",
    "    use_numba=False)\n",
    ")"
   ]
  },
  {
   "cell_type": "code",
   "execution_count": null,
   "metadata": {},
   "outputs": [
    {
     "name": "stdout",
     "output_type": "stream",
     "text": [
      "731 µs ± 5.38 µs per loop (mean ± std. dev. of 7 runs, 1,000 loops each)\n"
     ]
    }
   ],
   "source": [
    "%%timeit\n",
    "(C\n",
    ".conditional_join(\n",
    "    D, \n",
    "    \n",
    "    ('profit','profit','>='),\n",
    "    # ('keyy','keyy','=='),\n",
    "    #  ('unitsSold','unitsSold','>='),\n",
    "  ('vol','vol','<='),\n",
    "  # ('vol','profit','>'),\n",
    "    use_numba=True)\n",
    ")"
   ]
  },
  {
   "cell_type": "code",
   "execution_count": null,
   "metadata": {},
   "outputs": [
    {
     "name": "stdout",
     "output_type": "stream",
     "text": [
      "608 µs ± 12.5 µs per loop (mean ± std. dev. of 7 runs, 1,000 loops each)\n"
     ]
    }
   ],
   "source": [
    "%%timeit\n",
    "(C\n",
    ".conditional_join(\n",
    "    D, \n",
    "    \n",
    "    ('profit','profit','>='),\n",
    "    # ('keyy','keyy','=='),\n",
    "    #  ('unitsSold','unitsSold','>='),\n",
    "  ('vol','vol','<='),\n",
    "  # ('vol','profit','>'),\n",
    "    use_numba=False)\n",
    ")"
   ]
  },
  {
   "cell_type": "code",
   "execution_count": null,
   "metadata": {},
   "outputs": [
    {
     "ename": "SyntaxError",
     "evalue": "Missing parentheses in call to 'print'. Did you mean print(...)? (414025362.py, line 1)",
     "output_type": "error",
     "traceback": [
      "\u001b[0;36m  Cell \u001b[0;32mIn[19], line 1\u001b[0;36m\u001b[0m\n\u001b[0;31m    print 'i'\u001b[0m\n\u001b[0m    ^\u001b[0m\n\u001b[0;31mSyntaxError\u001b[0m\u001b[0;31m:\u001b[0m Missing parentheses in call to 'print'. Did you mean print(...)?\n"
     ]
    }
   ],
   "source": [
    "print 'i'"
   ]
  },
  {
   "cell_type": "code",
   "execution_count": null,
   "metadata": {},
   "outputs": [],
   "source": [
    "C = pd.concat([C]*400)\n",
    "D = pd.concat([D]*400)"
   ]
  },
  {
   "cell_type": "code",
   "execution_count": null,
   "metadata": {},
   "outputs": [
    {
     "data": {
      "text/plain": [
       "(False, False)"
      ]
     },
     "execution_count": 6,
     "metadata": {},
     "output_type": "execute_result"
    }
   ],
   "source": [
    "(C\n",
    ".conditional_join(\n",
    "    D, \n",
    "    \n",
    "    ('profit','profit','>='),\n",
    "    # ('keyy','keyy','=='),\n",
    "  # ('unitsSold','unitsSold','>='),\n",
    "  ('vol','vol','<='),\n",
    "  # ('vol','profit','>'),\n",
    "    use_numba=True)\n",
    ")"
   ]
  },
  {
   "cell_type": "code",
   "execution_count": null,
   "metadata": {},
   "outputs": [
    {
     "name": "stdout",
     "output_type": "stream",
     "text": [
      "1.55 ms ± 203 µs per loop (mean ± std. dev. of 7 runs, 1 loop each)\n"
     ]
    }
   ],
   "source": [
    "%%timeit\n",
    "(C\n",
    ".conditional_join(\n",
    "    D, \n",
    "    \n",
    "    ('profit','profit','>='),\n",
    "    # ('keyy','keyy','=='),\n",
    "  # ('unitsSold','unitsSold','>='),\n",
    "  ('vol','vol','<='),\n",
    "  # ('vol','profit','>'),\n",
    "    use_numba=True)\n",
    ")"
   ]
  },
  {
   "cell_type": "code",
   "execution_count": null,
   "metadata": {},
   "outputs": [
    {
     "name": "stdout",
     "output_type": "stream",
     "text": [
      "31.4 ms ± 248 µs per loop (mean ± std. dev. of 7 runs, 10 loops each)\n"
     ]
    }
   ],
   "source": [
    "%%timeit\n",
    "(C\n",
    ".conditional_join(\n",
    "    D, \n",
    "    \n",
    "    ('profit','profit','>='),\n",
    "    # ('keyy','keyy','=='),\n",
    "  # ('unitsSold','unitsSold','>='),\n",
    "  ('vol','vol','<='),\n",
    "  # ('vol','profit','>'),\n",
    "    use_numba=False)\n",
    ")"
   ]
  },
  {
   "cell_type": "code",
   "execution_count": null,
   "metadata": {},
   "outputs": [
    {
     "data": {
      "text/plain": [
       "30400"
      ]
     },
     "execution_count": 15,
     "metadata": {},
     "output_type": "execute_result"
    }
   ],
   "source": [
    "(C\n",
    ".conditional_join(\n",
    "    D, \n",
    "    \n",
    "    ('profit','profit','>='),\n",
    "    # ('keyy','keyy','=='),\n",
    "  # ('unitsSold','unitsSold','>='),\n",
    "  ('vol','vol','<='),\n",
    "  # ('vol','profit','>'),\n",
    "    use_numba=True)\n",
    ")[0].size"
   ]
  },
  {
   "cell_type": "code",
   "execution_count": null,
   "metadata": {},
   "outputs": [
    {
     "data": {
      "text/plain": [
       "30400"
      ]
     },
     "execution_count": 16,
     "metadata": {},
     "output_type": "execute_result"
    }
   ],
   "source": [
    "(C\n",
    ".conditional_join(\n",
    "    D, \n",
    "    \n",
    "    ('profit','profit','>='),\n",
    "    # ('keyy','keyy','=='),\n",
    "  # ('unitsSold','unitsSold','>='),\n",
    "  ('vol','vol','<='),\n",
    "  # ('vol','profit','>'),\n",
    "    use_numba=False)\n",
    ")[0].size"
   ]
  },
  {
   "cell_type": "code",
   "execution_count": null,
   "metadata": {},
   "outputs": [],
   "source": [
    "from string import ascii_lowercase\n",
    "np.random.seed(1)\n",
    "# n = 10000000; k = 20000\n",
    "n = 20_0_000; k = 20_0\n",
    "mapp = {k:v for v,k in enumerate(ascii_lowercase)}\n",
    "idx1 = np.random.randint(0, high = 2_00, size = n)\n",
    "idx2 = np.random.randint(0, high = 3_00, size = n)\n",
    "\n",
    "d1 = dict(x = np.random.choice(list(ascii_lowercase[:5]), size=n),\n",
    "          start = np.minimum(idx1, idx2),\n",
    "          end = np.maximum(idx1, idx2),\n",
    "          )\n",
    "\n",
    "\n",
    "d2 = dict(x = np.random.choice(list(ascii_lowercase[:15]), size=k),\n",
    "          pos1 = np.random.randint(low=60, high = 151, size=k))\n",
    "\n",
    "d1 = pd.DataFrame(d1)\n",
    "d2 = pd.DataFrame(d2)\n",
    "d1 = d1.assign(xx=lambda df: df.x.map(mapp))\n",
    "d2 = d2.assign(xx=lambda df: df.x.map(mapp))"
   ]
  },
  {
   "cell_type": "code",
   "execution_count": null,
   "metadata": {},
   "outputs": [
    {
     "name": "stdout",
     "output_type": "stream",
     "text": [
      "3.22 s ± 8.97 ms per loop (mean ± std. dev. of 7 runs, 1 loop each)\n"
     ]
    }
   ],
   "source": [
    "%%timeit\n",
    "bla = (d2\n",
    ".conditional_join(\n",
    "    d1, \n",
    "    ('pos1', 'start', '>'), \n",
    "     ('pos1', 'end', '<'), \n",
    "   # ('xx', 'xx', '=='), \n",
    "    use_numba=True)\n",
    ")\n",
    "\n"
   ]
  },
  {
   "cell_type": "code",
   "execution_count": null,
   "metadata": {},
   "outputs": [
    {
     "data": {
      "text/plain": [
       "(array([14, 13, 14, 12, 11, 10,  9,  8,  7,  6,  4,  5,  5,  3,  3,  3,  2,\n",
       "         1,  0,  0]),\n",
       " array([14, 14, 11, 14, 14, 14, 10, 14, 14, 14, 14, 14, 13,  8, 14, 14, 14,\n",
       "        14, 11, 14, 14, 14, 14, 14, 14, 14, 14,  9, 14,  7, 14, 14, 14,  8,\n",
       "         9,  1, 14,  9, 14, 14, 14,  0, 14, 14,  5, 13, 14,  4, 14,  0,  5,\n",
       "         5, 14,  0,  7, 14,  2, 14, 14, 14, 14, 14, 14, 14,  2, 14,  7, 14,\n",
       "        14,  8,  6, 14,  9,  0, 14,  8, 14, 12,  2, 14, 14,  3,  7, 10,  6]),\n",
       " array([ 7, 35, 24, 16, 25,  3, 62,  4, 77, 32, 98, 69, 71, 41, 55, 36, 43,\n",
       "        89, 54, 72, 22, 47, 17, 87, 84, 23, 93, 78,  5, 95,  6, 96, 50,  8,\n",
       "        88,  2, 21, 58, 74, 28, 33, 27, 30, 45, 14, 83, 37, 52, 20, 94, 44,\n",
       "        90, 73,  9, 56, 12, 76, 91, 39, 86, 51, 63, 85, 60, 53, 48, 61, 82,\n",
       "        66, 29, 65, 13, 10, 40, 57, 38, 81, 19, 67, 34, 92, 26, 97,  1, 31]),\n",
       " array([51, 52, 50, 52, 53, 52, 54, 52, 51, 53, 53, 52, 52, 53, 53, 52, 47,\n",
       "        45, 46, 46]),\n",
       " array([ 0,  1,  1,  2,  3,  6,  8, 14, 19, 19, 23, 23, 23, 24, 24, 25, 33,\n",
       "        36, 39, 39]))"
      ]
     },
     "execution_count": 12,
     "metadata": {},
     "output_type": "execute_result"
    }
   ],
   "source": [
    "(d2\n",
    ".conditional_join(\n",
    "    d1, \n",
    "    ('pos1', 'start', '>'), \n",
    "     ('pos1', 'end', '<'), \n",
    "   # ('xx', 'xx', '=='), \n",
    "    use_numba=True)\n",
    ")"
   ]
  },
  {
   "cell_type": "code",
   "execution_count": null,
   "metadata": {},
   "outputs": [
    {
     "name": "stdout",
     "output_type": "stream",
     "text": [
      "372 ms ± 2.41 ms per loop (mean ± std. dev. of 7 runs, 1 loop each)\n"
     ]
    }
   ],
   "source": [
    "%%timeit\n",
    "bla = (d2\n",
    ".conditional_join(\n",
    "    d1, \n",
    "    ('pos1', 'start', '>'), \n",
    "     ('pos1', 'end', '<'), \n",
    "   # ('xx', 'xx', '=='), \n",
    "    use_numba=False)\n",
    ")"
   ]
  },
  {
   "cell_type": "code",
   "execution_count": null,
   "metadata": {},
   "outputs": [],
   "source": [
    "employees = pd.read_csv('/Users/samuel.oranyeli/employees.csv')"
   ]
  },
  {
   "cell_type": "code",
   "execution_count": null,
   "metadata": {},
   "outputs": [],
   "source": [
    "%%timeit\n",
    "(employees\n",
    ".conditional_join(\n",
    "    employees,\n",
    "    ('salary', 'salary', '<'),\n",
    "    ('tax', 'tax', '>'),\n",
    "    use_numba = True)\n",
    ")"
   ]
  },
  {
   "cell_type": "code",
   "execution_count": null,
   "metadata": {},
   "outputs": [
    {
     "name": "stdout",
     "output_type": "stream",
     "text": [
      "4.02 s ± 8.26 ms per loop (mean ± std. dev. of 7 runs, 1 loop each)\n"
     ]
    }
   ],
   "source": [
    "%%timeit\n",
    "(employees\n",
    ".conditional_join(\n",
    "    employees,\n",
    "    ('salary', 'salary', '<'),\n",
    "    ('tax', 'tax', '>'),\n",
    "    use_numba = False)\n",
    ")"
   ]
  }
 ],
 "metadata": {
  "kernelspec": {
   "display_name": "pyjanitor-dev",
   "language": "python",
   "name": "python3"
  },
  "language_info": {
   "codemirror_mode": {
    "name": "ipython",
    "version": 3
   },
   "file_extension": ".py",
   "mimetype": "text/x-python",
   "name": "python",
   "nbconvert_exporter": "python",
   "pygments_lexer": "ipython3",
   "version": "3.10.12"
  }
 },
 "nbformat": 4,
 "nbformat_minor": 2
}
