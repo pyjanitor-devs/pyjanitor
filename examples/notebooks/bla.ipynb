{
 "cells": [
  {
   "cell_type": "code",
   "execution_count": 1,
   "metadata": {},
   "outputs": [],
   "source": [
    "import pandas as pd; import numpy as np; import janitor as jn\n"
   ]
  },
  {
   "cell_type": "code",
   "execution_count": 2,
   "metadata": {},
   "outputs": [
    {
     "data": {
      "text/plain": [
       "'2.2.1'"
      ]
     },
     "execution_count": 2,
     "metadata": {},
     "output_type": "execute_result"
    }
   ],
   "source": [
    "pd.__version__"
   ]
  },
  {
   "cell_type": "code",
   "execution_count": 3,
   "metadata": {},
   "outputs": [],
   "source": [
    "df1 = pd.DataFrame({'id': [1,1,1,2,2,3], 'value_1': [2,5,7,1,3,4]})\n",
    "df2 = pd.DataFrame({'id': [1,1,1,1,2,2,2,3], 'value_2A': [0,3,7,12,0,2,3,1], 'value_2B': [1,5,9,15,pd.NA,4,6,3]})\n",
    "df2 = df2.astype({'value_2B':'Int32'})\n"
   ]
  },
  {
   "cell_type": "code",
   "execution_count": 4,
   "metadata": {},
   "outputs": [
    {
     "data": {
      "text/html": [
       "<div>\n",
       "<style scoped>\n",
       "    .dataframe tbody tr th:only-of-type {\n",
       "        vertical-align: middle;\n",
       "    }\n",
       "\n",
       "    .dataframe tbody tr th {\n",
       "        vertical-align: top;\n",
       "    }\n",
       "\n",
       "    .dataframe thead th {\n",
       "        text-align: right;\n",
       "    }\n",
       "</style>\n",
       "<table border=\"1\" class=\"dataframe\">\n",
       "  <thead>\n",
       "    <tr style=\"text-align: right;\">\n",
       "      <th></th>\n",
       "      <th>id</th>\n",
       "      <th>value_1</th>\n",
       "    </tr>\n",
       "  </thead>\n",
       "  <tbody>\n",
       "    <tr>\n",
       "      <th>0</th>\n",
       "      <td>1</td>\n",
       "      <td>2</td>\n",
       "    </tr>\n",
       "    <tr>\n",
       "      <th>1</th>\n",
       "      <td>1</td>\n",
       "      <td>5</td>\n",
       "    </tr>\n",
       "    <tr>\n",
       "      <th>2</th>\n",
       "      <td>1</td>\n",
       "      <td>7</td>\n",
       "    </tr>\n",
       "    <tr>\n",
       "      <th>3</th>\n",
       "      <td>2</td>\n",
       "      <td>1</td>\n",
       "    </tr>\n",
       "    <tr>\n",
       "      <th>4</th>\n",
       "      <td>2</td>\n",
       "      <td>3</td>\n",
       "    </tr>\n",
       "    <tr>\n",
       "      <th>5</th>\n",
       "      <td>3</td>\n",
       "      <td>4</td>\n",
       "    </tr>\n",
       "  </tbody>\n",
       "</table>\n",
       "</div>"
      ],
      "text/plain": [
       "   id  value_1\n",
       "0   1        2\n",
       "1   1        5\n",
       "2   1        7\n",
       "3   2        1\n",
       "4   2        3\n",
       "5   3        4"
      ]
     },
     "execution_count": 4,
     "metadata": {},
     "output_type": "execute_result"
    }
   ],
   "source": [
    "df1"
   ]
  },
  {
   "cell_type": "code",
   "execution_count": 5,
   "metadata": {},
   "outputs": [
    {
     "ename": "ValueError",
     "evalue": "too many values to unpack (expected 2)",
     "output_type": "error",
     "traceback": [
      "\u001b[0;31m---------------------------------------------------------------------------\u001b[0m",
      "\u001b[0;31mValueError\u001b[0m                                Traceback (most recent call last)",
      "Cell \u001b[0;32mIn[5], line 1\u001b[0m\n\u001b[0;32m----> 1\u001b[0m a,b\u001b[38;5;241m=\u001b[39mdf1\u001b[38;5;241m.\u001b[39mconditional_join(df2, (\u001b[38;5;124m'\u001b[39m\u001b[38;5;124mvalue_1\u001b[39m\u001b[38;5;124m'\u001b[39m,\u001b[38;5;124m'\u001b[39m\u001b[38;5;124mvalue_2A\u001b[39m\u001b[38;5;124m'\u001b[39m,\u001b[38;5;124m'\u001b[39m\u001b[38;5;124m>\u001b[39m\u001b[38;5;124m'\u001b[39m),use_numba\u001b[38;5;241m=\u001b[39m\u001b[38;5;28;01mTrue\u001b[39;00m)\n\u001b[1;32m      2\u001b[0m a,b\n",
      "\u001b[0;31mValueError\u001b[0m: too many values to unpack (expected 2)"
     ]
    }
   ],
   "source": [
    "a,b=df1.conditional_join(df2, ('value_1','value_2A','>'),use_numba=True)\n",
    "a,b"
   ]
  },
  {
   "cell_type": "code",
   "execution_count": null,
   "metadata": {},
   "outputs": [
    {
     "data": {
      "text/plain": [
       "False"
      ]
     },
     "execution_count": 6,
     "metadata": {},
     "output_type": "execute_result"
    }
   ],
   "source": [
    "a is None"
   ]
  },
  {
   "cell_type": "code",
   "execution_count": null,
   "metadata": {},
   "outputs": [
    {
     "data": {
      "text/plain": [
       "False"
      ]
     },
     "execution_count": 7,
     "metadata": {},
     "output_type": "execute_result"
    }
   ],
   "source": [
    "b is None"
   ]
  },
  {
   "cell_type": "code",
   "execution_count": null,
   "metadata": {},
   "outputs": [
    {
     "data": {
      "text/plain": [
       "False"
      ]
     },
     "execution_count": 8,
     "metadata": {},
     "output_type": "execute_result"
    }
   ],
   "source": [
    "(a is None) and (b is None)"
   ]
  },
  {
   "cell_type": "code",
   "execution_count": null,
   "metadata": {},
   "outputs": [],
   "source": [
    "events = pd.read_csv('/Users/samuel.oranyeli/Downloads/results.csv', parse_dates=['start','end']).iloc[:, 1:]"
   ]
  },
  {
   "cell_type": "code",
   "execution_count": null,
   "metadata": {},
   "outputs": [],
   "source": [
    "import numba"
   ]
  },
  {
   "cell_type": "code",
   "execution_count": null,
   "metadata": {},
   "outputs": [
    {
     "data": {
      "text/plain": [
       "['ABCMeta',\n",
       " 'Any',\n",
       " 'Array',\n",
       " 'ArrayCTypes',\n",
       " 'ArrayCompatible',\n",
       " 'ArrayFlags',\n",
       " 'ArrayIterator',\n",
       " 'BaseAnonymousTuple',\n",
       " 'BaseContainerIterator',\n",
       " 'BaseContainerPayload',\n",
       " 'BaseFunction',\n",
       " 'BaseNamedTuple',\n",
       " 'BaseTuple',\n",
       " 'Boolean',\n",
       " 'BooleanLiteral',\n",
       " 'BoundFunction',\n",
       " 'Buffer',\n",
       " 'ByteArray',\n",
       " 'Bytes',\n",
       " 'CPointer',\n",
       " 'Callable',\n",
       " 'CharSeq',\n",
       " 'ClassDataType',\n",
       " 'ClassInstanceType',\n",
       " 'ClassType',\n",
       " 'CompileResultWAP',\n",
       " 'Complex',\n",
       " 'ConstSized',\n",
       " 'Container',\n",
       " 'ContextManager',\n",
       " 'Conversion',\n",
       " 'DType',\n",
       " 'DTypeSpec',\n",
       " 'DeferredType',\n",
       " 'DictItemsIterableType',\n",
       " 'DictIteratorType',\n",
       " 'DictKeysIterableType',\n",
       " 'DictType',\n",
       " 'DictValuesIterableType',\n",
       " 'Dispatcher',\n",
       " 'Dummy',\n",
       " 'EllipsisType',\n",
       " 'EnumClass',\n",
       " 'EnumMember',\n",
       " 'EnumerateType',\n",
       " 'EphemeralArray',\n",
       " 'EphemeralPointer',\n",
       " 'ExceptionClass',\n",
       " 'ExceptionInstance',\n",
       " 'ExternalFunction',\n",
       " 'ExternalFunctionPointer',\n",
       " 'Float',\n",
       " 'Function',\n",
       " 'FunctionPrototype',\n",
       " 'FunctionType',\n",
       " 'Generator',\n",
       " 'Hashable',\n",
       " 'InitialValue',\n",
       " 'IntEnumClass',\n",
       " 'IntEnumMember',\n",
       " 'Integer',\n",
       " 'IntegerLiteral',\n",
       " 'Iterable',\n",
       " 'IterableType',\n",
       " 'IteratorType',\n",
       " 'List',\n",
       " 'ListIter',\n",
       " 'ListPayload',\n",
       " 'ListType',\n",
       " 'ListTypeIterableType',\n",
       " 'ListTypeIteratorType',\n",
       " 'Literal',\n",
       " 'LiteralList',\n",
       " 'LiteralStrKeyDict',\n",
       " 'LiteralTypingError',\n",
       " 'MakeFunctionLiteral',\n",
       " 'MappingProxyType',\n",
       " 'MemInfoPointer',\n",
       " 'MemoryView',\n",
       " 'Module',\n",
       " 'MutableSequence',\n",
       " 'NPDatetime',\n",
       " 'NPTimedelta',\n",
       " 'NamedTuple',\n",
       " 'NamedTupleClass',\n",
       " 'NamedUniTuple',\n",
       " 'NestedArray',\n",
       " 'NoneType',\n",
       " 'NumPyRandomBitGeneratorType',\n",
       " 'NumPyRandomGeneratorType',\n",
       " 'Number',\n",
       " 'NumberClass',\n",
       " 'NumpyFlatType',\n",
       " 'NumpyNdEnumerateType',\n",
       " 'NumpyNdIndexType',\n",
       " 'NumpyNdIterType',\n",
       " 'ObjModeDispatcher',\n",
       " 'Object',\n",
       " 'Omitted',\n",
       " 'Opaque',\n",
       " 'Optional',\n",
       " 'Pair',\n",
       " 'Phantom',\n",
       " 'Poison',\n",
       " 'PyArray',\n",
       " 'PyObject',\n",
       " 'RangeIteratorType',\n",
       " 'RangeType',\n",
       " 'RawPointer',\n",
       " 'Record',\n",
       " 'RecursiveCall',\n",
       " 'Sequence',\n",
       " 'Set',\n",
       " 'SetEntry',\n",
       " 'SetIter',\n",
       " 'SetPayload',\n",
       " 'SimpleIterableType',\n",
       " 'SimpleIteratorType',\n",
       " 'Sized',\n",
       " 'SliceLiteral',\n",
       " 'SliceType',\n",
       " 'StarArgTuple',\n",
       " 'StarArgUniTuple',\n",
       " 'StringLiteral',\n",
       " 'StructRef',\n",
       " 'StructRefPayload',\n",
       " 'Tuple',\n",
       " 'Type',\n",
       " 'TypeRef',\n",
       " 'TypingError',\n",
       " 'Undefined',\n",
       " 'UndefinedFunctionType',\n",
       " 'UndefinedType',\n",
       " 'UniTuple',\n",
       " 'UniTupleIter',\n",
       " 'UnicodeCharSeq',\n",
       " 'UnicodeIteratorType',\n",
       " 'UnicodeType',\n",
       " 'UnionType',\n",
       " 'VarArg',\n",
       " 'WeakType',\n",
       " 'WrapperAddressProtocol',\n",
       " 'ZipType',\n",
       " '__all__',\n",
       " '__builtins__',\n",
       " '__cached__',\n",
       " '__doc__',\n",
       " '__file__',\n",
       " '__loader__',\n",
       " '__name__',\n",
       " '__package__',\n",
       " '__path__',\n",
       " '__spec__',\n",
       " '_make_signed',\n",
       " '_make_unsigned',\n",
       " 'abstract',\n",
       " 'abstractmethod',\n",
       " 'abstractproperty',\n",
       " 'argsnkwargs_to_str',\n",
       " 'b1',\n",
       " 'bool_',\n",
       " 'boolean',\n",
       " 'byte',\n",
       " 'c16',\n",
       " 'c8',\n",
       " 'cached_property',\n",
       " 'char',\n",
       " 'code_type',\n",
       " 'collections',\n",
       " 'common',\n",
       " 'complex128',\n",
       " 'complex64',\n",
       " 'complex_domain',\n",
       " 'config',\n",
       " 'containers',\n",
       " 'defaultdict',\n",
       " 'deferred_type',\n",
       " 'double',\n",
       " 'ellipsis',\n",
       " 'enum',\n",
       " 'errors',\n",
       " 'f2',\n",
       " 'f4',\n",
       " 'f8',\n",
       " 'ffi',\n",
       " 'ffi_forced_object',\n",
       " 'float16',\n",
       " 'float32',\n",
       " 'float64',\n",
       " 'float_',\n",
       " 'function_type',\n",
       " 'functions',\n",
       " 'get_hashable_key',\n",
       " 'get_terminal_size',\n",
       " 'i1',\n",
       " 'i2',\n",
       " 'i4',\n",
       " 'i8',\n",
       " 'int16',\n",
       " 'int32',\n",
       " 'int64',\n",
       " 'int8',\n",
       " 'int_',\n",
       " 'intc',\n",
       " 'integer_domain',\n",
       " 'intp',\n",
       " 'ir',\n",
       " 'is_homogeneous',\n",
       " 'iterators',\n",
       " 'itertools',\n",
       " 'literal',\n",
       " 'logging',\n",
       " 'long_',\n",
       " 'longlong',\n",
       " 'maybe_literal',\n",
       " 'misc',\n",
       " 'namedtuple',\n",
       " 'none',\n",
       " 'np',\n",
       " 'npdatetime_helpers',\n",
       " 'npy_bitgen',\n",
       " 'npy_rng',\n",
       " 'npytypes',\n",
       " 'number_domain',\n",
       " 'optional',\n",
       " 'parse_integer_bitwidth',\n",
       " 'parse_integer_signed',\n",
       " 'ptDict',\n",
       " 'ptType',\n",
       " 'py2_string_type',\n",
       " 'pySequence',\n",
       " 'pyfunc_type',\n",
       " 'pyobject',\n",
       " 'range_iter32_type',\n",
       " 'range_iter64_type',\n",
       " 'range_state32_type',\n",
       " 'range_state64_type',\n",
       " 'real_domain',\n",
       " 'scalars',\n",
       " 'short',\n",
       " 'signed_domain',\n",
       " 'size_t',\n",
       " 'slice2_type',\n",
       " 'slice3_type',\n",
       " 'ssize_t',\n",
       " 'string',\n",
       " 'struct',\n",
       " 'textwrap',\n",
       " 'total_ordering',\n",
       " 'traceback',\n",
       " 'types',\n",
       " 'u1',\n",
       " 'u2',\n",
       " 'u4',\n",
       " 'u8',\n",
       " 'uchar',\n",
       " 'uint',\n",
       " 'uint16',\n",
       " 'uint32',\n",
       " 'uint64',\n",
       " 'uint8',\n",
       " 'uintc',\n",
       " 'uintp',\n",
       " 'ulong',\n",
       " 'ulonglong',\n",
       " 'undefined',\n",
       " 'unicode_type',\n",
       " 'unknown',\n",
       " 'unliteral',\n",
       " 'unsigned_domain',\n",
       " 'unsigned_range_iter64_type',\n",
       " 'unsigned_range_state64_type',\n",
       " 'ushort',\n",
       " 'utils',\n",
       " 'void',\n",
       " 'voidptr',\n",
       " 'warnings',\n",
       " 'weakref']"
      ]
     },
     "execution_count": 11,
     "metadata": {},
     "output_type": "execute_result"
    }
   ],
   "source": [
    "dir(numba.types)"
   ]
  },
  {
   "cell_type": "code",
   "execution_count": null,
   "metadata": {},
   "outputs": [
    {
     "data": {
      "text/plain": [
       "id                   int64\n",
       "name                object\n",
       "audience             int64\n",
       "start       datetime64[ns]\n",
       "sponsor             object\n",
       "end         datetime64[ns]\n",
       "dtype: object"
      ]
     },
     "execution_count": 12,
     "metadata": {},
     "output_type": "execute_result"
    }
   ],
   "source": [
    "events.dtypes"
   ]
  },
  {
   "cell_type": "code",
   "execution_count": null,
   "metadata": {},
   "outputs": [
    {
     "data": {
      "text/plain": [
       "(['id', 'start', 'end'], ['id', 'start', 'end'])"
      ]
     },
     "execution_count": 13,
     "metadata": {},
     "output_type": "execute_result"
    }
   ],
   "source": [
    "a = (events\n",
    ".conditional_join(\n",
    "    events,\n",
    "    ('start', 'end', '<='),\n",
    "    ('end', 'start', '>='),\n",
    "    # ('id', 'id', '!='),\n",
    "    # ('audience','audience','>'),\n",
    "    use_numba = True,\n",
    "    df_columns = ['id', 'start', 'end'],\n",
    "    right_columns = ['id', 'start', 'end'])\n",
    ")\n",
    "\n",
    "a"
   ]
  },
  {
   "cell_type": "code",
   "execution_count": null,
   "metadata": {},
   "outputs": [
    {
     "name": "stdout",
     "output_type": "stream",
     "text": [
      "31.2 µs ± 102 ns per loop (mean ± std. dev. of 7 runs, 10,000 loops each)\n"
     ]
    }
   ],
   "source": [
    "%%timeit\n",
    "(events\n",
    ".conditional_join(\n",
    "    events,\n",
    "    ('start', 'end', '<='),\n",
    "    ('end', 'start', '>='),\n",
    "    # ('id', 'id', '!='),\n",
    "    # ('audience','audience','>'),\n",
    "    use_numba = True,\n",
    "    df_columns = ['id', 'start', 'end'],\n",
    "    right_columns = ['id', 'start', 'end'])\n",
    ")"
   ]
  },
  {
   "cell_type": "code",
   "execution_count": null,
   "metadata": {},
   "outputs": [
    {
     "name": "stdout",
     "output_type": "stream",
     "text": [
      "32.6 µs ± 2.33 µs per loop (mean ± std. dev. of 7 runs, 10,000 loops each)\n"
     ]
    }
   ],
   "source": [
    "%%timeit\n",
    "(events\n",
    ".conditional_join(\n",
    "    events,\n",
    "    ('start', 'end', '<='),\n",
    "    ('end', 'start', '>='),\n",
    "    # ('id', 'id', '!='),\n",
    "    # ('audience','audience','>'),\n",
    "    use_numba = False,\n",
    "    df_columns = ['id', 'start', 'end'],\n",
    "    right_columns = ['id', 'start', 'end'])\n",
    ")"
   ]
  },
  {
   "cell_type": "code",
   "execution_count": null,
   "metadata": {},
   "outputs": [
    {
     "data": {
      "text/plain": [
       "(['id', 'start', 'end'], ['id', 'start', 'end'])"
      ]
     },
     "execution_count": 16,
     "metadata": {},
     "output_type": "execute_result"
    }
   ],
   "source": [
    "(events\n",
    ".conditional_join(\n",
    "    events,\n",
    "    ('start', 'end', '<='),\n",
    "    ('end', 'start', '>='),\n",
    "    ('id', 'id', '!='),\n",
    "    # ('audience','audience','>'),\n",
    "    use_numba = False,\n",
    "    df_columns = ['id', 'start', 'end'],\n",
    "    right_columns = ['id', 'start', 'end'])\n",
    ")"
   ]
  },
  {
   "cell_type": "code",
   "execution_count": null,
   "metadata": {},
   "outputs": [],
   "source": [
    "# # %%timeit\n",
    "# (events\n",
    "# .conditional_join(\n",
    "#     events,\n",
    "#     ('start', 'end', '>='),\n",
    "#     ('end', 'start', '<='),\n",
    "#     ('id', 'id', '!='),\n",
    "#     # ('audience','audience','>'),\n",
    "#     use_numba = True,\n",
    "#     df_columns = ['id', 'start', 'end'],\n",
    "#     right_columns = ['id', 'start', 'end'])\n",
    "# )"
   ]
  },
  {
   "cell_type": "code",
   "execution_count": 6,
   "metadata": {},
   "outputs": [],
   "source": [
    "C=dict(key=[f\"c{num}\" for num in range(1,8)],\n",
    "       vol=[35,15,5,35,18,90,17],\n",
    "       profit=[45,35,55,12,15,55,11],\n",
    "       unitsSold=[15,10,30,10,15,80,2],\n",
    "       keyy = range(1,8)\n",
    "       )\n",
    "C=pd.DataFrame(C)\n",
    "\n",
    "\n",
    "D=dict(key=[f'd{num}' for num in range(1,9)],\n",
    "       vol=[20,50,15,16,40,20,40,2],\n",
    "       profit=[30,10,12,52,35,20,30,57],\n",
    "       unitsSold=[20,35,10,12,40,30,5,15],\n",
    "       keyy=range(8,0,-1)\n",
    "       )\n",
    "D=pd.DataFrame(D)\n",
    "\n"
   ]
  },
  {
   "cell_type": "code",
   "execution_count": null,
   "metadata": {},
   "outputs": [],
   "source": [
    "# C = pd.concat([C]*40*40)\n",
    "# D = pd.concat([D]*40*40)"
   ]
  },
  {
   "cell_type": "code",
   "execution_count": null,
   "metadata": {},
   "outputs": [
    {
     "data": {
      "text/plain": [
       "(  key  vol  profit  unitsSold  keyy\n",
       " 0  c1   35      45         15     1\n",
       " 1  c2   15      35         10     2\n",
       " 2  c3    5      55         30     3\n",
       " 3  c4   35      12         10     4\n",
       " 4  c5   18      15         15     5\n",
       " 5  c6   90      55         80     6\n",
       " 6  c7   17      11          2     7,\n",
       "   key  vol  profit  unitsSold  keyy\n",
       " 0  d1   20      30         20     8\n",
       " 1  d2   50      10         35     7\n",
       " 2  d3   15      12         10     6\n",
       " 3  d4   16      52         12     5\n",
       " 4  d5   40      35         40     4\n",
       " 5  d6   20      20         30     3\n",
       " 6  d7   40      30          5     2\n",
       " 7  d8    2      57         15     1,\n",
       " slice(None, None, None),\n",
       " slice(None, None, None))"
      ]
     },
     "execution_count": 7,
     "metadata": {},
     "output_type": "execute_result"
    }
   ],
   "source": [
    "(C\n",
    ".conditional_join(\n",
    "    D, \n",
    "    \n",
    "    ('profit','profit','>='),\n",
    "    # ('keyy','keyy','=='),\n",
    "  # ('unitsSold','unitsSold','>='),\n",
    "  ('vol','vol','<='),\n",
    "  # ('vol','profit','>'),\n",
    "    use_numba=False)\n",
    ")"
   ]
  },
  {
   "cell_type": "code",
   "execution_count": 7,
   "metadata": {},
   "outputs": [
    {
     "data": {
      "text/plain": [
       "(  key  vol  profit  unitsSold  keyy\n",
       " 0  c1   35      45         15     1\n",
       " 1  c2   15      35         10     2\n",
       " 2  c3    5      55         30     3\n",
       " 3  c4   35      12         10     4\n",
       " 4  c5   18      15         15     5\n",
       " 5  c6   90      55         80     6\n",
       " 6  c7   17      11          2     7,\n",
       "   key  vol  profit  unitsSold  keyy\n",
       " 0  d1   20      30         20     8\n",
       " 1  d2   50      10         35     7\n",
       " 2  d3   15      12         10     6\n",
       " 3  d4   16      52         12     5\n",
       " 4  d5   40      35         40     4\n",
       " 5  d6   20      20         30     3\n",
       " 6  d7   40      30          5     2\n",
       " 7  d8    2      57         15     1,\n",
       " 1,\n",
       " slice(None, None, None))"
      ]
     },
     "execution_count": 7,
     "metadata": {},
     "output_type": "execute_result"
    }
   ],
   "source": [
    "(C\n",
    ".conditional_join(\n",
    "    D, \n",
    "    \n",
    "    ('profit','profit','>='),\n",
    "    # ('keyy','keyy','=='),\n",
    "  # ('unitsSold','unitsSold','>='),\n",
    "  ('vol','vol','<='),\n",
    "  # ('vol','profit','>'),\n",
    "    use_numba=False, df_columns=1)\n",
    ")"
   ]
  },
  {
   "cell_type": "code",
   "execution_count": null,
   "metadata": {},
   "outputs": [],
   "source": [
    "# %%timeit\n",
    "# (C\n",
    "# .conditional_join(\n",
    "#     D, \n",
    "    \n",
    "#     ('profit','profit','>='),\n",
    "#     # ('keyy','keyy','=='),\n",
    "#   # ('unitsSold','unitsSold','>='),\n",
    "#   ('vol','vol','<='),\n",
    "#   # ('vol','profit','>'),\n",
    "#     use_numba=True)\n",
    "# )"
   ]
  },
  {
   "cell_type": "code",
   "execution_count": null,
   "metadata": {},
   "outputs": [],
   "source": [
    "# %%timeit\n",
    "# (C\n",
    "# .conditional_join(\n",
    "#     D, \n",
    "    \n",
    "#     ('profit','profit','>='),\n",
    "#     # ('keyy','keyy','=='),\n",
    "#   # ('unitsSold','unitsSold','>='),\n",
    "#   ('vol','vol','<='),\n",
    "#   # ('vol','profit','>'),\n",
    "#     use_numba=False)\n",
    "# )"
   ]
  },
  {
   "cell_type": "code",
   "execution_count": null,
   "metadata": {},
   "outputs": [
    {
     "data": {
      "text/html": [
       "<div>\n",
       "<style scoped>\n",
       "    .dataframe tbody tr th:only-of-type {\n",
       "        vertical-align: middle;\n",
       "    }\n",
       "\n",
       "    .dataframe tbody tr th {\n",
       "        vertical-align: top;\n",
       "    }\n",
       "\n",
       "    .dataframe thead th {\n",
       "        text-align: right;\n",
       "    }\n",
       "</style>\n",
       "<table border=\"1\" class=\"dataframe\">\n",
       "  <thead>\n",
       "    <tr style=\"text-align: right;\">\n",
       "      <th></th>\n",
       "      <th>key</th>\n",
       "      <th>vol</th>\n",
       "      <th>profit</th>\n",
       "      <th>unitsSold</th>\n",
       "      <th>keyy</th>\n",
       "    </tr>\n",
       "  </thead>\n",
       "  <tbody>\n",
       "    <tr>\n",
       "      <th>0</th>\n",
       "      <td>c1</td>\n",
       "      <td>35</td>\n",
       "      <td>45</td>\n",
       "      <td>15</td>\n",
       "      <td>1</td>\n",
       "    </tr>\n",
       "    <tr>\n",
       "      <th>1</th>\n",
       "      <td>c2</td>\n",
       "      <td>15</td>\n",
       "      <td>35</td>\n",
       "      <td>10</td>\n",
       "      <td>2</td>\n",
       "    </tr>\n",
       "    <tr>\n",
       "      <th>2</th>\n",
       "      <td>c3</td>\n",
       "      <td>5</td>\n",
       "      <td>55</td>\n",
       "      <td>30</td>\n",
       "      <td>3</td>\n",
       "    </tr>\n",
       "    <tr>\n",
       "      <th>3</th>\n",
       "      <td>c4</td>\n",
       "      <td>35</td>\n",
       "      <td>12</td>\n",
       "      <td>10</td>\n",
       "      <td>4</td>\n",
       "    </tr>\n",
       "    <tr>\n",
       "      <th>4</th>\n",
       "      <td>c5</td>\n",
       "      <td>18</td>\n",
       "      <td>15</td>\n",
       "      <td>15</td>\n",
       "      <td>5</td>\n",
       "    </tr>\n",
       "    <tr>\n",
       "      <th>5</th>\n",
       "      <td>c6</td>\n",
       "      <td>90</td>\n",
       "      <td>55</td>\n",
       "      <td>80</td>\n",
       "      <td>6</td>\n",
       "    </tr>\n",
       "    <tr>\n",
       "      <th>6</th>\n",
       "      <td>c7</td>\n",
       "      <td>17</td>\n",
       "      <td>11</td>\n",
       "      <td>2</td>\n",
       "      <td>7</td>\n",
       "    </tr>\n",
       "  </tbody>\n",
       "</table>\n",
       "</div>"
      ],
      "text/plain": [
       "  key  vol  profit  unitsSold  keyy\n",
       "0  c1   35      45         15     1\n",
       "1  c2   15      35         10     2\n",
       "2  c3    5      55         30     3\n",
       "3  c4   35      12         10     4\n",
       "4  c5   18      15         15     5\n",
       "5  c6   90      55         80     6\n",
       "6  c7   17      11          2     7"
      ]
     },
     "execution_count": 24,
     "metadata": {},
     "output_type": "execute_result"
    }
   ],
   "source": [
    "C"
   ]
  },
  {
   "cell_type": "code",
   "execution_count": null,
   "metadata": {},
   "outputs": [
    {
     "data": {
      "text/html": [
       "<div>\n",
       "<style scoped>\n",
       "    .dataframe tbody tr th:only-of-type {\n",
       "        vertical-align: middle;\n",
       "    }\n",
       "\n",
       "    .dataframe tbody tr th {\n",
       "        vertical-align: top;\n",
       "    }\n",
       "\n",
       "    .dataframe thead th {\n",
       "        text-align: right;\n",
       "    }\n",
       "</style>\n",
       "<table border=\"1\" class=\"dataframe\">\n",
       "  <thead>\n",
       "    <tr style=\"text-align: right;\">\n",
       "      <th></th>\n",
       "      <th>key</th>\n",
       "      <th>vol</th>\n",
       "      <th>profit</th>\n",
       "      <th>unitsSold</th>\n",
       "      <th>keyy</th>\n",
       "    </tr>\n",
       "  </thead>\n",
       "  <tbody>\n",
       "    <tr>\n",
       "      <th>1</th>\n",
       "      <td>d2</td>\n",
       "      <td>50</td>\n",
       "      <td>10</td>\n",
       "      <td>35</td>\n",
       "      <td>7</td>\n",
       "    </tr>\n",
       "    <tr>\n",
       "      <th>2</th>\n",
       "      <td>d3</td>\n",
       "      <td>15</td>\n",
       "      <td>12</td>\n",
       "      <td>10</td>\n",
       "      <td>6</td>\n",
       "    </tr>\n",
       "    <tr>\n",
       "      <th>5</th>\n",
       "      <td>d6</td>\n",
       "      <td>20</td>\n",
       "      <td>20</td>\n",
       "      <td>30</td>\n",
       "      <td>3</td>\n",
       "    </tr>\n",
       "    <tr>\n",
       "      <th>0</th>\n",
       "      <td>d1</td>\n",
       "      <td>20</td>\n",
       "      <td>30</td>\n",
       "      <td>20</td>\n",
       "      <td>8</td>\n",
       "    </tr>\n",
       "    <tr>\n",
       "      <th>6</th>\n",
       "      <td>d7</td>\n",
       "      <td>40</td>\n",
       "      <td>30</td>\n",
       "      <td>5</td>\n",
       "      <td>2</td>\n",
       "    </tr>\n",
       "    <tr>\n",
       "      <th>4</th>\n",
       "      <td>d5</td>\n",
       "      <td>40</td>\n",
       "      <td>35</td>\n",
       "      <td>40</td>\n",
       "      <td>4</td>\n",
       "    </tr>\n",
       "    <tr>\n",
       "      <th>3</th>\n",
       "      <td>d4</td>\n",
       "      <td>16</td>\n",
       "      <td>52</td>\n",
       "      <td>12</td>\n",
       "      <td>5</td>\n",
       "    </tr>\n",
       "    <tr>\n",
       "      <th>7</th>\n",
       "      <td>d8</td>\n",
       "      <td>2</td>\n",
       "      <td>57</td>\n",
       "      <td>15</td>\n",
       "      <td>1</td>\n",
       "    </tr>\n",
       "  </tbody>\n",
       "</table>\n",
       "</div>"
      ],
      "text/plain": [
       "  key  vol  profit  unitsSold  keyy\n",
       "1  d2   50      10         35     7\n",
       "2  d3   15      12         10     6\n",
       "5  d6   20      20         30     3\n",
       "0  d1   20      30         20     8\n",
       "6  d7   40      30          5     2\n",
       "4  d5   40      35         40     4\n",
       "3  d4   16      52         12     5\n",
       "7  d8    2      57         15     1"
      ]
     },
     "execution_count": 25,
     "metadata": {},
     "output_type": "execute_result"
    }
   ],
   "source": [
    "D.sort_values('profit')"
   ]
  },
  {
   "cell_type": "code",
   "execution_count": null,
   "metadata": {},
   "outputs": [
    {
     "data": {
      "text/html": [
       "<div>\n",
       "<style scoped>\n",
       "    .dataframe tbody tr th:only-of-type {\n",
       "        vertical-align: middle;\n",
       "    }\n",
       "\n",
       "    .dataframe tbody tr th {\n",
       "        vertical-align: top;\n",
       "    }\n",
       "\n",
       "    .dataframe thead th {\n",
       "        text-align: right;\n",
       "    }\n",
       "</style>\n",
       "<table border=\"1\" class=\"dataframe\">\n",
       "  <thead>\n",
       "    <tr style=\"text-align: right;\">\n",
       "      <th></th>\n",
       "      <th>key</th>\n",
       "      <th>vol</th>\n",
       "      <th>profit</th>\n",
       "      <th>unitsSold</th>\n",
       "      <th>keyy</th>\n",
       "    </tr>\n",
       "  </thead>\n",
       "  <tbody>\n",
       "    <tr>\n",
       "      <th>7</th>\n",
       "      <td>d8</td>\n",
       "      <td>2</td>\n",
       "      <td>57</td>\n",
       "      <td>15</td>\n",
       "      <td>1</td>\n",
       "    </tr>\n",
       "    <tr>\n",
       "      <th>2</th>\n",
       "      <td>d3</td>\n",
       "      <td>15</td>\n",
       "      <td>12</td>\n",
       "      <td>10</td>\n",
       "      <td>6</td>\n",
       "    </tr>\n",
       "    <tr>\n",
       "      <th>3</th>\n",
       "      <td>d4</td>\n",
       "      <td>16</td>\n",
       "      <td>52</td>\n",
       "      <td>12</td>\n",
       "      <td>5</td>\n",
       "    </tr>\n",
       "    <tr>\n",
       "      <th>0</th>\n",
       "      <td>d1</td>\n",
       "      <td>20</td>\n",
       "      <td>30</td>\n",
       "      <td>20</td>\n",
       "      <td>8</td>\n",
       "    </tr>\n",
       "    <tr>\n",
       "      <th>5</th>\n",
       "      <td>d6</td>\n",
       "      <td>20</td>\n",
       "      <td>20</td>\n",
       "      <td>30</td>\n",
       "      <td>3</td>\n",
       "    </tr>\n",
       "    <tr>\n",
       "      <th>4</th>\n",
       "      <td>d5</td>\n",
       "      <td>40</td>\n",
       "      <td>35</td>\n",
       "      <td>40</td>\n",
       "      <td>4</td>\n",
       "    </tr>\n",
       "    <tr>\n",
       "      <th>6</th>\n",
       "      <td>d7</td>\n",
       "      <td>40</td>\n",
       "      <td>30</td>\n",
       "      <td>5</td>\n",
       "      <td>2</td>\n",
       "    </tr>\n",
       "    <tr>\n",
       "      <th>1</th>\n",
       "      <td>d2</td>\n",
       "      <td>50</td>\n",
       "      <td>10</td>\n",
       "      <td>35</td>\n",
       "      <td>7</td>\n",
       "    </tr>\n",
       "  </tbody>\n",
       "</table>\n",
       "</div>"
      ],
      "text/plain": [
       "  key  vol  profit  unitsSold  keyy\n",
       "7  d8    2      57         15     1\n",
       "2  d3   15      12         10     6\n",
       "3  d4   16      52         12     5\n",
       "0  d1   20      30         20     8\n",
       "5  d6   20      20         30     3\n",
       "4  d5   40      35         40     4\n",
       "6  d7   40      30          5     2\n",
       "1  d2   50      10         35     7"
      ]
     },
     "execution_count": 26,
     "metadata": {},
     "output_type": "execute_result"
    }
   ],
   "source": [
    "D.sort_values('vol')"
   ]
  },
  {
   "cell_type": "code",
   "execution_count": null,
   "metadata": {},
   "outputs": [],
   "source": [
    "# %%timeit\n",
    "# (C\n",
    "# .conditional_join(\n",
    "#     D, \n",
    "    \n",
    "#     ('profit','profit','>='),\n",
    "#     # ('keyy','keyy','=='),\n",
    "#   # ('unitsSold','unitsSold','>='),\n",
    "#   ('vol','vol','<='),\n",
    "#   # ('vol','profit','>'),\n",
    "#     use_numba=False)\n",
    "# )"
   ]
  },
  {
   "cell_type": "code",
   "execution_count": null,
   "metadata": {},
   "outputs": [
    {
     "data": {
      "text/html": [
       "<div>\n",
       "<style scoped>\n",
       "    .dataframe tbody tr th:only-of-type {\n",
       "        vertical-align: middle;\n",
       "    }\n",
       "\n",
       "    .dataframe tbody tr th {\n",
       "        vertical-align: top;\n",
       "    }\n",
       "\n",
       "    .dataframe thead th {\n",
       "        text-align: right;\n",
       "    }\n",
       "</style>\n",
       "<table border=\"1\" class=\"dataframe\">\n",
       "  <thead>\n",
       "    <tr style=\"text-align: right;\">\n",
       "      <th></th>\n",
       "      <th>key</th>\n",
       "      <th>vol</th>\n",
       "      <th>profit</th>\n",
       "      <th>unitsSold</th>\n",
       "      <th>keyy</th>\n",
       "    </tr>\n",
       "  </thead>\n",
       "  <tbody>\n",
       "    <tr>\n",
       "      <th>0</th>\n",
       "      <td>c1</td>\n",
       "      <td>35</td>\n",
       "      <td>45</td>\n",
       "      <td>15</td>\n",
       "      <td>1</td>\n",
       "    </tr>\n",
       "    <tr>\n",
       "      <th>1</th>\n",
       "      <td>c2</td>\n",
       "      <td>15</td>\n",
       "      <td>35</td>\n",
       "      <td>10</td>\n",
       "      <td>2</td>\n",
       "    </tr>\n",
       "    <tr>\n",
       "      <th>2</th>\n",
       "      <td>c3</td>\n",
       "      <td>5</td>\n",
       "      <td>55</td>\n",
       "      <td>30</td>\n",
       "      <td>3</td>\n",
       "    </tr>\n",
       "    <tr>\n",
       "      <th>3</th>\n",
       "      <td>c4</td>\n",
       "      <td>35</td>\n",
       "      <td>12</td>\n",
       "      <td>10</td>\n",
       "      <td>4</td>\n",
       "    </tr>\n",
       "    <tr>\n",
       "      <th>4</th>\n",
       "      <td>c5</td>\n",
       "      <td>18</td>\n",
       "      <td>15</td>\n",
       "      <td>15</td>\n",
       "      <td>5</td>\n",
       "    </tr>\n",
       "    <tr>\n",
       "      <th>5</th>\n",
       "      <td>c6</td>\n",
       "      <td>90</td>\n",
       "      <td>55</td>\n",
       "      <td>80</td>\n",
       "      <td>6</td>\n",
       "    </tr>\n",
       "    <tr>\n",
       "      <th>6</th>\n",
       "      <td>c7</td>\n",
       "      <td>17</td>\n",
       "      <td>11</td>\n",
       "      <td>2</td>\n",
       "      <td>7</td>\n",
       "    </tr>\n",
       "  </tbody>\n",
       "</table>\n",
       "</div>"
      ],
      "text/plain": [
       "  key  vol  profit  unitsSold  keyy\n",
       "0  c1   35      45         15     1\n",
       "1  c2   15      35         10     2\n",
       "2  c3    5      55         30     3\n",
       "3  c4   35      12         10     4\n",
       "4  c5   18      15         15     5\n",
       "5  c6   90      55         80     6\n",
       "6  c7   17      11          2     7"
      ]
     },
     "execution_count": 28,
     "metadata": {},
     "output_type": "execute_result"
    }
   ],
   "source": [
    "C"
   ]
  },
  {
   "cell_type": "code",
   "execution_count": null,
   "metadata": {},
   "outputs": [
    {
     "data": {
      "text/html": [
       "<div>\n",
       "<style scoped>\n",
       "    .dataframe tbody tr th:only-of-type {\n",
       "        vertical-align: middle;\n",
       "    }\n",
       "\n",
       "    .dataframe tbody tr th {\n",
       "        vertical-align: top;\n",
       "    }\n",
       "\n",
       "    .dataframe thead th {\n",
       "        text-align: right;\n",
       "    }\n",
       "</style>\n",
       "<table border=\"1\" class=\"dataframe\">\n",
       "  <thead>\n",
       "    <tr style=\"text-align: right;\">\n",
       "      <th></th>\n",
       "      <th>key</th>\n",
       "      <th>vol</th>\n",
       "      <th>profit</th>\n",
       "      <th>unitsSold</th>\n",
       "      <th>keyy</th>\n",
       "    </tr>\n",
       "  </thead>\n",
       "  <tbody>\n",
       "    <tr>\n",
       "      <th>1</th>\n",
       "      <td>d2</td>\n",
       "      <td>50</td>\n",
       "      <td>10</td>\n",
       "      <td>35</td>\n",
       "      <td>7</td>\n",
       "    </tr>\n",
       "    <tr>\n",
       "      <th>2</th>\n",
       "      <td>d3</td>\n",
       "      <td>15</td>\n",
       "      <td>12</td>\n",
       "      <td>10</td>\n",
       "      <td>6</td>\n",
       "    </tr>\n",
       "    <tr>\n",
       "      <th>5</th>\n",
       "      <td>d6</td>\n",
       "      <td>20</td>\n",
       "      <td>20</td>\n",
       "      <td>30</td>\n",
       "      <td>3</td>\n",
       "    </tr>\n",
       "    <tr>\n",
       "      <th>0</th>\n",
       "      <td>d1</td>\n",
       "      <td>20</td>\n",
       "      <td>30</td>\n",
       "      <td>20</td>\n",
       "      <td>8</td>\n",
       "    </tr>\n",
       "    <tr>\n",
       "      <th>6</th>\n",
       "      <td>d7</td>\n",
       "      <td>40</td>\n",
       "      <td>30</td>\n",
       "      <td>5</td>\n",
       "      <td>2</td>\n",
       "    </tr>\n",
       "    <tr>\n",
       "      <th>4</th>\n",
       "      <td>d5</td>\n",
       "      <td>40</td>\n",
       "      <td>35</td>\n",
       "      <td>40</td>\n",
       "      <td>4</td>\n",
       "    </tr>\n",
       "    <tr>\n",
       "      <th>3</th>\n",
       "      <td>d4</td>\n",
       "      <td>16</td>\n",
       "      <td>52</td>\n",
       "      <td>12</td>\n",
       "      <td>5</td>\n",
       "    </tr>\n",
       "    <tr>\n",
       "      <th>7</th>\n",
       "      <td>d8</td>\n",
       "      <td>2</td>\n",
       "      <td>57</td>\n",
       "      <td>15</td>\n",
       "      <td>1</td>\n",
       "    </tr>\n",
       "  </tbody>\n",
       "</table>\n",
       "</div>"
      ],
      "text/plain": [
       "  key  vol  profit  unitsSold  keyy\n",
       "1  d2   50      10         35     7\n",
       "2  d3   15      12         10     6\n",
       "5  d6   20      20         30     3\n",
       "0  d1   20      30         20     8\n",
       "6  d7   40      30          5     2\n",
       "4  d5   40      35         40     4\n",
       "3  d4   16      52         12     5\n",
       "7  d8    2      57         15     1"
      ]
     },
     "execution_count": 29,
     "metadata": {},
     "output_type": "execute_result"
    }
   ],
   "source": [
    "D.sort_values('profit')"
   ]
  },
  {
   "cell_type": "code",
   "execution_count": null,
   "metadata": {},
   "outputs": [],
   "source": [
    "# f=(C\n",
    "# .conditional_join(\n",
    "#     D, \n",
    "    \n",
    "#     ('profit','profit','>='),\n",
    "#     # ('keyy','keyy','=='),\n",
    "#    ('unitsSold','unitsSold','>='),\n",
    "#  # ('vol','vol','<='),\n",
    "#   # ('vol','profit','>'),\n",
    "#     use_numba=True)\n",
    "# )\n",
    "# f"
   ]
  },
  {
   "cell_type": "code",
   "execution_count": null,
   "metadata": {},
   "outputs": [],
   "source": [
    "# from string import ascii_lowercase\n",
    "# np.random.seed(1)\n",
    "# n = 20; k = 20\n",
    "# # n = 20_000_000; k = 20_000\n",
    "# mapp = {k:v for v,k in enumerate(ascii_lowercase)}\n",
    "# idx1 = np.random.randint(0, high = 2_00, size = n)\n",
    "# idx2 = np.random.randint(0, high = 3_00, size = n)\n",
    "\n",
    "# d1 = dict(x = np.random.choice(list(ascii_lowercase[:5]), size=n),\n",
    "#           start = np.minimum(idx1, idx2),\n",
    "#           end = np.maximum(idx1, idx2),\n",
    "#           )\n",
    "\n",
    "\n",
    "# d2 = dict(x = np.random.choice(list(ascii_lowercase[:15]), size=k),\n",
    "#           pos1 = np.random.randint(low=60, high = 151, size=k))\n",
    "\n",
    "# d1 = pd.DataFrame(d1)\n",
    "# d2 = pd.DataFrame(d2)\n",
    "# d1 = d1.assign(xx=lambda df: df.x.map(mapp))\n",
    "# d2 = d2.assign(xx=lambda df: df.x.map(mapp))"
   ]
  },
  {
   "cell_type": "code",
   "execution_count": null,
   "metadata": {},
   "outputs": [],
   "source": [
    "# bla = (d2\n",
    "# .conditional_join(\n",
    "#     d1, \n",
    "#     ('pos1', 'start', '>'), \n",
    "#      ('pos1', 'end', '<'), \n",
    "#    # ('xx', 'xx', '=='), \n",
    "#     use_numba=True)\n",
    "# )\n",
    "\n",
    "# bla"
   ]
  },
  {
   "cell_type": "code",
   "execution_count": null,
   "metadata": {},
   "outputs": [
    {
     "data": {
      "text/plain": [
       "array([6, 6, 6, 6, 2, 4, 5, 6, 5, 6, 5, 6, 6, 6, 5, 1, 6, 6, 3])"
      ]
     },
     "execution_count": 33,
     "metadata": {},
     "output_type": "execute_result"
    }
   ],
   "source": [
    "x=np.array([6, 6, 6, 6, 2, 4, 5, 6, 5, 6, 5, 6, 6, 6, 5, 1, 6, 6, 3])\n",
    "x"
   ]
  },
  {
   "cell_type": "code",
   "execution_count": null,
   "metadata": {},
   "outputs": [
    {
     "ename": "NameError",
     "evalue": "name 'bla' is not defined",
     "output_type": "error",
     "traceback": [
      "\u001b[0;31m---------------------------------------------------------------------------\u001b[0m",
      "\u001b[0;31mNameError\u001b[0m                                 Traceback (most recent call last)",
      "Cell \u001b[0;32mIn[34], line 1\u001b[0m\n\u001b[0;32m----> 1\u001b[0m np\u001b[38;5;241m.\u001b[39mpartition(\u001b[43mbla\u001b[49m[\u001b[38;5;241m1\u001b[39m],\u001b[38;5;241m248842\u001b[39m\u001b[38;5;241m-\u001b[39m\u001b[38;5;241m248212\u001b[39m)[\u001b[38;5;241m248842\u001b[39m\u001b[38;5;241m-\u001b[39m\u001b[38;5;241m248212\u001b[39m:]\n",
      "\u001b[0;31mNameError\u001b[0m: name 'bla' is not defined"
     ]
    }
   ],
   "source": [
    "np.partition(bla[1],248842-248212)[248842-248212:]"
   ]
  },
  {
   "cell_type": "code",
   "execution_count": null,
   "metadata": {},
   "outputs": [],
   "source": [
    "%timeit bla[1][np.argpartition(bla[1],248842-248212)[248842-248212:]]"
   ]
  },
  {
   "cell_type": "code",
   "execution_count": null,
   "metadata": {},
   "outputs": [],
   "source": [
    "%timeit bla[1][bla[1]>=91]"
   ]
  },
  {
   "cell_type": "code",
   "execution_count": null,
   "metadata": {},
   "outputs": [],
   "source": [
    "bla[1][bla[1]>=91]"
   ]
  },
  {
   "cell_type": "code",
   "execution_count": null,
   "metadata": {},
   "outputs": [],
   "source": [
    "%timeit x[x>=6]"
   ]
  },
  {
   "cell_type": "code",
   "execution_count": null,
   "metadata": {},
   "outputs": [],
   "source": [
    "np.partition(x,7)"
   ]
  },
  {
   "cell_type": "code",
   "execution_count": null,
   "metadata": {},
   "outputs": [],
   "source": [
    "%timeit x[np.argpartition(x,7)[8:]]"
   ]
  },
  {
   "cell_type": "code",
   "execution_count": null,
   "metadata": {},
   "outputs": [],
   "source": [
    "%timeit x[np.argpartition(x,7)]"
   ]
  },
  {
   "cell_type": "code",
   "execution_count": null,
   "metadata": {},
   "outputs": [],
   "source": [
    "len([3, 6, 6, 6, 6, 6, 6, 6, 6, 6, 6, 6, 6, 6, 6, 6, 6, 6, 6])"
   ]
  },
  {
   "cell_type": "code",
   "execution_count": null,
   "metadata": {},
   "outputs": [],
   "source": [
    "np.searchsorted([3, 6, 6, 6, 6, 6, 6, 6, 6, 6, 6, 6, 6, 6, 6, 6, 6, 6, 6], 1)"
   ]
  },
  {
   "cell_type": "code",
   "execution_count": null,
   "metadata": {},
   "outputs": [],
   "source": [
    "bla[3].size"
   ]
  },
  {
   "cell_type": "code",
   "execution_count": null,
   "metadata": {},
   "outputs": [],
   "source": [
    "(bla[5][:2410367]>=91).sum()"
   ]
  },
  {
   "cell_type": "code",
   "execution_count": null,
   "metadata": {},
   "outputs": [],
   "source": [
    "%timeit bla[5][:2410367][bla[5][:2410367]>=91]"
   ]
  },
  {
   "cell_type": "code",
   "execution_count": null,
   "metadata": {},
   "outputs": [],
   "source": [
    "%timeit np.sort(bla[1][97:97+14458])"
   ]
  },
  {
   "cell_type": "code",
   "execution_count": null,
   "metadata": {},
   "outputs": [],
   "source": [
    "pd.unique(bla[5])"
   ]
  },
  {
   "cell_type": "code",
   "execution_count": null,
   "metadata": {},
   "outputs": [],
   "source": [
    "bla[1].size"
   ]
  },
  {
   "cell_type": "code",
   "execution_count": null,
   "metadata": {},
   "outputs": [],
   "source": [
    "uniques = pd.factorize(bla[5],sort=True)[1]\n",
    "uniques"
   ]
  },
  {
   "cell_type": "code",
   "execution_count": null,
   "metadata": {},
   "outputs": [],
   "source": [
    "%timeit uniques.searchsorted(91)"
   ]
  },
  {
   "cell_type": "code",
   "execution_count": null,
   "metadata": {},
   "outputs": [],
   "source": [
    "%timeit uniques.searchsorted(bla[5][:2410367])"
   ]
  },
  {
   "cell_type": "code",
   "execution_count": null,
   "metadata": {},
   "outputs": [],
   "source": [
    "pd.unique(pd.factorize(bla[1],sort=True)[0])"
   ]
  }
 ],
 "metadata": {
  "kernelspec": {
   "display_name": "pyjanitor-dev",
   "language": "python",
   "name": "python3"
  },
  "language_info": {
   "codemirror_mode": {
    "name": "ipython",
    "version": 3
   },
   "file_extension": ".py",
   "mimetype": "text/x-python",
   "name": "python",
   "nbconvert_exporter": "python",
   "pygments_lexer": "ipython3",
   "version": "3.10.12"
  }
 },
 "nbformat": 4,
 "nbformat_minor": 2
}
