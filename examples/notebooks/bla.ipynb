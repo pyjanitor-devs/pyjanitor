{
 "cells": [
  {
   "cell_type": "code",
   "execution_count": null,
   "metadata": {},
   "outputs": [],
   "source": [
    "import pandas as pd; import numpy as np; import janitor as jn\n"
   ]
  },
  {
   "cell_type": "code",
   "execution_count": null,
   "metadata": {},
   "outputs": [],
   "source": [
    "pd.__version__"
   ]
  },
  {
   "cell_type": "code",
   "execution_count": null,
   "metadata": {},
   "outputs": [],
   "source": []
  },
  {
   "cell_type": "code",
   "execution_count": null,
   "metadata": {},
   "outputs": [],
   "source": [
    "events = pd.read_csv('/Users/samuel.oranyeli/Downloads/results.csv', parse_dates=['start','end']).iloc[:, 1:]"
   ]
  },
  {
   "cell_type": "code",
   "execution_count": null,
   "metadata": {},
   "outputs": [],
   "source": [
    "events.dtypes"
   ]
  },
  {
   "cell_type": "code",
   "execution_count": null,
   "metadata": {},
   "outputs": [],
   "source": [
    "a = (events\n",
    ".conditional_join(\n",
    "    events,\n",
    "    ('start', 'end', '<='),\n",
    "    ('end', 'start', '>='),\n",
    "    # ('id', 'id', '!='),\n",
    "    # ('audience','audience','>'),\n",
    "    use_numba = True,\n",
    "    df_columns = ['id', 'start', 'end'],\n",
    "    right_columns = ['id', 'start', 'end'])\n",
    ")\n",
    "\n",
    "a"
   ]
  },
  {
   "cell_type": "code",
   "execution_count": null,
   "metadata": {},
   "outputs": [],
   "source": [
    "# %%timeit\n",
    "# (events\n",
    "# .conditional_join(\n",
    "#     events,\n",
    "#     ('start', 'end', '<='),\n",
    "#     ('end', 'start', '>='),\n",
    "#     # ('id', 'id', '!='),\n",
    "#     # ('audience','audience','>'),\n",
    "#     use_numba = True,\n",
    "#     df_columns = ['id', 'start', 'end'],\n",
    "#     right_columns = ['id', 'start', 'end'])\n",
    "# )"
   ]
  },
  {
   "cell_type": "code",
   "execution_count": null,
   "metadata": {},
   "outputs": [],
   "source": [
    "# %%timeit\n",
    "# (events\n",
    "# .conditional_join(\n",
    "#     events,\n",
    "#     ('start', 'end', '<='),\n",
    "#     ('end', 'start', '>='),\n",
    "#     # ('id', 'id', '!='),\n",
    "#     # ('audience','audience','>'),\n",
    "#     use_numba = False,\n",
    "#     df_columns = ['id', 'start', 'end'],\n",
    "#     right_columns = ['id', 'start', 'end'])\n",
    "# )"
   ]
  },
  {
   "cell_type": "code",
   "execution_count": null,
   "metadata": {},
   "outputs": [],
   "source": [
    "(events\n",
    ".conditional_join(\n",
    "    events,\n",
    "    ('start', 'end', '<='),\n",
    "    ('end', 'start', '>='),\n",
    "    ('id', 'id', '!='),\n",
    "    # ('audience','audience','>'),\n",
    "    use_numba = False,\n",
    "    df_columns = ['id', 'start', 'end'],\n",
    "    right_columns = ['id', 'start', 'end'])\n",
    ")"
   ]
  },
  {
   "cell_type": "code",
   "execution_count": null,
   "metadata": {},
   "outputs": [],
   "source": [
    "# # %%timeit\n",
    "# (events\n",
    "# .conditional_join(\n",
    "#     events,\n",
    "#     ('start', 'end', '>='),\n",
    "#     ('end', 'start', '<='),\n",
    "#     ('id', 'id', '!='),\n",
    "#     # ('audience','audience','>'),\n",
    "#     use_numba = True,\n",
    "#     df_columns = ['id', 'start', 'end'],\n",
    "#     right_columns = ['id', 'start', 'end'])\n",
    "# )"
   ]
  },
  {
   "cell_type": "code",
   "execution_count": null,
   "metadata": {},
   "outputs": [],
   "source": [
    "C=dict(key=[f\"c{num}\" for num in range(1,8)],\n",
    "       vol=[35,15,5,35,18,90,17],\n",
    "       profit=[45,35,55,12,15,55,11],\n",
    "       unitsSold=[15,10,30,10,15,80,2],\n",
    "       keyy = range(1,8)\n",
    "       )\n",
    "C=pd.DataFrame(C)\n",
    "\n",
    "\n",
    "D=dict(key=[f'd{num}' for num in range(1,9)],\n",
    "       vol=[20,50,15,16,40,20,40,2],\n",
    "       profit=[30,10,12,52,35,20,30,57],\n",
    "       unitsSold=[20,35,10,12,40,30,5,15],\n",
    "       keyy=range(8,0,-1)\n",
    "       )\n",
    "D=pd.DataFrame(D)\n",
    "\n"
   ]
  },
  {
   "cell_type": "code",
   "execution_count": null,
   "metadata": {},
   "outputs": [],
   "source": [
    "# C = pd.concat([C]*40*40)\n",
    "# D = pd.concat([D]*40*40)"
   ]
  },
  {
   "cell_type": "code",
   "execution_count": null,
   "metadata": {},
   "outputs": [],
   "source": [
    "(C\n",
    ".conditional_join(\n",
    "    D, \n",
    "    \n",
    "    ('profit','profit','>='),\n",
    "    # ('keyy','keyy','=='),\n",
    "  # ('unitsSold','unitsSold','>='),\n",
    "  ('vol','vol','<='),\n",
    "  # ('vol','profit','>'),\n",
    "    use_numba=True)\n",
    ")"
   ]
  },
  {
   "cell_type": "code",
   "execution_count": null,
   "metadata": {},
   "outputs": [],
   "source": [
    "(C\n",
    ".conditional_join(\n",
    "    D, \n",
    "    \n",
    "    ('profit','profit','>='),\n",
    "    # ('keyy','keyy','=='),\n",
    "  # ('unitsSold','unitsSold','>='),\n",
    "  ('vol','vol','<='),\n",
    "  # ('vol','profit','>'),\n",
    "    use_numba=False)\n",
    ")"
   ]
  },
  {
   "cell_type": "code",
   "execution_count": null,
   "metadata": {},
   "outputs": [],
   "source": [
    "# %%timeit\n",
    "# (C\n",
    "# .conditional_join(\n",
    "#     D, \n",
    "    \n",
    "#     ('profit','profit','>='),\n",
    "#     # ('keyy','keyy','=='),\n",
    "#   # ('unitsSold','unitsSold','>='),\n",
    "#   ('vol','vol','<='),\n",
    "#   # ('vol','profit','>'),\n",
    "#     use_numba=True)\n",
    "# )"
   ]
  },
  {
   "cell_type": "code",
   "execution_count": null,
   "metadata": {},
   "outputs": [],
   "source": [
    "# %%timeit\n",
    "# (C\n",
    "# .conditional_join(\n",
    "#     D, \n",
    "    \n",
    "#     ('profit','profit','>='),\n",
    "#     # ('keyy','keyy','=='),\n",
    "#   # ('unitsSold','unitsSold','>='),\n",
    "#   ('vol','vol','<='),\n",
    "#   # ('vol','profit','>'),\n",
    "#     use_numba=False)\n",
    "# )"
   ]
  },
  {
   "cell_type": "code",
   "execution_count": null,
   "metadata": {},
   "outputs": [],
   "source": [
    "C"
   ]
  },
  {
   "cell_type": "code",
   "execution_count": null,
   "metadata": {},
   "outputs": [],
   "source": [
    "D.sort_values('profit')"
   ]
  },
  {
   "cell_type": "code",
   "execution_count": null,
   "metadata": {},
   "outputs": [],
   "source": [
    "D.sort_values('vol')"
   ]
  },
  {
   "cell_type": "code",
   "execution_count": null,
   "metadata": {},
   "outputs": [],
   "source": [
    "# %%timeit\n",
    "# (C\n",
    "# .conditional_join(\n",
    "#     D, \n",
    "    \n",
    "#     ('profit','profit','>='),\n",
    "#     # ('keyy','keyy','=='),\n",
    "#   # ('unitsSold','unitsSold','>='),\n",
    "#   ('vol','vol','<='),\n",
    "#   # ('vol','profit','>'),\n",
    "#     use_numba=False)\n",
    "# )"
   ]
  },
  {
   "cell_type": "code",
   "execution_count": null,
   "metadata": {},
   "outputs": [],
   "source": [
    "C"
   ]
  },
  {
   "cell_type": "code",
   "execution_count": null,
   "metadata": {},
   "outputs": [],
   "source": [
    "D.sort_values('profit')"
   ]
  },
  {
   "cell_type": "code",
   "execution_count": null,
   "metadata": {},
   "outputs": [],
   "source": [
    "# f=(C\n",
    "# .conditional_join(\n",
    "#     D, \n",
    "    \n",
    "#     ('profit','profit','>='),\n",
    "#     # ('keyy','keyy','=='),\n",
    "#    ('unitsSold','unitsSold','>='),\n",
    "#  # ('vol','vol','<='),\n",
    "#   # ('vol','profit','>'),\n",
    "#     use_numba=True)\n",
    "# )\n",
    "# f"
   ]
  },
  {
   "cell_type": "code",
   "execution_count": null,
   "metadata": {},
   "outputs": [],
   "source": [
    "from string import ascii_lowercase\n",
    "np.random.seed(1)\n",
    "n = 20; k = 20\n",
    "# n = 20_000_000; k = 20_000\n",
    "mapp = {k:v for v,k in enumerate(ascii_lowercase)}\n",
    "idx1 = np.random.randint(0, high = 2_00, size = n)\n",
    "idx2 = np.random.randint(0, high = 3_00, size = n)\n",
    "\n",
    "d1 = dict(x = np.random.choice(list(ascii_lowercase[:5]), size=n),\n",
    "          start = np.minimum(idx1, idx2),\n",
    "          end = np.maximum(idx1, idx2),\n",
    "          )\n",
    "\n",
    "\n",
    "d2 = dict(x = np.random.choice(list(ascii_lowercase[:15]), size=k),\n",
    "          pos1 = np.random.randint(low=60, high = 151, size=k))\n",
    "\n",
    "d1 = pd.DataFrame(d1)\n",
    "d2 = pd.DataFrame(d2)\n",
    "d1 = d1.assign(xx=lambda df: df.x.map(mapp))\n",
    "d2 = d2.assign(xx=lambda df: df.x.map(mapp))"
   ]
  },
  {
   "cell_type": "code",
   "execution_count": null,
   "metadata": {},
   "outputs": [],
   "source": [
    "bla = (d2\n",
    ".conditional_join(\n",
    "    d1, \n",
    "    ('pos1', 'start', '>'), \n",
    "     ('pos1', 'end', '<'), \n",
    "   # ('xx', 'xx', '=='), \n",
    "    use_numba=True)\n",
    ")\n",
    "\n",
    "bla"
   ]
  },
  {
   "cell_type": "code",
   "execution_count": null,
   "metadata": {},
   "outputs": [],
   "source": [
    "x=np.array([6, 6, 6, 6, 2, 4, 5, 6, 5, 6, 5, 6, 6, 6, 5, 1, 6, 6, 3])\n",
    "x"
   ]
  },
  {
   "cell_type": "code",
   "execution_count": null,
   "metadata": {},
   "outputs": [],
   "source": [
    "np.partition(bla[1],248842-248212)[248842-248212:]"
   ]
  },
  {
   "cell_type": "code",
   "execution_count": null,
   "metadata": {},
   "outputs": [],
   "source": [
    "%timeit bla[1][np.argpartition(bla[1],248842-248212)[248842-248212:]]"
   ]
  },
  {
   "cell_type": "code",
   "execution_count": null,
   "metadata": {},
   "outputs": [],
   "source": [
    "%timeit bla[1][bla[1]>=91]"
   ]
  },
  {
   "cell_type": "code",
   "execution_count": null,
   "metadata": {},
   "outputs": [],
   "source": [
    "bla[1][bla[1]>=91]"
   ]
  },
  {
   "cell_type": "code",
   "execution_count": null,
   "metadata": {},
   "outputs": [],
   "source": [
    "%timeit x[x>=6]"
   ]
  },
  {
   "cell_type": "code",
   "execution_count": null,
   "metadata": {},
   "outputs": [],
   "source": [
    "np.partition(x,7)"
   ]
  },
  {
   "cell_type": "code",
   "execution_count": null,
   "metadata": {},
   "outputs": [],
   "source": [
    "%timeit x[np.argpartition(x,7)[8:]]"
   ]
  },
  {
   "cell_type": "code",
   "execution_count": null,
   "metadata": {},
   "outputs": [],
   "source": [
    "%timeit x[np.argpartition(x,7)]"
   ]
  },
  {
   "cell_type": "code",
   "execution_count": null,
   "metadata": {},
   "outputs": [],
   "source": [
    "len([3, 6, 6, 6, 6, 6, 6, 6, 6, 6, 6, 6, 6, 6, 6, 6, 6, 6, 6])"
   ]
  },
  {
   "cell_type": "code",
   "execution_count": null,
   "metadata": {},
   "outputs": [],
   "source": [
    "np.searchsorted([3, 6, 6, 6, 6, 6, 6, 6, 6, 6, 6, 6, 6, 6, 6, 6, 6, 6, 6], 1)"
   ]
  },
  {
   "cell_type": "code",
   "execution_count": null,
   "metadata": {},
   "outputs": [],
   "source": [
    "bla[3].size"
   ]
  },
  {
   "cell_type": "code",
   "execution_count": null,
   "metadata": {},
   "outputs": [],
   "source": [
    "(bla[5][:2410367]>=91).sum()"
   ]
  },
  {
   "cell_type": "code",
   "execution_count": null,
   "metadata": {},
   "outputs": [],
   "source": [
    "%timeit bla[5][:2410367][bla[5][:2410367]>=91]"
   ]
  },
  {
   "cell_type": "code",
   "execution_count": null,
   "metadata": {},
   "outputs": [],
   "source": [
    "%timeit np.sort(bla[1][97:97+14458])"
   ]
  },
  {
   "cell_type": "code",
   "execution_count": null,
   "metadata": {},
   "outputs": [],
   "source": [
    "pd.unique(bla[5])"
   ]
  },
  {
   "cell_type": "code",
   "execution_count": null,
   "metadata": {},
   "outputs": [],
   "source": [
    "bla[1].size"
   ]
  },
  {
   "cell_type": "code",
   "execution_count": null,
   "metadata": {},
   "outputs": [],
   "source": [
    "uniques = pd.factorize(bla[5],sort=True)[1]\n",
    "uniques"
   ]
  },
  {
   "cell_type": "code",
   "execution_count": null,
   "metadata": {},
   "outputs": [],
   "source": [
    "%timeit uniques.searchsorted(91)"
   ]
  },
  {
   "cell_type": "code",
   "execution_count": null,
   "metadata": {},
   "outputs": [],
   "source": [
    "%timeit uniques.searchsorted(bla[5][:2410367])"
   ]
  },
  {
   "cell_type": "code",
   "execution_count": null,
   "metadata": {},
   "outputs": [],
   "source": [
    "pd.unique(pd.factorize(bla[1],sort=True)[0])"
   ]
  }
 ],
 "metadata": {
  "kernelspec": {
   "display_name": "pyjanitor-dev",
   "language": "python",
   "name": "python3"
  },
  "language_info": {
   "codemirror_mode": {
    "name": "ipython",
    "version": 3
   },
   "file_extension": ".py",
   "mimetype": "text/x-python",
   "name": "python",
   "nbconvert_exporter": "python",
   "pygments_lexer": "ipython3",
   "version": "3.10.12"
  }
 },
 "nbformat": 4,
 "nbformat_minor": 2
}
