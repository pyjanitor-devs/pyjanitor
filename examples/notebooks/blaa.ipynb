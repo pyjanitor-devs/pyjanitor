{
 "cells": [
  {
   "cell_type": "code",
   "execution_count": 1,
   "metadata": {},
   "outputs": [
    {
     "data": {
      "text/plain": [
       "'2.2.0'"
      ]
     },
     "execution_count": 1,
     "metadata": {},
     "output_type": "execute_result"
    }
   ],
   "source": [
    "import pandas as pd; import numpy as np; import janitor as jn\n",
    "pd.__version__"
   ]
  },
  {
   "cell_type": "code",
   "execution_count": 2,
   "metadata": {},
   "outputs": [],
   "source": [
    "# events = pd.read_csv('/Users/samuel.oranyeli/Downloads/results.csv', parse_dates=['start','end']).iloc[:, 1:]"
   ]
  },
  {
   "cell_type": "code",
   "execution_count": 3,
   "metadata": {},
   "outputs": [],
   "source": [
    "# a = (events\n",
    "# .conditional_join(\n",
    "#     events,\n",
    "#     ('start', 'end', '<='),\n",
    "#     ('end', 'start', '>='),\n",
    "#     # ('id', 'id', '!='),\n",
    "#     # ('audience','audience','>'),\n",
    "#     use_numba = True,\n",
    "#     df_columns = ['id', 'start', 'end'],\n",
    "#     right_columns = ['id', 'start', 'end'])\n",
    "# )\n",
    "\n",
    "# a"
   ]
  },
  {
   "cell_type": "code",
   "execution_count": 4,
   "metadata": {},
   "outputs": [],
   "source": [
    "C=dict(key=[f\"c{num}\" for num in range(1,8)],\n",
    "       vol=[35,15,5,35,18,90,17],\n",
    "       profit=[45,35,55,12,15,55,11],\n",
    "       unitsSold=[15,10,30,10,15,80,2],\n",
    "       keyy = range(1,8)\n",
    "       )\n",
    "C=pd.DataFrame(C)\n",
    "\n",
    "\n",
    "D=dict(key=[f'd{num}' for num in range(1,9)],\n",
    "       vol=[20,50,15,16,40,20,40,2],\n",
    "       profit=[30,10,12,52,35,20,30,57],\n",
    "       unitsSold=[20,35,10,12,40,30,5,15],\n",
    "       keyy=range(8,0,-1)\n",
    "       )\n",
    "D=pd.DataFrame(D)"
   ]
  },
  {
   "cell_type": "code",
   "execution_count": 5,
   "metadata": {},
   "outputs": [
    {
     "data": {
      "text/plain": [
       "([Index([3, 4, 6, 0, 5, 2, 1], dtype='int64'),\n",
       "  Index([2, 3, 0, 5, 4, 6, 1], dtype='int64')],\n",
       " [array([0, 1, 1, 1, 1, 2, 3]), array([0, 0, 1, 1, 2, 2, 2])])"
      ]
     },
     "execution_count": 5,
     "metadata": {},
     "output_type": "execute_result"
    }
   ],
   "source": [
    "(C\n",
    ".conditional_join(\n",
    "    D, \n",
    "    \n",
    "    ('profit','profit','>='),\n",
    "    # ('keyy','keyy','=='),\n",
    "  # ('unitsSold','unitsSold','>='),\n",
    "  ('vol','vol','<='),\n",
    "  # ('vol','profit','>'),\n",
    "    use_numba=True)\n",
    ")"
   ]
  },
  {
   "cell_type": "code",
   "execution_count": 6,
   "metadata": {},
   "outputs": [
    {
     "data": {
      "text/plain": [
       "19"
      ]
     },
     "execution_count": 6,
     "metadata": {},
     "output_type": "execute_result"
    }
   ],
   "source": [
    "(C\n",
    ".conditional_join(\n",
    "    D, \n",
    "    \n",
    "    ('profit','profit','>='),\n",
    "    # ('keyy','keyy','=='),\n",
    "  # ('unitsSold','unitsSold','>='),\n",
    "  ('vol','vol','<='),\n",
    "  # ('vol','profit','>'),\n",
    "    use_numba=False)\n",
    ")[0].size"
   ]
  },
  {
   "cell_type": "code",
   "execution_count": 7,
   "metadata": {},
   "outputs": [],
   "source": [
    "from string import ascii_lowercase\n",
    "np.random.seed(1)\n",
    "n = 20; k = 20\n",
    "n = 20_000_000; k = 20_000\n",
    "mapp = {k:v for v,k in enumerate(ascii_lowercase)}\n",
    "idx1 = np.random.randint(0, high = 2_00, size = n)\n",
    "idx2 = np.random.randint(0, high = 3_00, size = n)\n",
    "\n",
    "d1 = dict(x = np.random.choice(list(ascii_lowercase[:5]), size=n),\n",
    "          start = np.minimum(idx1, idx2),\n",
    "          end = np.maximum(idx1, idx2),\n",
    "          )\n",
    "\n",
    "\n",
    "d2 = dict(x = np.random.choice(list(ascii_lowercase[:15]), size=k),\n",
    "          pos1 = np.random.randint(low=60, high = 151, size=k))\n",
    "\n",
    "d1 = pd.DataFrame(d1)\n",
    "d2 = pd.DataFrame(d2)\n",
    "d1 = d1.assign(xx=lambda df: df.x.map(mapp))\n",
    "d2 = d2.assign(xx=lambda df: df.x.map(mapp))"
   ]
  },
  {
   "cell_type": "code",
   "execution_count": 8,
   "metadata": {},
   "outputs": [
    {
     "data": {
      "text/plain": [
       "([Index([19999568, 19999326, 19999177, 19998979, 19998939, 19997833, 19997813,\n",
       "         19997525, 19997389, 19996211,\n",
       "         ...\n",
       "             1717,     1310,     1209,      982,      873,      726,      639,\n",
       "              404,      282,      236],\n",
       "        dtype='int64', length=17497550),\n",
       "  Index([      26,      211,      654,     1296,     1342,     1468,     1557,\n",
       "             1572,     2537,     3167,\n",
       "         ...\n",
       "         19998032, 19998224, 19998289, 19998808, 19999029, 19999066, 19999161,\n",
       "         19999525, 19999797, 19999857],\n",
       "        dtype='int64', length=18758834)],\n",
       " [array([ 0,  0,  0, ..., 90, 90, 90]), array([ 0,  0,  0, ..., 90, 90, 90])])"
      ]
     },
     "execution_count": 8,
     "metadata": {},
     "output_type": "execute_result"
    }
   ],
   "source": [
    "bla = (d2\n",
    ".conditional_join(\n",
    "    d1, \n",
    "    ('pos1', 'start', '>'), \n",
    "     ('pos1', 'end', '<'), \n",
    "   # ('xx', 'xx', '=='), \n",
    "    use_numba=True)\n",
    ")\n",
    "\n",
    "bla"
   ]
  },
  {
   "cell_type": "code",
   "execution_count": 9,
   "metadata": {},
   "outputs": [
    {
     "name": "stdout",
     "output_type": "stream",
     "text": [
      "6.05 s ± 83.3 ms per loop (mean ± std. dev. of 7 runs, 1 loop each)\n"
     ]
    }
   ],
   "source": [
    "%%timeit\n",
    "(d2\n",
    ".conditional_join(\n",
    "    d1, \n",
    "    ('pos1', 'start', '>'), \n",
    "     ('pos1', 'end', '<'), \n",
    "   # ('xx', 'xx', '=='), \n",
    "    use_numba=True)\n",
    ")"
   ]
  },
  {
   "cell_type": "code",
   "execution_count": 10,
   "metadata": {},
   "outputs": [],
   "source": [
    "# %timeit d1.sort_values('start')"
   ]
  }
 ],
 "metadata": {
  "kernelspec": {
   "display_name": "pyjanitor-dev",
   "language": "python",
   "name": "python3"
  },
  "language_info": {
   "codemirror_mode": {
    "name": "ipython",
    "version": 3
   },
   "file_extension": ".py",
   "mimetype": "text/x-python",
   "name": "python",
   "nbconvert_exporter": "python",
   "pygments_lexer": "ipython3",
   "version": "3.9.18"
  }
 },
 "nbformat": 4,
 "nbformat_minor": 2
}
