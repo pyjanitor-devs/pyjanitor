{
 "cells": [
  {
   "cell_type": "code",
   "execution_count": 1,
   "metadata": {},
   "outputs": [],
   "source": [
    "import pandas as pd\n",
    "import janitor as jn\n",
    "import numpy as np\n",
    "from janitor.functions._numba import (\n",
    "    _numba_multiple_non_equi_join,\n",
    "    _get_regions_non_equi,\n",
    "    _align_indices_and_regions,\n",
    "    _get_indices_dual_non_monotonic_non_equi,\n",
    ")"
   ]
  },
  {
   "cell_type": "code",
   "execution_count": 2,
   "metadata": {},
   "outputs": [],
   "source": [
    "%load_ext line_profiler"
   ]
  },
  {
   "cell_type": "code",
   "execution_count": 3,
   "metadata": {},
   "outputs": [
    {
     "data": {
      "text/html": [
       "<div>\n",
       "<style scoped>\n",
       "    .dataframe tbody tr th:only-of-type {\n",
       "        vertical-align: middle;\n",
       "    }\n",
       "\n",
       "    .dataframe tbody tr th {\n",
       "        vertical-align: top;\n",
       "    }\n",
       "\n",
       "    .dataframe thead th {\n",
       "        text-align: right;\n",
       "    }\n",
       "</style>\n",
       "<table border=\"1\" class=\"dataframe\">\n",
       "  <thead>\n",
       "    <tr style=\"text-align: right;\">\n",
       "      <th></th>\n",
       "      <th>name</th>\n",
       "      <th>audience</th>\n",
       "      <th>start</th>\n",
       "      <th>sponsor</th>\n",
       "      <th>end</th>\n",
       "    </tr>\n",
       "  </thead>\n",
       "  <tbody>\n",
       "    <tr>\n",
       "      <th>0</th>\n",
       "      <td>Event 1</td>\n",
       "      <td>1178</td>\n",
       "      <td>2022-11-19 10:00:00</td>\n",
       "      <td>Sponsor 2</td>\n",
       "      <td>2022-11-19 10:15:00</td>\n",
       "    </tr>\n",
       "    <tr>\n",
       "      <th>1</th>\n",
       "      <td>Event 2</td>\n",
       "      <td>1446</td>\n",
       "      <td>2015-09-27 15:00:00</td>\n",
       "      <td>Sponsor 11</td>\n",
       "      <td>2015-09-27 15:11:00</td>\n",
       "    </tr>\n",
       "    <tr>\n",
       "      <th>2</th>\n",
       "      <td>Event 3</td>\n",
       "      <td>2261</td>\n",
       "      <td>2019-11-12 18:00:00</td>\n",
       "      <td>Sponsor 10</td>\n",
       "      <td>2019-11-12 18:53:00</td>\n",
       "    </tr>\n",
       "    <tr>\n",
       "      <th>3</th>\n",
       "      <td>Event 4</td>\n",
       "      <td>1471</td>\n",
       "      <td>2019-12-24 22:00:00</td>\n",
       "      <td>Sponsor 6</td>\n",
       "      <td>2019-12-24 22:11:00</td>\n",
       "    </tr>\n",
       "    <tr>\n",
       "      <th>4</th>\n",
       "      <td>Event 5</td>\n",
       "      <td>2605</td>\n",
       "      <td>2028-06-20 12:00:00</td>\n",
       "      <td>Sponsor 8</td>\n",
       "      <td>2028-06-20 12:31:00</td>\n",
       "    </tr>\n",
       "  </tbody>\n",
       "</table>\n",
       "</div>"
      ],
      "text/plain": [
       "      name  audience               start     sponsor                 end\n",
       "0  Event 1      1178 2022-11-19 10:00:00   Sponsor 2 2022-11-19 10:15:00\n",
       "1  Event 2      1446 2015-09-27 15:00:00  Sponsor 11 2015-09-27 15:11:00\n",
       "2  Event 3      2261 2019-11-12 18:00:00  Sponsor 10 2019-11-12 18:53:00\n",
       "3  Event 4      1471 2019-12-24 22:00:00   Sponsor 6 2019-12-24 22:11:00\n",
       "4  Event 5      2605 2028-06-20 12:00:00   Sponsor 8 2028-06-20 12:31:00"
      ]
     },
     "execution_count": 3,
     "metadata": {},
     "output_type": "execute_result"
    }
   ],
   "source": [
    "url = 'https://raw.githubusercontent.com/samukweku/data-wrangling-blog/master/notebooks/Data_files/results.csv'\n",
    "url = '/Users/samuel.oranyeli/events.csv'\n",
    "events = pd.read_csv(url, parse_dates=['start', 'end']).iloc[:, 1:]\n",
    "events.head()"
   ]
  },
  {
   "cell_type": "code",
   "execution_count": 4,
   "metadata": {},
   "outputs": [
    {
     "data": {
      "text/plain": [
       "(array([28282, 28281, 28280, ...,     2,     1,     0]),\n",
       " array([28282, 28281, 28280, ...,     2,     1,     0]),\n",
       " array([13367, 15884,  3544, ..., 24103, 10726, 25296]),\n",
       " array([13367, 15884,  3544, ..., 24103, 10726, 25296]),\n",
       " array([    0,     1,     2, ..., 29996, 29997, 29998]),\n",
       " 29999,\n",
       " array([28282, 28281, 28280, ...,     2,     1,     0]),\n",
       " 4)"
      ]
     },
     "execution_count": 4,
     "metadata": {},
     "output_type": "execute_result"
    }
   ],
   "source": [
    "(events\n",
    ".conditional_join(\n",
    "    events,\n",
    "    ('start', 'end', '<='),\n",
    "    ('end', 'start', '>='),\n",
    "    # ('id', 'id', '!='),\n",
    "    use_numba = True,\n",
    "    df_columns = ['start', 'end'],\n",
    "    right_columns = ['start', 'end'])\n",
    ")"
   ]
  },
  {
   "cell_type": "code",
   "execution_count": 5,
   "metadata": {},
   "outputs": [
    {
     "ename": "SyntaxError",
     "evalue": "Missing parentheses in call to 'print'. Did you mean print(...)? (414025362.py, line 1)",
     "output_type": "error",
     "traceback": [
      "\u001b[0;36m  Cell \u001b[0;32mIn[5], line 1\u001b[0;36m\u001b[0m\n\u001b[0;31m    print 'i'\u001b[0m\n\u001b[0m    ^\u001b[0m\n\u001b[0;31mSyntaxError\u001b[0m\u001b[0;31m:\u001b[0m Missing parentheses in call to 'print'. Did you mean print(...)?\n"
     ]
    }
   ],
   "source": [
    "print 'i'"
   ]
  },
  {
   "cell_type": "code",
   "execution_count": null,
   "metadata": {},
   "outputs": [],
   "source": [
    "# %%timeit\n",
    "# (events\n",
    "# .conditional_join(\n",
    "#     events,\n",
    "#     ('start', 'end', '<='),\n",
    "#     ('end', 'start', '>='),\n",
    "#     # ('id', 'id', '!='),\n",
    "#     use_numba = False,\n",
    "#     df_columns = ['start', 'end'],\n",
    "#     right_columns = ['start', 'end'])\n",
    "# )"
   ]
  },
  {
   "cell_type": "code",
   "execution_count": 6,
   "metadata": {},
   "outputs": [],
   "source": [
    "\n",
    "np.random.seed(0)\n",
    "dd = pd.DataFrame({'value':np.random.randint(100000, size=50_000)})\n",
    "df = pd.DataFrame({'start':np.random.randint(100000, size=1_000),\n",
    "                         'end':np.random.randint(100000, size=1_000)})"
   ]
  },
  {
   "cell_type": "code",
   "execution_count": 7,
   "metadata": {},
   "outputs": [],
   "source": [
    "\n",
    "(\n",
    "            left_region,\n",
    "            right_region,\n",
    "            left_index,\n",
    "            right_index,\n",
    "            starts,\n",
    "            ends,\n",
    "            cum_max_arr,\n",
    "            max_freq\n",
    "        ) = dd.conditional_join(\n",
    "    df, (\"value\", \"start\", \">\"), (\"value\", \"end\", \"<\"), use_numba=True\n",
    ")"
   ]
  },
  {
   "cell_type": "code",
   "execution_count": 8,
   "metadata": {},
   "outputs": [
    {
     "name": "stdout",
     "output_type": "stream",
     "text": [
      "Timer unit: 1e-09 s\n",
      "\n",
      "Total time: 51.2866 s\n",
      "File: /Users/samuel.oranyeli/pyjanitor/janitor/functions/_numba.py\n",
      "Function: _get_indices_dual_non_monotonic_non_equi at line 1034\n",
      "\n",
      "Line #      Hits         Time  Per Hit   % Time  Line Contents\n",
      "==============================================================\n",
      "  1034                                           @njit()\n",
      "  1035                                           def _get_indices_dual_non_monotonic_non_equi(\n",
      "  1036                                               left_region: np.ndarray,\n",
      "  1037                                               right_region: np.ndarray,\n",
      "  1038                                               left_index: np.ndarray,\n",
      "  1039                                               right_index: np.ndarray,\n",
      "  1040                                               starts: np.ndarray,\n",
      "  1041                                               max_arr: np.ndarray,\n",
      "  1042                                               ends: int,\n",
      "  1043                                               max_freq:int\n",
      "  1044                                           ) -> tuple:\n",
      "  1045                                               \"\"\"\n",
      "  1046                                               Retrieves the matching indices\n",
      "  1047                                               for the left and right regions.\n",
      "  1048                                               Strictly for non-equi joins,\n",
      "  1049                                               where only two join conditions are present.\n",
      "  1050                                               \"\"\"\n",
      "  1051                                               # two step pass\n",
      "  1052                                               # first pass gets the length of the final indices\n",
      "  1053                                               # uses a variant of counting sort\n",
      "  1054                                               # to get the number of matches in the right region\n",
      "  1055                                               # per entry in the left region\n",
      "  1056         1      67000.0  67000.0      0.0      nrows = right_region.max() + 1\n",
      "  1057         1      18000.0  18000.0      0.0      value_counts = np.zeros(nrows, dtype=np.intp)\n",
      "  1058         1       2000.0   2000.0      0.0      count_indices = np.empty(starts.size, dtype=np.intp)\n",
      "  1059         1          0.0      0.0      0.0      total_length = 0\n",
      "  1060         1          0.0      0.0      0.0      previous_start = ends\n",
      "  1061                                               # positions -----> [0 1 2 3 4 5]\n",
      "  1062                                               # left_region ---> [0 1 1 5 5 6]\n",
      "  1063                                               # right_region --> [7 7 7 7 7 7]\n",
      "  1064                                               # note how the last value in the left_region(6)\n",
      "  1065                                               # is less than the previous value(position 4) in the right_region (7)\n",
      "  1066                                               # there is no need to search from 5 to 7 for position 4\n",
      "  1067                                               # since that has already been captured in the iteration\n",
      "  1068                                               # for 6 to 7 (position 5)\n",
      "  1069                                               # the iterative search should not capture more than once\n",
      "  1070                                               # and only capture relevant values\n",
      "  1071                                               # in short, restrict the search space as much as permissible\n",
      "  1072                                               # search starts from the bottom/max\n",
      "  1073     49989    6718000.0    134.4      0.0      for num in range(starts.size - 1, -1, -1):\n",
      "  1074     49988   18003000.0    360.1      0.0          start = starts[np.uintp(num)]\n",
      "  1075     49988   11582000.0    231.7      0.0          end = min(previous_start, ends)\n",
      "  1076                                                   # maximum value at the same position\n",
      "  1077                                                   # as left_region in right_region\n",
      "  1078     49988   22261000.0    445.3      0.0          arr_max = max_arr[np.uintp(start)]\n",
      "  1079     50987   12816000.0    251.4      0.0          for n in range(start, end):\n",
      "  1080       999     373000.0    373.4      0.0              r_region = right_region[np.uintp(n)]\n",
      "  1081       999    1330000.0   1331.3      0.0              value_counts[np.uintp(r_region)] += 1\n",
      "  1082     49988    4180000.0     83.6      0.0          previous_start = start\n",
      "  1083     49988    4236000.0     84.7      0.0          counter = 0\n",
      "  1084                                                   # search here should include the maximum value\n",
      "  1085                                                   # within the search space\n",
      "  1086                                                   # hence the +1 addition\n",
      "  1087  24477413 2693347000.0    110.0      5.3          for nn in range(left_region[np.uintp(num)], arr_max + 1):\n",
      "  1088  24427425 8231583000.0    337.0     16.1              counter += value_counts[np.uintp(nn)]\n",
      "  1089     49988    5986000.0    119.7      0.0          total_length += counter\n",
      "  1090     49988    8571000.0    171.5      0.0          count_indices[num] = counter\n",
      "  1091                                               # return count_indices, value_counts\n",
      "  1092                                               # second pass populates the final indices with actual values\n",
      "  1093                                               # again, we use a variant of counting sort here\n",
      "  1094                                               # this time, we use the cumulative sum of value_counts\n",
      "  1095                                               # to get the right_index positions\n",
      "  1096                                               # since we already have our right_index sorted\n",
      "  1097         1      31000.0  31000.0      0.0      start_indices = np.zeros(starts.size, dtype=np.intp)\n",
      "  1098         1     168000.0 168000.0      0.0      start_indices[1:] = np.cumsum(count_indices)[:-1]\n",
      "  1099         1      19000.0  19000.0      0.0      l_index = np.empty(total_length, dtype=np.intp)\n",
      "  1100         1       1000.0   1000.0      0.0      r_index = np.empty(total_length, dtype=np.intp)\n",
      "  1101                                               # value_counts = np.cumsum(value_counts)\n",
      "  1102         1       2000.0   2000.0      0.0      value_counts = np.zeros(nrows, dtype=np.intp)\n",
      "  1103         1       2000.0   2000.0      0.0      positions = np.zeros((nrows, max_freq), dtype=np.intp)\n",
      "  1104         1          0.0      0.0      0.0      previous_start = ends\n",
      "  1105     49989    7542000.0    150.9      0.0      for num in range(starts.size - 1, -1, -1):\n",
      "  1106     49988   19983000.0    399.8      0.0          start = starts[np.uintp(num)]\n",
      "  1107     49988   11995000.0    240.0      0.0          end = min(previous_start, ends)\n",
      "  1108     49988   20107000.0    402.2      0.0          arr_max = max_arr[np.uintp(start)]\n",
      "  1109     50987   12082000.0    237.0      0.0          for n in range(start, end):\n",
      "  1110       999     543000.0    543.5      0.0              r_region = right_region[np.uintp(n)]\n",
      "  1111                                                       # print(r_region)\n",
      "  1112       999     341000.0    341.3      0.0              r_region = np.uintp(r_region)\n",
      "  1113       999    1316000.0   1317.3      0.0              value_counts[r_region] += 1\n",
      "  1114       999     686000.0    686.7      0.0              positions[r_region, value_counts[r_region] - 1] = n\n",
      "  1115     49988    4339000.0     86.8      0.0          previous_start = start\n",
      "  1116     49988   17444000.0    349.0      0.0          l_region = left_region[np.uintp(num)]\n",
      "  1117     49988   16126000.0    322.6      0.0          l_ind = left_index[np.uintp(num)]\n",
      "  1118     49988   15810000.0    316.3      0.0          indexer = start_indices[np.uintp(num)]\n",
      "  1119                                                   # size = count_indices[num] - 1\n",
      "  1120                                                   # print(l_region, arr_max, value_counts)\n",
      "  1121                                                   # print(positions, counts)\n",
      "  1122  24477413 3118375000.0    127.4      6.1          for nn in range(l_region, arr_max + 1):\n",
      "  1123  24427425 8455279000.0    346.1     16.5              counter = value_counts[np.uintp(nn)]\n",
      "  1124  24427425 2034117000.0     83.3      4.0              if not counter:\n",
      "  1125  15816705 1267364000.0     80.1      2.5                  continue\n",
      "  1126                                                       # print(counter, size)\n",
      "  1127  17324536 3101640000.0    179.0      6.0              for sz in range(counter):\n",
      "  1128   8713816 4892798000.0    561.5      9.5                  pos = positions[np.uintp(nn), np.uintp(sz)]\n",
      "  1129                                                       # for nnn in range(1, counter + 1):\n",
      "  1130                                                           # pos = value_counts[region] - nnn\n",
      "  1131   8713816 3500317000.0    401.7      6.8                  r_ind = right_index[np.uintp(pos)]\n",
      "  1132   8713816 3057895000.0    350.9      6.0                  indexer = np.uintp(indexer)\n",
      "  1133   8713816 1245232000.0    142.9      2.4                  l_index[indexer] = l_ind\n",
      "  1134   8713816 1121062000.0    128.7      2.2                  r_index[indexer] = r_ind\n",
      "  1135   8713816 8342923000.0    957.4     16.3                  indexer += 1\n",
      "  1136         1       1000.0   1000.0      0.0      return l_index, r_index"
     ]
    }
   ],
   "source": [
    "%lprun -f _get_indices_dual_non_monotonic_non_equi.__wrapped__ _get_indices_dual_non_monotonic_non_equi.__wrapped__(left_region, right_region, left_index, right_index, starts, cum_max_arr, ends,max_freq)"
   ]
  },
  {
   "cell_type": "code",
   "execution_count": null,
   "metadata": {},
   "outputs": [
    {
     "data": {
      "text/plain": [
       "array([980, 980, 980, ...,   0,   0,   0])"
      ]
     },
     "execution_count": 9,
     "metadata": {},
     "output_type": "execute_result"
    }
   ],
   "source": [
    "left_region"
   ]
  },
  {
   "cell_type": "code",
   "execution_count": null,
   "metadata": {},
   "outputs": [
    {
     "data": {
      "text/plain": [
       "array([980, 980, 980, 980, 980, 980, 980, 980, 980, 980, 980, 980, 980,\n",
       "       980, 980, 980, 980, 980, 980, 980, 980, 980, 980, 980, 980, 980,\n",
       "       980, 980, 980, 980, 980, 980, 980, 980, 980, 980, 980, 980, 980,\n",
       "       980, 980, 980, 980, 980, 980, 980, 980, 980, 980, 980, 980, 980,\n",
       "       980, 980, 980, 980, 980, 980, 980, 980, 980, 980, 980, 980, 980,\n",
       "       980, 980, 980, 980, 980, 980, 980, 980, 980, 980, 980, 980, 980,\n",
       "       980, 980, 980, 980, 980, 980, 980, 980, 980, 980, 980, 980, 980,\n",
       "       980, 980, 980, 980, 980, 980, 980, 980, 980, 980, 980, 980, 980,\n",
       "       980, 980, 980, 980, 980, 980, 980, 980, 980, 980, 980, 980, 980,\n",
       "       980, 980, 980, 980, 980, 980, 980, 980, 980, 980, 980, 980, 980,\n",
       "       980, 980, 980, 980, 980, 980, 980, 980, 980, 980, 980, 980, 980,\n",
       "       980, 980, 980, 980, 980, 980, 980, 980, 980, 980, 980, 980, 980,\n",
       "       980, 980, 980, 980, 980, 980, 980, 980, 980, 980, 980, 980, 980,\n",
       "       980, 980, 980, 980, 980, 980, 980, 980, 980, 980, 980, 980, 980,\n",
       "       980, 980, 980, 980, 980, 980, 980, 980, 980, 980, 980, 980, 980,\n",
       "       980, 980, 980, 980, 980, 980, 980, 980, 980, 980, 980, 980, 980,\n",
       "       980, 980, 980, 980, 980, 980, 980, 980, 980, 980, 980, 980, 980,\n",
       "       980, 980, 980, 980, 980, 980, 980, 980, 980, 980, 980, 980, 980,\n",
       "       980, 980, 980, 980, 980, 980, 980, 980, 980, 980, 980, 980, 980,\n",
       "       980, 980, 980, 980, 980, 980, 980, 980, 980, 980, 980, 980, 980,\n",
       "       980, 980, 980, 980, 980, 980, 980, 980, 980, 980, 980, 980, 980,\n",
       "       980, 980, 980, 980, 980, 980, 980, 980, 980, 980, 980, 980, 980,\n",
       "       980, 980, 980, 980, 980, 980, 980, 980, 980, 980, 980, 980, 980,\n",
       "       980, 980, 980, 980, 980, 980, 980, 980, 980, 980, 980, 980, 980,\n",
       "       980, 980, 980, 980, 980, 980, 980, 980, 980, 980, 980, 980, 980,\n",
       "       980, 980, 980, 980, 980, 980, 980, 980, 980, 980, 980, 980, 980,\n",
       "       980, 980, 980, 980, 980, 980, 980, 980, 980, 980, 980, 980, 980,\n",
       "       980, 980, 980, 980, 980, 980, 980, 980, 980, 980, 980, 980, 980,\n",
       "       980, 980, 980, 980, 980, 980, 980, 980, 980, 980, 980, 980, 980,\n",
       "       980, 980, 980, 980, 980, 980, 980, 980, 980, 980, 980, 980, 980,\n",
       "       980, 980, 980, 980, 980, 980, 980, 980, 980, 980, 980, 980, 980,\n",
       "       980, 980, 980, 980, 980, 980, 980, 980, 980, 980, 980, 980, 980,\n",
       "       980, 980, 980, 980, 980, 980, 980, 980, 980, 980, 980, 980, 980,\n",
       "       980, 980, 980, 980, 980, 980, 980, 980, 980, 980, 980, 980, 980,\n",
       "       980, 980, 980, 980, 980, 980, 980, 980, 980, 980, 980, 980, 980,\n",
       "       980, 980, 980, 980, 980, 980, 980, 980, 980, 980, 980, 980, 980,\n",
       "       980, 980, 980, 980, 980, 980, 980, 980, 980, 980, 980, 980, 980,\n",
       "       980, 980, 980, 980, 980, 980, 980, 980, 980, 980, 980, 980, 980,\n",
       "       980, 980, 980, 980, 980, 980, 980, 980, 980, 980, 980, 980, 980,\n",
       "       980, 980, 980, 980, 980, 980, 980, 980, 980, 980, 980, 980, 980,\n",
       "       980, 980, 980, 980, 980, 980, 980, 980, 980, 980, 980, 980, 980,\n",
       "       980, 980, 980, 980, 980, 980, 980, 980, 980, 980, 980, 980, 980,\n",
       "       980, 980, 980, 980, 980, 980, 980, 980, 980, 980, 980, 980, 978,\n",
       "       978, 978, 978, 978, 978, 978, 978, 978, 978, 978, 978, 978, 978,\n",
       "       978, 978, 978, 978, 978, 978, 978, 978, 978, 978, 978, 978, 978,\n",
       "       978, 978, 978, 978, 978, 978, 978, 978, 978, 978, 978, 978, 978,\n",
       "       978, 978, 978, 978, 978, 978, 978, 978, 978, 978, 978, 978, 978,\n",
       "       978, 978, 978, 978, 978, 978, 978, 978, 978, 978, 978, 978, 978,\n",
       "       978, 978, 978, 978, 978, 978, 978, 978, 978, 978, 978, 978, 978,\n",
       "       978, 978, 978, 978, 978, 978, 978, 978, 978, 978, 978, 978, 978,\n",
       "       978, 978, 978, 978, 978, 978, 978, 978, 978, 978, 978, 978, 978,\n",
       "       978, 978, 978, 978, 978, 978, 978, 978, 978, 978, 978, 978, 978,\n",
       "       978, 978, 978, 978, 978, 978, 978, 978, 978, 978, 978, 978, 978,\n",
       "       978, 978, 978, 978, 978, 978, 978, 978, 978, 978, 978, 978, 978,\n",
       "       978, 978, 978, 978, 978, 978, 978, 978, 978, 978, 978, 978, 978,\n",
       "       978, 978, 978, 978, 978, 978, 978, 978, 978, 978, 978, 978, 978,\n",
       "       978, 978, 978, 978, 978, 978, 978, 978, 978, 978, 978, 978, 978,\n",
       "       978, 978, 978, 978, 978, 978, 978, 978, 978, 978, 978, 978, 978,\n",
       "       978, 978, 978, 978, 978, 978, 978, 978, 978, 978, 978, 978, 978,\n",
       "       978, 978, 978, 978, 978, 978, 978, 978, 978, 978, 978, 978, 978,\n",
       "       978, 978, 978, 978, 978, 978, 978, 978, 978, 978, 978, 978, 978,\n",
       "       978, 978, 978, 978, 978, 978, 978, 978, 978, 978, 978, 978, 978,\n",
       "       978, 978, 978, 978, 978, 978, 978, 978, 978, 978, 978, 978, 978,\n",
       "       978, 978, 978, 978, 978, 978, 978, 978, 978, 978, 978, 978, 978,\n",
       "       978, 978, 978, 973, 973, 973, 973, 973, 973, 973, 973, 973, 973,\n",
       "       973, 973, 973, 973, 973, 973, 973, 973, 973, 973, 973, 973, 973,\n",
       "       973, 973, 973, 973, 973, 973, 973, 973, 973, 973, 966, 966, 966,\n",
       "       966, 966, 966, 966, 966, 966, 966, 966, 966, 966, 966, 966, 966,\n",
       "       966, 966, 966, 966, 966, 966, 966, 966, 966, 966, 966, 966, 966,\n",
       "       966, 966, 966, 966, 966, 966, 966, 966, 966, 966, 966, 966, 966,\n",
       "       966, 966, 966, 966, 966, 966, 966, 966, 966, 966, 966, 966, 966,\n",
       "       962, 962, 962, 962, 962, 957, 957, 957, 957, 957, 957, 957, 957,\n",
       "       957, 957, 957, 957, 957, 957, 957, 957, 957, 957, 957, 957, 957,\n",
       "       957, 957, 957, 957, 957, 957, 957, 957, 957, 957, 957, 957, 957,\n",
       "       957, 957, 957, 957, 957, 957, 957, 957, 957, 957, 957, 957, 957,\n",
       "       957, 927, 927, 917, 917, 917, 917, 917, 917, 917, 917, 917, 917,\n",
       "       917, 815, 815, 815, 815, 815, 815, 815, 815, 815, 815])"
      ]
     },
     "execution_count": 10,
     "metadata": {},
     "output_type": "execute_result"
    }
   ],
   "source": [
    "cum_max_arr"
   ]
  },
  {
   "cell_type": "code",
   "execution_count": 16,
   "metadata": {},
   "outputs": [
    {
     "data": {
      "text/plain": [
       "980"
      ]
     },
     "execution_count": 16,
     "metadata": {},
     "output_type": "execute_result"
    }
   ],
   "source": [
    "right_region.max()"
   ]
  },
  {
   "cell_type": "code",
   "execution_count": 13,
   "metadata": {},
   "outputs": [
    {
     "name": "stdout",
     "output_type": "stream",
     "text": [
      "32.8 µs ± 178 ns per loop (mean ± std. dev. of 7 runs, 10,000 loops each)\n"
     ]
    }
   ],
   "source": [
    "%timeit pd.Index(right_region).nunique()"
   ]
  },
  {
   "cell_type": "code",
   "execution_count": null,
   "metadata": {},
   "outputs": [],
   "source": [
    "C=dict(key=[f\"c{num}\" for num in range(1,8)],\n",
    "       vol=[35,15,5,35,18,90,17],\n",
    "       profit=[45,35,55,12,15,55,11],\n",
    "       unitsSold=[15,10,30,10,15,80,2]\n",
    "       )\n",
    "C=pd.DataFrame(C)\n",
    "\n",
    "\n",
    "D=dict(key=[f'd{num}' for num in range(1,9)],\n",
    "       vol=[20,50,15,16,40,20,40,2],\n",
    "       profit=[30,10,12,52,35,20,30,57],\n",
    "       unitsSold=[20,35,10,12,40,30,5,15]\n",
    "       )\n",
    "D=pd.DataFrame(D)"
   ]
  },
  {
   "cell_type": "code",
   "execution_count": null,
   "metadata": {},
   "outputs": [
    {
     "data": {
      "text/plain": [
       "(array([0, 3, 1, 2, 3, 2]),\n",
       " array([1, 3, 3, 2, 2, 0, 3]),\n",
       " array([2, 0, 1, 4, 3, 6]),\n",
       " array([3, 4, 6, 0, 5, 2, 1]),\n",
       " array([0, 1, 2, 5, 6, 6]),\n",
       " 7,\n",
       " array([3, 3, 3, 3, 3, 3, 3]),\n",
       " 3)"
      ]
     },
     "execution_count": 12,
     "metadata": {},
     "output_type": "execute_result"
    }
   ],
   "source": [
    "C.conditional_join(D,('vol','vol','<'),('profit','profit','>'),use_numba=True)"
   ]
  },
  {
   "cell_type": "code",
   "execution_count": null,
   "metadata": {},
   "outputs": [
    {
     "data": {
      "text/plain": [
       "array([356,  58, 424, 695,  73, 386, 721, 152, 765, 435,  90, 946, 741,\n",
       "       159, 451, 215, 363, 496, 627, 792, 677, 910, 949, 132, 480, 273,\n",
       "       813, 341, 632, 171, 711, 899, 916, 632, 698, 585, 489, 854, 596,\n",
       "        87, 205, 456, 230, 604, 718, 834, 683, 142, 145, 798, 667, 953,\n",
       "       216, 616, 607, 925, 161, 642, 586, 826, 370, 719, 975,  35, 441,\n",
       "       635, 473, 781, 430, 894, 892, 800,   1, 401, 878, 539, 265, 248,\n",
       "       117, 937,  77, 592, 569, 848, 936, 821, 421, 106, 828, 412,  32,\n",
       "       688, 458, 125, 127, 131, 823,  16, 300, 371, 851, 969,  50, 753,\n",
       "       348, 708, 340, 749, 212, 771, 776, 209, 129, 399, 942, 203, 923,\n",
       "       402, 359, 220, 403, 814, 713, 471, 382, 746, 486,  13,  46, 582,\n",
       "       767, 319, 605, 517, 554, 450, 672, 932, 922, 442, 208, 434, 358,\n",
       "       288, 231, 214, 121, 950, 559, 499, 871, 390,  74, 295, 534, 482,\n",
       "       696, 913, 681, 511, 201, 429, 368, 613, 847, 885, 448, 709, 886,\n",
       "       362, 291, 773, 190, 890, 948, 452, 911, 253, 645, 921, 571, 244,\n",
       "       740,  59, 502, 186, 258, 342, 545, 151, 178, 347, 487, 464, 133,\n",
       "       933, 655,  25, 641, 747, 945, 455, 198, 353, 682, 164, 877, 769,\n",
       "       583,  14, 615, 735, 119, 552, 730, 558, 488, 236, 115, 967, 954,\n",
       "       961, 587, 233, 503, 809, 716, 528, 540, 146, 684, 251, 437, 638,\n",
       "       710, 397,  88, 352,  89, 714, 396, 130, 281, 671, 224, 205, 415,\n",
       "       760, 155, 796, 173, 939, 555, 901, 337, 419, 943, 606, 575,  30,\n",
       "       284, 409, 842, 126, 306, 536, 110, 134, 787, 819, 644,  61, 189,\n",
       "       692, 888, 380, 929, 791, 843, 663, 177, 926, 162, 625, 257, 465,\n",
       "       876, 226,   7, 568, 610, 577, 166, 277, 970, 252,  98, 211, 912,\n",
       "       494, 351, 915,  15, 944,  52, 940, 875, 512, 832, 513, 227, 289,\n",
       "       748, 802, 680, 317, 135,  75, 658, 846, 344, 112, 976, 339,  94,\n",
       "       172, 199, 416, 712,  26, 524,  48, 180, 440, 687, 349, 365, 531,\n",
       "       750, 835, 332, 963,  38, 837, 974, 185, 122, 160, 457, 485, 656,\n",
       "        41, 373, 194, 666, 501, 307,  45, 312, 631, 210, 271, 221, 865,\n",
       "       366, 697, 243, 447, 375, 598, 163, 461, 896, 410, 193, 400, 116,\n",
       "       414, 801, 374, 725, 797, 782, 378, 541,   9, 254, 904, 880, 958,\n",
       "       387, 757, 931, 795, 761,  49, 959, 514, 955, 662, 510, 491, 664,\n",
       "       391, 734, 813,  53, 384, 685, 768, 228, 717, 588, 952, 576, 897,\n",
       "       811, 154, 308, 707,  39, 318, 486, 350, 389, 617, 269, 898, 114,\n",
       "        68, 345, 128, 111, 694, 772, 210, 937, 670, 807, 803, 622, 191,\n",
       "       652, 824, 168, 535, 460, 573, 290, 829, 920, 264, 282, 651, 263,\n",
       "       320, 445,  37, 907,  63, 422, 225, 906, 611, 743, 579, 561, 304,\n",
       "       724, 315, 274, 354, 239, 120,  81, 849, 758, 905, 812, 960, 584,\n",
       "       533, 770, 137, 268, 532, 774, 425, 793,  44,  43, 850, 138, 240,\n",
       "       275, 262, 476, 102, 322, 551,  55, 310,  31, 862,   3,  65, 549,\n",
       "       818, 481, 369, 537, 217, 678, 364, 601,   0, 219, 565, 733, 260,\n",
       "       296, 285, 530, 775, 267, 649, 951, 507,  56, 563, 246, 597, 431,\n",
       "       956, 891, 360, 516,  51, 754, 653, 919,  64, 544, 757, 377, 825,\n",
       "       443, 833, 609,  99, 521,  17, 621, 979, 903, 469, 526, 980, 183,\n",
       "       881, 895, 869, 327, 600, 935, 206, 297, 591, 726, 679, 195, 385,\n",
       "       170,  19, 408,  69,  28, 393, 661,  18, 357, 608, 475, 971,  33,\n",
       "       840, 329, 346, 860, 553, 872, 640, 273, 618, 887, 691, 938, 136,\n",
       "       581, 700, 381, 298, 764, 249, 506, 182, 874, 278, 572, 636, 614,\n",
       "       870,  42,  95, 732, 660,  10, 406, 379, 470, 703, 498, 423, 761,\n",
       "       316, 179, 294, 736,  20, 738, 805, 924, 799, 928, 523,   6, 508,\n",
       "       105, 493, 495, 650, 330, 538, 107, 484, 778, 124, 361, 630,  84,\n",
       "       804, 918, 914, 893, 479, 355, 639, 218, 525, 964, 542, 394, 884,\n",
       "       283, 853, 715, 149, 113,   4,  27, 123, 702, 150, 334, 737,  92,\n",
       "       881, 103, 343, 844,  66, 463, 879, 376, 578, 108, 305, 302, 261,\n",
       "       222,  67, 417, 822, 148, 972, 266, 612, 855, 139, 745, 701, 977,\n",
       "       141,  71, 556, 886, 247, 808, 279, 654,   5,   2, 780, 306,  82,\n",
       "       766,  62, 390,  78, 647, 204, 109, 165, 245, 777, 468, 857, 668,\n",
       "       889, 646, 436, 864, 405, 882, 643, 669,  96, 744, 413, 574, 492,\n",
       "       866, 836, 325, 657, 909, 237,  83, 817, 564, 628, 444, 503, 490,\n",
       "       779, 562, 602,  28, 723, 560, 176, 752,  24,  86, 820, 299, 623,\n",
       "       432, 207,  22, 518, 140, 426, 392, 759, 794, 728, 383, 483, 326,\n",
       "       548, 599, 624, 100, 509, 184, 104,  57, 202,  47, 505, 620, 729,\n",
       "        85, 395, 629, 567, 603, 504, 372, 790, 418, 633, 187, 331, 785,\n",
       "       286, 234, 902, 858, 484, 852, 908, 144, 197, 720, 566, 388, 255,\n",
       "       690, 675, 367, 428, 287, 784, 783, 143, 427, 686, 619,  93, 590,\n",
       "       398, 250, 978,  54, 256, 742,  76, 676, 153,  40, 477, 557, 873,\n",
       "       213, 699, 665, 727, 196, 739,  11, 466, 446, 238, 693, 547, 786,\n",
       "       293, 968, 546, 223, 311, 867, 474, 634, 404, 973, 241, 324, 593,\n",
       "        21, 941, 438,  80, 674, 900, 453, 806,  23, 947,   8,  70, 188,\n",
       "       478, 751, 839, 673,  60,  12, 637, 462, 659, 147,  91, 589, 118,\n",
       "       830, 722, 934, 883, 883, 529, 497, 859, 181, 338, 762, 838, 439,\n",
       "       192, 200, 301, 467, 816,  22, 272, 756, 965, 543, 229, 407, 966,\n",
       "       930, 335, 449, 689, 962, 355, 175, 336, 550, 500, 101, 845, 580,\n",
       "       169, 789, 454, 731, 276, 167, 292, 810, 788, 831, 472, 270, 841,\n",
       "       595, 594, 570, 174, 333, 515,  36,  34, 861, 158, 827, 763, 856,\n",
       "       303, 648,  72, 259, 235,  79, 242, 706, 309, 433, 321, 705, 868,\n",
       "       957, 323, 927, 156, 314, 755, 522, 863, 280, 626, 232, 519, 313,\n",
       "       917, 157,  97, 459, 704, 527,  29, 420, 411, 328, 815])"
      ]
     },
     "execution_count": 13,
     "metadata": {},
     "output_type": "execute_result"
    }
   ],
   "source": [
    "right_region"
   ]
  },
  {
   "cell_type": "code",
   "execution_count": null,
   "metadata": {},
   "outputs": [],
   "source": [
    "# (array([22093, 31192, 29739, ...,   501,  5468, 12591]),\n",
    "#  array([  8,   8,   8, ..., 158, 158, 158]))"
   ]
  },
  {
   "cell_type": "code",
   "execution_count": null,
   "metadata": {},
   "outputs": [],
   "source": []
  }
 ],
 "metadata": {
  "kernelspec": {
   "display_name": "pyjanitor-dev",
   "language": "python",
   "name": "python3"
  },
  "language_info": {
   "codemirror_mode": {
    "name": "ipython",
    "version": 3
   },
   "file_extension": ".py",
   "mimetype": "text/x-python",
   "name": "python",
   "nbconvert_exporter": "python",
   "pygments_lexer": "ipython3",
   "version": "3.10.12"
  }
 },
 "nbformat": 4,
 "nbformat_minor": 2
}
