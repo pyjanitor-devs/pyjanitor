{
 "cells": [
  {
   "cell_type": "code",
   "execution_count": 1,
   "metadata": {},
   "outputs": [],
   "source": [
    "import pandas as pd\n",
    "import numpy as np\n",
    "import janitor as jn"
   ]
  },
  {
   "cell_type": "code",
   "execution_count": 2,
   "metadata": {},
   "outputs": [],
   "source": [
    "events = pd.read_csv(\n",
    "    \"/Users/samuel.oranyeli/Downloads/results.csv\",\n",
    "    parse_dates=[\"start\", \"end\"],\n",
    ").iloc[:, 1:]"
   ]
  },
  {
   "cell_type": "code",
   "execution_count": 3,
   "metadata": {},
   "outputs": [
    {
     "data": {
      "text/plain": [
       "[array([21793, 16872, 19703, ..., 24135,   117,  9932]),\n",
       " array([ 6489, 11410,  8579, ...,  4147, 28165, 18350]),\n",
       " array([    0,     1,     2, ..., 29996, 29997, 29998])]"
      ]
     },
     "execution_count": 3,
     "metadata": {},
     "output_type": "execute_result"
    }
   ],
   "source": [
    "(\n",
    "    events.conditional_join(\n",
    "        events,\n",
    "        (\"start\", \"end\", \"<=\"),\n",
    "        (\"end\", \"start\", \">=\"),\n",
    "        # ('id', 'id', '!='),\n",
    "        # ('audience','audience','>'),\n",
    "        use_numba=True,\n",
    "        df_columns=[\"id\", \"start\", \"end\"],\n",
    "        right_columns=[\"id\", \"start\", \"end\"],\n",
    "    )\n",
    ")"
   ]
  },
  {
   "cell_type": "code",
   "execution_count": 4,
   "metadata": {},
   "outputs": [
    {
     "name": "stdout",
     "output_type": "stream",
     "text": [
      "10.5 ms ± 115 µs per loop (mean ± std. dev. of 7 runs, 100 loops each)\n"
     ]
    }
   ],
   "source": [
    "%%timeit\n",
    "(\n",
    "    events.conditional_join(\n",
    "        events,\n",
    "        (\"start\", \"end\", \"<=\"),\n",
    "        (\"end\", \"start\", \">=\"),\n",
    "        # ('id', 'id', '!='),\n",
    "        # ('audience','audience','>'),\n",
    "        use_numba=True,\n",
    "        df_columns=[\"id\", \"start\", \"end\"],\n",
    "        right_columns=[\"id\", \"start\", \"end\"],\n",
    "    )\n",
    ")"
   ]
  },
  {
   "cell_type": "code",
   "execution_count": 5,
   "metadata": {},
   "outputs": [
    {
     "name": "stdout",
     "output_type": "stream",
     "text": [
      "17.5 ms ± 254 µs per loop (mean ± std. dev. of 7 runs, 100 loops each)\n"
     ]
    }
   ],
   "source": [
    "%%timeit\n",
    "(\n",
    "    events.conditional_join(\n",
    "        events,\n",
    "        (\"start\", \"end\", \"<=\"),\n",
    "        (\"end\", \"start\", \">=\"),\n",
    "        # ('id', 'id', '!='),\n",
    "        # ('audience','audience','>'),\n",
    "        use_numba=False,\n",
    "        df_columns=[\"id\", \"start\", \"end\"],\n",
    "        right_columns=[\"id\", \"start\", \"end\"],\n",
    "    )\n",
    ")"
   ]
  }
 ],
 "metadata": {
  "kernelspec": {
   "display_name": "pyjanitor-dev",
   "language": "python",
   "name": "python3"
  },
  "language_info": {
   "codemirror_mode": {
    "name": "ipython",
    "version": 3
   },
   "file_extension": ".py",
   "mimetype": "text/x-python",
   "name": "python",
   "nbconvert_exporter": "python",
   "pygments_lexer": "ipython3",
   "version": "3.10.12"
  }
 },
 "nbformat": 4,
 "nbformat_minor": 2
}
