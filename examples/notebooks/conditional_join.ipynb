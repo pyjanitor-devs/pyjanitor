{
 "cells": [
  {
   "cell_type": "code",
   "execution_count": 1,
   "source": [
    "import pandas as pd\n",
    "import numpy as np\n",
    "import janitor as jn\n",
    "from janitor import Inequality_Condition\n",
    "from janitor.utils import _generic_less_than_inequality, _generic_greater_than_inequality,_conditional_merge_compute\n",
    "from pandas.api.types import is_numeric_dtype, is_datetime64_dtype, is_string_dtype\n",
    "from io import StringIO"
   ],
   "outputs": [],
   "metadata": {}
  },
  {
   "cell_type": "code",
   "execution_count": 2,
   "source": [
    "df1 = pd.DataFrame(\n",
    "    [\n",
    "        {\"x\": \"b\", \"y\": 1, \"v\": 1},\n",
    "        {\"x\": \"b\", \"y\": 3, \"v\": 2},\n",
    "        {\"x\": \"b\", \"y\": 6, \"v\": 3},\n",
    "        {\"x\": \"a\", \"y\": 1, \"v\": 4},\n",
    "        {\"x\": \"a\", \"y\": 3, \"v\": 5},\n",
    "        {\"x\": \"a\", \"y\": 6, \"v\": 6},\n",
    "        {\"x\": \"c\", \"y\": 1, \"v\": 7},\n",
    "        {\"x\": \"c\", \"y\": 3, \"v\": 8},\n",
    "        {\"x\": \"c\", \"y\": 6, \"v\": 9},\n",
    "        {\"x\": \"c\", \"y\": np.nan, \"v\": 9},\n",
    "    ]\n",
    ")\n",
    "\n",
    "df2 = pd.DataFrame(\n",
    "    [{\"x\": \"c\", \"v\": 8, \"foo\": 4}, {\"x\": \"b\", \"v\": 7, \"foo\": 2}, {\"x\": \"b\", \"v\": 7, \"foo\": None}]\n",
    ")\n",
    "\n",
    "result = jn.cond_merge(df1, df2, ('y', 'foo', 'le'))\n",
    "\n",
    "result"
   ],
   "outputs": [
    {
     "output_type": "execute_result",
     "data": {
      "text/plain": [
       "  x_x    y  v_x x_y  v_y  foo\n",
       "0   b  1.0    1   b    7  2.0\n",
       "1   b  1.0    1   c    8  4.0\n",
       "2   b  3.0    2   c    8  4.0\n",
       "3   a  1.0    4   b    7  2.0\n",
       "4   a  1.0    4   c    8  4.0\n",
       "5   a  3.0    5   c    8  4.0\n",
       "6   c  1.0    7   b    7  2.0\n",
       "7   c  1.0    7   c    8  4.0\n",
       "8   c  3.0    8   c    8  4.0"
      ],
      "text/html": [
       "<div>\n",
       "<style scoped>\n",
       "    .dataframe tbody tr th:only-of-type {\n",
       "        vertical-align: middle;\n",
       "    }\n",
       "\n",
       "    .dataframe tbody tr th {\n",
       "        vertical-align: top;\n",
       "    }\n",
       "\n",
       "    .dataframe thead th {\n",
       "        text-align: right;\n",
       "    }\n",
       "</style>\n",
       "<table border=\"1\" class=\"dataframe\">\n",
       "  <thead>\n",
       "    <tr style=\"text-align: right;\">\n",
       "      <th></th>\n",
       "      <th>x_x</th>\n",
       "      <th>y</th>\n",
       "      <th>v_x</th>\n",
       "      <th>x_y</th>\n",
       "      <th>v_y</th>\n",
       "      <th>foo</th>\n",
       "    </tr>\n",
       "  </thead>\n",
       "  <tbody>\n",
       "    <tr>\n",
       "      <th>0</th>\n",
       "      <td>b</td>\n",
       "      <td>1.0</td>\n",
       "      <td>1</td>\n",
       "      <td>b</td>\n",
       "      <td>7</td>\n",
       "      <td>2.0</td>\n",
       "    </tr>\n",
       "    <tr>\n",
       "      <th>1</th>\n",
       "      <td>b</td>\n",
       "      <td>1.0</td>\n",
       "      <td>1</td>\n",
       "      <td>c</td>\n",
       "      <td>8</td>\n",
       "      <td>4.0</td>\n",
       "    </tr>\n",
       "    <tr>\n",
       "      <th>2</th>\n",
       "      <td>b</td>\n",
       "      <td>3.0</td>\n",
       "      <td>2</td>\n",
       "      <td>c</td>\n",
       "      <td>8</td>\n",
       "      <td>4.0</td>\n",
       "    </tr>\n",
       "    <tr>\n",
       "      <th>3</th>\n",
       "      <td>a</td>\n",
       "      <td>1.0</td>\n",
       "      <td>4</td>\n",
       "      <td>b</td>\n",
       "      <td>7</td>\n",
       "      <td>2.0</td>\n",
       "    </tr>\n",
       "    <tr>\n",
       "      <th>4</th>\n",
       "      <td>a</td>\n",
       "      <td>1.0</td>\n",
       "      <td>4</td>\n",
       "      <td>c</td>\n",
       "      <td>8</td>\n",
       "      <td>4.0</td>\n",
       "    </tr>\n",
       "    <tr>\n",
       "      <th>5</th>\n",
       "      <td>a</td>\n",
       "      <td>3.0</td>\n",
       "      <td>5</td>\n",
       "      <td>c</td>\n",
       "      <td>8</td>\n",
       "      <td>4.0</td>\n",
       "    </tr>\n",
       "    <tr>\n",
       "      <th>6</th>\n",
       "      <td>c</td>\n",
       "      <td>1.0</td>\n",
       "      <td>7</td>\n",
       "      <td>b</td>\n",
       "      <td>7</td>\n",
       "      <td>2.0</td>\n",
       "    </tr>\n",
       "    <tr>\n",
       "      <th>7</th>\n",
       "      <td>c</td>\n",
       "      <td>1.0</td>\n",
       "      <td>7</td>\n",
       "      <td>c</td>\n",
       "      <td>8</td>\n",
       "      <td>4.0</td>\n",
       "    </tr>\n",
       "    <tr>\n",
       "      <th>8</th>\n",
       "      <td>c</td>\n",
       "      <td>3.0</td>\n",
       "      <td>8</td>\n",
       "      <td>c</td>\n",
       "      <td>8</td>\n",
       "      <td>4.0</td>\n",
       "    </tr>\n",
       "  </tbody>\n",
       "</table>\n",
       "</div>"
      ]
     },
     "metadata": {},
     "execution_count": 2
    }
   ],
   "metadata": {}
  },
  {
   "cell_type": "code",
   "execution_count": 3,
   "source": [
    "# df1.cond_merge(df2, ('y','foo','lt'), ('v','v', 'le'))"
   ],
   "outputs": [],
   "metadata": {}
  },
  {
   "cell_type": "code",
   "execution_count": 4,
   "source": [
    "%load_ext line_profiler\n",
    "%load_ext memory_profiler"
   ],
   "outputs": [],
   "metadata": {}
  },
  {
   "cell_type": "code",
   "execution_count": 5,
   "source": [
    "df1 = pd.concat([df1]*1_000, ignore_index=True)\n",
    "df2 = pd.concat([df2]*200, ignore_index = True)"
   ],
   "outputs": [],
   "metadata": {}
  },
  {
   "cell_type": "code",
   "execution_count": 19,
   "source": [
    "%timeit df1.cond_merge(df2, ('y','foo','lt'), ('v','v', 'le'))"
   ],
   "outputs": [],
   "metadata": {}
  },
  {
   "cell_type": "code",
   "execution_count": 18,
   "source": [
    "%lprun -f  _generic_less_than_inequality   _generic_less_than_inequality(        df=df1, right=df2, left_on=\"v\", right_on=\"v\"                                             , strict=True)"
   ],
   "outputs": [
    {
     "output_type": "stream",
     "name": "stdout",
     "text": [
      "Timer unit: 1e-06 s\n",
      "\n",
      "Total time: 0.244663 s\n",
      "File: /workspaces/pyjanitor/janitor/utils.py\n",
      "Function: _generic_less_than_inequality at line 2384\n",
      "\n",
      "Line #      Hits         Time  Per Hit   % Time  Line Contents\n",
      "==============================================================\n",
      "  2384                                           def _generic_less_than_inequality(\n",
      "  2385                                               df: pd.DataFrame,\n",
      "  2386                                               right: pd.DataFrame,\n",
      "  2387                                               left_on: str,\n",
      "  2388                                               right_on: str,\n",
      "  2389                                               strict: bool = False,\n",
      "  2390                                           ):\n",
      "  2391                                               \"\"\"\n",
      "  2392                                               Generic implementation for less than joins.\n",
      "  2393                                               This covers less than or equal joins as well.\n",
      "  2394                                               If `strict` is True, then only rows where\n",
      "  2395                                               the left side is strictly less than the right side\n",
      "  2396                                               are kept.\n",
      "  2397                                               If there are no matches, None is returned.\n",
      "  2398                                               \"\"\"\n",
      "  2399                                           \n",
      "  2400         1        160.0    160.0      0.1      left_c = df[left_on]\n",
      "  2401         1         83.0     83.0      0.0      right_c = right[right_on]\n",
      "  2402                                           \n",
      "  2403         1         73.0     73.0      0.0      _conditional_join_type_check(left_c, right_c)\n",
      "  2404                                           \n",
      "  2405         1        230.0    230.0      0.1      if not right_c.is_monotonic_increasing:\n",
      "  2406         1       3016.0   3016.0      1.2          right = right.sort_values(by=right_on)\n",
      "  2407                                           \n",
      "  2408         1        202.0    202.0      0.1      right_c = right[right_on]\n",
      "  2409         1        179.0    179.0      0.1      right_c.index = np.arange(len(right_c))\n",
      "  2410                                           \n",
      "  2411         1        446.0    446.0      0.2      if left_c.hasnans:\n",
      "  2412                                                   left_c = left_c.dropna()\n",
      "  2413         1        345.0    345.0      0.1      if right_c.hasnans:\n",
      "  2414                                                   right_c = right_c.dropna()\n",
      "  2415         1        401.0    401.0      0.2      if left_c.min() > right_c.max():\n",
      "  2416                                                   return None\n",
      "  2417                                           \n",
      "  2418         1          7.0      7.0      0.0      len_right_c = right_c.size\n",
      "  2419         1        394.0    394.0      0.2      search_indices = right_c.searchsorted(left_c, side=\"left\")\n",
      "  2420         1         13.0     13.0      0.0      positions_to_include = search_indices < len_right_c\n",
      "  2421         1          9.0      9.0      0.0      if positions_to_include.any():\n",
      "  2422         1         21.0     21.0      0.0          search_indices = search_indices[positions_to_include]\n",
      "  2423         1        264.0    264.0      0.1          left_c = left_c[positions_to_include]\n",
      "  2424         1      19171.0  19171.0      7.8      right_index = _le_create_ranges(indices=search_indices, len_right=len_right_c)\n",
      "  2425         1         37.0     37.0      0.0      search_indices = len_right_c - search_indices\n",
      "  2426                                           \n",
      "  2427         1          1.0      1.0      0.0      if strict:\n",
      "  2428         1      77171.0  77171.0     31.5          right_c = right_c[right_index]\n",
      "  2429         1      81500.0  81500.0     33.3          left_c = left_c.repeat(search_indices)\n",
      "  2430         1       7836.0   7836.0      3.2          not_equal = left_c.array != right_c.array\n",
      "  2431         1      29627.0  29627.0     12.1          left_c = left_c.index[not_equal]\n",
      "  2432         1      13803.0  13803.0      5.6          right_c = right_c.index[not_equal]\n",
      "  2433         1       9673.0   9673.0      4.0          right_c = right.index[right_c]\n",
      "  2434         1          1.0      1.0      0.0          return left_c, right_c\n",
      "  2435                                               right_c = right.index[right_index]\n",
      "  2436                                               left_c = left_c.index.repeat(search_indices)\n",
      "  2437                                               return left_c, right_c"
     ]
    }
   ],
   "metadata": {}
  },
  {
   "cell_type": "code",
   "execution_count": 13,
   "source": [
    "%lprun -f _conditional_merge_compute _conditional_merge_compute(df1, df2, [Inequality_Condition('y', 'foo', 'lt')], \"inner\", (\"_x\", \"_y\"))"
   ],
   "outputs": [
    {
     "output_type": "stream",
     "name": "stdout",
     "text": [
      "Timer unit: 1e-06 s\n",
      "\n",
      "Total time: 0.398912 s\n",
      "File: /workspaces/pyjanitor/janitor/utils.py\n",
      "Function: _conditional_merge_compute at line 2512\n",
      "\n",
      "Line #      Hits         Time  Per Hit   % Time  Line Contents\n",
      "==============================================================\n",
      "  2512                                           def _conditional_merge_compute(\n",
      "  2513                                               df: pd.DataFrame,\n",
      "  2514                                               right: Union[pd.DataFrame, pd.Series],\n",
      "  2515                                               inequality_conditions: list,\n",
      "  2516                                               how: str,\n",
      "  2517                                               suffixes: tuple,\n",
      "  2518                                           ):\n",
      "  2519                                               \"\"\"\n",
      "  2520                                               Compute dataframe where how = \"inner\"\n",
      "  2521                                               \"\"\"\n",
      "  2522                                           \n",
      "  2523         1          3.0      3.0      0.0      inequality_arrays = []\n",
      "  2524         2          4.0      2.0      0.0      for condition in inequality_conditions:\n",
      "  2525         1          2.0      2.0      0.0          left_on = condition.left_on\n",
      "  2526         1          2.0      2.0      0.0          right_on = condition.right_on\n",
      "  2527         1          2.0      2.0      0.0          operator = condition.operator\n",
      "  2528         1          1.0      1.0      0.0          strict = False\n",
      "  2529         1          1.0      1.0      0.0          if operator in (\"lt\", \"gt\"):\n",
      "  2530         1          2.0      2.0      0.0              strict = True\n",
      "  2531         1          2.0      2.0      0.0          if operator in (\"lt\", \"le\"):\n",
      "  2532         2      69103.0  34551.5     17.3              outcome = _generic_less_than_inequality(\n",
      "  2533         1          1.0      1.0      0.0                  df=df,\n",
      "  2534         1          2.0      2.0      0.0                  right=right,\n",
      "  2535         1          2.0      2.0      0.0                  left_on=left_on,\n",
      "  2536         1          2.0      2.0      0.0                  right_on=right_on,\n",
      "  2537         1          1.0      1.0      0.0                  strict=strict,\n",
      "  2538                                                       )\n",
      "  2539                                                   else:\n",
      "  2540                                                       outcome = _generic_greater_than_inequality(\n",
      "  2541                                                           df=df,\n",
      "  2542                                                           right=right,\n",
      "  2543                                                           left_on=left_on,\n",
      "  2544                                                           right_on=right_on,\n",
      "  2545                                                           strict=strict,\n",
      "  2546                                                       )\n",
      "  2547         1          4.0      4.0      0.0          if outcome is None:\n",
      "  2548                                                       break\n",
      "  2549         1          3.0      3.0      0.0          inequality_arrays.append(outcome)\n",
      "  2550                                           \n",
      "  2551         1       1293.0   1293.0      0.3      common_columns = df.columns.intersection(right.columns, sort=False)\n",
      "  2552                                           \n",
      "  2553         1          9.0      9.0      0.0      if not common_columns.empty:\n",
      "  2554         1          3.0      3.0      0.0          left_suffix, right_suffix = suffixes\n",
      "  2555                                           \n",
      "  2556         1          2.0      2.0      0.0          if left_suffix:\n",
      "  2557         1         23.0     23.0      0.0              mapping = {col: f\"{col}{left_suffix}\" for col in common_columns}\n",
      "  2558         1       1352.0   1352.0      0.3              df = df.rename(columns=mapping)\n",
      "  2559         1          3.0      3.0      0.0          if right_suffix:\n",
      "  2560         1         14.0     14.0      0.0              mapping = {col: f\"{col}{right_suffix}\" for col in common_columns}\n",
      "  2561         1       1160.0   1160.0      0.3              right = right.rename(columns=mapping)\n",
      "  2562         1          4.0      4.0      0.0      if not inequality_arrays:\n",
      "  2563                                                    columns = df.columns.union(right.columns, sort=False)\n",
      "  2564                                                    return pd.DataFrame([], columns=columns)\n",
      "  2565         1          2.0      2.0      0.0      if len(inequality_arrays) == 1:\n",
      "  2566         1          2.0      2.0      0.0          left_index, right_index = inequality_arrays[0]\n",
      "  2567                                               else:\n",
      "  2568                                                   first, *rest = inequality_arrays\n",
      "  2569                                                   if len(rest) == 1:\n",
      "  2570                                                       rest = set(zip(*rest[0]))\n",
      "  2571                                                   else:\n",
      "  2572                                                       rest = (set(zip(*tupled)) for tupled in rest)\n",
      "  2573                                                       rest = set.intersection(*rest)\n",
      "  2574                                                   first = pd.MultiIndex.from_arrays(first)\n",
      "  2575                                                   intersection_rows = first.isin(rest)\n",
      "  2576                                                   if not intersection_rows.any():\n",
      "  2577                                                       columns = df.columns.union(right.columns, sort=False)\n",
      "  2578                                                       return pd.DataFrame([], columns=columns)\n",
      "  2579                                                   first = first[intersection_rows]\n",
      "  2580                                                   left_index = first.get_level_values(0)\n",
      "  2581                                                   right_index = first.get_level_values(-1)\n",
      "  2582                                           \n",
      "  2583                                           \n",
      "  2584                                               \n",
      "  2585                                           \n",
      "  2586         1     142707.0 142707.0     35.8      df_inner = df.loc[left_index]\n",
      "  2587         1     133272.0 133272.0     33.4      right_inner = right.loc[right_index]\n",
      "  2588         1       1827.0   1827.0      0.5      new_index = np.arange(len(df_inner))\n",
      "  2589         1        232.0    232.0      0.1      df_inner.index = new_index\n",
      "  2590         1         97.0     97.0      0.0      right_inner.index = new_index\n",
      "  2591         1      47773.0  47773.0     12.0      return pd.concat([df_inner, right_inner], axis=\"columns\", join=\"inner\")"
     ]
    }
   ],
   "metadata": {}
  },
  {
   "cell_type": "code",
   "execution_count": 9,
   "source": [
    "%lprun -f janitor.le_join janitor.le_join(df1, df2, 'y', 'foo')"
   ],
   "outputs": [
    {
     "output_type": "stream",
     "name": "stderr",
     "text": [
      "UsageError: Could not find function 'janitor.le_join'.\n",
      "NameError: name 'janitor' is not defined\n"
     ]
    }
   ],
   "metadata": {}
  },
  {
   "cell_type": "code",
   "execution_count": 10,
   "source": [
    "df, right, left_c, right_c = _generic_greater_than_inequality(\n",
    "        df=df1, right=df2, left_on=\"v\", right_on=\"v\"\n",
    "                                             )"
   ],
   "outputs": [
    {
     "output_type": "error",
     "ename": "ValueError",
     "evalue": "not enough values to unpack (expected 4, got 2)",
     "traceback": [
      "\u001b[0;31m---------------------------------------------------------------------------\u001b[0m",
      "\u001b[0;31mValueError\u001b[0m                                Traceback (most recent call last)",
      "\u001b[0;32m<ipython-input-10-edf98a0eb9ca>\u001b[0m in \u001b[0;36m<module>\u001b[0;34m\u001b[0m\n\u001b[0;32m----> 1\u001b[0;31m df, right, left_c, right_c = _generic_greater_than_inequality(\n\u001b[0m\u001b[1;32m      2\u001b[0m         \u001b[0mdf\u001b[0m\u001b[0;34m=\u001b[0m\u001b[0mdf1\u001b[0m\u001b[0;34m,\u001b[0m \u001b[0mright\u001b[0m\u001b[0;34m=\u001b[0m\u001b[0mdf2\u001b[0m\u001b[0;34m,\u001b[0m \u001b[0mleft_on\u001b[0m\u001b[0;34m=\u001b[0m\u001b[0;34m\"v\"\u001b[0m\u001b[0;34m,\u001b[0m \u001b[0mright_on\u001b[0m\u001b[0;34m=\u001b[0m\u001b[0;34m\"v\"\u001b[0m\u001b[0;34m\u001b[0m\u001b[0;34m\u001b[0m\u001b[0m\n\u001b[1;32m      3\u001b[0m                                              )\n",
      "\u001b[0;31mValueError\u001b[0m: not enough values to unpack (expected 4, got 2)"
     ]
    }
   ],
   "metadata": {}
  },
  {
   "cell_type": "code",
   "execution_count": null,
   "source": [
    "%lprun -f  _generic_greater_than_inequality   _generic_greater_than_inequality(        df=df1, right=df2, left_on=\"v\", right_on=\"v\"                                             )"
   ],
   "outputs": [],
   "metadata": {}
  },
  {
   "cell_type": "code",
   "execution_count": null,
   "source": [
    "%timeit df1.merge(df2, how='left', left_on='v', right_on='v')"
   ],
   "outputs": [],
   "metadata": {}
  },
  {
   "cell_type": "code",
   "execution_count": null,
   "source": [
    "df1.merge(df2, how='inner', left_on='v', right_on='v')"
   ],
   "outputs": [],
   "metadata": {}
  },
  {
   "cell_type": "code",
   "execution_count": null,
   "source": [
    "A = pd.DataFrame(dict(\n",
    "        A_id=range(10),\n",
    "        A_value=range(5, 105, 10)\n",
    "    ))\n",
    "B = pd.DataFrame(dict(\n",
    "        B_id=range(5),\n",
    "        B_low=[0, 30, 30, 46, 84],\n",
    "        B_high=[10, 40, 50, 54, 84]\n",
    "    ))"
   ],
   "outputs": [],
   "metadata": {}
  },
  {
   "cell_type": "code",
   "execution_count": null,
   "source": [
    "A"
   ],
   "outputs": [],
   "metadata": {}
  },
  {
   "cell_type": "code",
   "execution_count": null,
   "source": [
    "B"
   ],
   "outputs": [],
   "metadata": {}
  },
  {
   "cell_type": "code",
   "execution_count": null,
   "source": [
    "outcome = A.le_join(B, left_on='A_value', right_on='B_high').query('A_value >= B_low')\n",
    "\n",
    "outcome"
   ],
   "outputs": [],
   "metadata": {}
  },
  {
   "cell_type": "code",
   "execution_count": null,
   "source": [
    "A.merge(outcome, how = 'left')"
   ],
   "outputs": [],
   "metadata": {}
  },
  {
   "cell_type": "code",
   "execution_count": null,
   "source": [
    "df_a = pd.DataFrame([{\"a\": 1, \"b\": 4}, {\"a\": 2, \"b\": 5}, {\"a\": 3, \"b\": 6}])\n",
    "df_b = pd.DataFrame([{\"c\": 2, \"d\": 7}, {\"c\": 3, \"d\": 8}])"
   ],
   "outputs": [],
   "metadata": {}
  },
  {
   "cell_type": "code",
   "execution_count": null,
   "source": [
    "df_a"
   ],
   "outputs": [],
   "metadata": {}
  },
  {
   "cell_type": "code",
   "execution_count": null,
   "source": [
    "df_b"
   ],
   "outputs": [],
   "metadata": {}
  },
  {
   "cell_type": "code",
   "execution_count": null,
   "source": [
    "df_a.merge(df_a.lt_join(df_b, \"a\", \"c\"), how = 'left')"
   ],
   "outputs": [],
   "metadata": {}
  },
  {
   "cell_type": "code",
   "execution_count": null,
   "source": [
    "df1 = pd.DataFrame({'id': [1,1,1,2,2,3], 'value_1': [2,5,7,1,3,4]})\n",
    "df2 = pd.DataFrame({'id': [1,1,1,1,2,2,2,3], 'value_2A': [0,3,7,12,0,2,3,1], 'value_2B': [1,5,9,15,1,4,6,3]})"
   ],
   "outputs": [],
   "metadata": {}
  },
  {
   "cell_type": "code",
   "execution_count": null,
   "source": [
    "df1"
   ],
   "outputs": [],
   "metadata": {}
  },
  {
   "cell_type": "code",
   "execution_count": null,
   "source": [
    "df2"
   ],
   "outputs": [],
   "metadata": {}
  },
  {
   "cell_type": "code",
   "execution_count": null,
   "source": [
    "df1.merge(df1.merge(df2).query('value_2A<=value_1<=value_2B'), how = 'left')"
   ],
   "outputs": [],
   "metadata": {}
  },
  {
   "cell_type": "code",
   "execution_count": null,
   "source": [
    "data = \"\"\"    company       date  measure\n",
    "0         0  2010-01-01       10\n",
    "1         0  2010-01-15       10\n",
    "2         0  2010-02-01       10\n",
    "3         0  2010-02-15       10\n",
    "4         0  2010-03-01       10\n",
    "5         0  2010-03-15       10\n",
    "6         0  2010-04-01       10\n",
    "7         1  2010-03-01        5\n",
    "8         1  2010-03-15        5\n",
    "9         1  2010-04-01        5\n",
    "10        1  2010-04-15        5\n",
    "11        1  2010-05-01        5\n",
    "12        1  2010-05-15        5\"\"\"\n",
    "\n",
    "left = pd.read_csv(StringIO(data), sep=\"\\s{2,}\", engine='python')\n",
    "\n",
    "left['date'] = pd.to_datetime(left['date'])\n",
    "left"
   ],
   "outputs": [],
   "metadata": {}
  },
  {
   "cell_type": "code",
   "execution_count": null,
   "source": [
    "data = \"\"\"   company   end_date\n",
    "0        0  2010-02-01\n",
    "1        0  2010-03-15\n",
    "2        1  2010-04-01\n",
    "3        1  2010-05-15\n",
    "\"\"\"\n",
    "\n",
    "right = pd.read_csv(StringIO(data), sep=\"\\s{2,}\", engine='python')\n",
    "\n",
    "right['end_date'] = pd.to_datetime(right['end_date'])\n",
    "right"
   ],
   "outputs": [],
   "metadata": {}
  },
  {
   "cell_type": "code",
   "execution_count": null,
   "source": [
    "left.dtypes"
   ],
   "outputs": [],
   "metadata": {}
  },
  {
   "cell_type": "code",
   "execution_count": null,
   "source": [
    "right.dtypes"
   ],
   "outputs": [],
   "metadata": {}
  },
  {
   "cell_type": "code",
   "execution_count": null,
   "source": [
    "is_numeric_dtype(left.SALARY, right.grad)"
   ],
   "outputs": [],
   "metadata": {}
  },
  {
   "cell_type": "code",
   "execution_count": null,
   "source": [
    "left.le_join(right, 'date', 'end_date', suffixes = (None, '_y')).loc[lambda df: (df['date'] >= (df['end_date']-pd.Timedelta('30D'))) & (df.company == df.company_y), ['company', 'date', 'end_date', 'measure']].groupby(['company', 'end_date']).measure.sum()"
   ],
   "outputs": [],
   "metadata": {}
  },
  {
   "cell_type": "code",
   "execution_count": null,
   "source": [
    "df = pd.DataFrame({'Origin': {1: 'A', 6: 'A', 11: 'A', 16: 'A', 21: 'B', 26: 'B', 31: 'C', 36: 'C'},\n",
    " 'Destination': {1: 'B', 6: 'B', 11: 'C', 16: 'C', 21: 'Z', 26: 'Z', 31: 'Z', 36: 'Z'}, \n",
    " 'Dept_Time': {1: pd.Timestamp('2019-03-30 17:31:00'), 6: pd.Timestamp('2019-05-16 17:32:00'), 11: pd.Timestamp('2019-04-01 08:30:00'), 16: pd.Timestamp('2019-06-09 08:20:00'), 21: pd.Timestamp('2019-07-26 08:31:00'), 26: pd.Timestamp('2019-03-31 06:16:00'), 31: pd.Timestamp('2019-07-03 23:52:00'), 36: pd.Timestamp('2019-03-27 17:31:00')}, 'Arrv_Time': {1: pd.Timestamp('2019-03-30 23:23:00'), 6: pd.Timestamp('2019-05-16 23:22:00'), 11: pd.Timestamp('2019-04-01 14:22:00'), 16: pd.Timestamp('2019-06-09 14:18:00'), 21: pd.Timestamp('2019-07-26 14:23:00'), 26: pd.Timestamp('2019-06-18 05:00:00'), 31: pd.Timestamp('2019-07-04 05:36:00'), 36: pd.Timestamp('2019-03-27 23:23:00')}})\n",
    "df"
   ],
   "outputs": [],
   "metadata": {}
  },
  {
   "cell_type": "code",
   "execution_count": null,
   "source": [
    "df.columns"
   ],
   "outputs": [],
   "metadata": {}
  },
  {
   "cell_type": "code",
   "execution_count": null,
   "source": [
    "janitor.lt_join?"
   ],
   "outputs": [],
   "metadata": {}
  },
  {
   "cell_type": "code",
   "execution_count": null,
   "source": [
    "df.lt_join(df, 'Dept_Time', 'Arrv_Time').filter(['Dept_Time_x', 'Arrv_Time_y'])"
   ],
   "outputs": [],
   "metadata": {}
  },
  {
   "cell_type": "code",
   "execution_count": null,
   "source": [
    "df1 = pd.DataFrame({'col_a': [1,2,3], 'col_b': [\"A\", \"B\", \"C\"]})\n",
    "df1"
   ],
   "outputs": [],
   "metadata": {}
  },
  {
   "cell_type": "code",
   "execution_count": null,
   "source": [
    "df2 = pd.DataFrame({'col_a': [0, 2, 3], 'col_c': [\"Z\", \"X\", \"Y\"]})\n",
    "df2"
   ],
   "outputs": [],
   "metadata": {}
  },
  {
   "cell_type": "code",
   "execution_count": null,
   "source": [
    "df1.gt_join(df2, 'col_a', 'col_a', suffixes=(None, '_y'))"
   ],
   "outputs": [],
   "metadata": {}
  },
  {
   "cell_type": "code",
   "execution_count": null,
   "source": [
    "TableA = pd.DataFrame(np.random.rand(4, 3),\n",
    "                      pd.Index(list('abcd'), name='Key'),\n",
    "                      ['A', 'B', 'C']).reset_index()\n",
    "TableB = pd.DataFrame(np.random.rand(4, 3),\n",
    "                      pd.Index(list('aecf'), name='Key'),\n",
    "                      ['A', 'B', 'C']).reset_index()"
   ],
   "outputs": [],
   "metadata": {}
  },
  {
   "cell_type": "code",
   "execution_count": null,
   "source": [
    "TableA"
   ],
   "outputs": [],
   "metadata": {}
  },
  {
   "cell_type": "code",
   "execution_count": null,
   "source": [
    "TableB"
   ],
   "outputs": [],
   "metadata": {}
  },
  {
   "cell_type": "code",
   "execution_count": null,
   "source": [
    "TableA.merge(TableB, on='Key', how='outer', indicator=True).query(\"_merge ==['left_only', 'right_only']\")"
   ],
   "outputs": [],
   "metadata": {}
  },
  {
   "cell_type": "code",
   "execution_count": null,
   "source": [
    "A = dict(x=[1,2,2,2,4,4,4], y=[2,3,4,6,5,5,10], z=[2,1,7,4,5,6,3])\n",
    "B = dict(x=[2,4],y=[3,8])\n",
    "A = pd.DataFrame(A)\n",
    "B = pd.DataFrame(B)"
   ],
   "outputs": [],
   "metadata": {}
  },
  {
   "cell_type": "code",
   "execution_count": null,
   "source": [
    "A"
   ],
   "outputs": [],
   "metadata": {}
  },
  {
   "cell_type": "code",
   "execution_count": null,
   "source": [
    "B"
   ],
   "outputs": [],
   "metadata": {}
  },
  {
   "cell_type": "code",
   "execution_count": null,
   "source": [],
   "outputs": [],
   "metadata": {}
  },
  {
   "cell_type": "code",
   "execution_count": null,
   "source": [],
   "outputs": [],
   "metadata": {}
  },
  {
   "cell_type": "code",
   "execution_count": null,
   "source": [
    "A=pd.concat([A]*10_000, ignore_index=True)\n",
    "B= pd.concat([B]*10, ignore_index=True)"
   ],
   "outputs": [],
   "metadata": {}
  },
  {
   "cell_type": "code",
   "execution_count": null,
   "source": [
    "%%timeit\n",
    "index_to_na = A.le_join(B, \"x\", \"x\", suffixes=(None, '_y')).loc[lambda df: df.y > df.y_y, [\"x\", \"y\", \"z\"]]\n",
    "A.loc[lambda df: df.z.isin(index_to_na.z), 'z'] = pd.NA\n",
    "A"
   ],
   "outputs": [],
   "metadata": {}
  },
  {
   "cell_type": "code",
   "execution_count": null,
   "source": [],
   "outputs": [],
   "metadata": {}
  },
  {
   "cell_type": "code",
   "execution_count": null,
   "source": [
    "A"
   ],
   "outputs": [],
   "metadata": {}
  },
  {
   "cell_type": "code",
   "execution_count": null,
   "source": [],
   "outputs": [],
   "metadata": {}
  },
  {
   "cell_type": "code",
   "execution_count": null,
   "source": [
    "left = pd.DataFrame([[1, 2, 3],\n",
    "                     [4, 5, 6],\n",
    "                    [7, 8, 9]],columns=['a', 'b', 'c'])\n",
    "\n",
    "\n",
    "right = pd.DataFrame([[1, 2.5, -3],\n",
    "                      [4, 7, -6],\n",
    "                   [6, 8.5, -9]],\n",
    "                    columns=['a', 'd', 'e'])\n",
    "\n",
    "left"
   ],
   "outputs": [],
   "metadata": {}
  },
  {
   "cell_type": "code",
   "execution_count": null,
   "source": [
    "right"
   ],
   "outputs": [],
   "metadata": {}
  },
  {
   "cell_type": "code",
   "execution_count": null,
   "source": [
    "left.lt_join(right, 'b', 'd').query('c>d')"
   ],
   "outputs": [],
   "metadata": {}
  },
  {
   "cell_type": "code",
   "execution_count": null,
   "source": [
    "pd.DataFrame([[1, 2, 3, 2.5, -3]],\n",
    "                     columns=['a', 'b', 'c', 'd', 'e'])"
   ],
   "outputs": [],
   "metadata": {}
  },
  {
   "cell_type": "code",
   "execution_count": null,
   "source": [
    "data = \"\"\"CHR  SNP  POS\n",
    "1  rs2073813  753541\n",
    "1  rs3131969  754182\n",
    "2  rs3131968  754192\n",
    "2  rs3131967  754334\n",
    "3  rs3115859  754503\n",
    "3  rs3131966  900000\n",
    "\n",
    "\"\"\"\n",
    "\n",
    "left = pd.read_csv(StringIO(data), sep=\"\\s{2,}\", engine='python')\n",
    "\n",
    "left"
   ],
   "outputs": [],
   "metadata": {}
  },
  {
   "cell_type": "code",
   "execution_count": null,
   "source": [
    "data = \"\"\"CHR  start  end \n",
    "1  700500  833300\n",
    "2  1000  20000\n",
    "2  59998  60000 \n",
    "3  700000  800000\n",
    "\n",
    "\"\"\"\n",
    "\n",
    "right = pd.read_csv(StringIO(data), sep=\"\\s{2,}\", engine='python')\n",
    "\n",
    "right"
   ],
   "outputs": [],
   "metadata": {}
  },
  {
   "cell_type": "code",
   "execution_count": null,
   "source": [
    "condition1 = lambda df: (df.POS.ge(df.start)) & (df.CHR.eq(df.CHR_y))\n",
    "left.le_join(right, \"POS\", \"end\", suffixes=(None, \"_y\")).loc[condition1, [\"CHR\", \"SNP\", \"POS\"]]"
   ],
   "outputs": [],
   "metadata": {}
  },
  {
   "cell_type": "code",
   "execution_count": null,
   "source": [
    "df1 = pd.DataFrame(\n",
    "    {\n",
    "        'TranDate': ['2018/01/05', '2018/02/07', '2018/03/24']\n",
    "        ,'Loc': [4000, 5000, 4200]\n",
    "    }\n",
    ")\n",
    "\n",
    "df2 = pd.DataFrame(\n",
    "    {\n",
    "        'StartDate': ['2018/01/01', '2018/02/01', '2018/03/01']\n",
    "        ,'EndDate': ['2018/01/31','2018/02/28', '2018/03/30']\n",
    "        ,'PP': ['01', '02', '03']\n",
    "    }\n",
    ")"
   ],
   "outputs": [],
   "metadata": {}
  },
  {
   "cell_type": "code",
   "execution_count": null,
   "source": [
    "df1"
   ],
   "outputs": [],
   "metadata": {}
  },
  {
   "cell_type": "code",
   "execution_count": null,
   "source": [
    "df2"
   ],
   "outputs": [],
   "metadata": {}
  },
  {
   "cell_type": "code",
   "execution_count": null,
   "source": [
    "dfR = pd.DataFrame(\n",
    "    {\n",
    "        'TranDate': ['2018/01/05', '2018/02/07', '2018/03/24']\n",
    "        ,'Loc': [4000, 5000, 4200]\n",
    "        ,'PP': ['01', '02', '03']\n",
    "    }\n",
    ")\n",
    "\n",
    "dfR"
   ],
   "outputs": [],
   "metadata": {}
  },
  {
   "cell_type": "code",
   "execution_count": null,
   "source": [
    "\n",
    "df1['TranDate'] = pd.to_datetime(df1['TranDate'])\n",
    "df1.dtypes"
   ],
   "outputs": [],
   "metadata": {}
  },
  {
   "cell_type": "code",
   "execution_count": null,
   "source": [
    "df2.StartDate = pd.to_datetime(df2.StartDate)\n",
    "df2.EndDate = pd.to_datetime(df2.EndDate)"
   ],
   "outputs": [],
   "metadata": {}
  },
  {
   "cell_type": "code",
   "execution_count": null,
   "source": [
    "df2.dtypes"
   ],
   "outputs": [],
   "metadata": {}
  },
  {
   "cell_type": "code",
   "execution_count": null,
   "source": [
    "df1.le_join(df2, 'TranDate', 'EndDate').loc[lambda df: df.TranDate.ge(df.StartDate), [\"TranDate\", \"Loc\", \"PP\"]]"
   ],
   "outputs": [],
   "metadata": {}
  },
  {
   "cell_type": "code",
   "execution_count": null,
   "source": [
    "data = \"\"\"rank    begin    end     labels\n",
    "first   30953   31131    label1\n",
    "first   31293   31435    label2\n",
    "first   31436   31733    label4\n",
    "first   31734   31754    label1\n",
    "first   32841   33037    label3\n",
    "second  33048   33456    label4\n",
    "\n",
    "\"\"\"\n",
    "\n",
    "left = pd.read_csv(StringIO(data), sep=\"\\s{2,}\", engine='python')\n",
    "\n",
    "left"
   ],
   "outputs": [],
   "metadata": {}
  },
  {
   "cell_type": "code",
   "execution_count": null,
   "source": [
    "data = \"\"\"rank    start \n",
    "first   31333     \n",
    "first   31434     \n",
    "first   33039    \n",
    "first   33123     \n",
    "first   33125     \n",
    "\"\"\"\n",
    "\n",
    "right = pd.read_csv(StringIO(data), sep=\"\\s{2,}\", engine='python')\n",
    "\n",
    "right"
   ],
   "outputs": [],
   "metadata": {}
  },
  {
   "cell_type": "code",
   "execution_count": null,
   "source": [
    "left"
   ],
   "outputs": [],
   "metadata": {}
  },
  {
   "cell_type": "code",
   "execution_count": null,
   "source": [
    "right.filter(['rank', 'start', 'labels']).merge(right.le_join(left, \"start\", \"end\", suffixes=(None, \"_y\")).loc[lambda df: df.start.gt(df.begin), ['rank', 'start', 'labels']], how='left')"
   ],
   "outputs": [],
   "metadata": {}
  },
  {
   "cell_type": "code",
   "execution_count": null,
   "source": [],
   "outputs": [],
   "metadata": {}
  }
 ],
 "metadata": {
  "orig_nbformat": 4,
  "language_info": {
   "name": "python"
  }
 },
 "nbformat": 4,
 "nbformat_minor": 2
}