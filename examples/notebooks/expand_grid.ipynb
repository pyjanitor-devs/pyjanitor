{
 "cells": [
  {
   "cell_type": "markdown",
   "metadata": {},
   "source": [
    "# Expand_grid : Create a dataframe from all combinations of inputs."
   ]
  },
  {
   "cell_type": "markdown",
   "metadata": {},
   "source": [
    "## Background \n",
    "\n",
    "This notebook serves to show examples of how expand_grid works. Expand_grid aims to offer similar functionality to R's [expand_grid](https://tidyr.tidyverse.org/reference/expand_grid.html) function.<br><br>\n",
    "Expand_grid creates a dataframe from a combination of all inputs. <br><br>One requirement is that a dictionary be provided. If a dataframe is provided, a key must be provided as well.\n",
    "\n",
    "Some of the examples used here are from tidyr's expand_grid page and from Pandas' cookbook.\n"
   ]
  },
  {
   "cell_type": "code",
   "execution_count": null,
   "metadata": {},
   "outputs": [],
   "source": [
    "import pandas as pd\n",
    "import numpy as np\n",
    "from janitor import expand_grid"
   ]
  },
  {
   "cell_type": "code",
   "execution_count": null,
   "metadata": {},
   "outputs": [],
   "source": [
    "data = {\"x\":[1,2,3], \"y\":[1,2]}\n",
    "\n",
    "result = expand_grid(others = data)\n",
    "\n",
    "result"
   ]
  },
  {
   "cell_type": "code",
   "execution_count": null,
   "metadata": {},
   "outputs": [],
   "source": [
    "#combination of letters\n",
    "\n",
    "data = {\"l1\":list(\"abcde\"), \"l2\" : list(\"ABCDE\")}\n",
    "\n",
    "result = expand_grid(others = data)\n",
    "\n",
    "result.head(10)"
   ]
  },
  {
   "cell_type": "code",
   "execution_count": null,
   "metadata": {},
   "outputs": [],
   "source": [
    "\n",
    "data = {'height': [60, 70],\n",
    "        'weight': [100, 140, 180],\n",
    "        'sex': ['Male', 'Female']}\n",
    "\n",
    "result = expand_grid(others = data)\n",
    "\n",
    "result"
   ]
  },
  {
   "cell_type": "code",
   "execution_count": null,
   "metadata": {},
   "outputs": [],
   "source": [
    "#A dictionary of arrays\n",
    "#Arrays can only have dimensions of 1 or 2\n",
    "\n",
    "data = {\"x1\":np.array([[1,3],[2,4]]), \n",
    "        \"x2\":np.array([[5,7],[6,8]])}\n",
    "\n",
    "result = expand_grid(others=data)\n",
    "\n",
    "result"
   ]
  },
  {
   "cell_type": "code",
   "execution_count": null,
   "metadata": {},
   "outputs": [],
   "source": [
    "#This shows how to method chain expand_grid\n",
    "#to an existing dataframe\n",
    "\n",
    "df = pd.DataFrame({\"x\":[1,2], \"y\":[2,1]})\n",
    "data = {\"z\":[1,2,3]}\n",
    "\n",
    "#a key has to be passed in for the dataframe\n",
    "#this is added to the column name of the dataframe\n",
    "\n",
    "result = df.expand_grid(df_key=\"df\",others = data)\n",
    "\n",
    "result"
   ]
  },
  {
   "cell_type": "code",
   "execution_count": null,
   "metadata": {},
   "outputs": [],
   "source": [
    "\n",
    "# expand_grid can work on multiple dataframes\n",
    "# Ensure that there are keys\n",
    "# for each dataframe in the dictionary\n",
    "\n",
    "df1 = pd.DataFrame({\"x\":range(1,3), \"y\":[2,1]})\n",
    "df2 = pd.DataFrame({\"x\":[1,2,3],\"y\":[3,2,1]})\n",
    "df3 = pd.DataFrame({\"x\":[2,3],\"y\":[\"a\",\"b\"]})\n",
    "\n",
    "data = {\"df1\":df1, \"df2\":df2, \"df3\":df3}\n",
    "\n",
    "result = expand_grid(others=data)\n",
    "\n",
    "result"
   ]
  }
 ],
 "metadata": {
  "kernelspec": {
   "display_name": "Python 3",
   "name": "python3"
  },
  "language_info": {
   "codemirror_mode": {
    "name": "ipython",
    "version": 3
   },
   "file_extension": ".py",
   "mimetype": "text/x-python",
   "name": "python",
   "nbconvert_exporter": "python",
   "pygments_lexer": "ipython3",
   "version": "3.7.7-final"
  }
 },
 "nbformat": 4,
 "nbformat_minor": 2
}
