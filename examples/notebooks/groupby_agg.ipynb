{
 "cells": [
  {
   "cell_type": "markdown",
   "metadata": {},
   "source": [
    "# Groupby_agg : Shortcut for assigning a groupby-transform to a new column."
   ]
  },
  {
   "cell_type": "markdown",
   "metadata": {},
   "source": [
    "## Background"
   ]
  },
  {
   "cell_type": "markdown",
   "metadata": {},
   "source": [
    "This notebook serves to show how to use the groupby_agg method from pyjanitor's general functions submodule.\n",
    "\n",
    "The groupby_agg method allows us to add the result of an aggregation from a grouping, as a new column, back to the dataframe. \n",
    "\n",
    "Currently in pandas, to append a column back to a dataframe, you do it in three steps: \n",
    "1. Groupby a column or columns\n",
    "2. Apply the transform method with an aggregate function on the grouping, and finally\n",
    "3. Assign the result of the transform to a new column in the dataframe. \n",
    "\n",
    "The groupby_agg allows you to replicate the same process in one step and with sensible arguments. The example below illustrates this function"
   ]
  },
  {
   "cell_type": "code",
   "execution_count": null,
   "metadata": {},
   "outputs": [],
   "source": [
    "# load modules\n",
    "import pandas as pd\n",
    "import numpy as np\n",
    "from janitor import groupby_agg"
   ]
  },
  {
   "cell_type": "code",
   "execution_count": null,
   "metadata": {},
   "outputs": [],
   "source": [
    "data = {\n",
    "    'item': ['shoe', 'shoe', 'bag', 'shoe', 'bag'],\n",
    "    'MRP': [220, 450, 320, 200, 305],\n",
    "    'number_sold': [100, 40, 56, 38, 25]\n",
    "}\n",
    "\n",
    "df = pd.DataFrame(data)\n",
    "\n",
    "df"
   ]
  },
  {
   "cell_type": "markdown",
   "metadata": {},
   "source": [
    "## Use grouby_agg to find average price for each item and append column to dataframe"
   ]
  },
  {
   "cell_type": "code",
   "execution_count": null,
   "metadata": {},
   "outputs": [],
   "source": [
    "df = df.groupby_agg(\n",
    "    by='item',\n",
    "    agg='mean',\n",
    "    agg_column_name='MRP',\n",
    "    new_column_name='Avg_MRP'\n",
    ")\n",
    "\n",
    "df"
   ]
  },
  {
   "cell_type": "markdown",
   "metadata": {},
   "source": [
    "Null cells are retained as well : "
   ]
  },
  {
   "cell_type": "code",
   "execution_count": null,
   "metadata": {},
   "outputs": [],
   "source": [
    "df = pd.DataFrame(\n",
    "        {\n",
    "            \"name\": (\"black\", \"black\", \"black\", \"red\", \"red\"),\n",
    "            \"type\": (\"chair\", \"chair\", \"sofa\", \"sofa\", \"plate\"),\n",
    "            \"num\": (4, 5, 12, 4, 3),\n",
    "            \"nulls\": (1, 1, np.nan, np.nan, 3),\n",
    "        }\n",
    "    )\n",
    "\n",
    "df"
   ]
  },
  {
   "cell_type": "code",
   "execution_count": null,
   "metadata": {},
   "outputs": [],
   "source": [
    "filtered_df = df.groupby_agg(by=['nulls'],\n",
    "                             agg='size',\n",
    "                             agg_column_name='type',\n",
    "                             new_column_name='counter'\n",
    "                             )\n",
    "filtered_df"
   ]
  },
  {
   "cell_type": "markdown",
   "metadata": {},
   "source": [
    "The groupby_agg method can be extended for different purposes. One of these is groupwise filtering, where only groups that meet a condition are retained. Let's explore this with an example:"
   ]
  },
  {
   "cell_type": "code",
   "execution_count": null,
   "metadata": {},
   "outputs": [],
   "source": [
    "filtered_df = (df.groupby_agg(by=['name', 'type'],\n",
    "                             agg='size',\n",
    "                             agg_column_name='type',\n",
    "                             new_column_name='counter'\n",
    "                             )\n",
    "                .query('counter > 1'))\n",
    "filtered_df"
   ]
  },
  {
   "cell_type": "code",
   "execution_count": null,
   "metadata": {},
   "outputs": [],
   "source": []
  }
 ],
 "metadata": {
  "kernelspec": {
   "display_name": "Python 3",
   "language": "python",
   "name": "python3"
  },
  "language_info": {
   "codemirror_mode": {
    "name": "ipython",
    "version": 3
   },
   "file_extension": ".py",
   "mimetype": "text/x-python",
   "name": "python",
   "nbconvert_exporter": "python",
   "pygments_lexer": "ipython3",
   "version": "3.7.6"
  }
 },
 "nbformat": 4,
 "nbformat_minor": 4
}
