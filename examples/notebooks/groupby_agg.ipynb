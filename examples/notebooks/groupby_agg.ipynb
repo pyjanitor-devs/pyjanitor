{
 "cells": [
  {
   "cell_type": "markdown",
   "metadata": {},
   "source": [
    "# Groupby_agg : Shortcut for assigning a groupby-transform to a new column."
   ]
  },
  {
   "cell_type": "markdown",
   "metadata": {},
   "source": [
    "## Background"
   ]
  },
  {
   "cell_type": "markdown",
   "metadata": {},
   "source": [
    "This notebook serves to show how to use the groupby_agg method from pyjanitor's general functions submodule.\n",
    "\n",
    "The groupby_agg method allows us to add the result of an aggregation from a grouping, as a new column, back to the dataframe. \n",
    "\n",
    "Currently in pandas, to append a column back to a dataframe, you do it in three steps: \n",
    "1. Groupby a column or columns\n",
    "2. Apply the transform method with an aggregate function on the grouping, and finally\n",
    "3. Assign the result of the transform to a new column in the dataframe. \n",
    "\n",
    "The groupby_agg allows you to replicate the same process in one step and with sensible arguments. The example below illustrates this function"
   ]
  },
  {
   "cell_type": "code",
   "execution_count": 1,
   "metadata": {},
   "outputs": [],
   "source": [
    "# load modules\n",
    "import pandas as pd\n",
    "import numpy as np\n",
    "from janitor import groupby_agg"
   ]
  },
  {
   "cell_type": "code",
   "execution_count": 2,
   "metadata": {},
   "outputs": [
    {
     "output_type": "execute_result",
     "data": {
      "text/plain": "   item  MRP  number_sold\n0  shoe  220          100\n1  shoe  450           40\n2   bag  320           56\n3  shoe  200           38\n4   bag  305           25",
      "text/html": "<div>\n<style scoped>\n    .dataframe tbody tr th:only-of-type {\n        vertical-align: middle;\n    }\n\n    .dataframe tbody tr th {\n        vertical-align: top;\n    }\n\n    .dataframe thead th {\n        text-align: right;\n    }\n</style>\n<table border=\"1\" class=\"dataframe\">\n  <thead>\n    <tr style=\"text-align: right;\">\n      <th></th>\n      <th>item</th>\n      <th>MRP</th>\n      <th>number_sold</th>\n    </tr>\n  </thead>\n  <tbody>\n    <tr>\n      <th>0</th>\n      <td>shoe</td>\n      <td>220</td>\n      <td>100</td>\n    </tr>\n    <tr>\n      <th>1</th>\n      <td>shoe</td>\n      <td>450</td>\n      <td>40</td>\n    </tr>\n    <tr>\n      <th>2</th>\n      <td>bag</td>\n      <td>320</td>\n      <td>56</td>\n    </tr>\n    <tr>\n      <th>3</th>\n      <td>shoe</td>\n      <td>200</td>\n      <td>38</td>\n    </tr>\n    <tr>\n      <th>4</th>\n      <td>bag</td>\n      <td>305</td>\n      <td>25</td>\n    </tr>\n  </tbody>\n</table>\n</div>"
     },
     "metadata": {},
     "execution_count": 2
    }
   ],
   "source": [
    "data = {\n",
    "    'item': ['shoe', 'shoe', 'bag', 'shoe', 'bag'],\n",
    "    'MRP': [220, 450, 320, 200, 305],\n",
    "    'number_sold': [100, 40, 56, 38, 25]\n",
    "}\n",
    "\n",
    "df = pd.DataFrame(data)\n",
    "\n",
    "df"
   ]
  },
  {
   "cell_type": "markdown",
   "metadata": {},
   "source": [
    "## Use grouby_agg to find average price for each item and append column to dataframe"
   ]
  },
  {
   "cell_type": "code",
   "execution_count": 3,
   "metadata": {},
   "outputs": [
    {
     "output_type": "execute_result",
     "data": {
      "text/plain": "   item  MRP  number_sold  Avg_MRP\n0  shoe  220          100    290.0\n1  shoe  450           40    290.0\n2   bag  320           56    312.5\n3  shoe  200           38    290.0\n4   bag  305           25    312.5",
      "text/html": "<div>\n<style scoped>\n    .dataframe tbody tr th:only-of-type {\n        vertical-align: middle;\n    }\n\n    .dataframe tbody tr th {\n        vertical-align: top;\n    }\n\n    .dataframe thead th {\n        text-align: right;\n    }\n</style>\n<table border=\"1\" class=\"dataframe\">\n  <thead>\n    <tr style=\"text-align: right;\">\n      <th></th>\n      <th>item</th>\n      <th>MRP</th>\n      <th>number_sold</th>\n      <th>Avg_MRP</th>\n    </tr>\n  </thead>\n  <tbody>\n    <tr>\n      <th>0</th>\n      <td>shoe</td>\n      <td>220</td>\n      <td>100</td>\n      <td>290.0</td>\n    </tr>\n    <tr>\n      <th>1</th>\n      <td>shoe</td>\n      <td>450</td>\n      <td>40</td>\n      <td>290.0</td>\n    </tr>\n    <tr>\n      <th>2</th>\n      <td>bag</td>\n      <td>320</td>\n      <td>56</td>\n      <td>312.5</td>\n    </tr>\n    <tr>\n      <th>3</th>\n      <td>shoe</td>\n      <td>200</td>\n      <td>38</td>\n      <td>290.0</td>\n    </tr>\n    <tr>\n      <th>4</th>\n      <td>bag</td>\n      <td>305</td>\n      <td>25</td>\n      <td>312.5</td>\n    </tr>\n  </tbody>\n</table>\n</div>"
     },
     "metadata": {},
     "execution_count": 3
    }
   ],
   "source": [
    "df = df.groupby_agg(\n",
    "    by='item',\n",
    "    agg='mean',\n",
    "    agg_column_name='MRP',\n",
    "    new_column_name='Avg_MRP'\n",
    ")\n",
    "\n",
    "df"
   ]
  },
  {
   "cell_type": "markdown",
   "metadata": {},
   "source": [
    "Null cells are retained as well : "
   ]
  },
  {
   "cell_type": "code",
   "execution_count": 4,
   "metadata": {},
   "outputs": [
    {
     "output_type": "execute_result",
     "data": {
      "text/plain": "    name   type  num  nulls\n0  black  chair    4    1.0\n1  black  chair    5    1.0\n2  black   sofa   12    NaN\n3    red   sofa    4    NaN\n4    red  plate    3    3.0",
      "text/html": "<div>\n<style scoped>\n    .dataframe tbody tr th:only-of-type {\n        vertical-align: middle;\n    }\n\n    .dataframe tbody tr th {\n        vertical-align: top;\n    }\n\n    .dataframe thead th {\n        text-align: right;\n    }\n</style>\n<table border=\"1\" class=\"dataframe\">\n  <thead>\n    <tr style=\"text-align: right;\">\n      <th></th>\n      <th>name</th>\n      <th>type</th>\n      <th>num</th>\n      <th>nulls</th>\n    </tr>\n  </thead>\n  <tbody>\n    <tr>\n      <th>0</th>\n      <td>black</td>\n      <td>chair</td>\n      <td>4</td>\n      <td>1.0</td>\n    </tr>\n    <tr>\n      <th>1</th>\n      <td>black</td>\n      <td>chair</td>\n      <td>5</td>\n      <td>1.0</td>\n    </tr>\n    <tr>\n      <th>2</th>\n      <td>black</td>\n      <td>sofa</td>\n      <td>12</td>\n      <td>NaN</td>\n    </tr>\n    <tr>\n      <th>3</th>\n      <td>red</td>\n      <td>sofa</td>\n      <td>4</td>\n      <td>NaN</td>\n    </tr>\n    <tr>\n      <th>4</th>\n      <td>red</td>\n      <td>plate</td>\n      <td>3</td>\n      <td>3.0</td>\n    </tr>\n  </tbody>\n</table>\n</div>"
     },
     "metadata": {},
     "execution_count": 4
    }
   ],
   "source": [
    "df = pd.DataFrame(\n",
    "        {\n",
    "            \"name\": (\"black\", \"black\", \"black\", \"red\", \"red\"),\n",
    "            \"type\": (\"chair\", \"chair\", \"sofa\", \"sofa\", \"plate\"),\n",
    "            \"num\": (4, 5, 12, 4, 3),\n",
    "            \"nulls\": (1, 1, np.nan, np.nan, 3),\n",
    "        }\n",
    "    )\n",
    "\n",
    "df"
   ]
  },
  {
   "cell_type": "code",
   "execution_count": 5,
   "metadata": {},
   "outputs": [
    {
     "output_type": "execute_result",
     "data": {
      "text/plain": "    name   type  num  nulls  counter\n0  black  chair    4    1.0        2\n1  black  chair    5    1.0        2\n2  black   sofa   12    NaN        2\n3    red   sofa    4    NaN        2\n4    red  plate    3    3.0        1",
      "text/html": "<div>\n<style scoped>\n    .dataframe tbody tr th:only-of-type {\n        vertical-align: middle;\n    }\n\n    .dataframe tbody tr th {\n        vertical-align: top;\n    }\n\n    .dataframe thead th {\n        text-align: right;\n    }\n</style>\n<table border=\"1\" class=\"dataframe\">\n  <thead>\n    <tr style=\"text-align: right;\">\n      <th></th>\n      <th>name</th>\n      <th>type</th>\n      <th>num</th>\n      <th>nulls</th>\n      <th>counter</th>\n    </tr>\n  </thead>\n  <tbody>\n    <tr>\n      <th>0</th>\n      <td>black</td>\n      <td>chair</td>\n      <td>4</td>\n      <td>1.0</td>\n      <td>2</td>\n    </tr>\n    <tr>\n      <th>1</th>\n      <td>black</td>\n      <td>chair</td>\n      <td>5</td>\n      <td>1.0</td>\n      <td>2</td>\n    </tr>\n    <tr>\n      <th>2</th>\n      <td>black</td>\n      <td>sofa</td>\n      <td>12</td>\n      <td>NaN</td>\n      <td>2</td>\n    </tr>\n    <tr>\n      <th>3</th>\n      <td>red</td>\n      <td>sofa</td>\n      <td>4</td>\n      <td>NaN</td>\n      <td>2</td>\n    </tr>\n    <tr>\n      <th>4</th>\n      <td>red</td>\n      <td>plate</td>\n      <td>3</td>\n      <td>3.0</td>\n      <td>1</td>\n    </tr>\n  </tbody>\n</table>\n</div>"
     },
     "metadata": {},
     "execution_count": 5
    }
   ],
   "source": [
    "filtered_df = df.groupby_agg(by=['nulls'],\n",
    "                             agg='size',\n",
    "                             agg_column_name='type',\n",
    "                             new_column_name='counter'\n",
    "                             )\n",
    "filtered_df"
   ]
  },
  {
   "cell_type": "markdown",
   "metadata": {},
   "source": [
    "The groupby_agg method can be extended for different purposes. One of these is groupwise filtering, where only groups that meet a condition are retained. Let's explore this with an example:"
   ]
  },
  {
   "cell_type": "code",
   "execution_count": 6,
   "metadata": {},
   "outputs": [
    {
     "output_type": "execute_result",
     "data": {
      "text/plain": "    name   type  num  nulls  counter\n0  black  chair    4    1.0        2\n1  black  chair    5    1.0        2",
      "text/html": "<div>\n<style scoped>\n    .dataframe tbody tr th:only-of-type {\n        vertical-align: middle;\n    }\n\n    .dataframe tbody tr th {\n        vertical-align: top;\n    }\n\n    .dataframe thead th {\n        text-align: right;\n    }\n</style>\n<table border=\"1\" class=\"dataframe\">\n  <thead>\n    <tr style=\"text-align: right;\">\n      <th></th>\n      <th>name</th>\n      <th>type</th>\n      <th>num</th>\n      <th>nulls</th>\n      <th>counter</th>\n    </tr>\n  </thead>\n  <tbody>\n    <tr>\n      <th>0</th>\n      <td>black</td>\n      <td>chair</td>\n      <td>4</td>\n      <td>1.0</td>\n      <td>2</td>\n    </tr>\n    <tr>\n      <th>1</th>\n      <td>black</td>\n      <td>chair</td>\n      <td>5</td>\n      <td>1.0</td>\n      <td>2</td>\n    </tr>\n  </tbody>\n</table>\n</div>"
     },
     "metadata": {},
     "execution_count": 6
    }
   ],
   "source": [
    "filtered_df = (df.groupby_agg(by=['name', 'type'],\n",
    "                             agg='size',\n",
    "                             agg_column_name='type',\n",
    "                             new_column_name='counter'\n",
    "                             )\n",
    "                .query('counter > 1'))\n",
    "filtered_df"
   ]
  },
  {
   "cell_type": "code",
   "execution_count": null,
   "metadata": {},
   "outputs": [],
   "source": []
  }
 ],
 "metadata": {
  "kernelspec": {
   "display_name": "Python 3",
   "language": "python",
   "name": "python3"
  },
  "language_info": {
   "codemirror_mode": {
    "name": "ipython",
    "version": 3
   },
   "file_extension": ".py",
   "mimetype": "text/x-python",
   "name": "python",
   "nbconvert_exporter": "python",
   "pygments_lexer": "ipython3",
   "version": "3.7.6"
  }
 },
 "nbformat": 4,
 "nbformat_minor": 4
}
