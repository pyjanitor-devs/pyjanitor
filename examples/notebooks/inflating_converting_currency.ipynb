{
 "cells": [
  {
   "cell_type": "markdown",
   "source": [
    "# Inflating and Converting Currency"
   ],
   "metadata": {
    "nbsphinx": {
     "execute": "never"
    }
   }
  },
  {
   "cell_type": "markdown",
   "source": [
    "## Notice\n",
    "\n",
    "This notebook's section on `convert_currency` has been disabled, as `exchangeratesapi.io` has disabled pinging of its API without an API key."
   ],
   "metadata": {}
  },
  {
   "cell_type": "markdown",
   "source": [
    "## Background"
   ],
   "metadata": {
    "nbsphinx": {
     "execute": "never"
    }
   }
  },
  {
   "cell_type": "markdown",
   "source": [
    "This notebook serves to show a brief and simple example of how to use the `convert_currency()` and `inflate_currency()` methods from pyjanitor's finance submodule.\n",
    "\n",
    "The data for this example notebook come from the [United States Department of Agriculture Economic Research Service](https://www.ers.usda.gov/data-products/food-expenditure-series/), and we are specifically going to download the data of nominal food and alcohol expenditures, with taxes and tips, for all purchasers.  The data set includes nominal expenditures for 1997-2018, and the expenditures are provided in **millions** of U.S. dollars for the year in the which the expenditures were made.  For example, the expenditure values for 1997 are in units of 1997 U.S. dollars, whereas expenditures for 2018 are in 2018 U.S. dollars."
   ],
   "metadata": {
    "nbsphinx": {
     "execute": "never"
    }
   }
  },
  {
   "cell_type": "markdown",
   "source": [
    "## Getting and Cleaning the Data"
   ],
   "metadata": {}
  },
  {
   "cell_type": "code",
   "execution_count": 1,
   "source": [
    "import pandas as pd\n",
    "import janitor\n",
    "import os"
   ],
   "outputs": [],
   "metadata": {
    "nbsphinx": {
     "execute": "never"
    },
    "tags": []
   }
  },
  {
   "cell_type": "code",
   "execution_count": 2,
   "source": [
    "url = (\n",
    "    \"https://www.ers.usda.gov/webdocs/DataFiles/50606/nominal_expenditures.csv?v=9289.4\"\n",
    ")\n",
    "# 1) Read in the data from .csv file\n",
    "# 2) Clean up the column names\n",
    "# 3) Remove any empty rows or columns\n",
    "# 4) Melt the dataframe (from wide to long) to obtain \"tidy\" format\n",
    "data = (\n",
    "    pd.read_csv(\n",
    "        url,\n",
    "        usecols=[0, 1, 2, 3, 4, 5, 6, 7, 8, 9],\n",
    "        nrows=22,\n",
    "        thousands=','\n",
    "    )\n",
    "        .clean_names()\n",
    "    .remove_empty()\n",
    "    .melt(id_vars=['year'], var_name='store_type', value_name='expenditure')\n",
    "\n",
    "    )\n",
    "data.head()"
   ],
   "outputs": [
    {
     "output_type": "execute_result",
     "data": {
      "text/plain": [
       "   year                                         store_type  expenditure\n",
       "0  1997  fah_grocery_stores_sales_million_nominal_dolla...    270956.91\n",
       "1  1998  fah_grocery_stores_sales_million_nominal_dolla...    273638.88\n",
       "2  1999  fah_grocery_stores_sales_million_nominal_dolla...    283782.47\n",
       "3  2000  fah_grocery_stores_sales_million_nominal_dolla...    286669.78\n",
       "4  2001  fah_grocery_stores_sales_million_nominal_dolla...    296436.72"
      ],
      "text/html": [
       "<div>\n",
       "<style scoped>\n",
       "    .dataframe tbody tr th:only-of-type {\n",
       "        vertical-align: middle;\n",
       "    }\n",
       "\n",
       "    .dataframe tbody tr th {\n",
       "        vertical-align: top;\n",
       "    }\n",
       "\n",
       "    .dataframe thead th {\n",
       "        text-align: right;\n",
       "    }\n",
       "</style>\n",
       "<table border=\"1\" class=\"dataframe\">\n",
       "  <thead>\n",
       "    <tr style=\"text-align: right;\">\n",
       "      <th></th>\n",
       "      <th>year</th>\n",
       "      <th>store_type</th>\n",
       "      <th>expenditure</th>\n",
       "    </tr>\n",
       "  </thead>\n",
       "  <tbody>\n",
       "    <tr>\n",
       "      <th>0</th>\n",
       "      <td>1997</td>\n",
       "      <td>fah_grocery_stores_sales_million_nominal_dolla...</td>\n",
       "      <td>270956.91</td>\n",
       "    </tr>\n",
       "    <tr>\n",
       "      <th>1</th>\n",
       "      <td>1998</td>\n",
       "      <td>fah_grocery_stores_sales_million_nominal_dolla...</td>\n",
       "      <td>273638.88</td>\n",
       "    </tr>\n",
       "    <tr>\n",
       "      <th>2</th>\n",
       "      <td>1999</td>\n",
       "      <td>fah_grocery_stores_sales_million_nominal_dolla...</td>\n",
       "      <td>283782.47</td>\n",
       "    </tr>\n",
       "    <tr>\n",
       "      <th>3</th>\n",
       "      <td>2000</td>\n",
       "      <td>fah_grocery_stores_sales_million_nominal_dolla...</td>\n",
       "      <td>286669.78</td>\n",
       "    </tr>\n",
       "    <tr>\n",
       "      <th>4</th>\n",
       "      <td>2001</td>\n",
       "      <td>fah_grocery_stores_sales_million_nominal_dolla...</td>\n",
       "      <td>296436.72</td>\n",
       "    </tr>\n",
       "  </tbody>\n",
       "</table>\n",
       "</div>"
      ]
     },
     "metadata": {},
     "execution_count": 2
    }
   ],
   "metadata": {
    "nbsphinx": {
     "execute": "never"
    },
    "tags": []
   }
  },
  {
   "cell_type": "code",
   "execution_count": 3,
   "source": [
    "data.dtypes"
   ],
   "outputs": [
    {
     "output_type": "execute_result",
     "data": {
      "text/plain": [
       "year             int64\n",
       "store_type      object\n",
       "expenditure    float64\n",
       "dtype: object"
      ]
     },
     "metadata": {},
     "execution_count": 3
    }
   ],
   "metadata": {}
  },
  {
   "cell_type": "markdown",
   "source": [
    "## Use inflate_currency() to Inflate All Values to 2018$"
   ],
   "metadata": {}
  },
  {
   "cell_type": "code",
   "execution_count": null,
   "source": [
    "from janitor.finance import inflate_currency, convert_currency\n",
    "\n",
    "# Use split-apply-combine strategy to obtain 2018$ values\n",
    "# Group the data frame by year\n",
    "grouped = data.groupby(['year'])\n",
    "# Apply the inflate_currency() method to each group\n",
    "# (Note that each group comes with a name; in this case,\n",
    "#  the name corresponds to the year)\n",
    "data_constant_dollar = grouped.apply(\n",
    "    lambda x: x.inflate_currency(\n",
    "        column_name='expenditure',\n",
    "        country='USA',\n",
    "        currency_year=int(x.name),\n",
    "        to_year=2018,\n",
    "        make_new_column=True\n",
    "    )\n",
    ")\n",
    "data_constant_dollar.head()"
   ],
   "outputs": [],
   "metadata": {
    "nbsphinx": {
     "execute": "never"
    },
    "tags": []
   }
  },
  {
   "cell_type": "markdown",
   "source": [
    "## Plot Time Series to Observe Currency Inflation"
   ],
   "metadata": {}
  },
  {
   "cell_type": "code",
   "execution_count": null,
   "source": [
    "# Plot time series of nominal and real (2018$) expenditures for grocery stores\n",
    "# Note that the 2018 values for both series should be equal\n",
    "(\n",
    "    data_constant_dollar\n",
    "    .loc[data_constant_dollar['store_type'].str.contains('grocery_stores'), :]\n",
    "    .set_index('year')\n",
    "    .drop(columns='store_type')\n",
    "    .plot()\n",
    "\n",
    ")"
   ],
   "outputs": [],
   "metadata": {
    "nbsphinx": {
     "execute": "never"
    },
    "tags": []
   }
  },
  {
   "cell_type": "markdown",
   "source": [
    "## Use convert_currency() to Convert USD to British Pounds\n",
    "\n",
    "_Note: Disabled and commented out due to `exchangeratesapi.io` policies.\n",
    "We are working through the deprecation of the API._"
   ],
   "metadata": {}
  },
  {
   "cell_type": "code",
   "execution_count": null,
   "source": [
    "from datetime import date\n",
    "\n",
    "# # Apply the convert_currency() method to the 'expenditure_2018' column\n",
    "# # Use the exchange rate from Dec. 31, 2018, since our data are in 2018$\n",
    "# data_constant_pounds = (\n",
    "#     data_constant_dollar\n",
    "#     .convert_currency(\n",
    "#         api_key=\"a8ef744de81e4bd3908e2acf5a137c3a\",\n",
    "#         column_name='expenditure_2018',\n",
    "#         from_currency='USD',\n",
    "#         to_currency='GBP',\n",
    "#         historical_date=date(2018, 12, 31),\n",
    "#         make_new_column=True\n",
    "#     )\n",
    "# )\n",
    "# data_constant_pounds.head()                    "
   ],
   "outputs": [],
   "metadata": {
    "nbsphinx": {
     "execute": "never"
    },
    "tags": []
   }
  },
  {
   "cell_type": "markdown",
   "source": [
    "## Plot Time Series to Observe Currency Conversion"
   ],
   "metadata": {}
  },
  {
   "cell_type": "code",
   "execution_count": null,
   "source": [
    "# # You can see from this plot that GBP were worth more than USD on Dec. 31, 2018\n",
    "# # (by about 1.3x, it appears)\n",
    "# (\n",
    "#     data_constant_pounds\n",
    "#     .loc[data_constant_pounds['store_type'].str.contains('grocery_stores'), :]\n",
    "#     .set_index('year')\n",
    "#     .drop(columns='store_type')\n",
    "#     .plot()\n",
    "# )"
   ],
   "outputs": [],
   "metadata": {
    "nbsphinx": {
     "execute": "never"
    }
   }
  },
  {
   "cell_type": "code",
   "execution_count": null,
   "source": [],
   "outputs": [],
   "metadata": {
    "nbsphinx": {
     "execute": "never"
    }
   }
  }
 ],
 "metadata": {
  "kernelspec": {
   "display_name": "pyjanitor-dev",
   "language": "python",
   "name": "pyjanitor-dev"
  },
  "language_info": {
   "codemirror_mode": {
    "name": "ipython",
    "version": 3
   },
   "file_extension": ".py",
   "mimetype": "text/x-python",
   "name": "python",
   "nbconvert_exporter": "python",
   "pygments_lexer": "ipython3",
   "version": "3.8.8"
  },
  "nbsphinx": {
   "execute": "never"
  }
 },
 "nbformat": 4,
 "nbformat_minor": 4
}