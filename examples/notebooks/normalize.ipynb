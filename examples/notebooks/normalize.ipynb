{
 "cells": [
  {
   "cell_type": "markdown",
   "metadata": {},
   "source": [
    "# Normalization and Standardization\n",
    "\n",
    "[Normalization](https://en.wikipedia.org/wiki/Normalization_(statistics)) makes data more meaningful by converting absolute values into comparisons with related values.  [Chris Vallier](https://github.com/jcvall) has produced this demonstration of normalization using PyJanitor.\n",
    "\n",
    "pyjanitor functions demonstrated here:\n",
    "\n",
    "- [min_max_scale](../reference/functions.html#janitor.functions.min_max_scale)\n",
    "\n",
    "- [transform_column](../reference/functions.html#janitor.functions.transform_column)"
   ]
  },
  {
   "cell_type": "code",
   "execution_count": null,
   "metadata": {},
   "outputs": [],
   "source": [
    "import janitor\n",
    "import pandas as pd\n",
    "import numpy as np\n",
    "import seaborn as sns\n",
    "sns.set(style=\"whitegrid\")"
   ]
  },
  {
   "cell_type": "markdown",
   "metadata": {},
   "source": [
    "## Load data\n",
    "\n",
    "We'll use a dataset with fuel efficiency in miles per gallon (\"mpg\"), engine displacement in cubic centimeters (\"disp\"), and horsepower (\"hp\") for a variety of car models.  It's a crazy, but customary, mix of units."
   ]
  },
  {
   "cell_type": "code",
   "execution_count": null,
   "metadata": {},
   "outputs": [],
   "source": [
    "csv_file = (\n",
    "    'https://gist.githubusercontent.com/seankross/a412dfbd88b3db70b74b/raw/5f23f993cd87c283ce766e7ac6b329ee7cc2e1d1/mtcars.csv'\n",
    ")\n",
    "cars_df = pd.read_csv(csv_file)"
   ]
  },
  {
   "cell_type": "markdown",
   "metadata": {},
   "source": [
    "Quantities without units are dangerous, so let's use pyjanitor's `rename_column`..."
   ]
  },
  {
   "cell_type": "code",
   "execution_count": null,
   "metadata": {},
   "outputs": [],
   "source": [
    "cars_df = cars_df.rename_column('disp', 'disp_cc')"
   ]
  },
  {
   "cell_type": "markdown",
   "metadata": {},
   "source": [
    "## Examine raw data"
   ]
  },
  {
   "cell_type": "code",
   "execution_count": null,
   "metadata": {},
   "outputs": [],
   "source": [
    "cars_df.head()"
   ]
  },
  {
   "cell_type": "markdown",
   "metadata": {},
   "source": [
    "### Visualize\n",
    "\n",
    "Each value makes more sense viewed in comparison to the other models.  We'll use simple [Seaborn](https://seaborn.pydata.org/) bar plots."
   ]
  },
  {
   "cell_type": "markdown",
   "metadata": {},
   "source": [
    "### mpg by model"
   ]
  },
  {
   "cell_type": "code",
   "execution_count": null,
   "metadata": {},
   "outputs": [],
   "source": [
    "cars_df = cars_df.sort_values('mpg', ascending=False)\n",
    "sns.barplot(y='model', x='mpg', data=cars_df, color='b', orient=\"h\", )"
   ]
  },
  {
   "cell_type": "markdown",
   "metadata": {},
   "source": [
    "### displacement by model"
   ]
  },
  {
   "cell_type": "code",
   "execution_count": null,
   "metadata": {},
   "outputs": [],
   "source": [
    "cars_df = cars_df.sort_values('disp_cc', ascending=False)\n",
    "sns.barplot(y='model', x='disp_cc', data=cars_df, color='b', orient=\"h\")"
   ]
  },
  {
   "cell_type": "markdown",
   "metadata": {},
   "source": [
    "### horsepower by model"
   ]
  },
  {
   "cell_type": "code",
   "execution_count": null,
   "metadata": {},
   "outputs": [],
   "source": [
    "cars_df = cars_df.sort_values('hp', ascending=False)\n",
    "sns.barplot(y='model', x='hp', data=cars_df, color='b', orient=\"h\")"
   ]
  },
  {
   "cell_type": "markdown",
   "metadata": {},
   "source": [
    "## [min-max normalization](https://en.wikipedia.org/wiki/Feature_scaling#Rescaling_\\(min-max_normalization\\))  \n",
    "\n",
    "First we'll use pyjanitor's [min_max_scale](../reference/functions.html#janitor.functions.min_max_scale) to rescale the `mpg`, `disp_cc`, and `hp` columns in-place so that each value varies from 0 to 1."
   ]
  },
  {
   "cell_type": "code",
   "execution_count": null,
   "metadata": {},
   "outputs": [],
   "source": [
    "(\n",
    "    cars_df.min_max_scale(col_name='mpg', new_max=1, new_min=0)\n",
    "    .min_max_scale(col_name='disp_cc', new_max=1, new_min=0)\n",
    "    .min_max_scale(col_name='hp', new_max=1, new_min=0)\n",
    ")"
   ]
  },
  {
   "cell_type": "markdown",
   "metadata": {},
   "source": [
    "The shapes of the bar graphs remain the same, but the horizontal axes show the new scale."
   ]
  },
  {
   "cell_type": "markdown",
   "metadata": {},
   "source": [
    "### mpg (min-max normalized)"
   ]
  },
  {
   "cell_type": "code",
   "execution_count": null,
   "metadata": {},
   "outputs": [],
   "source": [
    "cars_df = cars_df.sort_values('mpg', ascending=False)\n",
    "sns.barplot(y='model', x='mpg', data=cars_df, color='b', orient=\"h\")"
   ]
  },
  {
   "cell_type": "markdown",
   "metadata": {},
   "source": [
    "### displacement (min-max normalized)"
   ]
  },
  {
   "cell_type": "code",
   "execution_count": null,
   "metadata": {},
   "outputs": [],
   "source": [
    "cars_df = cars_df.sort_values('disp_cc', ascending=False)\n",
    "sns.barplot(y='model', x='disp_cc', data=cars_df, color='b', orient=\"h\")"
   ]
  },
  {
   "cell_type": "markdown",
   "metadata": {},
   "source": [
    "### horsepower (min-max normalized)"
   ]
  },
  {
   "cell_type": "code",
   "execution_count": null,
   "metadata": {},
   "outputs": [],
   "source": [
    "cars_df = cars_df.sort_values('hp', ascending=False)\n",
    "sns.barplot(y='model', x='hp', data=cars_df, color='b', orient=\"h\")"
   ]
  },
  {
   "cell_type": "markdown",
   "metadata": {},
   "source": [
    "## Standardization (z-score)\n",
    "\n",
    "Next we'll convert to [standard scores](https://en.wikipedia.org/wiki/Standard_score).  This expresses each value in terms of its standard deviations from the mean, expressing where each model stands in relation to the others.\n",
    "\n",
    "We'll use pyjanitor's [transform_columns](../reference/functions.html#janitor.functions.transform_columns) to apply the standard score calculation, `(x - x.mean()) / x.std()`, to each value in each of the columns we're evaluating."
   ]
  },
  {
   "cell_type": "code",
   "execution_count": null,
   "metadata": {},
   "outputs": [],
   "source": [
    "cars_df.transform_columns(\n",
    "    ['mpg', 'disp_cc', 'hp'],\n",
    "    lambda x: (x - x.mean()) / x.std(),\n",
    "    elementwise=False\n",
    ")"
   ]
  },
  {
   "cell_type": "markdown",
   "metadata": {},
   "source": [
    "### Standardized mpg"
   ]
  },
  {
   "cell_type": "code",
   "execution_count": null,
   "metadata": {},
   "outputs": [],
   "source": [
    "cars_df = cars_df.sort_values('mpg', ascending=False)\n",
    "sns.barplot(y='model', x='mpg', data=cars_df, color='b', orient=\"h\", )"
   ]
  },
  {
   "cell_type": "markdown",
   "metadata": {},
   "source": [
    "### Standardized displacement"
   ]
  },
  {
   "cell_type": "code",
   "execution_count": null,
   "metadata": {},
   "outputs": [],
   "source": [
    "cars_df = cars_df.sort_values('disp_cc', ascending=False)\n",
    "sns.barplot(y='model', x='disp_cc', data=cars_df, color='b', orient=\"h\")"
   ]
  },
  {
   "cell_type": "markdown",
   "metadata": {},
   "source": [
    "### Standardized horsepower"
   ]
  },
  {
   "cell_type": "code",
   "execution_count": null,
   "metadata": {},
   "outputs": [],
   "source": [
    "cars_df = cars_df.sort_values('hp', ascending=False)\n",
    "sns.barplot(y='model', x='hp', data=cars_df, color='b', orient=\"h\")"
   ]
  }
 ],
 "metadata": {
  "kernelspec": {
   "display_name": "Python 3",
   "language": "python",
   "name": "python3"
  },
  "language_info": {
   "codemirror_mode": {
    "name": "ipython",
    "version": 3
   },
   "file_extension": ".py",
   "mimetype": "text/x-python",
   "name": "python",
   "nbconvert_exporter": "python",
   "pygments_lexer": "ipython3",
   "version": "3.7.6"
  }
 },
 "nbformat": 4,
 "nbformat_minor": 4
}
