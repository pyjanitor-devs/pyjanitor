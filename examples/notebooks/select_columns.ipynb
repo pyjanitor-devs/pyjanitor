{
 "cells": [
  {
   "cell_type": "markdown",
   "metadata": {},
   "source": [
    "## Selecting Columns"
   ]
  },
  {
   "cell_type": "code",
   "execution_count": 1,
   "metadata": {},
   "outputs": [],
   "source": [
    "import pandas as pd\n",
    "import janitor\n",
    "import numpy as np\n",
    "import datetime\n",
    "import re\n",
    "from janitor import patterns\n",
    "from pandas.api.types import is_datetime64_dtype"
   ]
  },
  {
   "cell_type": "code",
   "execution_count": 2,
   "metadata": {},
   "outputs": [
    {
     "data": {
      "text/html": [
       "<div>\n",
       "<style scoped>\n",
       "    .dataframe tbody tr th:only-of-type {\n",
       "        vertical-align: middle;\n",
       "    }\n",
       "\n",
       "    .dataframe tbody tr th {\n",
       "        vertical-align: top;\n",
       "    }\n",
       "\n",
       "    .dataframe thead th {\n",
       "        text-align: right;\n",
       "    }\n",
       "</style>\n",
       "<table border=\"1\" class=\"dataframe\">\n",
       "  <thead>\n",
       "    <tr style=\"text-align: right;\">\n",
       "      <th></th>\n",
       "      <th>id</th>\n",
       "      <th>Name</th>\n",
       "      <th>code</th>\n",
       "      <th>code1</th>\n",
       "      <th>code2</th>\n",
       "      <th>type</th>\n",
       "      <th>type1</th>\n",
       "      <th>type2</th>\n",
       "      <th>code3</th>\n",
       "      <th>type3</th>\n",
       "    </tr>\n",
       "  </thead>\n",
       "  <tbody>\n",
       "    <tr>\n",
       "      <th>0</th>\n",
       "      <td>0</td>\n",
       "      <td>ABC</td>\n",
       "      <td>1</td>\n",
       "      <td>4.0</td>\n",
       "      <td>8</td>\n",
       "      <td>S</td>\n",
       "      <td>E</td>\n",
       "      <td>T</td>\n",
       "      <td>a</td>\n",
       "      <td>2018-01-01</td>\n",
       "    </tr>\n",
       "    <tr>\n",
       "      <th>1</th>\n",
       "      <td>1</td>\n",
       "      <td>XYZ</td>\n",
       "      <td>2</td>\n",
       "      <td>NaN</td>\n",
       "      <td>5</td>\n",
       "      <td>R</td>\n",
       "      <td>NaN</td>\n",
       "      <td>U</td>\n",
       "      <td>b</td>\n",
       "      <td>2018-01-01</td>\n",
       "    </tr>\n",
       "  </tbody>\n",
       "</table>\n",
       "</div>"
      ],
      "text/plain": [
       "   id Name  code  code1 code2 type type1 type2 code3      type3\n",
       "0   0  ABC     1    4.0     8    S     E     T     a 2018-01-01\n",
       "1   1  XYZ     2    NaN     5    R   NaN     U     b 2018-01-01"
      ]
     },
     "execution_count": 2,
     "metadata": {},
     "output_type": "execute_result"
    }
   ],
   "source": [
    "df = pd.DataFrame(\n",
    "        {\n",
    "            \"id\": [0, 1],\n",
    "            \"Name\": [\"ABC\", \"XYZ\"],\n",
    "            \"code\": [1, 2],\n",
    "            \"code1\": [4, np.nan],\n",
    "            \"code2\": [\"8\", 5],\n",
    "            \"type\": [\"S\", \"R\"],\n",
    "            \"type1\": [\"E\", np.nan],\n",
    "            \"type2\": [\"T\", \"U\"],\n",
    "            \"code3\": pd.Series([\"a\", \"b\"], dtype=\"category\"),\n",
    "            \"type3\": pd.to_datetime([np.datetime64(\"2018-01-01\"),\n",
    "                                    datetime.datetime(2018, 1, 1)]),\n",
    "        }\n",
    "    )\n",
    "\n",
    "df\n",
    "\n"
   ]
  },
  {
   "cell_type": "markdown",
   "metadata": {},
   "source": [
    "- Select by string:"
   ]
  },
  {
   "cell_type": "code",
   "execution_count": 3,
   "metadata": {},
   "outputs": [
    {
     "data": {
      "text/html": [
       "<div>\n",
       "<style scoped>\n",
       "    .dataframe tbody tr th:only-of-type {\n",
       "        vertical-align: middle;\n",
       "    }\n",
       "\n",
       "    .dataframe tbody tr th {\n",
       "        vertical-align: top;\n",
       "    }\n",
       "\n",
       "    .dataframe thead th {\n",
       "        text-align: right;\n",
       "    }\n",
       "</style>\n",
       "<table border=\"1\" class=\"dataframe\">\n",
       "  <thead>\n",
       "    <tr style=\"text-align: right;\">\n",
       "      <th></th>\n",
       "      <th>id</th>\n",
       "    </tr>\n",
       "  </thead>\n",
       "  <tbody>\n",
       "    <tr>\n",
       "      <th>0</th>\n",
       "      <td>0</td>\n",
       "    </tr>\n",
       "    <tr>\n",
       "      <th>1</th>\n",
       "      <td>1</td>\n",
       "    </tr>\n",
       "  </tbody>\n",
       "</table>\n",
       "</div>"
      ],
      "text/plain": [
       "   id\n",
       "0   0\n",
       "1   1"
      ]
     },
     "execution_count": 3,
     "metadata": {},
     "output_type": "execute_result"
    }
   ],
   "source": [
    "df.select_columns(\"id\")"
   ]
  },
  {
   "cell_type": "markdown",
   "metadata": {},
   "source": [
    "- Select via shell-like glob strings (`*`) is possible:"
   ]
  },
  {
   "cell_type": "code",
   "execution_count": 4,
   "metadata": {},
   "outputs": [
    {
     "data": {
      "text/html": [
       "<div>\n",
       "<style scoped>\n",
       "    .dataframe tbody tr th:only-of-type {\n",
       "        vertical-align: middle;\n",
       "    }\n",
       "\n",
       "    .dataframe tbody tr th {\n",
       "        vertical-align: top;\n",
       "    }\n",
       "\n",
       "    .dataframe thead th {\n",
       "        text-align: right;\n",
       "    }\n",
       "</style>\n",
       "<table border=\"1\" class=\"dataframe\">\n",
       "  <thead>\n",
       "    <tr style=\"text-align: right;\">\n",
       "      <th></th>\n",
       "      <th>type</th>\n",
       "      <th>type1</th>\n",
       "      <th>type2</th>\n",
       "      <th>type3</th>\n",
       "    </tr>\n",
       "  </thead>\n",
       "  <tbody>\n",
       "    <tr>\n",
       "      <th>0</th>\n",
       "      <td>S</td>\n",
       "      <td>E</td>\n",
       "      <td>T</td>\n",
       "      <td>2018-01-01</td>\n",
       "    </tr>\n",
       "    <tr>\n",
       "      <th>1</th>\n",
       "      <td>R</td>\n",
       "      <td>NaN</td>\n",
       "      <td>U</td>\n",
       "      <td>2018-01-01</td>\n",
       "    </tr>\n",
       "  </tbody>\n",
       "</table>\n",
       "</div>"
      ],
      "text/plain": [
       "  type type1 type2      type3\n",
       "0    S     E     T 2018-01-01\n",
       "1    R   NaN     U 2018-01-01"
      ]
     },
     "execution_count": 4,
     "metadata": {},
     "output_type": "execute_result"
    }
   ],
   "source": [
    "df.select_columns(\"type*\")"
   ]
  },
  {
   "cell_type": "markdown",
   "metadata": {},
   "source": [
    "- Select by slice:"
   ]
  },
  {
   "cell_type": "code",
   "execution_count": 5,
   "metadata": {},
   "outputs": [
    {
     "data": {
      "text/html": [
       "<div>\n",
       "<style scoped>\n",
       "    .dataframe tbody tr th:only-of-type {\n",
       "        vertical-align: middle;\n",
       "    }\n",
       "\n",
       "    .dataframe tbody tr th {\n",
       "        vertical-align: top;\n",
       "    }\n",
       "\n",
       "    .dataframe thead th {\n",
       "        text-align: right;\n",
       "    }\n",
       "</style>\n",
       "<table border=\"1\" class=\"dataframe\">\n",
       "  <thead>\n",
       "    <tr style=\"text-align: right;\">\n",
       "      <th></th>\n",
       "      <th>code1</th>\n",
       "      <th>code2</th>\n",
       "      <th>type</th>\n",
       "      <th>type1</th>\n",
       "    </tr>\n",
       "  </thead>\n",
       "  <tbody>\n",
       "    <tr>\n",
       "      <th>0</th>\n",
       "      <td>4.0</td>\n",
       "      <td>8</td>\n",
       "      <td>S</td>\n",
       "      <td>E</td>\n",
       "    </tr>\n",
       "    <tr>\n",
       "      <th>1</th>\n",
       "      <td>NaN</td>\n",
       "      <td>5</td>\n",
       "      <td>R</td>\n",
       "      <td>NaN</td>\n",
       "    </tr>\n",
       "  </tbody>\n",
       "</table>\n",
       "</div>"
      ],
      "text/plain": [
       "   code1 code2 type type1\n",
       "0    4.0     8    S     E\n",
       "1    NaN     5    R   NaN"
      ]
     },
     "execution_count": 5,
     "metadata": {},
     "output_type": "execute_result"
    }
   ],
   "source": [
    "df.select_columns(slice(\"code1\", \"type1\"))"
   ]
  },
  {
   "cell_type": "markdown",
   "metadata": {},
   "source": [
    "- Select by `Callable` (the callable is applied to every column  and should return a single `True` or `False` per column):"
   ]
  },
  {
   "cell_type": "code",
   "execution_count": 6,
   "metadata": {},
   "outputs": [
    {
     "data": {
      "text/html": [
       "<div>\n",
       "<style scoped>\n",
       "    .dataframe tbody tr th:only-of-type {\n",
       "        vertical-align: middle;\n",
       "    }\n",
       "\n",
       "    .dataframe tbody tr th {\n",
       "        vertical-align: top;\n",
       "    }\n",
       "\n",
       "    .dataframe thead th {\n",
       "        text-align: right;\n",
       "    }\n",
       "</style>\n",
       "<table border=\"1\" class=\"dataframe\">\n",
       "  <thead>\n",
       "    <tr style=\"text-align: right;\">\n",
       "      <th></th>\n",
       "      <th>type3</th>\n",
       "    </tr>\n",
       "  </thead>\n",
       "  <tbody>\n",
       "    <tr>\n",
       "      <th>0</th>\n",
       "      <td>2018-01-01</td>\n",
       "    </tr>\n",
       "    <tr>\n",
       "      <th>1</th>\n",
       "      <td>2018-01-01</td>\n",
       "    </tr>\n",
       "  </tbody>\n",
       "</table>\n",
       "</div>"
      ],
      "text/plain": [
       "       type3\n",
       "0 2018-01-01\n",
       "1 2018-01-01"
      ]
     },
     "execution_count": 6,
     "metadata": {},
     "output_type": "execute_result"
    }
   ],
   "source": [
    "df.select_columns(is_datetime64_dtype)"
   ]
  },
  {
   "cell_type": "code",
   "execution_count": 7,
   "metadata": {},
   "outputs": [
    {
     "data": {
      "text/html": [
       "<div>\n",
       "<style scoped>\n",
       "    .dataframe tbody tr th:only-of-type {\n",
       "        vertical-align: middle;\n",
       "    }\n",
       "\n",
       "    .dataframe tbody tr th {\n",
       "        vertical-align: top;\n",
       "    }\n",
       "\n",
       "    .dataframe thead th {\n",
       "        text-align: right;\n",
       "    }\n",
       "</style>\n",
       "<table border=\"1\" class=\"dataframe\">\n",
       "  <thead>\n",
       "    <tr style=\"text-align: right;\">\n",
       "      <th></th>\n",
       "      <th>code</th>\n",
       "      <th>code1</th>\n",
       "      <th>code2</th>\n",
       "      <th>type1</th>\n",
       "      <th>code3</th>\n",
       "    </tr>\n",
       "  </thead>\n",
       "  <tbody>\n",
       "    <tr>\n",
       "      <th>0</th>\n",
       "      <td>1</td>\n",
       "      <td>4.0</td>\n",
       "      <td>8</td>\n",
       "      <td>E</td>\n",
       "      <td>a</td>\n",
       "    </tr>\n",
       "    <tr>\n",
       "      <th>1</th>\n",
       "      <td>2</td>\n",
       "      <td>NaN</td>\n",
       "      <td>5</td>\n",
       "      <td>NaN</td>\n",
       "      <td>b</td>\n",
       "    </tr>\n",
       "  </tbody>\n",
       "</table>\n",
       "</div>"
      ],
      "text/plain": [
       "   code  code1 code2 type1 code3\n",
       "0     1    4.0     8     E     a\n",
       "1     2    NaN     5   NaN     b"
      ]
     },
     "execution_count": 7,
     "metadata": {},
     "output_type": "execute_result"
    }
   ],
   "source": [
    "df.select_columns(lambda x: x.name.startswith(\"code\") or\n",
    "                            x.name.endswith(\"1\"))"
   ]
  },
  {
   "cell_type": "code",
   "execution_count": 8,
   "metadata": {},
   "outputs": [
    {
     "data": {
      "text/html": [
       "<div>\n",
       "<style scoped>\n",
       "    .dataframe tbody tr th:only-of-type {\n",
       "        vertical-align: middle;\n",
       "    }\n",
       "\n",
       "    .dataframe tbody tr th {\n",
       "        vertical-align: top;\n",
       "    }\n",
       "\n",
       "    .dataframe thead th {\n",
       "        text-align: right;\n",
       "    }\n",
       "</style>\n",
       "<table border=\"1\" class=\"dataframe\">\n",
       "  <thead>\n",
       "    <tr style=\"text-align: right;\">\n",
       "      <th></th>\n",
       "      <th>code1</th>\n",
       "      <th>type1</th>\n",
       "    </tr>\n",
       "  </thead>\n",
       "  <tbody>\n",
       "    <tr>\n",
       "      <th>0</th>\n",
       "      <td>4.0</td>\n",
       "      <td>E</td>\n",
       "    </tr>\n",
       "    <tr>\n",
       "      <th>1</th>\n",
       "      <td>NaN</td>\n",
       "      <td>NaN</td>\n",
       "    </tr>\n",
       "  </tbody>\n",
       "</table>\n",
       "</div>"
      ],
      "text/plain": [
       "   code1 type1\n",
       "0    4.0     E\n",
       "1    NaN   NaN"
      ]
     },
     "execution_count": 8,
     "metadata": {},
     "output_type": "execute_result"
    }
   ],
   "source": [
    "df.select_columns(lambda x: x.isna().any())"
   ]
  },
  {
   "cell_type": "markdown",
   "metadata": {},
   "source": [
    "- Select by regular expression:"
   ]
  },
  {
   "cell_type": "code",
   "execution_count": 9,
   "metadata": {},
   "outputs": [
    {
     "data": {
      "text/html": [
       "<div>\n",
       "<style scoped>\n",
       "    .dataframe tbody tr th:only-of-type {\n",
       "        vertical-align: middle;\n",
       "    }\n",
       "\n",
       "    .dataframe tbody tr th {\n",
       "        vertical-align: top;\n",
       "    }\n",
       "\n",
       "    .dataframe thead th {\n",
       "        text-align: right;\n",
       "    }\n",
       "</style>\n",
       "<table border=\"1\" class=\"dataframe\">\n",
       "  <thead>\n",
       "    <tr style=\"text-align: right;\">\n",
       "      <th></th>\n",
       "      <th>code1</th>\n",
       "      <th>code2</th>\n",
       "      <th>type1</th>\n",
       "      <th>type2</th>\n",
       "      <th>code3</th>\n",
       "      <th>type3</th>\n",
       "    </tr>\n",
       "  </thead>\n",
       "  <tbody>\n",
       "    <tr>\n",
       "      <th>0</th>\n",
       "      <td>4.0</td>\n",
       "      <td>8</td>\n",
       "      <td>E</td>\n",
       "      <td>T</td>\n",
       "      <td>a</td>\n",
       "      <td>2018-01-01</td>\n",
       "    </tr>\n",
       "    <tr>\n",
       "      <th>1</th>\n",
       "      <td>NaN</td>\n",
       "      <td>5</td>\n",
       "      <td>NaN</td>\n",
       "      <td>U</td>\n",
       "      <td>b</td>\n",
       "      <td>2018-01-01</td>\n",
       "    </tr>\n",
       "  </tbody>\n",
       "</table>\n",
       "</div>"
      ],
      "text/plain": [
       "   code1 code2 type1 type2 code3      type3\n",
       "0    4.0     8     E     T     a 2018-01-01\n",
       "1    NaN     5   NaN     U     b 2018-01-01"
      ]
     },
     "execution_count": 9,
     "metadata": {},
     "output_type": "execute_result"
    }
   ],
   "source": [
    "df.select_columns(re.compile(\"\\\\d+\"))"
   ]
  },
  {
   "cell_type": "code",
   "execution_count": 10,
   "metadata": {},
   "outputs": [
    {
     "name": "stderr",
     "output_type": "stream",
     "text": [
      "/tmp/ipykernel_18582/1520232378.py:4: DeprecationWarning: This function is deprecated. Kindly use `re.compile` instead.\n",
      "  df.select_columns(patterns(\"\\\\d+\"))\n"
     ]
    },
    {
     "data": {
      "text/html": [
       "<div>\n",
       "<style scoped>\n",
       "    .dataframe tbody tr th:only-of-type {\n",
       "        vertical-align: middle;\n",
       "    }\n",
       "\n",
       "    .dataframe tbody tr th {\n",
       "        vertical-align: top;\n",
       "    }\n",
       "\n",
       "    .dataframe thead th {\n",
       "        text-align: right;\n",
       "    }\n",
       "</style>\n",
       "<table border=\"1\" class=\"dataframe\">\n",
       "  <thead>\n",
       "    <tr style=\"text-align: right;\">\n",
       "      <th></th>\n",
       "      <th>code1</th>\n",
       "      <th>code2</th>\n",
       "      <th>type1</th>\n",
       "      <th>type2</th>\n",
       "      <th>code3</th>\n",
       "      <th>type3</th>\n",
       "    </tr>\n",
       "  </thead>\n",
       "  <tbody>\n",
       "    <tr>\n",
       "      <th>0</th>\n",
       "      <td>4.0</td>\n",
       "      <td>8</td>\n",
       "      <td>E</td>\n",
       "      <td>T</td>\n",
       "      <td>a</td>\n",
       "      <td>2018-01-01</td>\n",
       "    </tr>\n",
       "    <tr>\n",
       "      <th>1</th>\n",
       "      <td>NaN</td>\n",
       "      <td>5</td>\n",
       "      <td>NaN</td>\n",
       "      <td>U</td>\n",
       "      <td>b</td>\n",
       "      <td>2018-01-01</td>\n",
       "    </tr>\n",
       "  </tbody>\n",
       "</table>\n",
       "</div>"
      ],
      "text/plain": [
       "   code1 code2 type1 type2 code3      type3\n",
       "0    4.0     8     E     T     a 2018-01-01\n",
       "1    NaN     5   NaN     U     b 2018-01-01"
      ]
     },
     "execution_count": 10,
     "metadata": {},
     "output_type": "execute_result"
    }
   ],
   "source": [
    "# same as above, with janitor.patterns\n",
    "# simply a wrapper around re.compile\n",
    "\n",
    "df.select_columns(patterns(\"\\\\d+\"))\n"
   ]
  },
  {
   "cell_type": "markdown",
   "metadata": {},
   "source": [
    " - Select a combination of the above (you can combine any of the previous options):"
   ]
  },
  {
   "cell_type": "code",
   "execution_count": 11,
   "metadata": {},
   "outputs": [
    {
     "data": {
      "text/html": [
       "<div>\n",
       "<style scoped>\n",
       "    .dataframe tbody tr th:only-of-type {\n",
       "        vertical-align: middle;\n",
       "    }\n",
       "\n",
       "    .dataframe tbody tr th {\n",
       "        vertical-align: top;\n",
       "    }\n",
       "\n",
       "    .dataframe thead th {\n",
       "        text-align: right;\n",
       "    }\n",
       "</style>\n",
       "<table border=\"1\" class=\"dataframe\">\n",
       "  <thead>\n",
       "    <tr style=\"text-align: right;\">\n",
       "      <th></th>\n",
       "      <th>id</th>\n",
       "      <th>code</th>\n",
       "      <th>code1</th>\n",
       "      <th>code2</th>\n",
       "      <th>code3</th>\n",
       "    </tr>\n",
       "  </thead>\n",
       "  <tbody>\n",
       "    <tr>\n",
       "      <th>0</th>\n",
       "      <td>0</td>\n",
       "      <td>1</td>\n",
       "      <td>4.0</td>\n",
       "      <td>8</td>\n",
       "      <td>a</td>\n",
       "    </tr>\n",
       "    <tr>\n",
       "      <th>1</th>\n",
       "      <td>1</td>\n",
       "      <td>2</td>\n",
       "      <td>NaN</td>\n",
       "      <td>5</td>\n",
       "      <td>b</td>\n",
       "    </tr>\n",
       "  </tbody>\n",
       "</table>\n",
       "</div>"
      ],
      "text/plain": [
       "   id  code  code1 code2 code3\n",
       "0   0     1    4.0     8     a\n",
       "1   1     2    NaN     5     b"
      ]
     },
     "execution_count": 11,
     "metadata": {},
     "output_type": "execute_result"
    }
   ],
   "source": [
    "df.select_columns(\"id\", \"code*\", slice(\"code\", \"code2\"))"
   ]
  },
  {
   "cell_type": "markdown",
   "metadata": {},
   "source": [
    "- You can also pass a sequence of booleans:"
   ]
  },
  {
   "cell_type": "code",
   "execution_count": 12,
   "metadata": {},
   "outputs": [
    {
     "data": {
      "text/html": [
       "<div>\n",
       "<style scoped>\n",
       "    .dataframe tbody tr th:only-of-type {\n",
       "        vertical-align: middle;\n",
       "    }\n",
       "\n",
       "    .dataframe tbody tr th {\n",
       "        vertical-align: top;\n",
       "    }\n",
       "\n",
       "    .dataframe thead th {\n",
       "        text-align: right;\n",
       "    }\n",
       "</style>\n",
       "<table border=\"1\" class=\"dataframe\">\n",
       "  <thead>\n",
       "    <tr style=\"text-align: right;\">\n",
       "      <th></th>\n",
       "      <th>id</th>\n",
       "      <th>code</th>\n",
       "      <th>code1</th>\n",
       "      <th>code2</th>\n",
       "      <th>code3</th>\n",
       "    </tr>\n",
       "  </thead>\n",
       "  <tbody>\n",
       "    <tr>\n",
       "      <th>0</th>\n",
       "      <td>0</td>\n",
       "      <td>1</td>\n",
       "      <td>4.0</td>\n",
       "      <td>8</td>\n",
       "      <td>a</td>\n",
       "    </tr>\n",
       "    <tr>\n",
       "      <th>1</th>\n",
       "      <td>1</td>\n",
       "      <td>2</td>\n",
       "      <td>NaN</td>\n",
       "      <td>5</td>\n",
       "      <td>b</td>\n",
       "    </tr>\n",
       "  </tbody>\n",
       "</table>\n",
       "</div>"
      ],
      "text/plain": [
       "   id  code  code1 code2 code3\n",
       "0   0     1    4.0     8     a\n",
       "1   1     2    NaN     5     b"
      ]
     },
     "execution_count": 12,
     "metadata": {},
     "output_type": "execute_result"
    }
   ],
   "source": [
    "df.select_columns([True, False, True, True, True,\n",
    "                   False, False, False, True, False])"
   ]
  },
  {
   "cell_type": "markdown",
   "metadata": {},
   "source": [
    "- Setting `invert` to `True` returns the complement of the columns provided:"
   ]
  },
  {
   "cell_type": "code",
   "execution_count": 13,
   "metadata": {},
   "outputs": [
    {
     "data": {
      "text/html": [
       "<div>\n",
       "<style scoped>\n",
       "    .dataframe tbody tr th:only-of-type {\n",
       "        vertical-align: middle;\n",
       "    }\n",
       "\n",
       "    .dataframe tbody tr th {\n",
       "        vertical-align: top;\n",
       "    }\n",
       "\n",
       "    .dataframe thead th {\n",
       "        text-align: right;\n",
       "    }\n",
       "</style>\n",
       "<table border=\"1\" class=\"dataframe\">\n",
       "  <thead>\n",
       "    <tr style=\"text-align: right;\">\n",
       "      <th></th>\n",
       "      <th>Name</th>\n",
       "      <th>type</th>\n",
       "      <th>type1</th>\n",
       "      <th>type2</th>\n",
       "      <th>type3</th>\n",
       "    </tr>\n",
       "  </thead>\n",
       "  <tbody>\n",
       "    <tr>\n",
       "      <th>0</th>\n",
       "      <td>ABC</td>\n",
       "      <td>S</td>\n",
       "      <td>E</td>\n",
       "      <td>T</td>\n",
       "      <td>2018-01-01</td>\n",
       "    </tr>\n",
       "    <tr>\n",
       "      <th>1</th>\n",
       "      <td>XYZ</td>\n",
       "      <td>R</td>\n",
       "      <td>NaN</td>\n",
       "      <td>U</td>\n",
       "      <td>2018-01-01</td>\n",
       "    </tr>\n",
       "  </tbody>\n",
       "</table>\n",
       "</div>"
      ],
      "text/plain": [
       "  Name type type1 type2      type3\n",
       "0  ABC    S     E     T 2018-01-01\n",
       "1  XYZ    R   NaN     U 2018-01-01"
      ]
     },
     "execution_count": 13,
     "metadata": {},
     "output_type": "execute_result"
    }
   ],
   "source": [
    "df.select_columns(\"id\", \"code*\", slice(\"code\", \"code2\"),\n",
    "                  invert = True)"
   ]
  },
  {
   "cell_type": "code",
   "execution_count": 14,
   "metadata": {},
   "outputs": [
    {
     "data": {
      "text/html": [
       "<div>\n",
       "<style scoped>\n",
       "    .dataframe tbody tr th:only-of-type {\n",
       "        vertical-align: middle;\n",
       "    }\n",
       "\n",
       "    .dataframe tbody tr th {\n",
       "        vertical-align: top;\n",
       "    }\n",
       "\n",
       "    .dataframe thead tr th {\n",
       "        text-align: left;\n",
       "    }\n",
       "</style>\n",
       "<table border=\"1\" class=\"dataframe\">\n",
       "  <thead>\n",
       "    <tr>\n",
       "      <th></th>\n",
       "      <th>A</th>\n",
       "      <th>B</th>\n",
       "      <th>C</th>\n",
       "    </tr>\n",
       "    <tr>\n",
       "      <th></th>\n",
       "      <th>D</th>\n",
       "      <th>E</th>\n",
       "      <th>F</th>\n",
       "    </tr>\n",
       "  </thead>\n",
       "  <tbody>\n",
       "    <tr>\n",
       "      <th>0</th>\n",
       "      <td>a</td>\n",
       "      <td>1</td>\n",
       "      <td>2</td>\n",
       "    </tr>\n",
       "    <tr>\n",
       "      <th>1</th>\n",
       "      <td>b</td>\n",
       "      <td>3</td>\n",
       "      <td>4</td>\n",
       "    </tr>\n",
       "    <tr>\n",
       "      <th>2</th>\n",
       "      <td>c</td>\n",
       "      <td>5</td>\n",
       "      <td>6</td>\n",
       "    </tr>\n",
       "  </tbody>\n",
       "</table>\n",
       "</div>"
      ],
      "text/plain": [
       "   A  B  C\n",
       "   D  E  F\n",
       "0  a  1  2\n",
       "1  b  3  4\n",
       "2  c  5  6"
      ]
     },
     "execution_count": 14,
     "metadata": {},
     "output_type": "execute_result"
    }
   ],
   "source": [
    "df = pd.DataFrame({'A': {0: 'a', 1: 'b', 2: 'c'},\n",
    "                    'B': {0: 1, 1: 3, 2: 5},\n",
    "                    'C': {0: 2, 1: 4, 2: 6}})\n",
    "\n",
    "df.columns = [list('ABC'), list('DEF')]\n",
    "\n",
    "df\n"
   ]
  },
  {
   "cell_type": "code",
   "execution_count": 15,
   "metadata": {},
   "outputs": [
    {
     "data": {
      "text/html": [
       "<div>\n",
       "<style scoped>\n",
       "    .dataframe tbody tr th:only-of-type {\n",
       "        vertical-align: middle;\n",
       "    }\n",
       "\n",
       "    .dataframe tbody tr th {\n",
       "        vertical-align: top;\n",
       "    }\n",
       "\n",
       "    .dataframe thead tr th {\n",
       "        text-align: left;\n",
       "    }\n",
       "</style>\n",
       "<table border=\"1\" class=\"dataframe\">\n",
       "  <thead>\n",
       "    <tr>\n",
       "      <th></th>\n",
       "      <th>C</th>\n",
       "      <th>B</th>\n",
       "    </tr>\n",
       "    <tr>\n",
       "      <th></th>\n",
       "      <th>F</th>\n",
       "      <th>E</th>\n",
       "    </tr>\n",
       "  </thead>\n",
       "  <tbody>\n",
       "    <tr>\n",
       "      <th>0</th>\n",
       "      <td>2</td>\n",
       "      <td>1</td>\n",
       "    </tr>\n",
       "    <tr>\n",
       "      <th>1</th>\n",
       "      <td>4</td>\n",
       "      <td>3</td>\n",
       "    </tr>\n",
       "    <tr>\n",
       "      <th>2</th>\n",
       "      <td>6</td>\n",
       "      <td>5</td>\n",
       "    </tr>\n",
       "  </tbody>\n",
       "</table>\n",
       "</div>"
      ],
      "text/plain": [
       "   C  B\n",
       "   F  E\n",
       "0  2  1\n",
       "1  4  3\n",
       "2  6  5"
      ]
     },
     "execution_count": 15,
     "metadata": {},
     "output_type": "execute_result"
    }
   ],
   "source": [
    "df.select_columns(slice(('C','F'),('B','E')))"
   ]
  },
  {
   "cell_type": "code",
   "execution_count": 16,
   "metadata": {},
   "outputs": [],
   "source": [
    "start = datetime.datetime(2011, 1, 1)\n",
    "\n",
    "end = datetime.datetime(2012, 1, 1)\n",
    "\n",
    "rng = pd.date_range(start, end, freq=\"BM\")\n",
    "\n",
    "ts = pd.Series(np.random.randn(len(rng)), index=rng)"
   ]
  },
  {
   "cell_type": "code",
   "execution_count": 17,
   "metadata": {},
   "outputs": [
    {
     "data": {
      "text/plain": [
       "2011-01-31    0.335450\n",
       "2011-02-28   -0.337035\n",
       "2011-03-31    0.040042\n",
       "2011-04-29    0.304694\n",
       "2011-05-31   -1.010589\n",
       "2011-06-30    0.645795\n",
       "2011-07-29   -0.150588\n",
       "2011-08-31    1.612465\n",
       "2011-09-30    0.208183\n",
       "2011-10-31   -2.101096\n",
       "2011-11-30    0.843838\n",
       "2011-12-30    0.403690\n",
       "Freq: BM, dtype: float64"
      ]
     },
     "execution_count": 17,
     "metadata": {},
     "output_type": "execute_result"
    }
   ],
   "source": [
    "ts"
   ]
  },
  {
   "cell_type": "code",
   "execution_count": 18,
   "metadata": {},
   "outputs": [
    {
     "data": {
      "text/html": [
       "<div>\n",
       "<style scoped>\n",
       "    .dataframe tbody tr th:only-of-type {\n",
       "        vertical-align: middle;\n",
       "    }\n",
       "\n",
       "    .dataframe tbody tr th {\n",
       "        vertical-align: top;\n",
       "    }\n",
       "\n",
       "    .dataframe thead th {\n",
       "        text-align: right;\n",
       "    }\n",
       "</style>\n",
       "<table border=\"1\" class=\"dataframe\">\n",
       "  <thead>\n",
       "    <tr style=\"text-align: right;\">\n",
       "      <th>index</th>\n",
       "      <th>2011-01-31</th>\n",
       "      <th>2011-02-28</th>\n",
       "      <th>2011-03-31</th>\n",
       "      <th>2011-04-29</th>\n",
       "      <th>2011-05-31</th>\n",
       "      <th>2011-06-30</th>\n",
       "      <th>2011-07-29</th>\n",
       "      <th>2011-08-31</th>\n",
       "      <th>2011-09-30</th>\n",
       "      <th>2011-10-31</th>\n",
       "      <th>2011-11-30</th>\n",
       "      <th>2011-12-30</th>\n",
       "    </tr>\n",
       "  </thead>\n",
       "  <tbody>\n",
       "    <tr>\n",
       "      <th>0</th>\n",
       "      <td>0.33545</td>\n",
       "      <td>NaN</td>\n",
       "      <td>NaN</td>\n",
       "      <td>NaN</td>\n",
       "      <td>NaN</td>\n",
       "      <td>NaN</td>\n",
       "      <td>NaN</td>\n",
       "      <td>NaN</td>\n",
       "      <td>NaN</td>\n",
       "      <td>NaN</td>\n",
       "      <td>NaN</td>\n",
       "      <td>NaN</td>\n",
       "    </tr>\n",
       "    <tr>\n",
       "      <th>1</th>\n",
       "      <td>NaN</td>\n",
       "      <td>-0.337035</td>\n",
       "      <td>NaN</td>\n",
       "      <td>NaN</td>\n",
       "      <td>NaN</td>\n",
       "      <td>NaN</td>\n",
       "      <td>NaN</td>\n",
       "      <td>NaN</td>\n",
       "      <td>NaN</td>\n",
       "      <td>NaN</td>\n",
       "      <td>NaN</td>\n",
       "      <td>NaN</td>\n",
       "    </tr>\n",
       "    <tr>\n",
       "      <th>2</th>\n",
       "      <td>NaN</td>\n",
       "      <td>NaN</td>\n",
       "      <td>0.040042</td>\n",
       "      <td>NaN</td>\n",
       "      <td>NaN</td>\n",
       "      <td>NaN</td>\n",
       "      <td>NaN</td>\n",
       "      <td>NaN</td>\n",
       "      <td>NaN</td>\n",
       "      <td>NaN</td>\n",
       "      <td>NaN</td>\n",
       "      <td>NaN</td>\n",
       "    </tr>\n",
       "    <tr>\n",
       "      <th>3</th>\n",
       "      <td>NaN</td>\n",
       "      <td>NaN</td>\n",
       "      <td>NaN</td>\n",
       "      <td>0.304694</td>\n",
       "      <td>NaN</td>\n",
       "      <td>NaN</td>\n",
       "      <td>NaN</td>\n",
       "      <td>NaN</td>\n",
       "      <td>NaN</td>\n",
       "      <td>NaN</td>\n",
       "      <td>NaN</td>\n",
       "      <td>NaN</td>\n",
       "    </tr>\n",
       "    <tr>\n",
       "      <th>4</th>\n",
       "      <td>NaN</td>\n",
       "      <td>NaN</td>\n",
       "      <td>NaN</td>\n",
       "      <td>NaN</td>\n",
       "      <td>-1.010589</td>\n",
       "      <td>NaN</td>\n",
       "      <td>NaN</td>\n",
       "      <td>NaN</td>\n",
       "      <td>NaN</td>\n",
       "      <td>NaN</td>\n",
       "      <td>NaN</td>\n",
       "      <td>NaN</td>\n",
       "    </tr>\n",
       "    <tr>\n",
       "      <th>5</th>\n",
       "      <td>NaN</td>\n",
       "      <td>NaN</td>\n",
       "      <td>NaN</td>\n",
       "      <td>NaN</td>\n",
       "      <td>NaN</td>\n",
       "      <td>0.645795</td>\n",
       "      <td>NaN</td>\n",
       "      <td>NaN</td>\n",
       "      <td>NaN</td>\n",
       "      <td>NaN</td>\n",
       "      <td>NaN</td>\n",
       "      <td>NaN</td>\n",
       "    </tr>\n",
       "    <tr>\n",
       "      <th>6</th>\n",
       "      <td>NaN</td>\n",
       "      <td>NaN</td>\n",
       "      <td>NaN</td>\n",
       "      <td>NaN</td>\n",
       "      <td>NaN</td>\n",
       "      <td>NaN</td>\n",
       "      <td>-0.150588</td>\n",
       "      <td>NaN</td>\n",
       "      <td>NaN</td>\n",
       "      <td>NaN</td>\n",
       "      <td>NaN</td>\n",
       "      <td>NaN</td>\n",
       "    </tr>\n",
       "    <tr>\n",
       "      <th>7</th>\n",
       "      <td>NaN</td>\n",
       "      <td>NaN</td>\n",
       "      <td>NaN</td>\n",
       "      <td>NaN</td>\n",
       "      <td>NaN</td>\n",
       "      <td>NaN</td>\n",
       "      <td>NaN</td>\n",
       "      <td>1.612465</td>\n",
       "      <td>NaN</td>\n",
       "      <td>NaN</td>\n",
       "      <td>NaN</td>\n",
       "      <td>NaN</td>\n",
       "    </tr>\n",
       "    <tr>\n",
       "      <th>8</th>\n",
       "      <td>NaN</td>\n",
       "      <td>NaN</td>\n",
       "      <td>NaN</td>\n",
       "      <td>NaN</td>\n",
       "      <td>NaN</td>\n",
       "      <td>NaN</td>\n",
       "      <td>NaN</td>\n",
       "      <td>NaN</td>\n",
       "      <td>0.208183</td>\n",
       "      <td>NaN</td>\n",
       "      <td>NaN</td>\n",
       "      <td>NaN</td>\n",
       "    </tr>\n",
       "    <tr>\n",
       "      <th>9</th>\n",
       "      <td>NaN</td>\n",
       "      <td>NaN</td>\n",
       "      <td>NaN</td>\n",
       "      <td>NaN</td>\n",
       "      <td>NaN</td>\n",
       "      <td>NaN</td>\n",
       "      <td>NaN</td>\n",
       "      <td>NaN</td>\n",
       "      <td>NaN</td>\n",
       "      <td>-2.101096</td>\n",
       "      <td>NaN</td>\n",
       "      <td>NaN</td>\n",
       "    </tr>\n",
       "    <tr>\n",
       "      <th>10</th>\n",
       "      <td>NaN</td>\n",
       "      <td>NaN</td>\n",
       "      <td>NaN</td>\n",
       "      <td>NaN</td>\n",
       "      <td>NaN</td>\n",
       "      <td>NaN</td>\n",
       "      <td>NaN</td>\n",
       "      <td>NaN</td>\n",
       "      <td>NaN</td>\n",
       "      <td>NaN</td>\n",
       "      <td>0.843838</td>\n",
       "      <td>NaN</td>\n",
       "    </tr>\n",
       "    <tr>\n",
       "      <th>11</th>\n",
       "      <td>NaN</td>\n",
       "      <td>NaN</td>\n",
       "      <td>NaN</td>\n",
       "      <td>NaN</td>\n",
       "      <td>NaN</td>\n",
       "      <td>NaN</td>\n",
       "      <td>NaN</td>\n",
       "      <td>NaN</td>\n",
       "      <td>NaN</td>\n",
       "      <td>NaN</td>\n",
       "      <td>NaN</td>\n",
       "      <td>0.40369</td>\n",
       "    </tr>\n",
       "  </tbody>\n",
       "</table>\n",
       "</div>"
      ],
      "text/plain": [
       "index  2011-01-31  2011-02-28  2011-03-31  2011-04-29  2011-05-31  2011-06-30  \\\n",
       "0         0.33545         NaN         NaN         NaN         NaN         NaN   \n",
       "1             NaN   -0.337035         NaN         NaN         NaN         NaN   \n",
       "2             NaN         NaN    0.040042         NaN         NaN         NaN   \n",
       "3             NaN         NaN         NaN    0.304694         NaN         NaN   \n",
       "4             NaN         NaN         NaN         NaN   -1.010589         NaN   \n",
       "5             NaN         NaN         NaN         NaN         NaN    0.645795   \n",
       "6             NaN         NaN         NaN         NaN         NaN         NaN   \n",
       "7             NaN         NaN         NaN         NaN         NaN         NaN   \n",
       "8             NaN         NaN         NaN         NaN         NaN         NaN   \n",
       "9             NaN         NaN         NaN         NaN         NaN         NaN   \n",
       "10            NaN         NaN         NaN         NaN         NaN         NaN   \n",
       "11            NaN         NaN         NaN         NaN         NaN         NaN   \n",
       "\n",
       "index  2011-07-29  2011-08-31  2011-09-30  2011-10-31  2011-11-30  2011-12-30  \n",
       "0             NaN         NaN         NaN         NaN         NaN         NaN  \n",
       "1             NaN         NaN         NaN         NaN         NaN         NaN  \n",
       "2             NaN         NaN         NaN         NaN         NaN         NaN  \n",
       "3             NaN         NaN         NaN         NaN         NaN         NaN  \n",
       "4             NaN         NaN         NaN         NaN         NaN         NaN  \n",
       "5             NaN         NaN         NaN         NaN         NaN         NaN  \n",
       "6       -0.150588         NaN         NaN         NaN         NaN         NaN  \n",
       "7             NaN    1.612465         NaN         NaN         NaN         NaN  \n",
       "8             NaN         NaN    0.208183         NaN         NaN         NaN  \n",
       "9             NaN         NaN         NaN   -2.101096         NaN         NaN  \n",
       "10            NaN         NaN         NaN         NaN    0.843838         NaN  \n",
       "11            NaN         NaN         NaN         NaN         NaN     0.40369  "
      ]
     },
     "execution_count": 18,
     "metadata": {},
     "output_type": "execute_result"
    }
   ],
   "source": [
    "dummy = ts.reset_index().pivot(None, 'index').droplevel(axis = 1,level = 0)\n",
    "dummy\n"
   ]
  },
  {
   "cell_type": "code",
   "execution_count": 19,
   "metadata": {},
   "outputs": [
    {
     "data": {
      "text/html": [
       "<div>\n",
       "<style scoped>\n",
       "    .dataframe tbody tr th:only-of-type {\n",
       "        vertical-align: middle;\n",
       "    }\n",
       "\n",
       "    .dataframe tbody tr th {\n",
       "        vertical-align: top;\n",
       "    }\n",
       "\n",
       "    .dataframe thead th {\n",
       "        text-align: right;\n",
       "    }\n",
       "</style>\n",
       "<table border=\"1\" class=\"dataframe\">\n",
       "  <thead>\n",
       "    <tr style=\"text-align: right;\">\n",
       "      <th>index</th>\n",
       "      <th>2011-01-31</th>\n",
       "      <th>2011-02-28</th>\n",
       "      <th>2011-03-31</th>\n",
       "      <th>2011-04-29</th>\n",
       "      <th>2011-05-31</th>\n",
       "      <th>2011-06-30</th>\n",
       "      <th>2011-07-29</th>\n",
       "      <th>2011-08-31</th>\n",
       "      <th>2011-09-30</th>\n",
       "      <th>2011-10-31</th>\n",
       "      <th>2011-11-30</th>\n",
       "    </tr>\n",
       "  </thead>\n",
       "  <tbody>\n",
       "    <tr>\n",
       "      <th>0</th>\n",
       "      <td>0.33545</td>\n",
       "      <td>NaN</td>\n",
       "      <td>NaN</td>\n",
       "      <td>NaN</td>\n",
       "      <td>NaN</td>\n",
       "      <td>NaN</td>\n",
       "      <td>NaN</td>\n",
       "      <td>NaN</td>\n",
       "      <td>NaN</td>\n",
       "      <td>NaN</td>\n",
       "      <td>NaN</td>\n",
       "    </tr>\n",
       "    <tr>\n",
       "      <th>1</th>\n",
       "      <td>NaN</td>\n",
       "      <td>-0.337035</td>\n",
       "      <td>NaN</td>\n",
       "      <td>NaN</td>\n",
       "      <td>NaN</td>\n",
       "      <td>NaN</td>\n",
       "      <td>NaN</td>\n",
       "      <td>NaN</td>\n",
       "      <td>NaN</td>\n",
       "      <td>NaN</td>\n",
       "      <td>NaN</td>\n",
       "    </tr>\n",
       "    <tr>\n",
       "      <th>2</th>\n",
       "      <td>NaN</td>\n",
       "      <td>NaN</td>\n",
       "      <td>0.040042</td>\n",
       "      <td>NaN</td>\n",
       "      <td>NaN</td>\n",
       "      <td>NaN</td>\n",
       "      <td>NaN</td>\n",
       "      <td>NaN</td>\n",
       "      <td>NaN</td>\n",
       "      <td>NaN</td>\n",
       "      <td>NaN</td>\n",
       "    </tr>\n",
       "    <tr>\n",
       "      <th>3</th>\n",
       "      <td>NaN</td>\n",
       "      <td>NaN</td>\n",
       "      <td>NaN</td>\n",
       "      <td>0.304694</td>\n",
       "      <td>NaN</td>\n",
       "      <td>NaN</td>\n",
       "      <td>NaN</td>\n",
       "      <td>NaN</td>\n",
       "      <td>NaN</td>\n",
       "      <td>NaN</td>\n",
       "      <td>NaN</td>\n",
       "    </tr>\n",
       "    <tr>\n",
       "      <th>4</th>\n",
       "      <td>NaN</td>\n",
       "      <td>NaN</td>\n",
       "      <td>NaN</td>\n",
       "      <td>NaN</td>\n",
       "      <td>-1.010589</td>\n",
       "      <td>NaN</td>\n",
       "      <td>NaN</td>\n",
       "      <td>NaN</td>\n",
       "      <td>NaN</td>\n",
       "      <td>NaN</td>\n",
       "      <td>NaN</td>\n",
       "    </tr>\n",
       "    <tr>\n",
       "      <th>5</th>\n",
       "      <td>NaN</td>\n",
       "      <td>NaN</td>\n",
       "      <td>NaN</td>\n",
       "      <td>NaN</td>\n",
       "      <td>NaN</td>\n",
       "      <td>0.645795</td>\n",
       "      <td>NaN</td>\n",
       "      <td>NaN</td>\n",
       "      <td>NaN</td>\n",
       "      <td>NaN</td>\n",
       "      <td>NaN</td>\n",
       "    </tr>\n",
       "    <tr>\n",
       "      <th>6</th>\n",
       "      <td>NaN</td>\n",
       "      <td>NaN</td>\n",
       "      <td>NaN</td>\n",
       "      <td>NaN</td>\n",
       "      <td>NaN</td>\n",
       "      <td>NaN</td>\n",
       "      <td>-0.150588</td>\n",
       "      <td>NaN</td>\n",
       "      <td>NaN</td>\n",
       "      <td>NaN</td>\n",
       "      <td>NaN</td>\n",
       "    </tr>\n",
       "    <tr>\n",
       "      <th>7</th>\n",
       "      <td>NaN</td>\n",
       "      <td>NaN</td>\n",
       "      <td>NaN</td>\n",
       "      <td>NaN</td>\n",
       "      <td>NaN</td>\n",
       "      <td>NaN</td>\n",
       "      <td>NaN</td>\n",
       "      <td>1.612465</td>\n",
       "      <td>NaN</td>\n",
       "      <td>NaN</td>\n",
       "      <td>NaN</td>\n",
       "    </tr>\n",
       "    <tr>\n",
       "      <th>8</th>\n",
       "      <td>NaN</td>\n",
       "      <td>NaN</td>\n",
       "      <td>NaN</td>\n",
       "      <td>NaN</td>\n",
       "      <td>NaN</td>\n",
       "      <td>NaN</td>\n",
       "      <td>NaN</td>\n",
       "      <td>NaN</td>\n",
       "      <td>0.208183</td>\n",
       "      <td>NaN</td>\n",
       "      <td>NaN</td>\n",
       "    </tr>\n",
       "    <tr>\n",
       "      <th>9</th>\n",
       "      <td>NaN</td>\n",
       "      <td>NaN</td>\n",
       "      <td>NaN</td>\n",
       "      <td>NaN</td>\n",
       "      <td>NaN</td>\n",
       "      <td>NaN</td>\n",
       "      <td>NaN</td>\n",
       "      <td>NaN</td>\n",
       "      <td>NaN</td>\n",
       "      <td>-2.101096</td>\n",
       "      <td>NaN</td>\n",
       "    </tr>\n",
       "    <tr>\n",
       "      <th>10</th>\n",
       "      <td>NaN</td>\n",
       "      <td>NaN</td>\n",
       "      <td>NaN</td>\n",
       "      <td>NaN</td>\n",
       "      <td>NaN</td>\n",
       "      <td>NaN</td>\n",
       "      <td>NaN</td>\n",
       "      <td>NaN</td>\n",
       "      <td>NaN</td>\n",
       "      <td>NaN</td>\n",
       "      <td>0.843838</td>\n",
       "    </tr>\n",
       "    <tr>\n",
       "      <th>11</th>\n",
       "      <td>NaN</td>\n",
       "      <td>NaN</td>\n",
       "      <td>NaN</td>\n",
       "      <td>NaN</td>\n",
       "      <td>NaN</td>\n",
       "      <td>NaN</td>\n",
       "      <td>NaN</td>\n",
       "      <td>NaN</td>\n",
       "      <td>NaN</td>\n",
       "      <td>NaN</td>\n",
       "      <td>NaN</td>\n",
       "    </tr>\n",
       "  </tbody>\n",
       "</table>\n",
       "</div>"
      ],
      "text/plain": [
       "index  2011-01-31  2011-02-28  2011-03-31  2011-04-29  2011-05-31  2011-06-30  \\\n",
       "0         0.33545         NaN         NaN         NaN         NaN         NaN   \n",
       "1             NaN   -0.337035         NaN         NaN         NaN         NaN   \n",
       "2             NaN         NaN    0.040042         NaN         NaN         NaN   \n",
       "3             NaN         NaN         NaN    0.304694         NaN         NaN   \n",
       "4             NaN         NaN         NaN         NaN   -1.010589         NaN   \n",
       "5             NaN         NaN         NaN         NaN         NaN    0.645795   \n",
       "6             NaN         NaN         NaN         NaN         NaN         NaN   \n",
       "7             NaN         NaN         NaN         NaN         NaN         NaN   \n",
       "8             NaN         NaN         NaN         NaN         NaN         NaN   \n",
       "9             NaN         NaN         NaN         NaN         NaN         NaN   \n",
       "10            NaN         NaN         NaN         NaN         NaN         NaN   \n",
       "11            NaN         NaN         NaN         NaN         NaN         NaN   \n",
       "\n",
       "index  2011-07-29  2011-08-31  2011-09-30  2011-10-31  2011-11-30  \n",
       "0             NaN         NaN         NaN         NaN         NaN  \n",
       "1             NaN         NaN         NaN         NaN         NaN  \n",
       "2             NaN         NaN         NaN         NaN         NaN  \n",
       "3             NaN         NaN         NaN         NaN         NaN  \n",
       "4             NaN         NaN         NaN         NaN         NaN  \n",
       "5             NaN         NaN         NaN         NaN         NaN  \n",
       "6       -0.150588         NaN         NaN         NaN         NaN  \n",
       "7             NaN    1.612465         NaN         NaN         NaN  \n",
       "8             NaN         NaN    0.208183         NaN         NaN  \n",
       "9             NaN         NaN         NaN   -2.101096         NaN  \n",
       "10            NaN         NaN         NaN         NaN    0.843838  \n",
       "11            NaN         NaN         NaN         NaN         NaN  "
      ]
     },
     "execution_count": 19,
     "metadata": {},
     "output_type": "execute_result"
    }
   ],
   "source": [
    "dummy.loc[:, '2011-01':'2011-11']"
   ]
  },
  {
   "cell_type": "code",
   "execution_count": 20,
   "metadata": {},
   "outputs": [
    {
     "data": {
      "text/html": [
       "<div>\n",
       "<style scoped>\n",
       "    .dataframe tbody tr th:only-of-type {\n",
       "        vertical-align: middle;\n",
       "    }\n",
       "\n",
       "    .dataframe tbody tr th {\n",
       "        vertical-align: top;\n",
       "    }\n",
       "\n",
       "    .dataframe thead th {\n",
       "        text-align: right;\n",
       "    }\n",
       "</style>\n",
       "<table border=\"1\" class=\"dataframe\">\n",
       "  <thead>\n",
       "    <tr style=\"text-align: right;\">\n",
       "      <th></th>\n",
       "      <th>A</th>\n",
       "    </tr>\n",
       "  </thead>\n",
       "  <tbody>\n",
       "    <tr>\n",
       "      <th>2013-01-01 00:00:00</th>\n",
       "      <td>-2.711903</td>\n",
       "    </tr>\n",
       "    <tr>\n",
       "      <th>2013-01-01 00:01:00</th>\n",
       "      <td>-0.043594</td>\n",
       "    </tr>\n",
       "    <tr>\n",
       "      <th>2013-01-01 00:02:00</th>\n",
       "      <td>0.708947</td>\n",
       "    </tr>\n",
       "    <tr>\n",
       "      <th>2013-01-01 00:03:00</th>\n",
       "      <td>0.828016</td>\n",
       "    </tr>\n",
       "    <tr>\n",
       "      <th>2013-01-01 00:04:00</th>\n",
       "      <td>0.949109</td>\n",
       "    </tr>\n",
       "    <tr>\n",
       "      <th>...</th>\n",
       "      <td>...</td>\n",
       "    </tr>\n",
       "    <tr>\n",
       "      <th>2013-03-11 10:35:00</th>\n",
       "      <td>-0.208556</td>\n",
       "    </tr>\n",
       "    <tr>\n",
       "      <th>2013-03-11 10:36:00</th>\n",
       "      <td>-2.074058</td>\n",
       "    </tr>\n",
       "    <tr>\n",
       "      <th>2013-03-11 10:37:00</th>\n",
       "      <td>0.175706</td>\n",
       "    </tr>\n",
       "    <tr>\n",
       "      <th>2013-03-11 10:38:00</th>\n",
       "      <td>1.271932</td>\n",
       "    </tr>\n",
       "    <tr>\n",
       "      <th>2013-03-11 10:39:00</th>\n",
       "      <td>-0.451625</td>\n",
       "    </tr>\n",
       "  </tbody>\n",
       "</table>\n",
       "<p>100000 rows × 1 columns</p>\n",
       "</div>"
      ],
      "text/plain": [
       "                            A\n",
       "2013-01-01 00:00:00 -2.711903\n",
       "2013-01-01 00:01:00 -0.043594\n",
       "2013-01-01 00:02:00  0.708947\n",
       "2013-01-01 00:03:00  0.828016\n",
       "2013-01-01 00:04:00  0.949109\n",
       "...                       ...\n",
       "2013-03-11 10:35:00 -0.208556\n",
       "2013-03-11 10:36:00 -2.074058\n",
       "2013-03-11 10:37:00  0.175706\n",
       "2013-03-11 10:38:00  1.271932\n",
       "2013-03-11 10:39:00 -0.451625\n",
       "\n",
       "[100000 rows x 1 columns]"
      ]
     },
     "execution_count": 20,
     "metadata": {},
     "output_type": "execute_result"
    }
   ],
   "source": [
    "dft = pd.DataFrame(\n",
    "       np.random.randn(100000, 1),\n",
    "       columns=[\"A\"],\n",
    "      index=pd.date_range(\"20130101\", periods=100000, freq=\"T\"),\n",
    "    )\n",
    "\n",
    "dft"
   ]
  },
  {
   "cell_type": "code",
   "execution_count": 21,
   "metadata": {},
   "outputs": [
    {
     "data": {
      "text/plain": [
       "DatetimeIndex(['2013-01-01 00:00:00', '2013-01-01 00:01:00',\n",
       "               '2013-01-01 00:02:00', '2013-01-01 00:03:00',\n",
       "               '2013-01-01 00:04:00', '2013-01-01 00:05:00',\n",
       "               '2013-01-01 00:06:00', '2013-01-01 00:07:00',\n",
       "               '2013-01-01 00:08:00', '2013-01-01 00:09:00',\n",
       "               ...\n",
       "               '2013-03-11 10:30:00', '2013-03-11 10:31:00',\n",
       "               '2013-03-11 10:32:00', '2013-03-11 10:33:00',\n",
       "               '2013-03-11 10:34:00', '2013-03-11 10:35:00',\n",
       "               '2013-03-11 10:36:00', '2013-03-11 10:37:00',\n",
       "               '2013-03-11 10:38:00', '2013-03-11 10:39:00'],\n",
       "              dtype='datetime64[ns]', length=100000, freq='T')"
      ]
     },
     "execution_count": 21,
     "metadata": {},
     "output_type": "execute_result"
    }
   ],
   "source": [
    "ind = dft.index\n",
    "ind"
   ]
  },
  {
   "cell_type": "code",
   "execution_count": 22,
   "metadata": {},
   "outputs": [
    {
     "data": {
      "text/plain": [
       "slice(0, 100000, None)"
      ]
     },
     "execution_count": 22,
     "metadata": {},
     "output_type": "execute_result"
    }
   ],
   "source": [
    "ind.get_loc('2013')"
   ]
  },
  {
   "cell_type": "code",
   "execution_count": 45,
   "metadata": {},
   "outputs": [
    {
     "data": {
      "text/html": [
       "<div>\n",
       "<style scoped>\n",
       "    .dataframe tbody tr th:only-of-type {\n",
       "        vertical-align: middle;\n",
       "    }\n",
       "\n",
       "    .dataframe tbody tr th {\n",
       "        vertical-align: top;\n",
       "    }\n",
       "\n",
       "    .dataframe thead th {\n",
       "        text-align: right;\n",
       "    }\n",
       "</style>\n",
       "<table border=\"1\" class=\"dataframe\">\n",
       "  <thead>\n",
       "    <tr style=\"text-align: right;\">\n",
       "      <th></th>\n",
       "      <th>A</th>\n",
       "    </tr>\n",
       "  </thead>\n",
       "  <tbody>\n",
       "    <tr>\n",
       "      <th>2013-01-01 00:00:00</th>\n",
       "      <td>-2.711903</td>\n",
       "    </tr>\n",
       "    <tr>\n",
       "      <th>2013-01-01 00:02:00</th>\n",
       "      <td>0.708947</td>\n",
       "    </tr>\n",
       "    <tr>\n",
       "      <th>2013-01-01 00:04:00</th>\n",
       "      <td>0.949109</td>\n",
       "    </tr>\n",
       "    <tr>\n",
       "      <th>2013-01-01 00:06:00</th>\n",
       "      <td>-0.276914</td>\n",
       "    </tr>\n",
       "    <tr>\n",
       "      <th>2013-01-01 00:08:00</th>\n",
       "      <td>-0.487298</td>\n",
       "    </tr>\n",
       "    <tr>\n",
       "      <th>...</th>\n",
       "      <td>...</td>\n",
       "    </tr>\n",
       "    <tr>\n",
       "      <th>2013-03-11 10:30:00</th>\n",
       "      <td>0.859029</td>\n",
       "    </tr>\n",
       "    <tr>\n",
       "      <th>2013-03-11 10:32:00</th>\n",
       "      <td>0.599693</td>\n",
       "    </tr>\n",
       "    <tr>\n",
       "      <th>2013-03-11 10:34:00</th>\n",
       "      <td>0.019025</td>\n",
       "    </tr>\n",
       "    <tr>\n",
       "      <th>2013-03-11 10:36:00</th>\n",
       "      <td>-2.074058</td>\n",
       "    </tr>\n",
       "    <tr>\n",
       "      <th>2013-03-11 10:38:00</th>\n",
       "      <td>1.271932</td>\n",
       "    </tr>\n",
       "  </tbody>\n",
       "</table>\n",
       "<p>50000 rows × 1 columns</p>\n",
       "</div>"
      ],
      "text/plain": [
       "                            A\n",
       "2013-01-01 00:00:00 -2.711903\n",
       "2013-01-01 00:02:00  0.708947\n",
       "2013-01-01 00:04:00  0.949109\n",
       "2013-01-01 00:06:00 -0.276914\n",
       "2013-01-01 00:08:00 -0.487298\n",
       "...                       ...\n",
       "2013-03-11 10:30:00  0.859029\n",
       "2013-03-11 10:32:00  0.599693\n",
       "2013-03-11 10:34:00  0.019025\n",
       "2013-03-11 10:36:00 -2.074058\n",
       "2013-03-11 10:38:00  1.271932\n",
       "\n",
       "[50000 rows x 1 columns]"
      ]
     },
     "execution_count": 45,
     "metadata": {},
     "output_type": "execute_result"
    }
   ],
   "source": [
    "dft.loc[slice('2013-1',pd.Timestamp.today(), 2)]"
   ]
  },
  {
   "cell_type": "code",
   "execution_count": 49,
   "metadata": {},
   "outputs": [
    {
     "ename": "KeyError",
     "evalue": "'2015-01'",
     "output_type": "error",
     "traceback": [
      "\u001b[0;31m---------------------------------------------------------------------------\u001b[0m",
      "\u001b[0;31mKeyError\u001b[0m                                  Traceback (most recent call last)",
      "File \u001b[0;32m/opt/conda/lib/python3.9/site-packages/pandas/_libs/index.pyx:460\u001b[0m, in \u001b[0;36mpandas._libs.index.DatetimeEngine.get_loc\u001b[0;34m()\u001b[0m\n",
      "File \u001b[0;32mpandas/_libs/hashtable_class_helper.pxi:2131\u001b[0m, in \u001b[0;36mpandas._libs.hashtable.Int64HashTable.get_item\u001b[0;34m()\u001b[0m\n",
      "File \u001b[0;32mpandas/_libs/hashtable_class_helper.pxi:2140\u001b[0m, in \u001b[0;36mpandas._libs.hashtable.Int64HashTable.get_item\u001b[0;34m()\u001b[0m\n",
      "\u001b[0;31mKeyError\u001b[0m: 1420070400000000000",
      "\nDuring handling of the above exception, another exception occurred:\n",
      "\u001b[0;31mKeyError\u001b[0m                                  Traceback (most recent call last)",
      "File \u001b[0;32m/opt/conda/lib/python3.9/site-packages/pandas/core/indexes/base.py:3361\u001b[0m, in \u001b[0;36mIndex.get_loc\u001b[0;34m(self, key, method, tolerance)\u001b[0m\n\u001b[1;32m   <a href='file:///opt/conda/lib/python3.9/site-packages/pandas/core/indexes/base.py?line=3359'>3360</a>\u001b[0m \u001b[39mtry\u001b[39;00m:\n\u001b[0;32m-> <a href='file:///opt/conda/lib/python3.9/site-packages/pandas/core/indexes/base.py?line=3360'>3361</a>\u001b[0m     \u001b[39mreturn\u001b[39;00m \u001b[39mself\u001b[39;49m\u001b[39m.\u001b[39;49m_engine\u001b[39m.\u001b[39;49mget_loc(casted_key)\n\u001b[1;32m   <a href='file:///opt/conda/lib/python3.9/site-packages/pandas/core/indexes/base.py?line=3361'>3362</a>\u001b[0m \u001b[39mexcept\u001b[39;00m \u001b[39mKeyError\u001b[39;00m \u001b[39mas\u001b[39;00m err:\n",
      "File \u001b[0;32m/opt/conda/lib/python3.9/site-packages/pandas/_libs/index.pyx:429\u001b[0m, in \u001b[0;36mpandas._libs.index.DatetimeEngine.get_loc\u001b[0;34m()\u001b[0m\n",
      "File \u001b[0;32m/opt/conda/lib/python3.9/site-packages/pandas/_libs/index.pyx:462\u001b[0m, in \u001b[0;36mpandas._libs.index.DatetimeEngine.get_loc\u001b[0;34m()\u001b[0m\n",
      "\u001b[0;31mKeyError\u001b[0m: Timestamp('2015-01-01 00:00:00')",
      "\nThe above exception was the direct cause of the following exception:\n",
      "\u001b[0;31mKeyError\u001b[0m                                  Traceback (most recent call last)",
      "File \u001b[0;32m/opt/conda/lib/python3.9/site-packages/pandas/core/indexes/datetimes.py:703\u001b[0m, in \u001b[0;36mDatetimeIndex.get_loc\u001b[0;34m(self, key, method, tolerance)\u001b[0m\n\u001b[1;32m    <a href='file:///opt/conda/lib/python3.9/site-packages/pandas/core/indexes/datetimes.py?line=701'>702</a>\u001b[0m \u001b[39mtry\u001b[39;00m:\n\u001b[0;32m--> <a href='file:///opt/conda/lib/python3.9/site-packages/pandas/core/indexes/datetimes.py?line=702'>703</a>\u001b[0m     \u001b[39mreturn\u001b[39;00m Index\u001b[39m.\u001b[39;49mget_loc(\u001b[39mself\u001b[39;49m, key, method, tolerance)\n\u001b[1;32m    <a href='file:///opt/conda/lib/python3.9/site-packages/pandas/core/indexes/datetimes.py?line=703'>704</a>\u001b[0m \u001b[39mexcept\u001b[39;00m \u001b[39mKeyError\u001b[39;00m \u001b[39mas\u001b[39;00m err:\n",
      "File \u001b[0;32m/opt/conda/lib/python3.9/site-packages/pandas/core/indexes/base.py:3363\u001b[0m, in \u001b[0;36mIndex.get_loc\u001b[0;34m(self, key, method, tolerance)\u001b[0m\n\u001b[1;32m   <a href='file:///opt/conda/lib/python3.9/site-packages/pandas/core/indexes/base.py?line=3361'>3362</a>\u001b[0m     \u001b[39mexcept\u001b[39;00m \u001b[39mKeyError\u001b[39;00m \u001b[39mas\u001b[39;00m err:\n\u001b[0;32m-> <a href='file:///opt/conda/lib/python3.9/site-packages/pandas/core/indexes/base.py?line=3362'>3363</a>\u001b[0m         \u001b[39mraise\u001b[39;00m \u001b[39mKeyError\u001b[39;00m(key) \u001b[39mfrom\u001b[39;00m \u001b[39merr\u001b[39;00m\n\u001b[1;32m   <a href='file:///opt/conda/lib/python3.9/site-packages/pandas/core/indexes/base.py?line=3364'>3365</a>\u001b[0m \u001b[39mif\u001b[39;00m is_scalar(key) \u001b[39mand\u001b[39;00m isna(key) \u001b[39mand\u001b[39;00m \u001b[39mnot\u001b[39;00m \u001b[39mself\u001b[39m\u001b[39m.\u001b[39mhasnans:\n",
      "\u001b[0;31mKeyError\u001b[0m: Timestamp('2015-01-01 00:00:00')",
      "\nThe above exception was the direct cause of the following exception:\n",
      "\u001b[0;31mKeyError\u001b[0m                                  Traceback (most recent call last)",
      "\u001b[1;32m/workspaces/pyjanitor/examples/notebooks/select_columns.ipynb Cell 33'\u001b[0m in \u001b[0;36m<cell line: 1>\u001b[0;34m()\u001b[0m\n\u001b[0;32m----> <a href='vscode-notebook-cell://dev-container%2B7b227265706f7369746f727950617468223a22676974406769746875622e636f6d3a70796a616e69746f722d646576732f70796a616e69746f722e676974222c22766f6c756d654e616d65223a225f5f554e495155455f5f222c22666f6c646572223a2270796a616e69746f72222c22636c6f6e65496e666f223a7b2275726c546f436c6f6e65223a22676974406769746875622e636f6d3a70796a616e69746f722d646576732f70796a616e69746f722e676974227d2c22696e7370656374566f6c756d65223a66616c73657d/workspaces/pyjanitor/examples/notebooks/select_columns.ipynb#ch0000032vscode-remote?line=0'>1</a>\u001b[0m dft\u001b[39m.\u001b[39;49mindex\u001b[39m.\u001b[39;49mget_loc(\u001b[39m'\u001b[39;49m\u001b[39m2015-01\u001b[39;49m\u001b[39m'\u001b[39;49m)\n",
      "File \u001b[0;32m/opt/conda/lib/python3.9/site-packages/pandas/core/indexes/datetimes.py:705\u001b[0m, in \u001b[0;36mDatetimeIndex.get_loc\u001b[0;34m(self, key, method, tolerance)\u001b[0m\n\u001b[1;32m    <a href='file:///opt/conda/lib/python3.9/site-packages/pandas/core/indexes/datetimes.py?line=702'>703</a>\u001b[0m     \u001b[39mreturn\u001b[39;00m Index\u001b[39m.\u001b[39mget_loc(\u001b[39mself\u001b[39m, key, method, tolerance)\n\u001b[1;32m    <a href='file:///opt/conda/lib/python3.9/site-packages/pandas/core/indexes/datetimes.py?line=703'>704</a>\u001b[0m \u001b[39mexcept\u001b[39;00m \u001b[39mKeyError\u001b[39;00m \u001b[39mas\u001b[39;00m err:\n\u001b[0;32m--> <a href='file:///opt/conda/lib/python3.9/site-packages/pandas/core/indexes/datetimes.py?line=704'>705</a>\u001b[0m     \u001b[39mraise\u001b[39;00m \u001b[39mKeyError\u001b[39;00m(orig_key) \u001b[39mfrom\u001b[39;00m \u001b[39merr\u001b[39;00m\n",
      "\u001b[0;31mKeyError\u001b[0m: '2015-01'"
     ]
    }
   ],
   "source": [
    "dft.index.get_loc('2015-01')"
   ]
  },
  {
   "cell_type": "code",
   "execution_count": 43,
   "metadata": {},
   "outputs": [
    {
     "data": {
      "text/plain": [
       "slice(84960, 100000, None)"
      ]
     },
     "execution_count": 43,
     "metadata": {},
     "output_type": "execute_result"
    }
   ],
   "source": [
    "dft.index.get_loc('2013-3')"
   ]
  },
  {
   "cell_type": "code",
   "execution_count": 26,
   "metadata": {},
   "outputs": [
    {
     "data": {
      "text/plain": [
       "DatetimeIndex(['2013-01-01 00:00:00', '2013-01-01 00:01:00',\n",
       "               '2013-01-01 00:02:00', '2013-01-01 00:03:00',\n",
       "               '2013-01-01 00:04:00', '2013-01-01 00:05:00',\n",
       "               '2013-01-01 00:06:00', '2013-01-01 00:07:00',\n",
       "               '2013-01-01 00:08:00', '2013-01-01 00:09:00',\n",
       "               ...\n",
       "               '2013-03-11 10:30:00', '2013-03-11 10:31:00',\n",
       "               '2013-03-11 10:32:00', '2013-03-11 10:33:00',\n",
       "               '2013-03-11 10:34:00', '2013-03-11 10:35:00',\n",
       "               '2013-03-11 10:36:00', '2013-03-11 10:37:00',\n",
       "               '2013-03-11 10:38:00', '2013-03-11 10:39:00'],\n",
       "              dtype='datetime64[ns]', length=100000, freq='T')"
      ]
     },
     "execution_count": 26,
     "metadata": {},
     "output_type": "execute_result"
    }
   ],
   "source": [
    "ind"
   ]
  },
  {
   "cell_type": "code",
   "execution_count": 41,
   "metadata": {},
   "outputs": [
    {
     "data": {
      "text/plain": [
       "True"
      ]
     },
     "execution_count": 41,
     "metadata": {},
     "output_type": "execute_result"
    }
   ],
   "source": [
    "pd.api.types.is_datetime64_any_dtype(ind)"
   ]
  },
  {
   "cell_type": "code",
   "execution_count": 27,
   "metadata": {},
   "outputs": [
    {
     "data": {
      "text/plain": [
       "True"
      ]
     },
     "execution_count": 27,
     "metadata": {},
     "output_type": "execute_result"
    }
   ],
   "source": [
    "isinstance(ind, pd.DatetimeIndex)"
   ]
  },
  {
   "cell_type": "code",
   "execution_count": 28,
   "metadata": {},
   "outputs": [
    {
     "data": {
      "text/html": [
       "<div>\n",
       "<style scoped>\n",
       "    .dataframe tbody tr th:only-of-type {\n",
       "        vertical-align: middle;\n",
       "    }\n",
       "\n",
       "    .dataframe tbody tr th {\n",
       "        vertical-align: top;\n",
       "    }\n",
       "\n",
       "    .dataframe thead th {\n",
       "        text-align: right;\n",
       "    }\n",
       "</style>\n",
       "<table border=\"1\" class=\"dataframe\">\n",
       "  <thead>\n",
       "    <tr style=\"text-align: right;\">\n",
       "      <th></th>\n",
       "      <th></th>\n",
       "      <th>A</th>\n",
       "    </tr>\n",
       "  </thead>\n",
       "  <tbody>\n",
       "    <tr>\n",
       "      <th rowspan=\"2\" valign=\"top\">2013-01-01 00:00:00</th>\n",
       "      <th>a</th>\n",
       "      <td>1.634207</td>\n",
       "    </tr>\n",
       "    <tr>\n",
       "      <th>b</th>\n",
       "      <td>-0.429777</td>\n",
       "    </tr>\n",
       "    <tr>\n",
       "      <th rowspan=\"2\" valign=\"top\">2013-01-01 12:00:00</th>\n",
       "      <th>a</th>\n",
       "      <td>-0.422313</td>\n",
       "    </tr>\n",
       "    <tr>\n",
       "      <th>b</th>\n",
       "      <td>-0.288744</td>\n",
       "    </tr>\n",
       "    <tr>\n",
       "      <th rowspan=\"2\" valign=\"top\">2013-01-02 00:00:00</th>\n",
       "      <th>a</th>\n",
       "      <td>0.929457</td>\n",
       "    </tr>\n",
       "    <tr>\n",
       "      <th>b</th>\n",
       "      <td>-0.833717</td>\n",
       "    </tr>\n",
       "    <tr>\n",
       "      <th rowspan=\"2\" valign=\"top\">2013-01-02 12:00:00</th>\n",
       "      <th>a</th>\n",
       "      <td>0.452186</td>\n",
       "    </tr>\n",
       "    <tr>\n",
       "      <th>b</th>\n",
       "      <td>-1.879699</td>\n",
       "    </tr>\n",
       "    <tr>\n",
       "      <th rowspan=\"2\" valign=\"top\">2013-01-03 00:00:00</th>\n",
       "      <th>a</th>\n",
       "      <td>0.153699</td>\n",
       "    </tr>\n",
       "    <tr>\n",
       "      <th>b</th>\n",
       "      <td>-0.518850</td>\n",
       "    </tr>\n",
       "    <tr>\n",
       "      <th rowspan=\"2\" valign=\"top\">2013-01-03 12:00:00</th>\n",
       "      <th>a</th>\n",
       "      <td>-0.292895</td>\n",
       "    </tr>\n",
       "    <tr>\n",
       "      <th>b</th>\n",
       "      <td>0.645877</td>\n",
       "    </tr>\n",
       "    <tr>\n",
       "      <th rowspan=\"2\" valign=\"top\">2013-01-04 00:00:00</th>\n",
       "      <th>a</th>\n",
       "      <td>0.879864</td>\n",
       "    </tr>\n",
       "    <tr>\n",
       "      <th>b</th>\n",
       "      <td>-1.061550</td>\n",
       "    </tr>\n",
       "    <tr>\n",
       "      <th rowspan=\"2\" valign=\"top\">2013-01-04 12:00:00</th>\n",
       "      <th>a</th>\n",
       "      <td>0.707583</td>\n",
       "    </tr>\n",
       "    <tr>\n",
       "      <th>b</th>\n",
       "      <td>0.633676</td>\n",
       "    </tr>\n",
       "    <tr>\n",
       "      <th rowspan=\"2\" valign=\"top\">2013-01-05 00:00:00</th>\n",
       "      <th>a</th>\n",
       "      <td>0.684147</td>\n",
       "    </tr>\n",
       "    <tr>\n",
       "      <th>b</th>\n",
       "      <td>2.129476</td>\n",
       "    </tr>\n",
       "    <tr>\n",
       "      <th rowspan=\"2\" valign=\"top\">2013-01-05 12:00:00</th>\n",
       "      <th>a</th>\n",
       "      <td>1.169035</td>\n",
       "    </tr>\n",
       "    <tr>\n",
       "      <th>b</th>\n",
       "      <td>0.299421</td>\n",
       "    </tr>\n",
       "  </tbody>\n",
       "</table>\n",
       "</div>"
      ],
      "text/plain": [
       "                              A\n",
       "2013-01-01 00:00:00 a  1.634207\n",
       "                    b -0.429777\n",
       "2013-01-01 12:00:00 a -0.422313\n",
       "                    b -0.288744\n",
       "2013-01-02 00:00:00 a  0.929457\n",
       "                    b -0.833717\n",
       "2013-01-02 12:00:00 a  0.452186\n",
       "                    b -1.879699\n",
       "2013-01-03 00:00:00 a  0.153699\n",
       "                    b -0.518850\n",
       "2013-01-03 12:00:00 a -0.292895\n",
       "                    b  0.645877\n",
       "2013-01-04 00:00:00 a  0.879864\n",
       "                    b -1.061550\n",
       "2013-01-04 12:00:00 a  0.707583\n",
       "                    b  0.633676\n",
       "2013-01-05 00:00:00 a  0.684147\n",
       "                    b  2.129476\n",
       "2013-01-05 12:00:00 a  1.169035\n",
       "                    b  0.299421"
      ]
     },
     "execution_count": 28,
     "metadata": {},
     "output_type": "execute_result"
    }
   ],
   "source": [
    "dft2 = pd.DataFrame(\n",
    "     np.random.randn(20, 1),\n",
    "   columns=[\"A\"],\n",
    "     index=pd.MultiIndex.from_product(\n",
    "         [pd.date_range(\"20130101\", periods=10, freq=\"12H\"), [\"a\", \"b\"]]\n",
    "     ),\n",
    " )\n",
    "\n",
    "dft2"
   ]
  },
  {
   "cell_type": "code",
   "execution_count": 29,
   "metadata": {},
   "outputs": [
    {
     "data": {
      "text/plain": [
       "MultiIndex([('2013-01-01 00:00:00', 'a'),\n",
       "            ('2013-01-01 00:00:00', 'b'),\n",
       "            ('2013-01-01 12:00:00', 'a'),\n",
       "            ('2013-01-01 12:00:00', 'b'),\n",
       "            ('2013-01-02 00:00:00', 'a'),\n",
       "            ('2013-01-02 00:00:00', 'b'),\n",
       "            ('2013-01-02 12:00:00', 'a'),\n",
       "            ('2013-01-02 12:00:00', 'b'),\n",
       "            ('2013-01-03 00:00:00', 'a'),\n",
       "            ('2013-01-03 00:00:00', 'b'),\n",
       "            ('2013-01-03 12:00:00', 'a'),\n",
       "            ('2013-01-03 12:00:00', 'b'),\n",
       "            ('2013-01-04 00:00:00', 'a'),\n",
       "            ('2013-01-04 00:00:00', 'b'),\n",
       "            ('2013-01-04 12:00:00', 'a'),\n",
       "            ('2013-01-04 12:00:00', 'b'),\n",
       "            ('2013-01-05 00:00:00', 'a'),\n",
       "            ('2013-01-05 00:00:00', 'b'),\n",
       "            ('2013-01-05 12:00:00', 'a'),\n",
       "            ('2013-01-05 12:00:00', 'b')],\n",
       "           )"
      ]
     },
     "execution_count": 29,
     "metadata": {},
     "output_type": "execute_result"
    }
   ],
   "source": [
    "mu = dft2.index\n",
    "\n",
    "mu"
   ]
  },
  {
   "cell_type": "code",
   "execution_count": 30,
   "metadata": {},
   "outputs": [
    {
     "data": {
      "text/plain": [
       "False"
      ]
     },
     "execution_count": 30,
     "metadata": {},
     "output_type": "execute_result"
    }
   ],
   "source": [
    "isinstance(mu, pd.DatetimeIndex)"
   ]
  },
  {
   "cell_type": "code",
   "execution_count": 31,
   "metadata": {},
   "outputs": [
    {
     "data": {
      "text/plain": [
       "DatetimeIndex(['2013-01-01 00:00:00', '2013-01-01 00:01:00',\n",
       "               '2013-01-01 00:02:00', '2013-01-01 00:03:00',\n",
       "               '2013-01-01 00:04:00', '2013-01-01 00:05:00',\n",
       "               '2013-01-01 00:06:00', '2013-01-01 00:07:00',\n",
       "               '2013-01-01 00:08:00', '2013-01-01 00:09:00',\n",
       "               ...\n",
       "               '2013-03-11 10:30:00', '2013-03-11 10:31:00',\n",
       "               '2013-03-11 10:32:00', '2013-03-11 10:33:00',\n",
       "               '2013-03-11 10:34:00', '2013-03-11 10:35:00',\n",
       "               '2013-03-11 10:36:00', '2013-03-11 10:37:00',\n",
       "               '2013-03-11 10:38:00', '2013-03-11 10:39:00'],\n",
       "              dtype='datetime64[ns]', length=100000, freq='T')"
      ]
     },
     "execution_count": 31,
     "metadata": {},
     "output_type": "execute_result"
    }
   ],
   "source": [
    "ind"
   ]
  },
  {
   "cell_type": "code",
   "execution_count": 32,
   "metadata": {},
   "outputs": [
    {
     "data": {
      "text/plain": [
       "0"
      ]
     },
     "execution_count": 32,
     "metadata": {},
     "output_type": "execute_result"
    }
   ],
   "source": [
    "import datetime\n",
    "\n",
    "ind.get_loc(datetime.datetime(2011, 12, 25), method='nearest')"
   ]
  },
  {
   "cell_type": "code",
   "execution_count": 33,
   "metadata": {},
   "outputs": [
    {
     "data": {
      "text/plain": [
       "DatetimeIndex(['2013-01-01 00:00:00', '2013-01-01 00:01:00',\n",
       "               '2013-01-01 00:02:00', '2013-01-01 00:03:00',\n",
       "               '2013-01-01 00:04:00', '2013-01-01 00:05:00',\n",
       "               '2013-01-01 00:06:00', '2013-01-01 00:07:00',\n",
       "               '2013-01-01 00:08:00', '2013-01-01 00:09:00',\n",
       "               ...\n",
       "               '2013-03-11 10:30:00', '2013-03-11 10:31:00',\n",
       "               '2013-03-11 10:32:00', '2013-03-11 10:33:00',\n",
       "               '2013-03-11 10:34:00', '2013-03-11 10:35:00',\n",
       "               '2013-03-11 10:36:00', '2013-03-11 10:37:00',\n",
       "               '2013-03-11 10:38:00', '2013-03-11 10:39:00'],\n",
       "              dtype='datetime64[ns]', length=100000, freq='T')"
      ]
     },
     "execution_count": 33,
     "metadata": {},
     "output_type": "execute_result"
    }
   ],
   "source": [
    "ind"
   ]
  },
  {
   "cell_type": "code",
   "execution_count": 34,
   "metadata": {},
   "outputs": [
    {
     "data": {
      "text/plain": [
       "2011-01-31    0.335450\n",
       "2011-02-28   -0.337035\n",
       "2011-03-31    0.040042\n",
       "2011-04-29    0.304694\n",
       "2011-05-31   -1.010589\n",
       "2011-06-30    0.645795\n",
       "2011-07-29   -0.150588\n",
       "2011-08-31    1.612465\n",
       "2011-09-30    0.208183\n",
       "2011-10-31   -2.101096\n",
       "2011-11-30    0.843838\n",
       "2011-12-30    0.403690\n",
       "Freq: BM, dtype: float64"
      ]
     },
     "execution_count": 34,
     "metadata": {},
     "output_type": "execute_result"
    }
   ],
   "source": [
    "ts"
   ]
  },
  {
   "cell_type": "code",
   "execution_count": 35,
   "metadata": {},
   "outputs": [
    {
     "data": {
      "text/html": [
       "<div>\n",
       "<style scoped>\n",
       "    .dataframe tbody tr th:only-of-type {\n",
       "        vertical-align: middle;\n",
       "    }\n",
       "\n",
       "    .dataframe tbody tr th {\n",
       "        vertical-align: top;\n",
       "    }\n",
       "\n",
       "    .dataframe thead th {\n",
       "        text-align: right;\n",
       "    }\n",
       "</style>\n",
       "<table border=\"1\" class=\"dataframe\">\n",
       "  <thead>\n",
       "    <tr style=\"text-align: right;\">\n",
       "      <th></th>\n",
       "      <th>A</th>\n",
       "    </tr>\n",
       "  </thead>\n",
       "  <tbody>\n",
       "    <tr>\n",
       "      <th>2013-01-01 00:00:00</th>\n",
       "      <td>-2.711903</td>\n",
       "    </tr>\n",
       "    <tr>\n",
       "      <th>2013-01-01 00:01:00</th>\n",
       "      <td>-0.043594</td>\n",
       "    </tr>\n",
       "    <tr>\n",
       "      <th>2013-01-01 00:02:00</th>\n",
       "      <td>0.708947</td>\n",
       "    </tr>\n",
       "    <tr>\n",
       "      <th>2013-01-01 00:03:00</th>\n",
       "      <td>0.828016</td>\n",
       "    </tr>\n",
       "    <tr>\n",
       "      <th>2013-01-01 00:04:00</th>\n",
       "      <td>0.949109</td>\n",
       "    </tr>\n",
       "    <tr>\n",
       "      <th>...</th>\n",
       "      <td>...</td>\n",
       "    </tr>\n",
       "    <tr>\n",
       "      <th>2013-03-11 10:35:00</th>\n",
       "      <td>-0.208556</td>\n",
       "    </tr>\n",
       "    <tr>\n",
       "      <th>2013-03-11 10:36:00</th>\n",
       "      <td>-2.074058</td>\n",
       "    </tr>\n",
       "    <tr>\n",
       "      <th>2013-03-11 10:37:00</th>\n",
       "      <td>0.175706</td>\n",
       "    </tr>\n",
       "    <tr>\n",
       "      <th>2013-03-11 10:38:00</th>\n",
       "      <td>1.271932</td>\n",
       "    </tr>\n",
       "    <tr>\n",
       "      <th>2013-03-11 10:39:00</th>\n",
       "      <td>-0.451625</td>\n",
       "    </tr>\n",
       "  </tbody>\n",
       "</table>\n",
       "<p>100000 rows × 1 columns</p>\n",
       "</div>"
      ],
      "text/plain": [
       "                            A\n",
       "2013-01-01 00:00:00 -2.711903\n",
       "2013-01-01 00:01:00 -0.043594\n",
       "2013-01-01 00:02:00  0.708947\n",
       "2013-01-01 00:03:00  0.828016\n",
       "2013-01-01 00:04:00  0.949109\n",
       "...                       ...\n",
       "2013-03-11 10:35:00 -0.208556\n",
       "2013-03-11 10:36:00 -2.074058\n",
       "2013-03-11 10:37:00  0.175706\n",
       "2013-03-11 10:38:00  1.271932\n",
       "2013-03-11 10:39:00 -0.451625\n",
       "\n",
       "[100000 rows x 1 columns]"
      ]
     },
     "execution_count": 35,
     "metadata": {},
     "output_type": "execute_result"
    }
   ],
   "source": [
    "dft.loc[datetime.datetime(2011, 12, 25):]"
   ]
  },
  {
   "cell_type": "code",
   "execution_count": 36,
   "metadata": {},
   "outputs": [
    {
     "data": {
      "text/plain": [
       "Timestamp('2011-12-25 00:00:00')"
      ]
     },
     "execution_count": 36,
     "metadata": {},
     "output_type": "execute_result"
    }
   ],
   "source": [
    "r = pd.Timestamp(datetime.datetime(2011, 12, 25))\n",
    "r"
   ]
  },
  {
   "cell_type": "code",
   "execution_count": 37,
   "metadata": {},
   "outputs": [
    {
     "ename": "KeyError",
     "evalue": "Timestamp('2011-12-25 00:00:00')",
     "output_type": "error",
     "traceback": [
      "\u001b[0;31m---------------------------------------------------------------------------\u001b[0m",
      "\u001b[0;31mKeyError\u001b[0m                                  Traceback (most recent call last)",
      "File \u001b[0;32m/opt/conda/lib/python3.9/site-packages/pandas/_libs/index.pyx:460\u001b[0m, in \u001b[0;36mpandas._libs.index.DatetimeEngine.get_loc\u001b[0;34m()\u001b[0m\n",
      "File \u001b[0;32mpandas/_libs/hashtable_class_helper.pxi:2131\u001b[0m, in \u001b[0;36mpandas._libs.hashtable.Int64HashTable.get_item\u001b[0;34m()\u001b[0m\n",
      "File \u001b[0;32mpandas/_libs/hashtable_class_helper.pxi:2140\u001b[0m, in \u001b[0;36mpandas._libs.hashtable.Int64HashTable.get_item\u001b[0;34m()\u001b[0m\n",
      "\u001b[0;31mKeyError\u001b[0m: 1324771200000000000",
      "\nDuring handling of the above exception, another exception occurred:\n",
      "\u001b[0;31mKeyError\u001b[0m                                  Traceback (most recent call last)",
      "File \u001b[0;32m/opt/conda/lib/python3.9/site-packages/pandas/core/indexes/base.py:3361\u001b[0m, in \u001b[0;36mIndex.get_loc\u001b[0;34m(self, key, method, tolerance)\u001b[0m\n\u001b[1;32m   <a href='file:///opt/conda/lib/python3.9/site-packages/pandas/core/indexes/base.py?line=3359'>3360</a>\u001b[0m \u001b[39mtry\u001b[39;00m:\n\u001b[0;32m-> <a href='file:///opt/conda/lib/python3.9/site-packages/pandas/core/indexes/base.py?line=3360'>3361</a>\u001b[0m     \u001b[39mreturn\u001b[39;00m \u001b[39mself\u001b[39;49m\u001b[39m.\u001b[39;49m_engine\u001b[39m.\u001b[39;49mget_loc(casted_key)\n\u001b[1;32m   <a href='file:///opt/conda/lib/python3.9/site-packages/pandas/core/indexes/base.py?line=3361'>3362</a>\u001b[0m \u001b[39mexcept\u001b[39;00m \u001b[39mKeyError\u001b[39;00m \u001b[39mas\u001b[39;00m err:\n",
      "File \u001b[0;32m/opt/conda/lib/python3.9/site-packages/pandas/_libs/index.pyx:429\u001b[0m, in \u001b[0;36mpandas._libs.index.DatetimeEngine.get_loc\u001b[0;34m()\u001b[0m\n",
      "File \u001b[0;32m/opt/conda/lib/python3.9/site-packages/pandas/_libs/index.pyx:462\u001b[0m, in \u001b[0;36mpandas._libs.index.DatetimeEngine.get_loc\u001b[0;34m()\u001b[0m\n",
      "\u001b[0;31mKeyError\u001b[0m: Timestamp('2011-12-25 00:00:00')",
      "\nThe above exception was the direct cause of the following exception:\n",
      "\u001b[0;31mKeyError\u001b[0m                                  Traceback (most recent call last)",
      "File \u001b[0;32m/opt/conda/lib/python3.9/site-packages/pandas/core/indexes/datetimes.py:703\u001b[0m, in \u001b[0;36mDatetimeIndex.get_loc\u001b[0;34m(self, key, method, tolerance)\u001b[0m\n\u001b[1;32m    <a href='file:///opt/conda/lib/python3.9/site-packages/pandas/core/indexes/datetimes.py?line=701'>702</a>\u001b[0m \u001b[39mtry\u001b[39;00m:\n\u001b[0;32m--> <a href='file:///opt/conda/lib/python3.9/site-packages/pandas/core/indexes/datetimes.py?line=702'>703</a>\u001b[0m     \u001b[39mreturn\u001b[39;00m Index\u001b[39m.\u001b[39;49mget_loc(\u001b[39mself\u001b[39;49m, key, method, tolerance)\n\u001b[1;32m    <a href='file:///opt/conda/lib/python3.9/site-packages/pandas/core/indexes/datetimes.py?line=703'>704</a>\u001b[0m \u001b[39mexcept\u001b[39;00m \u001b[39mKeyError\u001b[39;00m \u001b[39mas\u001b[39;00m err:\n",
      "File \u001b[0;32m/opt/conda/lib/python3.9/site-packages/pandas/core/indexes/base.py:3363\u001b[0m, in \u001b[0;36mIndex.get_loc\u001b[0;34m(self, key, method, tolerance)\u001b[0m\n\u001b[1;32m   <a href='file:///opt/conda/lib/python3.9/site-packages/pandas/core/indexes/base.py?line=3361'>3362</a>\u001b[0m     \u001b[39mexcept\u001b[39;00m \u001b[39mKeyError\u001b[39;00m \u001b[39mas\u001b[39;00m err:\n\u001b[0;32m-> <a href='file:///opt/conda/lib/python3.9/site-packages/pandas/core/indexes/base.py?line=3362'>3363</a>\u001b[0m         \u001b[39mraise\u001b[39;00m \u001b[39mKeyError\u001b[39;00m(key) \u001b[39mfrom\u001b[39;00m \u001b[39merr\u001b[39;00m\n\u001b[1;32m   <a href='file:///opt/conda/lib/python3.9/site-packages/pandas/core/indexes/base.py?line=3364'>3365</a>\u001b[0m \u001b[39mif\u001b[39;00m is_scalar(key) \u001b[39mand\u001b[39;00m isna(key) \u001b[39mand\u001b[39;00m \u001b[39mnot\u001b[39;00m \u001b[39mself\u001b[39m\u001b[39m.\u001b[39mhasnans:\n",
      "\u001b[0;31mKeyError\u001b[0m: Timestamp('2011-12-25 00:00:00')",
      "\nThe above exception was the direct cause of the following exception:\n",
      "\u001b[0;31mKeyError\u001b[0m                                  Traceback (most recent call last)",
      "\u001b[1;32m/workspaces/pyjanitor/examples/notebooks/select_columns.ipynb Cell 46'\u001b[0m in \u001b[0;36m<cell line: 1>\u001b[0;34m()\u001b[0m\n\u001b[0;32m----> <a href='vscode-notebook-cell://dev-container%2B7b227265706f7369746f727950617468223a22676974406769746875622e636f6d3a70796a616e69746f722d646576732f70796a616e69746f722e676974222c22766f6c756d654e616d65223a225f5f554e495155455f5f222c22666f6c646572223a2270796a616e69746f72222c22636c6f6e65496e666f223a7b2275726c546f436c6f6e65223a22676974406769746875622e636f6d3a70796a616e69746f722d646576732f70796a616e69746f722e676974227d2c22696e7370656374566f6c756d65223a66616c73657d/workspaces/pyjanitor/examples/notebooks/select_columns.ipynb#ch0000045vscode-remote?line=0'>1</a>\u001b[0m ts\u001b[39m.\u001b[39;49mloc[r]\n",
      "File \u001b[0;32m/opt/conda/lib/python3.9/site-packages/pandas/core/indexing.py:931\u001b[0m, in \u001b[0;36m_LocationIndexer.__getitem__\u001b[0;34m(self, key)\u001b[0m\n\u001b[1;32m    <a href='file:///opt/conda/lib/python3.9/site-packages/pandas/core/indexing.py?line=927'>928</a>\u001b[0m axis \u001b[39m=\u001b[39m \u001b[39mself\u001b[39m\u001b[39m.\u001b[39maxis \u001b[39mor\u001b[39;00m \u001b[39m0\u001b[39m\n\u001b[1;32m    <a href='file:///opt/conda/lib/python3.9/site-packages/pandas/core/indexing.py?line=929'>930</a>\u001b[0m maybe_callable \u001b[39m=\u001b[39m com\u001b[39m.\u001b[39mapply_if_callable(key, \u001b[39mself\u001b[39m\u001b[39m.\u001b[39mobj)\n\u001b[0;32m--> <a href='file:///opt/conda/lib/python3.9/site-packages/pandas/core/indexing.py?line=930'>931</a>\u001b[0m \u001b[39mreturn\u001b[39;00m \u001b[39mself\u001b[39;49m\u001b[39m.\u001b[39;49m_getitem_axis(maybe_callable, axis\u001b[39m=\u001b[39;49maxis)\n",
      "File \u001b[0;32m/opt/conda/lib/python3.9/site-packages/pandas/core/indexing.py:1164\u001b[0m, in \u001b[0;36m_LocIndexer._getitem_axis\u001b[0;34m(self, key, axis)\u001b[0m\n\u001b[1;32m   <a href='file:///opt/conda/lib/python3.9/site-packages/pandas/core/indexing.py?line=1161'>1162</a>\u001b[0m \u001b[39m# fall thru to straight lookup\u001b[39;00m\n\u001b[1;32m   <a href='file:///opt/conda/lib/python3.9/site-packages/pandas/core/indexing.py?line=1162'>1163</a>\u001b[0m \u001b[39mself\u001b[39m\u001b[39m.\u001b[39m_validate_key(key, axis)\n\u001b[0;32m-> <a href='file:///opt/conda/lib/python3.9/site-packages/pandas/core/indexing.py?line=1163'>1164</a>\u001b[0m \u001b[39mreturn\u001b[39;00m \u001b[39mself\u001b[39;49m\u001b[39m.\u001b[39;49m_get_label(key, axis\u001b[39m=\u001b[39;49maxis)\n",
      "File \u001b[0;32m/opt/conda/lib/python3.9/site-packages/pandas/core/indexing.py:1113\u001b[0m, in \u001b[0;36m_LocIndexer._get_label\u001b[0;34m(self, label, axis)\u001b[0m\n\u001b[1;32m   <a href='file:///opt/conda/lib/python3.9/site-packages/pandas/core/indexing.py?line=1110'>1111</a>\u001b[0m \u001b[39mdef\u001b[39;00m \u001b[39m_get_label\u001b[39m(\u001b[39mself\u001b[39m, label, axis: \u001b[39mint\u001b[39m):\n\u001b[1;32m   <a href='file:///opt/conda/lib/python3.9/site-packages/pandas/core/indexing.py?line=1111'>1112</a>\u001b[0m     \u001b[39m# GH#5667 this will fail if the label is not present in the axis.\u001b[39;00m\n\u001b[0;32m-> <a href='file:///opt/conda/lib/python3.9/site-packages/pandas/core/indexing.py?line=1112'>1113</a>\u001b[0m     \u001b[39mreturn\u001b[39;00m \u001b[39mself\u001b[39;49m\u001b[39m.\u001b[39;49mobj\u001b[39m.\u001b[39;49mxs(label, axis\u001b[39m=\u001b[39;49maxis)\n",
      "File \u001b[0;32m/opt/conda/lib/python3.9/site-packages/pandas/core/generic.py:3776\u001b[0m, in \u001b[0;36mNDFrame.xs\u001b[0;34m(self, key, axis, level, drop_level)\u001b[0m\n\u001b[1;32m   <a href='file:///opt/conda/lib/python3.9/site-packages/pandas/core/generic.py?line=3773'>3774</a>\u001b[0m         \u001b[39mraise\u001b[39;00m \u001b[39mTypeError\u001b[39;00m(\u001b[39mf\u001b[39m\u001b[39m\"\u001b[39m\u001b[39mExpected label or tuple of labels, got \u001b[39m\u001b[39m{\u001b[39;00mkey\u001b[39m}\u001b[39;00m\u001b[39m\"\u001b[39m) \u001b[39mfrom\u001b[39;00m \u001b[39me\u001b[39;00m\n\u001b[1;32m   <a href='file:///opt/conda/lib/python3.9/site-packages/pandas/core/generic.py?line=3774'>3775</a>\u001b[0m \u001b[39melse\u001b[39;00m:\n\u001b[0;32m-> <a href='file:///opt/conda/lib/python3.9/site-packages/pandas/core/generic.py?line=3775'>3776</a>\u001b[0m     loc \u001b[39m=\u001b[39m index\u001b[39m.\u001b[39;49mget_loc(key)\n\u001b[1;32m   <a href='file:///opt/conda/lib/python3.9/site-packages/pandas/core/generic.py?line=3777'>3778</a>\u001b[0m     \u001b[39mif\u001b[39;00m \u001b[39misinstance\u001b[39m(loc, np\u001b[39m.\u001b[39mndarray):\n\u001b[1;32m   <a href='file:///opt/conda/lib/python3.9/site-packages/pandas/core/generic.py?line=3778'>3779</a>\u001b[0m         \u001b[39mif\u001b[39;00m loc\u001b[39m.\u001b[39mdtype \u001b[39m==\u001b[39m np\u001b[39m.\u001b[39mbool_:\n",
      "File \u001b[0;32m/opt/conda/lib/python3.9/site-packages/pandas/core/indexes/datetimes.py:705\u001b[0m, in \u001b[0;36mDatetimeIndex.get_loc\u001b[0;34m(self, key, method, tolerance)\u001b[0m\n\u001b[1;32m    <a href='file:///opt/conda/lib/python3.9/site-packages/pandas/core/indexes/datetimes.py?line=702'>703</a>\u001b[0m     \u001b[39mreturn\u001b[39;00m Index\u001b[39m.\u001b[39mget_loc(\u001b[39mself\u001b[39m, key, method, tolerance)\n\u001b[1;32m    <a href='file:///opt/conda/lib/python3.9/site-packages/pandas/core/indexes/datetimes.py?line=703'>704</a>\u001b[0m \u001b[39mexcept\u001b[39;00m \u001b[39mKeyError\u001b[39;00m \u001b[39mas\u001b[39;00m err:\n\u001b[0;32m--> <a href='file:///opt/conda/lib/python3.9/site-packages/pandas/core/indexes/datetimes.py?line=704'>705</a>\u001b[0m     \u001b[39mraise\u001b[39;00m \u001b[39mKeyError\u001b[39;00m(orig_key) \u001b[39mfrom\u001b[39;00m \u001b[39merr\u001b[39;00m\n",
      "\u001b[0;31mKeyError\u001b[0m: Timestamp('2011-12-25 00:00:00')"
     ]
    }
   ],
   "source": [
    "ts.loc[r]"
   ]
  }
 ],
 "metadata": {
  "interpreter": {
   "hash": "d4d1e4263499bec80672ea0156c357c1ee493ec2b1c70f0acce89fc37c4a6abe"
  },
  "kernelspec": {
   "display_name": "Python 3.8.10 64-bit ('base': conda)",
   "language": "python",
   "name": "python3"
  },
  "language_info": {
   "codemirror_mode": {
    "name": "ipython",
    "version": 3
   },
   "file_extension": ".py",
   "mimetype": "text/x-python",
   "name": "python",
   "nbconvert_exporter": "python",
   "pygments_lexer": "ipython3",
   "version": "3.9.10"
  },
  "orig_nbformat": 4
 },
 "nbformat": 4,
 "nbformat_minor": 2
}
